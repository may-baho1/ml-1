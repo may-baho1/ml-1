{
 "cells": [
  {
   "cell_type": "markdown",
   "metadata": {},
   "source": [
    "# Movie reviews\n",
    "\n",
    "This notebook takes you though a complete iteration of Machine Learning Assignment 1 - Movie reviews. The assignment details (including links to download the data) can be found [here](https://docs.google.com/document/d/1WGYw99e5q6j5V0Zrf2HveagU6URt_kVvdR8B9HYQ99E/edit?usp=sharing). "
   ]
  },
  {
   "cell_type": "code",
   "execution_count": 5,
   "metadata": {},
   "outputs": [],
   "source": [
    "# all imports and magic commands\n",
    "import numpy as np\n",
    "import pandas as pd\n",
    "import matplotlib.pyplot as plt\n",
    "from my_measures import BinaryClassificationPerformance\n",
    "from sklearn.feature_extraction.text import HashingVectorizer, CountVectorizer\n",
    "from sklearn.feature_extraction.text import TfidfTransformer\n",
    "from scipy.sparse import csr_matrix, hstack\n",
    "from sklearn.preprocessing import StandardScaler\n",
    "from sklearn.model_selection import train_test_split\n",
    "from collections import Counter\n",
    "from scipy.stats import chi2_contingency\n",
    "%matplotlib inline"
   ]
  },
  {
   "cell_type": "code",
   "execution_count": 6,
   "metadata": {},
   "outputs": [
    {
     "name": "stdout",
     "output_type": "stream",
     "text": [
      "Help on class BinaryClassificationPerformance in module my_measures:\n",
      "\n",
      "class BinaryClassificationPerformance(builtins.object)\n",
      " |  BinaryClassificationPerformance(predictions, labels, desc, probabilities=None)\n",
      " |  \n",
      " |  Performance measures to evaluate the fit of a binary classification model, v1.02\n",
      " |  \n",
      " |  Methods defined here:\n",
      " |  \n",
      " |  __init__(self, predictions, labels, desc, probabilities=None)\n",
      " |      Initialize attributes: predictions-vector of predicted values for Y, labels-vector of labels for Y\n",
      " |  \n",
      " |  compute_measures(self)\n",
      " |      Compute performance measures defined by Flach p. 57\n",
      " |  \n",
      " |  img_indices(self)\n",
      " |      Get the indices of true and false positives to be able to locate the corresponding images in a list of image names\n",
      " |  \n",
      " |  ----------------------------------------------------------------------\n",
      " |  Data descriptors defined here:\n",
      " |  \n",
      " |  __dict__\n",
      " |      dictionary for instance variables (if defined)\n",
      " |  \n",
      " |  __weakref__\n",
      " |      list of weak references to the object (if defined)\n",
      "\n"
     ]
    }
   ],
   "source": [
    "help(BinaryClassificationPerformance)"
   ]
  },
  {
   "cell_type": "markdown",
   "metadata": {},
   "source": [
    "# Function for feature building and extraction on natural language data"
   ]
  },
  {
   "cell_type": "code",
   "execution_count": 7,
   "metadata": {},
   "outputs": [],
   "source": [
    "# function that takes raw data and completes all preprocessing required before model fits\n",
    "def process_raw_data(fn, my_random_seed, test=False):\n",
    "    # read and summarize data\n",
    "    movie_data = pd.read_csv(fn, sep='\\t')\n",
    "    print(\"movie_data is:\", type(movie_data))\n",
    "    print(\"movie_data has\", movie_data.shape[0], \"rows and\", movie_data.shape[1], \"columns\", \"\\n\")\n",
    "    print(\"the data types for each of the columns in movie_data:\")\n",
    "    print(movie_data.dtypes, \"\\n\")\n",
    "    print(\"the first 10 rows in movie_data:\")\n",
    "    print(movie_data.head(5))\n",
    "    if (not test):\n",
    "        print(\"The rate of 'good' movie reviews in the dataset: \")\n",
    "        print(movie_data['sentiment'].mean())\n",
    "\n",
    "    # vectorize Bag of Words from review text; as sparse matrix using Count Vectorizer\n",
    "    if (not test): # fit_transform()\n",
    "        cv = CountVectorizer(lowercase=True, ngram_range=(1, 3), analyzer=\"char_wb\")\n",
    "        X_cv = cv.fit_transform(movie_data.review)\n",
    "        fitted_transformations.append(cv)\n",
    "        print(\"Shape of CountVectorizer X:\")\n",
    "        print(X_cv.shape)\n",
    "    else: # transform() \n",
    "        X_cv = fitted_transformations[0].transform(movie_data.review)\n",
    "        print(\"Shape of CountVectorizer X:\")\n",
    "        print(X_cv.shape)\n",
    "    \n",
    "    # http://scikit-learn.org/stable/modules/generated/sklearn.feature_extraction.text.TfidfTransformer.html\n",
    "    if (not test):\n",
    "        transformer = TfidfTransformer()\n",
    "        X_tfidf = transformer.fit_transform(X_cv)\n",
    "        fitted_transformations.append(transformer)\n",
    "    else:\n",
    "        X_tfidf = fitted_transformations[1].transform(X_cv)\n",
    "    \n",
    "    # create additional quantitative features\n",
    "    movie_data['word_count'] = movie_data['review'].str.split(' ').str.len()\n",
    "    movie_data['punc_count'] = movie_data['review'].str.count(\"\\.\")\n",
    "    movie_data['repeated_word_count'] = [word for word, count in movie_data['word_count'].items() if count > 1]\n",
    "    movie_data['unique_word_count'] = movie_data['review'].apply(lambda x: len(set(x.split())))\n",
    "    movie_data['avg_word_length'] = movie_data['review'].apply(lambda x: sum(len(word) for word in x.split()) / len(x.split()))\n",
    "\n",
    "    \n",
    "#     # Chi-squared test to select top categorical features\n",
    "#     if (not test):\n",
    "#         top_features = []\n",
    "#         for col in ['word_count', 'punc_count', 'repeated_words']:\n",
    "#             crosstab = pd.crosstab(movie_data[col], movie_data['sentiment'])\n",
    "#             chi2, p, dof, expected = chi2_contingency(crosstab)\n",
    "#             if p < 0.05:\n",
    "#                 top_features.append(col)\n",
    "#         print(\"Top categorical features selected using chi-squared test: \")\n",
    "#         print(top_features)\n",
    "#         movie_data = movie_data[top_features]\n",
    "        \n",
    "        \n",
    "    X_quant_features = movie_data[[\"word_count\", \"punc_count\", \"repeated_word_count\", \"unique_word_count\", \"avg_word_length\"]]\n",
    "#     X_quant_features = movie_data[top_features]\n",
    "    print(\"Look at a few rows of the new quantitative features: \")\n",
    "    print(X_quant_features.head(10))\n",
    "    \n",
    "    # Combine all quantitative features into a single sparse matrix\n",
    "    X_quant_features_csr = csr_matrix(X_quant_features)\n",
    "    X_combined = hstack([X_tfidf, X_quant_features_csr])\n",
    "    X_matrix = csr_matrix(X_combined) # convert to sparse matrix\n",
    "    print(\"Size of combined bag of words and new quantitative variables matrix:\")\n",
    "    print(X_matrix.shape)\n",
    "    \n",
    "    # Create `X`, scaled matrix of features\n",
    "    # feature scaling\n",
    "    if (not test):\n",
    "        sc = StandardScaler(with_mean=False)\n",
    "        X = sc.fit_transform(X_matrix)\n",
    "        fitted_transformations.append(sc)\n",
    "        print(X.shape)\n",
    "        y = movie_data['sentiment']\n",
    "    else:\n",
    "        X = fitted_transformations[2].transform(X_matrix)\n",
    "        print(X.shape)\n",
    "    \n",
    "    # Create Training and Test Sets\n",
    "    # enter an integer for the random_state parameter; any integer will work\n",
    "    if (test):\n",
    "        X_submission_test = X\n",
    "        print(\"Shape of X_test for submission:\")\n",
    "        print(X_submission_test.shape)\n",
    "        print('SUCCESS!')\n",
    "        return(movie_data, X_submission_test)\n",
    "    else: \n",
    "        X_train, X_test, y_train, y_test, X_raw_train, X_raw_test = train_test_split(X, y, movie_data, test_size=0.2, random_state=my_random_seed)\n",
    "        print(\"Shape of X_train and X_test:\")\n",
    "        print(X_train.shape)\n",
    "        print(X_test.shape)\n",
    "        print(\"Shape of y_train and y_test:\")\n",
    "        print(y_train.shape)\n",
    "        print(y_test.shape)\n",
    "        print(\"Shape of X_raw_train and X_raw_test:\")\n",
    "        print(X_raw_train.shape)\n",
    "        print(X_raw_test.shape)\n",
    "        print('SUCCESS!')\n",
    "        return(X_train, X_test, y_train, y_test, X_raw_train, X_raw_test)"
   ]
  },
  {
   "cell_type": "markdown",
   "metadata": {},
   "source": [
    "# Create training and test sets from function"
   ]
  },
  {
   "cell_type": "code",
   "execution_count": 8,
   "metadata": {
    "scrolled": true
   },
   "outputs": [
    {
     "name": "stdout",
     "output_type": "stream",
     "text": [
      "movie_data is: <class 'pandas.core.frame.DataFrame'>\n",
      "movie_data has 25000 rows and 3 columns \n",
      "\n",
      "the data types for each of the columns in movie_data:\n",
      "id           object\n",
      "sentiment     int64\n",
      "review       object\n",
      "dtype: object \n",
      "\n",
      "the first 10 rows in movie_data:\n",
      "       id  sentiment                                             review\n",
      "0  5814_8          1  With all this stuff going down at the moment w...\n",
      "1  2381_9          1  \\The Classic War of the Worlds\\\" by Timothy Hi...\n",
      "2  7759_3          0  The film starts with a manager (Nicholas Bell)...\n",
      "3  3630_4          0  It must be assumed that those who praised this...\n",
      "4  9495_8          1  Superbly trashy and wondrously unpretentious 8...\n",
      "The rate of 'good' movie reviews in the dataset: \n",
      "0.5\n",
      "Shape of CountVectorizer X:\n",
      "(25000, 38406)\n",
      "Look at a few rows of the new quantitative features: \n",
      "   word_count  punc_count  repeated_word_count  unique_word_count  \\\n",
      "0         433          20                    0                246   \n",
      "1         158          16                    1                116   \n",
      "2         378          20                    2                265   \n",
      "3         379           8                    3                237   \n",
      "4         367           9                    4                265   \n",
      "5          89           5                    5                 66   \n",
      "6         112           9                    6                 85   \n",
      "7         132           9                    7                 96   \n",
      "8         163           7                    8                121   \n",
      "9          43           5                    9                 40   \n",
      "\n",
      "   avg_word_length  \n",
      "0         4.318707  \n",
      "1         4.993671  \n",
      "2         5.481481  \n",
      "3         4.926121  \n",
      "4         5.081744  \n",
      "5         3.966292  \n",
      "6         4.410714  \n",
      "7         4.522727  \n",
      "8         4.914110  \n",
      "9         4.651163  \n",
      "Size of combined bag of words and new quantitative variables matrix:\n",
      "(25000, 38411)\n",
      "(25000, 38411)\n",
      "Shape of X_train and X_test:\n",
      "(20000, 38411)\n",
      "(5000, 38411)\n",
      "Shape of y_train and y_test:\n",
      "(20000,)\n",
      "(5000,)\n",
      "Shape of X_raw_train and X_raw_test:\n",
      "(20000, 8)\n",
      "(5000, 8)\n",
      "SUCCESS!\n",
      "Number of fits stored in `fitted_transformations` list: \n",
      "3\n"
     ]
    }
   ],
   "source": [
    "# create an empty list to store any use of fit_transform() to transform() later\n",
    "# it is a global list to store model and feature extraction fits\n",
    "fitted_transformations = []\n",
    "\n",
    "# CHANGE FILE PATH and my_random_seed number (any integer other than 74 will do): \n",
    "X_train, X_test, y_train, y_test, X_raw_train, X_raw_test = process_raw_data(fn='/Users/maybaho/Documents/Parsons/Machine Learning/assignments/data/moviereviews_train.tsv', my_random_seed=13)\n",
    "\n",
    "print(\"Number of fits stored in `fitted_transformations` list: \")\n",
    "print(len(fitted_transformations))"
   ]
  },
  {
   "cell_type": "markdown",
   "metadata": {},
   "source": [
    "# Fit (and tune) Various Models"
   ]
  },
  {
   "cell_type": "markdown",
   "metadata": {},
   "source": [
    "### MODEL: ordinary least squares"
   ]
  },
  {
   "cell_type": "code",
   "execution_count": 9,
   "metadata": {},
   "outputs": [
    {
     "name": "stdout",
     "output_type": "stream",
     "text": [
      "{'Pos': 10002, 'Neg': 9998, 'TP': 4614, 'TN': 5502, 'FP': 4496, 'FN': 5388, 'Accuracy': 0.5058, 'Precision': 0.506476399560922, 'Recall': 0.46130773845230955, 'desc': 'ols_train'}\n"
     ]
    }
   ],
   "source": [
    "from sklearn import linear_model\n",
    "ols = linear_model.SGDClassifier(loss=\"squared_loss\", penalty=\"elasticnet\", alpha=0.0001)\n",
    "ols.fit(X_train, y_train)\n",
    "\n",
    "ols_performance_train = BinaryClassificationPerformance(ols.predict(X_train), y_train, 'ols_train')\n",
    "ols_performance_train.compute_measures()\n",
    "print(ols_performance_train.performance_measures)"
   ]
  },
  {
   "cell_type": "markdown",
   "metadata": {},
   "source": [
    "### MODEL: SVM, linear"
   ]
  },
  {
   "cell_type": "code",
   "execution_count": 10,
   "metadata": {},
   "outputs": [
    {
     "name": "stdout",
     "output_type": "stream",
     "text": [
      "{'Pos': 10002, 'Neg': 9998, 'TP': 8959, 'TN': 7548, 'FP': 2450, 'FN': 1043, 'Accuracy': 0.82535, 'Precision': 0.785257253045841, 'Recall': 0.8957208558288342, 'desc': 'svm_train'}\n"
     ]
    }
   ],
   "source": [
    "from sklearn import linear_model\n",
    "\n",
    "#regularization alpha=300 obtained from canvas assignment 3\n",
    "svm = linear_model.SGDClassifier(alpha=250)\n",
    "svm.fit(X_train, y_train)\n",
    "\n",
    "svm_performance_train = BinaryClassificationPerformance(svm.predict(X_train), y_train, 'svm_train')\n",
    "svm_performance_train.compute_measures()\n",
    "print(svm_performance_train.performance_measures)"
   ]
  },
  {
   "cell_type": "markdown",
   "metadata": {},
   "source": [
    "### MODEL: logistic regression"
   ]
  },
  {
   "cell_type": "code",
   "execution_count": 11,
   "metadata": {},
   "outputs": [
    {
     "name": "stdout",
     "output_type": "stream",
     "text": [
      "{'Pos': 10002, 'Neg': 9998, 'TP': 10002, 'TN': 9998, 'FP': 0, 'FN': 0, 'Accuracy': 1.0, 'Precision': 1.0, 'Recall': 1.0, 'desc': 'lgs_train'}\n"
     ]
    }
   ],
   "source": [
    "from sklearn import linear_model\n",
    "lgs = linear_model.SGDClassifier(loss='log')\n",
    "lgs.fit(X_train, y_train)\n",
    "\n",
    "lgs_performance_train = BinaryClassificationPerformance(lgs.predict(X_train), y_train, 'lgs_train')\n",
    "lgs_performance_train.compute_measures()\n",
    "print(lgs_performance_train.performance_measures)"
   ]
  },
  {
   "cell_type": "markdown",
   "metadata": {},
   "source": [
    "### MODEL: Naive Bayes"
   ]
  },
  {
   "cell_type": "code",
   "execution_count": 12,
   "metadata": {},
   "outputs": [
    {
     "name": "stdout",
     "output_type": "stream",
     "text": [
      "{'Pos': 10002, 'Neg': 9998, 'TP': 9003, 'TN': 9130, 'FP': 868, 'FN': 999, 'Accuracy': 0.90665, 'Precision': 0.9120656468442914, 'Recall': 0.9001199760047991, 'desc': 'nbs_train'}\n"
     ]
    }
   ],
   "source": [
    "from sklearn.naive_bayes import MultinomialNB\n",
    "\n",
    "#add regularization to reduce overfitting\n",
    "nbs = MultinomialNB(fit_prior=True, alpha=0.001)\n",
    "nbs.fit(X_train, y_train)\n",
    "\n",
    "nbs_performance_train = BinaryClassificationPerformance(nbs.predict(X_train), y_train, 'nbs_train')\n",
    "nbs_performance_train.compute_measures()\n",
    "print(nbs_performance_train.performance_measures)"
   ]
  },
  {
   "cell_type": "markdown",
   "metadata": {},
   "source": [
    "### MODEL: Perceptron"
   ]
  },
  {
   "cell_type": "code",
   "execution_count": 13,
   "metadata": {},
   "outputs": [
    {
     "name": "stdout",
     "output_type": "stream",
     "text": [
      "{'Pos': 10002, 'Neg': 9998, 'TP': 10002, 'TN': 9998, 'FP': 0, 'FN': 0, 'Accuracy': 1.0, 'Precision': 1.0, 'Recall': 1.0, 'desc': 'prc_train'}\n"
     ]
    }
   ],
   "source": [
    "from sklearn import linear_model\n",
    "prc = linear_model.SGDClassifier(loss='perceptron')\n",
    "prc.fit(X_train, y_train)\n",
    "\n",
    "prc_performance_train = BinaryClassificationPerformance(prc.predict(X_train), y_train, 'prc_train')\n",
    "prc_performance_train.compute_measures()\n",
    "print(prc_performance_train.performance_measures)"
   ]
  },
  {
   "cell_type": "markdown",
   "metadata": {},
   "source": [
    "### MODEL: Ridge Regression Classifier"
   ]
  },
  {
   "cell_type": "code",
   "execution_count": 14,
   "metadata": {},
   "outputs": [],
   "source": [
    "# from sklearn import linear_model\n",
    "# rdg = linear_model.RidgeClassifier()\n",
    "# rdg.fit(X_train, y_train)\n",
    "\n",
    "# rdg_performance_train = BinaryClassificationPerformance(rdg.predict(X_train), y_train, 'rdg_train')\n",
    "# rdg_performance_train.compute_measures()\n",
    "# print(rdg_performance_train.performance_measures)"
   ]
  },
  {
   "cell_type": "markdown",
   "metadata": {},
   "source": [
    "### MODEL: Random Forest Classifier"
   ]
  },
  {
   "cell_type": "code",
   "execution_count": 15,
   "metadata": {},
   "outputs": [
    {
     "name": "stdout",
     "output_type": "stream",
     "text": [
      "{'Pos': 10002, 'Neg': 9998, 'TP': 7769, 'TN': 7637, 'FP': 2361, 'FN': 2233, 'Accuracy': 0.7703, 'Precision': 0.7669299111549852, 'Recall': 0.7767446510697861, 'desc': 'rdf_train'}\n"
     ]
    }
   ],
   "source": [
    "from sklearn.ensemble import RandomForestClassifier\n",
    "rdf = RandomForestClassifier(max_depth=2, random_state=0)\n",
    "rdf.fit(X_train, y_train)\n",
    "\n",
    "rdf_performance_train = BinaryClassificationPerformance(rdf.predict(X_train), y_train, 'rdf_train')\n",
    "rdf_performance_train.compute_measures()\n",
    "print(rdf_performance_train.performance_measures)"
   ]
  },
  {
   "cell_type": "markdown",
   "metadata": {},
   "source": [
    "### ROC plot to compare performance of various models and fits"
   ]
  },
  {
   "cell_type": "code",
   "execution_count": 16,
   "metadata": {
    "scrolled": false
   },
   "outputs": [
    {
     "data": {
      "image/png": "[encoded data removed]",
      "text/plain": [
       "<Figure size 432x288 with 1 Axes>"
      ]
     },
     "metadata": {
      "needs_background": "light"
     },
     "output_type": "display_data"
    }
   ],
   "source": [
    "fits = [nbs_performance_train, svm_performance_train, ols_performance_train, lgs_performance_train, prc_performance_train, rdf_performance_train]\n",
    "\n",
    "for fit in fits:\n",
    "    plt.plot(fit.performance_measures['FP'] / fit.performance_measures['Neg'], \n",
    "             fit.performance_measures['TP'] / fit.performance_measures['Pos'], 'bo')\n",
    "    plt.text(fit.performance_measures['FP'] / fit.performance_measures['Neg'], \n",
    "             fit.performance_measures['TP'] / fit.performance_measures['Pos'], fit.desc)\n",
    "plt.axis([0, 0.8, 0.4, 1])\n",
    "plt.title('ROC plot: training set')\n",
    "plt.xlabel('False positive rate')\n",
    "plt.ylabel('True positive rate')\n",
    "plt.show()"
   ]
  },
  {
   "cell_type": "markdown",
   "metadata": {},
   "source": [
    "### looking at reviews based on their classification\n",
    "\n",
    "Let's say we decide that Ordinary Least Squares (OLS) Regression is the best model for generalization. Let's take a look at some of the reviews and try to make a (subjective) determination of whether it's generalizing well. "
   ]
  },
  {
   "cell_type": "code",
   "execution_count": 17,
   "metadata": {},
   "outputs": [],
   "source": [
    "nbs_predictions = nbs.predict(X_train)"
   ]
  },
  {
   "cell_type": "markdown",
   "metadata": {},
   "source": [
    "### let's look at some false positives:"
   ]
  },
  {
   "cell_type": "code",
   "execution_count": 18,
   "metadata": {},
   "outputs": [
    {
     "name": "stdout",
     "output_type": "stream",
     "text": [
      "Examples of false positives:\n",
      "549\n",
      "A craven, cowardly film. Director Boorman shows Cahill burglarizing rich houses, but the male occupant is shown being unfaithful with the nanny, thats all right then. The forensic scientist investigating Cahill is blown up in his car, but he is rat faced sourpuss, and doesn't look like a nice man, so thats all right too. The Beits, owner of Russborrough House, made their money by exploiting 'darkies' digging up diamonds, so it's okay to rob priceless art from them and hide it in a bunker in the Wicklow mountains. The Garda kill his ferrets and are implicated in his murder. The moral equivalencing is sickening, Boorman looks for a hit film, but doesn't have the guts to stand against the criminality of the generals gang, who terrorized the neighbourhood, and unleashed another wave of scumbags upon Dublin. He even liaised with the Generals son while making it. Disgusting. Shame on him for his cowardice.\n",
      "* * * * * * * * * \n",
      "731\n",
      "It's kind of fascinating to me that so many reviewers consider this a masterpiece. I am not a dullard as far as quality films go, and I will agree that from a technical filming standpoint, as well as for several of the characters portrayed, the film is in an award-worthy class. But there is no sense (for me) of this film actually going anywhere; I mean, taking the viewer anywhere. It is a series of mood scenes, perhaps remarkable as such, but I want more from a film. I look for story and movement and a fulfillment of arrival, none of which did I find in this film. Yes, it might be considered poetry on film . . . but there is much poetry that I cannot live with for the same reason: that it paints pictures without going anywhere.<br /><br />One thing further to be said is that it documents a mid-century English childhood, which is necessarily limited in its universality. I was personally appalled at what a young British boy had to live through, in that time and place. Having grown up in America just a decade earlier, I can authoritatively say that the contrast is immense. I cannot help wondering if this contrast has had some effect on those reviewing the film so favorably. In other words, could there be a tendency to judge the film entirely on its 'filmic magic' (which I acknowledge is there) and completely ignore its lack of relevance to the nature of one's actual recalled experience?\n",
      "* * * * * * * * * \n",
      "1173\n",
      "Silly, simplistic, and short, GUN CRAZY (VOLUME 1: A WOMAN FROM NOWHERE) goes nowhere.<br /><br />This brief (just over sixty minutes) tale isn't so much inspired by the classic spaghetti Westerns as it is a rip-off of Sam Raimi's THE QUICK & THE DEAD (his admitted homage to the spaghetti Westerns) brought into a contemporary setting. In QUICK & DEAD, Sharon Stone's character seeks revenge against the dastardly sheriff (played by Gene Hackman) who, when she was but an urchin, placed the fate of her father (a brief cameo by Gary Sinise) in her hands; she accidentally shot him through the head. In GUN CRAZY, Saki (played by the nimble Ryoko Yonekura) seeks revenge against the dastardly Mr. Tojo (played with minimalist appeal by Shingo Tsurumi), who, when she was but an urchin, placed the fate of her father in her hands; she let her foot slip off the clutch, and dear ole dad was drawn and quartered by a semi truck. The only significant difference, despite the settings, is the fact that Tojo sadistically cripples Saki with ",
      " well, I won't spoil that for you in case you decide to watch it.<br /><br />In short, Saki  a pale imitation of the Clint Eastwood's 'Man With No Name'  rides into the town  basically, there's a auto shop and a tavern alongside an American military base, so I guess that suffices for a town  corrupted by Tojo, the local crimelord with a ridiculously high price on his head for reasons never explained or explored. Confessing her true self as a bounty hunter, Saki takes on the local gunmen in shootouts whose choreography bares more than a passing similarity to the works of Johnny To and John Woo. Of course, by the end of the film Saki has endured her fair amount of torture at the hands of the bad guys, but she rises to the occasion  on her knees, in a laughable attempt at a surprise ending  and vanquishes all of her enemies with a rocket launcher.<br /><br />Don't ask where she gets the rocket launcher. Just watch it for yourself. Try not to laugh.<br /><br />The image quality is average for the DVD release. There is a grainy quality to several sequences, but, all in all, this isn't a bad transfer. The sound quality leaves a bit to the imagination at times, but, again, it isn't a bad transfer.<br /><br />Rather, it's a bad film.\n",
      "* * * * * * * * * \n",
      "1636\n",
      "I was excited to discover this late sixties comedy staring some of my favorite people - Maggie Smith, a very young Bob Newhart and, of course, Peter Ustinov. My disappointment was thus compounded to discover the film doesn't work as either a comedy or a perfect heist film. Ustinov plays a small time crook just out of prison who sets his sites on a large American corporation based in London. Bluffing his way past dimwitted CEO Karl Malden and tech geek Newhart, Ustinov passes himself off as a computer expert and immediately plans the 'perfect heist' part of the film. To do this he needs to get passed a tamper proof security system that guards the corporation mainframe. And here is problem one. His perfect plan only works because everyone else in the film is remarkably trusting and stupid. His lame excuses are taken at face value and this must be the only computer center anywhere not to bother with video cameras. The second problem is the heist (fraud really) happens within the first 30 minutes of the film robbing the rest of the picture of much in way of dramatic tension. Maggie Smith is sadly miscast as Ustinov's ditsy next door neighbor/secretary who just can't keep a job. I love Maggie Smith but she just seems too together here, too composed, the part called for more of a wacky, physical comedian. Furthermore, Ustinov and Smith have no chemistry together, maybe it's the age difference, but the later romantic relationship, as devoid of actual romance as it is, still comes off a little creepy. Ustinov co-wrote the script, and it was thought well of at the time, but I found it unfunny, meandering and a sad waste of a great cast.\n",
      "* * * * * * * * * \n",
      "1691\n",
      "Quite what the producers of this appalling adaptation were trying to do is impossible to fathom.<br /><br />A group of top quality actors, in the main well cast (with a couple of notable exceptions), who give pretty good performances. Penelope Keith is perfect as Aunt Louise and equally good is Joanna Lumley as Diana. All do well with the scripts they were given.<br /><br />So much for the good. The average would include the sets. Nancherrow is nothing like the house described in the book, although bizarrely the house they use for the Dower House looks remarkably like it. It is clear then that the Dower House is far too big. In the later parts, the writers decided to bring the entire story back to the UK, presumably to save money, although with a little imagination I have no doubt they could have recreated Ceylon.<br /><br />Now to the bad. The screenplay. This is such an appallingly bad adaptation is hard to find words to condemn it. Edward does not die in the battle of Britain but survives, blinded. He makes a brief appearance then commits suicide - why?? Loveday has changed from the young woman totally in love with Gus to a sensible farmer's wife who can give up the love her life with barely a tear (less emotional than Brief Encounter). Gus, a man besotted and passionately in love, is prepared to give up his love without complaint. Walter (Mudge in the book) turns from a shallow unfaithful husband to a devoted family man. Jess is made into a psychologically disturbed young woman who won't speak. Aunt Biddy still has a drink problem but now without any justification. The Dower House is occupied by the army for no obvious reason other than a very short scene with Jess who has a fear of armed soldiers. Whilst Miss Mortimer's breasts are utterly delightful, I could not see how their display on several occasions moved the plot forward. The delightfully named Nettlebed becomes the mundane Dobson. The word limit prevents me from continuing the list.<br /><br />There is a sequel (which I lost all interest in watching after this nonsense) and I wonder if the changes were made to create the follow on story. It is difficult to image that Rosamunde Pilcher would have approved this grotesque perversion of her book; presumably she lost her control when the rights were purchased.\n",
      "* * * * * * * * * \n",
      "2356\n",
      "The only remarkable fact is the participation of Klaus Kinski who plays a priest. Don't ask me why he does it! A bad, bad movie overall.<br /><br />\n",
      "* * * * * * * * * \n"
     ]
    },
    {
     "name": "stdout",
     "output_type": "stream",
     "text": [
      "3742\n",
      "I just finished watching \\El Otro\\\". I have always taken my hat off to Julio Chavez's performances, as he is a great actor, but this movie is really depressing and slow. I guess that it would have been even worse if it wasn't for Julio. Anyways, this is definitely a film that you will never understand if you are not from Argentina, and even if you are, I would advise you not to rent this movie in order to have a nice time with your girlfriend, boyfriend, family or friends... it is really depressing and incredibly slow, and the plot does not make a lot of sense neither. Probably the director wanted to show the fragility of the human life, but what he does is bore and impress the audience with scenes that shock you a little bit. It gives you something to think about, but not in a good way. Overall, I definitely didn't like this movie.\"\n",
      "* * * * * * * * * \n",
      "3744\n",
      "This is said to be a personal film for Peter Bogdonavitch. He based it on his life but changed things around to fit the characters, who are detectives. These detectives date beautiful models and have no problem getting them. Sounds more like a millionaire playboy filmmaker than a detective, doesn't it? This entire movie was written by Peter, and it shows how out of touch with real people he was. You're supposed to write what you know, and he did that, indeed. And leaves the audience bored and confused, and jealous, for that matter. This is a curio for people who want to see Dorothy Stratten, who was murdered right after filming. But Patti Hanson, who would, in real life, marry Keith Richards, was also a model, like Stratten, but is a lot better and has a more ample part. In fact, Stratten's part seemed forced; added. She doesn't have a lot to do with the story, which is pretty convoluted to begin with. All in all, every character in this film is somebody that very few people can relate with, unless you're millionaire from Manhattan with beautiful supermodels at your beckon call. For the rest of us, it's an irritating snore fest. That's what happens when you're out of touch. You entertain your few friends with inside jokes, and bore all the rest.\n",
      "* * * * * * * * * \n",
      "4522\n",
      "Something I really love about this woman's short films was the elusiveness of theme -- especially in \\Living with Happiness.\\\" This film has some nice beginnings -- unusual location and the potential for a strange cinematic treatment, but fails to succeed with clunky expositional dialogue, patchy performances and very television coverage.<br /><br />It's once again charming television and very ordinary cinema. The ideas are so fleshed out that they almost feel pat like a television commercial. But the sentiment is good so we can't complain too much.<br /><br />I really would love to see this director make a full length animation and try and work with a producer who doesn't demand so much boring clarity.\"\n",
      "* * * * * * * * * \n",
      "4675\n",
      "Fairly interesting exploitation flick in black and white written by David F. Friedman. The lead actress Stacey Walker is well-cast and strangely attractive. She resembles a deranged Renee Zellweger with a bad hair-do. This chick only made two of these films and then moved back to Texas. The music is terrible. One of her boyfriends is played by Sam Melville (from the TV show THE ROOKIES) using a different name.<br /><br />Best line in the film from Tony - \\Are you putting me on, doll? None of my chicks put me on\\\". Good B/W cinematography from Laslo Kovacs (EASY RIDER & TARGETS & many others). Good locales (cool swimming pool, also used in THE DEFILERS). Strange ending but fitting. A 4 out of 10. Best performance Stacey Walker.\"\n",
      "* * * * * * * * * \n",
      "4715\n",
      "First off...with names like Fred Olen Ray, Brinke Stevens and Jan-Michael Vincent, plus distributors like \\Rhino\\\" and \\\"Troma\\\" on the video box, you know what you're getting into with this one. B movie mania! If you're actually expecting to see a thriller \\\"based on Edgar Allan Poe,\\\" then forget it and head straight for the excellent series of Roger Corman 60s Poe films. This is pure, unadulterated sleaze (with just a pedestrian attempt at a plot similar to \\\"The Premature Burial\\\"), complete with lots of R-rated, ready-for-video sex and nudity. However, it's certainly entertaining and fun in a slipshod kind of way...<br /><br />Brinke (who has three nude scenes in the first 30 minutes) plays rich, traumatized, insomniac housewife Victoria Monroe, whose fear of being prematurely entombed stems from her belief that the same fate befell her father (Hoke Howell). Her worthless husband Terry (Jay Richardson) has racked up some serious gambling debt (owed to a gangster played by Robert Quarry) and, with help from his kinky, blonde, European-accented sexpot secretary Lisa (Delia Sheppard) plots to do away with Brinke for her money. Name-value actress Karen Black drops in briefly wearing a blonde wig as a hypnotist (she's way too talented to be playing an insignificant role like this), 50s sci-fi/horror star Robert Clarke plays a doctor and family friend and Michael Berryman shows up for a decent nightmare sequence performing an autopsy on a still-living Vicki. Jan-Michael Vincent mostly sits outside a house in his car making goo-goo eyes as Brinke enters and exits the home.<br /><br />The kill-a-spouse-for-the-inheritance plot has been done a million times before, the ending is an unintentional laugh riot (concluding with a direct rip-off of the Zuni Fetish Doll segment in TRILOGY OF TERROR) and whoever created the awful stabbed face and decapitated head FX for this release needs to sharpen up on their skills a bit. Brinke does a decent job making her character somewhat sympathetic, but the biggest surprise of all is how good former Penthouse Pet Delia Sheppard is in her role. She stole every scene she was in and easily gave the standout performance here.\"\n",
      "* * * * * * * * * \n",
      "5028\n",
      "The Fiendish Plot of Dr. Fu Manchu starring Peter Sellers in a spoof of the characters created by Sax Rohmer is an injustice to the end of Sellers' career. The plot was very simplistic, and if done the right way could have been handled nicely, but instead it was poorly executed. Part of the reasons why this film wasn't that good was the poor dialog, cheap laughs, choppy directing, and an awkward feeling that the film was somewhat incomplete.<br /><br />The acting, on the other hand, was really the only thing that kept my interest during this mixed up picture. I found Sellers portrayal of diabolical Manchu brilliantly done, with the occasional lines that will be remembered. For example, there is the scene where Fu Manchu is confused which henchman is which in which he says \\Ah, you all look the same to me.\\\" I hate to admit it, but I laughed out loud with that line.<br /><br />Then of course a fistful of strong supporting characters really caught my attention with the likes of Helen Mirren as the backstabbing constable, David Tomilson as Sir Roger Avery (his last film as well, not a way to end a career), and Sid Ceasar (who gives a rather whimsical performance of Al Capone's relative who works for the FBI). These characters also kept me watching.<br /><br />The sets were also nice. Oriental designs and English society in 1933 was depicted with elegance in this dud-of-a-picture.<br /><br />In all honesty, my advice to you is to watch the film if you are a Peter Sellers or Sid Ceasar fan. Otherwise, you're better off settling on chewing aluminum foil.\"\n",
      "* * * * * * * * * \n",
      "5452\n",
      "I think that Elisabeth Rohm, though she may try hard, is not very good at all. I guess it was because of budget that she may have been the only one they could get for that price. I mainly watched it for the performance of Myron Natwick, whose work I know very well.<br /><br />He was the most believable and without doubt the most compelling to watch. When he wasn't on the screen, the thing went dead. This was filmed in Vancouver. He gave me the creeps, but be assured that in real life he is a kind, funny compassionate man. He even said playing that role gave him the creeps.<br /><br />I'll watch anything with him in it, but Elisabeth Rohm - never again. She was as exciting as lint on Law and Order. Maybe a very nice person, but no actress.\n",
      "* * * * * * * * * \n",
      "6050\n",
      "The problem with family dramas is that, outside of TV movies on channels like Lifetime, most people don't want to watch them. And the ones that do get watched tend to be sensationalized and about current or topical problems or issues in the news (or recent news). Movies that explain or explore the human condition aren't popular. Particularly with the young crowd that would be Miss Lohan's fan base or the younger crowd that tends to make movies not simply popular but financially successful for studios.<br /><br />The specific problems I had with this movie is the cartoonishness of some of the characterizations. It was a bit much to blame all of the Lohan's character's acting-out (wrecking the car, drug use, etc.) on what her step-father did to her. While not improbable,it's just a bit much to expect the audience to swallow. Additionally, other aspects, such as her giving the young Morman boy, oral sex, or that she would actually make a good assistant to the vet, who coincidentally happens to have a thing for her mother, etc., all these elements just did not really help this movie along. It placed it more in the element of a situation comedy trying one of their \\special dramatic episodes\\\" then it did for a fully realized, well-written feature film.<br /><br />When you watch the DVD and listen to the commentary, particularly for the various alternate endings, you can really see all of this is sharp focus.\"\n",
      "* * * * * * * * * \n",
      "6058\n",
      "Yes I know \\talkies\\\" had just been invented for the cinema 2 years earlier when this was produced in 1929 but this film showed that much had to learnt about the art of producing films.It comes over as a filmed \\\"hammy\\\" stage play with the actors melodramatically enunciating their lines,rolling their eyes, using too many pregnant pauses and using gestures more appropriate to silent cinema, which I suppose was normal during the process of educating them to appear more naturalistic on screen.The gaps between lines spoken should have been tightened up during editing as it considerably slows the film.It is now only of interest for Titanic buffs who want to see an early example of this marine accident on film.In next chronological order they could see \\\"Titanic\\\" (1953) A Night to Remember (1958)\\\"Titanic (1997), to see how the cinema's depiction of this tragedy as evolved over the years.There have been many documentaries and TV films made including the atrocious \\\"SOS Titanic\\\" (1979) On my version which is a DVD, David McCallum gives the introduction.It was he who played Harold Bride Marconi's junior wireless operator in \\\"A Night to Remember\\\"(still the best feature film - please read my \\\"Tribute to Walter\\\" comments on IMDb under Howard Morley.demon.co.uk)and gave the commentary on the series of 4 videos entitled \\\"End of a Dream\\\" so he was well qualified to give the narration.Of more interest I found was a recording accompanied by actual photos of the 1912 US Senate hearing which is also on the DVD.Actors speak the actual words spoken by Lightoller 2nd officer, J Bruce Ismay,Managing director of White Star, Harold Bride and others including Gloria Stewart (The \\\"old Rose\\\" in Titanic 1997) whose voice is used for one of the first class women survivors.\"\n",
      "* * * * * * * * * \n",
      "6728\n",
      "I remember this show being on the television when I was a kid back in the early 1990s, and there was this rage about kids with goofy leotards doing kung fu on one another and riding around in plastic dinosaurs. It was called power rangers. I remember that little kids would go around hitting each other and then the shirts and the stuff from the show was banned in many school districts all over the country because this show taught kids how to fight each other in solving their differences.<br /><br />I never really thought of this as a show, especially when better shows like The Tick were playing on Fox Kids. Most older teens always looked at power rangers in a ridiculous and scornful manner, and it's not hard to wonder why. The footage is ridiculous at best. The colored rangers costumes look like stuff you would work out in and the dinosaurs look like plastic nonsense. Then you get into the acting, and of course those really laughable haircuts. All the guys run around with earrings on, half of them are wearing 90's mullets, and they always wear the same clothes everyday, and then change into leotard wearing power rangers.<br /><br />The toys are especially ridiculous as well, and was the joke of many late night talk show hosts. And of course two of the worst movies ever made, and I do mean two of the worst movies ever made were based on this show with nearly every critic trashing both the films, and the shows it was based on.<br /><br />Power rangers is nothing more than a bad television commericial for especially bad toy merchandising. As an adult, I don't look at it fondly, but rather as another embarrassment of 1990s kids shows, fashion and guys' earrings.\n",
      "* * * * * * * * * \n"
     ]
    },
    {
     "name": "stdout",
     "output_type": "stream",
     "text": [
      "6966\n",
      "Germans think smirking is funny (just like Americans think mumbling is sexy and that women with English accents are acting). I had to cross my eyes whenever the screen was filled yet again with a giant close-up of a smirking face. One of those 'housewife hacks corporate mainframe' tales where she defrauds a bank by tapping a few random keys on her home PC which is connected only to a power socket. The director obviously loves the rather large leading lady. Can't say I share his feelings. There's quite a funny bit when the entire family sit in front of the television chanting tonelessly along with the adverts. Apparently this review needs to be one line longer so here it is.\n",
      "* * * * * * * * * \n",
      "7493\n",
      "It's frequently said that movies can never equal the original book. Well, in this case, not only the movie is not \\as good\\\" as the book, but is an insult to the book. I'd rather see Milan Kundera's novel turned on fire than into this \\\"something,\\\" which the director probably calls \\\"adaptation.\\\"<br /><br />All the beautiful philosophy that asks \\\"is it better to carry a heavy load on your shoulders, or cope with the unbearable lightness of being?\\\" is put aside, and instead, all the movie deals with is Daniel Day Lewis' (I cannot say Tomas) sexual adventures with his dumb wife, his mistress, and his other mistresses. François Truffaut already said it: bad directors make bad movies. Don't waste your time and money. Read the book instead, it's really worth it.\"\n",
      "* * * * * * * * * \n",
      "7528\n",
      "I think Cliff Robertson certainly was one of our finest actors. He has a half dozen classics to his credit. He does fine here as the heavy, but the direction is so bad and the pacing so tiresome, it never gets off the mark. The story starts off well although it makes me wonder how he could count on his wife hanging herself. Still he mugs well and carries things along. The death knell is twofold. First of all, if we were to take the amount of time characters spend walking from one room to another or one part of the house to another, it would eat up about a third of the movie. Add to that, Robertson's character sitting up in bed in the blue light, looking confused, that might add another chunk. I agree with those that said a half hour shorter would have made it a pretty decent, though insignificant film. The biggest weakness is just a convoluted plot that, when all is said and done, leaves incredible questions. I'm not putting in spoilers, but when it ends, don't think too much. I can come up with ten what-ifs without raising a sweat. It would have been better if it had remained a ghost story.\n",
      "* * * * * * * * * \n",
      "7631\n",
      "As a fan of the Sookie Stackhouse books, I find this series to be a totally crass representation of them. Vampire Bill is not very good looking and looks much older than described in the book. I found that they have made already wonderfully colourful characters seem very course and vulgar. One of the things I loved about the books is that despite all the crap that she is going through Sookie is always a lady, and yet in the TV series she doesn't seem like that at all. Not only that but the prejudices displayed in the TV series are not nearly as wide spread in the books. I didn't expect an exact replica of the books but I at least expected the feel of them to be used for the series.\n",
      "* * * * * * * * * \n",
      "7780\n",
      "This movie shows how racist John Singleton is. He portrays whites and other races that are not black as the evil that exists in our educational system. How quick he forgets that it is this same educational system that made him what he is and failed at it. Ice Cube's character is the epitome of an instigating black man that was responsible for most of the violence in this film. Singleton barely touched on the relationships between the white and black characters that were trying to reach out to each other. When Omar Epps says \\ I need to be with my people\\\", that racist remark spoke volume. And John, don't think for a minute that the picture of Thomas Jefferson in the tower stairwell did not get my attention. Nice touch!\"\n",
      "* * * * * * * * * \n",
      "7930\n",
      "After watching this movie on DVD, I watched the trailer. The voice-over describes the movie as surreal. Well, there's surreal, and there's surreal. <br /><br />There was really only one part of the film that seemed surreal to me, but frankly, it was more confusing than surreal. The other unusual imagery, particularly the lunchroom scene where everybody is on the floor, were so nonsensical they had no meaning. I don't mind imagery that doesn't mean anything, but these scenes just seemed irrelevant.<br /><br />My impression is that the director was trying to convey Logan's inner monologue. I don't know what else would explain what was going on. Unfortunately, nothing I saw gave me any clue what Logan was thinking about, what his perspective was, or even his emotional state. All I could tell was that he wasn't particularly happy with his physical appearance, and that he had a crush on an older boy. <br /><br />I thought the ending signaled what the relationship between the boys had become, but not much else did. Purposely juxtaposing ambiguous scenes with those that were more straightforward seemed more like a cop out than an artistic decision. <br /><br />Still, as tiresome and as content-free the movie was for me, it was a definite change of pace. I very much liked Madagascar Skin, and I had the feeling this movie aspired to that kind of narrative, and perhaps even style. It didn't even come close. For me there's no question about it: this movie deserves an A for effort, but a D for execution.\n",
      "* * * * * * * * * \n",
      "8765\n",
      "Dan Duryea, a perfectly decent B-movie actor who made lots of lookalike noirs in the 1940s, can't do much with this one: young man is accused of murdering an unhappily married singer; when he's sentenced to die, his wife decides to solve the case herself with help from the dead woman's husband. After a dazzling opening shot, flick quickly settles into B-movie formula. It certainly looks good, but the twist finish is colorlessly handled and the cast (including Peter Lorre and Broderick Crawford) is just a bit stiff. Based on a Cornell Woolrich novel, and passable for a single viewing. <br /><br />** from ****\n",
      "* * * * * * * * * \n",
      "9241\n",
      "Istanbul is another one of those expatriate films that Errol Flynn was making in the last decade of his life trying to support his family and stay out of trouble with the IRS. It's a remake of the Fred MacMurray- Ava Gardner film Singapore from a decade ago.<br /><br />Unlike that studio product, Istanbul has the advantage of that great location cinematography right at the sight of the Golden Horn. But Errol Flynn, who was aging exponentially before the camera in every film, was way too old to be playing these action/adventure types any longer. His scenes with Cornell Borchers really do lack conviction.<br /><br />As for Cornell, she plays Errol's former sweetheart who through the trauma of being saved from a fire now has amnesia. She both doesn't remember Errol and is now married to Torin Thatcher. <br /><br />But Errol's got some nasty people led by Martin Benson and Werner Klemperer who are after some diamonds which have come into his possession. Got to deal with them too.<br /><br />Best reason to see Istanbul is to hear Nat King Cole sing and play the piano. Most people today don't realize that Cole was an accomplished jazz pianist, they only think of him as a singer. Actually he was a pianist first, the singing was an afterthought.<br /><br />Istanbul is a routine action/adventure film for those who are fans of that type of movie.\n",
      "* * * * * * * * * \n",
      "9402\n",
      "As someone who has both read the novel and seen the film, I have a different take on why the film was such a flop. First, any comparisons between novel and film are purely superficial. They are two different animals.<br /><br />The novel is probably intended as a satire, but it arrives as a cross between tragedy and polemic instead. Any comedic elements such as those which later formed the stylistic basis of the film version are merely incidental to the author's uniformly cynical thrust. And lest the omnipresent white suit of the author fool you into thinking this is another Mark Twain, think again. A more apt literary precedent would be the spectre of Ambrose Bierce in a top hat and tails. Tom Wolfe is equal parts clown and hack, more celebrity than author, always looking for new grist for his self-absorbed mill. <br /><br />It is therefore no wonder that the excellent production skills and direction lavished on the making of the film were doomed from the start. Unlike true satire, which translates very well into film, polemics are grounded not in universally accessible observations on some form or other of human behavior, but in a single-minded attack on specific people -- whether real or fictional straw men -- who have somehow earned the wrath of the writer. Any effort to create a successful filmed story or narrative from such a beginning must have a clean start, free of the writer's influence or interference.<br /><br />Having said that, I too find fault with the casting. It is not merely that incompetents like Bruce Willis and Melanie Griffith fail to measure up, but that real talents like Tom Hanks, F. Murray Abraham, and Morgan Freeman are either totally wasted or given roles that are mere caricatures.<br /><br />There is enough topical material here for a truly great film satire, but it fails to come even close.\n",
      "* * * * * * * * * \n"
     ]
    },
    {
     "name": "stdout",
     "output_type": "stream",
     "text": [
      "10268\n",
      "Not even Bob Hope, escorted by a raft of fine character actors, can save this poorly written attempt at wartime comedy, as his patented timing has little which which to work. The plot involves a Hollywood film star named Don Bolton (Hope), and his attempt to evade military service at the beginning of World War II, followed by his enlistment by mistake in a confused attempt to court a colonel's daughter (Dorothy Lamour). Bolton's agent, played by Lynne Overman, and his assistant, portrayed by Eddie Bracken, enlist with him and the three are involved in various escapades regarding training exercises, filmed in the Malibu, California, hills. Paramount budgeted handsomely for this effort, employing some of its top specialists, but direction by the usually reliable David Butler was flaccid, and this must be attributed to a missing comedic element in the scenario. A shift toward the end of the film to create an opportunity for heroism by Bolton is still-born with poor stunt work and camera action in evidence. Oddly, Lynne Overman is given the best lines and this veteran master of the sneer does very well by them. Dorothy Lamour looks lovely and acts nicely, as well, and it is ever a delight to see and hear Clarence Kolb, as her father, whose voice is unique on screen or radio, but there is little they can do to save this film, cursed as it is with an error in script assignment.\n",
      "* * * * * * * * * \n",
      "10483\n",
      "Acclaimed Japanese director Takashi Miike can't seem to get the wheels moving with this torpid thriller, an adaptation of Yasushi Akimoto's book concerning an evil old woman (and child abuser!) who is part of a new urban legend: if your cell-phone rings with a strange tone--and you see the message 'One Missed Call'--you will replay the message only to hear your own final words before your death. Most successful part of the film is the trenchant satire of Reality TV cameras intruding on the future victims, but the not-so-elaborate deaths (which include a hidden piece of red candy!) are disappointing and dispiriting. The frequent shots of ravaged dead bodies are actually displayed rather discreetly, and this overall politeness may be the reason why the film is ultimately so staid. Hollywood predictably jumped on the far-fetched plot in 2008, yet the U.S. version fared no better. NO STARS from ****\n",
      "* * * * * * * * * \n",
      "10944\n",
      "David Mackenzie's follow-up to the brilliant Young Adam wants to be a feel-good underdog story of a lonely voyeur who is trying to confront some psycho-sexual issues with his dead mother. It wants to be gritty, realistic, and mysterious. At the same time, it wants to be funny and nonjudgmental of its disturbed lead as he establishes himself as an adult.<br /><br />To meet this end, the film tries hard to be youthful. Its poster has hand-drawn letters looking like that of Juno. Its original soundtrack is comprised of fast-paced indie rock which tries to convince the audience that Hallam is OK; just a little misguided. But strangely the film is anything but youthful.<br /><br />Like Young Adam this film's central mystery concerns a drowned woman- in this case Hallam's mother. Young Adam keeps its mystery quiet, contemplative, and paced well enough to hit you with the truths as they come. Hallam Foe does the opposite. It foregrounds its character's psychosis so clearly and so early that he never really does anything outside his expected parameters. The opening scene is Hallam in his treehouse watching his sister fooling around with her boyfriend. Hallam swiftly interrupts, asserting his presence in the household. Here we see everything that Hallam will do for the rest of the movie.<br /><br />The mystery surrounding his mother's drowning is whether it was suicide or murder by his father's girlfriend. The audience can never really trust Hallam because, besides being creepy, we think his obsession has led him close to insanity. This hindered the mystery element for me because Hallam is too sporadic to be relatable. Right when he's found some clues that would support his claim he runs away from home, at first it appearing to be looking for the police. Then he gets extremely sidetracked by a girl who resembles his mother, which frustratingly leads the story away from the mystery element.<br /><br />While Jamie Bell does bring out some very endearing traits in his lost character, he was limited by the obviousness of his psychological needs. This movie is in no way mysterious, yet it is not blunt either. It tries to be realistic in dealing with such issues, but it adds a very self-conscious spunk which registers itself as quite the opposite. It goes for a soundtrack-heavy, Trainspotting attitude to help the audience root for a protagonist who scales buildings, picks locks, and camps out for the sake of voyeurism. These urban peeping tom adventures Hallam engages in are way too difficult for an inward-drawn country boy to engage in and they are not sexy, giddy, or pleasant. They are more neutral than anything; not propelling the character or story. Mackenzie makes you understand Hallam, yet he fails to build common ground.<br /><br />He expects you to enjoy Hallam's trials and tribulations without much ideological justification. The film hinges on its audience's perspective on voyeurism/the kind of person who engages in it. Obviously, most people would be disgusted by it. And Hallam Foe realizes that, but it does not let us see Hallam weigh the morality of his decisions. He goes from person to person, trying to fill his deep void. There is a particularly disturbing line from Hallam's love interest Kate where she drunkenly says \\I love creepy boys,\\\" perhaps asking the audience to do the same. The line tries to foreshadow her understanding of him (her motivation remains vague throughout) and tries to further us from judging him. It's not hard to like Hallam, but it is very hard to participate in his adventure- if it is even an adventure at all. All the while, the film tries to use its flamboyant soundtrack to mask its indecisive mood.<br /><br />Great performances are weighed down by a film with a weak third act, muddy development, and needlessly ambiguous direction from Mackenzie. Recently this film was re-named for a US release, and for what reason? Not only is it more unappealing, but the hard truth is that the Hallam character never earns the title 'mister.'\"\n",
      "* * * * * * * * * \n",
      "10982\n",
      "You get a gift. It is exquisitely wrapped. The box it is in is hand crafted out of the finest wood and shows skill down to the smallest detail. That is then wrapped in gorgeous paper, handmade and hand-painted by the most talented of artists. The whole thing is wrapped in ribbons made from fine silk lace. It is a sight to behold.<br /><br />Then you cut the ribbon, rip off the paper, open up the box, and find...nothing. That's TOYS. You either enjoy the packaging, or forget about it.<br /><br />The film isn't without its point and purpose: War is a not a good thing. Well, isn't that original! The moral is so obvious that it is almost embarrassing to even point it out. And even that feeble insight is undercut by a story in which elements of war -- war toys in particular -- are clearly a bad thing, until they need an exciting climax and the film simulates a war using innocent toys. It's like someone preaching a stern, condescending sermon, only to end by saying \\Just kidding.\\\"<br /><br />But even as an empty box, the film fails close scrutiny. Yes, it is a sight to behold with some remarkable, striking images. The sets are imaginative and the cinematography catches the colorful scenes with skill. But the images are cold and emotionally sterile. Like the screenplay, the look of the film is joyless and at times aesthetically barren and surreal. It is a film that wants to praise toys as wonderful and special things, yet shows them to be creations of a world that is empty and cold. The film strives to be funny, in a morose sort of way, but the humor is forced and artificial. Robin Williams, as the beleaguered heir to a toy manufacturing empire, tosses in his ad-lib shtick, which only seems alien to the bizarre, coldly structured world he is inhabiting. Indeed, the topical references and tasteless sexual innuendo that are scattered throughout are jarringly contradictory to the childlike fable the film is vaguely trying to be. For this film to work, or make sense, it needs to be set in its own universe, an Oz far removed from Kansas. Every time the jokes jerk us back into reality, the toyland of the film increasingly becomes an obvious sham.<br /><br />It is said that this was director Barry Levinson's pet project, one that he had been striving to get made for ten years. It is sadly obvious why he had trouble getting backing. Like most pet projects that finally get made (RADIOLAND MURDERS, RADIO FLYER & BATTLEFIELD: EARTH being great examples) it seems to be a blind spot in the filmmaker's field of vision. Perhaps Levinson directed and redirected TOYS so often in his head that he no fresh vision for it when he finally got on the soundstage. He had already perfected it to death.<br /><br />Many of the toys featured in the film are clumsy, mechanical, wind-up monstrosities. So is the film itself.\"\n",
      "* * * * * * * * * \n",
      "11149\n",
      "Not as bad, as it's credited to being (Hooper's done far worse)",
      " more so disappointing for me. Such an imaginative concept, which is never really tapped in to by Hooper with his economical direction and even less so in the smoky (excuse the pun) writing. It goes so sinister and over-the-top in a dead serious tone, becoming ridiculous and unfocused letting the whole pessimistic mystery / conspiracy-laced narrative being easily telegraphed to end on something completely abrupt. Because of that, the pacing goes on to be rather sluggish and Brad Dourif (cool to see him in a leading role) seems to struggle with an off-balanced performance, despite etching out a bemusedly quirky intensity to his off-colour character. Even though it's cheaply done, there's a competent technical attitude to it. However it doesn't seem to go anywhere out of the ordinary with its idea and wants to plaster in nasty jolts (which some do work) and strikingly steaming special effects (flames, flames everywhere) instead. Hooper does display some stylishly frenetic imagery (more so towards the latter end), and the camera-work is swiftly manoeuvred and the beaming score is titillating. The performances are bit all over the shop with the appearances of William Prince, Cynthia Bain, Dey Young, Jon Cypher and Melinda Dillon. Also Geroge Buck Flower and John Landis have small, but amusing cameos",
      " especially Landis. Nothing surprises, but it's passably engaging.\n",
      "* * * * * * * * * \n",
      "12925\n",
      "'Major Payne' is a film about a major who makes life a living Hell for his small group of boys in the marines. This film does not really have a lot to offer, but it provides several hilarious moments that are well-worth a watch. Don't expect it to be a memorable film, however. Just expect to laugh your way through the film and at the expense of other people. The confrontation between Major Payne and the chubby boy were hilarious, and that's really all I remember about the film except for the boys wanting revenge on Major Payne. Again, it is not a great film, and it is probably best watched on a rainy day when you need some laughter.\n",
      "* * * * * * * * * \n",
      "12960\n",
      "Man oh man! What a piece of crummy film-making! But this is a guilty pleasure from my childhood even though I hate to admit it. They showed this movie on my basic cable system all the time. Where I grew up in San Jose, California (right on the border of Cupertino) we had this thing called The G Channel on our cable system. And they basically showed the same one movie over and over and over again. Wanda Nevada was one of those movies. I fell in lust and love with the young Brooke Shields and loved her dopey adventures in the Grand Canyon in the 1940s. The script makes almost no sense, the direction is poor, the few highlights are that Henry Fonda makes an appearance, a lot of dialog that's so bad it's good and a nice Carole King song played over the end credits. Maybe you have to be stoned to truly enjoy this flick. And hey, everybody knows there ain't no gold in the Grand Canyon!\n",
      "* * * * * * * * * \n",
      "13022\n",
      "The biggest National Lampoon hit remains \\Animal House\\\", and rightly so. It was funny, raucous and good-natured.<br /><br />The exact opposite of every other National Lampoon film. Including \\\"Class Reunion\\\".<br /><br />PLEASE do not be fooled by the inclusion of Stephen Furst (\\\"Flounder\\\") from \\\"Animal House\\\". Or by the fact that John Hughes wrote this jumbled mess. This reunion is about as hilarious as root canal and twice as painful.<br /><br />One star, and that's being generous. Then again, I always thought most of my old classmates were demons, vampires and serial killers, too.\"\n",
      "* * * * * * * * * \n",
      "13215\n",
      "This movie is a re-write of the 1978 Warren Beatty movie, \\Heaven Can Wait\\\", but it is written for the stand-up comedic style of Mr Rock. The premise remains the same: Lance Barton, (Rock) is taken before his life time is up and works a deal with God's representative, Mr King, to come back to earth as someone else. As in Beatty's movie; he chooses the murdered Charles Wellington, a rich white man, all because he fancies Sontee Jenkins (Regina King) who happens to turn up at Wellington's house during the murder. The role of Mrs Wellington and her lover suffers in this remake and the idea to turn an aged white multi-millionaire into a stand up black comedian who tries to woo Sontee simply does not work. Also the intercuts used to show Rock as Wellington and then as the real 'white' Wellington, fail miserably. Improvements could have been made to the original Beatty plot - which in itself did not masterfully portray the life-after-death idea - but they certainly were not to be found in \\\"Down To Earth\\\".\"\n",
      "* * * * * * * * * \n",
      "13525\n",
      "This is just short of a full blown gore fest based on a Stephen King story. Two tabloid reporters, one seasoned(Miguel Ferrer)and one not so accomplished(Julie Entwisle), begin to believe that a serial killer(Michael H. Moss) may actually be a vampire. Stranger than odd is this modern day blood sucker does not wing his way naturally, but by way of a black Cessna he seeks his victims. The gore actually gets gruesome as the film nears its stupid finale. Keep in mind that Mr. King had nothing to do with this film. I do admit it is a bit scary in the wee hours of the night.\n",
      "* * * * * * * * * \n"
     ]
    },
    {
     "name": "stdout",
     "output_type": "stream",
     "text": [
      "13655\n",
      "One of the requirements of science fiction, at least before it starts to become satire, is that it be somewhat plausible. I would think that an anti-matter bomb would do considerably more damage than for what it was intended. But I'll leave that to the physicists who might have seen Solar Crisis.<br /><br />It is a crisis the earth is facing because solar flares are getting totally out of hand. They're getting close to Earth, so much so that it's become unseasonably hot, as if the entire Earth were Death Valley. The answer is an anti-matter bomb which a space ship will have to take to the sun and explode it there. That will divert the flares off in say the direction of say Mercury providing it's not in direct alignment with the Earth. <br /><br />Who to deliver it, but captain Tim Matheson and his crew. That is if he can keep his mind on the business at hand and not on runaway son, Corin Nemec. Taking care of the personal side of the family problems is admiral Charlton Heston, Matheson's father, and Nemec's grandfather.<br /><br />There's a villain here too, Peter Boyle who is the CEO of a multi-national corporation which in this crisis is trying to control the world's food supply for the survivors. The idea he might not survive doesn't enter into his thinking. He's doing his best to sabotage Matheson's mission.<br /><br />Solar Crisis seems like a bad mix of 2001, A Space Odyssey and Voyage to the Bottom of the Sea. Boyle seems to be taking his cue from Gene Hackman as Lex Luthor in Superman, apparently he's the only one in the cast who realizes he's in a turkey and overacts accordingly.<br /><br />The rest of the cast are stalwart, true blue and dull. Except possibly desert rat Jack Palance who finds Nemec and cares for him. <br /><br />The key here is that the film was directed by that noted Hollywood purveyor of flop films, Allen Smithee. The film gets as much as four stars for the cast involved and it was out in time for a Thanksgiving carving.\n",
      "* * * * * * * * * \n",
      "13823\n",
      "(This is a review of the later English release by Disney, featuring Alison Lohman, Patrick Stewart, and co.) <br /><br />I really wanted this film to be good. Really, really. I'm a huge fan of Princess Mononoke and Spirited Away, and after seeing all the glowing reviews on this earlier Miyazaki film, I was eager to see it. But I was shocked, shocked I say, at the quality of this film. Those later films boast well-crafted plots, 3-dimensional characters, and the best film music since...well...ever. This film just doesn't come close.<br /><br />Might as well start w/ the positive aspects, though. Like all Miyazaki films, this one is still very imaginative, with a bizarre fantasy/sci-fi setting, in a post-apocalyptic world where insects are the dominant species. Nausicaa can also boast some far superior animation to other films from its time. (though not as beautiful and fluid as Miyazaki's later films) And the English voice acting is quite well done.<br /><br />But this film...just...isn't...good... The characters are all cardboard - from saccharine sweet little Nausicaa, to the ruthlessly evil Tolmekians, to everyone in between. Once you've seen each of them for 30 seconds, you've seen all there is. And the fact that the plot just ambles along doesn't help.<br /><br />Then there's the music... Now, Hisaichi is hands down my favorite film composer, but Nausicaa doesn't do him justice. Half the music is 80's keyboards on overdrive, and it usually enters and leaves so abruptly that it distracts the visuals rather than helping them. I highly suspect that Hisaichi was told to compose a lot of the music before he even saw the picture.<br /><br />But wait! There's a great message with this film, right?! Let's all save the environment! Too bad that this film hits you over the head with it like a sledgehammer. There is a scene in which Nausicaa hugs a tree. No, really. I ain't kidding.<br /><br />It makes me a little sad to talk about how lame this film is. But for some reason all the other reviews on IMDb seem to adore it. And when the characters have to talk to themselves in extended sentences to tell you what's going on, that's lame.<br /><br />If you're the kind of person who worships anime, enjoys 80's music, and plants a tree every Arbor day, you will probably like this film. Otherwise, save your money for his later films, because they rock big time.\n",
      "* * * * * * * * * \n",
      "14392\n",
      "I've been watching this movie by hoping to find a pretty and interesting story yet the story line wasn't good at all. The play of the actors weren't any better.<br /><br />Of course Shahrukh Khan was there yet he wasn't enough to make this movie \\credible\\\" and interesting.<br /><br />I've read that this movie was based on the novel of Flaubert \\\"Madame Bovary\\\" yet for me I didn't see it matching with the Indian mentality.<br /><br />In general we buy movie to dream and have a good time, not to waste our time and change our mood into worse. I just can't understand how it could get such a \\\"high\\\" vote with an average of 6.8/10.<br /><br />So it's the kind of movie you should run away & ignore because there is nothing to appreciate in it! You will just waste your time unless if you like \\\"dark movie\\\" with \\\"strange and non sense story\\\".\"\n",
      "* * * * * * * * * \n",
      "14585\n",
      "I only recently found out that Madeleine L'Engle's novel had been turned into a TV movie by Disney and ordered the DVD. The book was a favorite of mine when I was a child and I read it several times.<br /><br />Despite some of the child actors not resembling the characters as described in the novel, the Murry family is well cast, with a likable (if too pretty) Meg at the center and a Charles Wallace who is convincing as a child prodigy without becoming irritating. <br /><br />The first half hour is promising enough, doing a good job in establishing the relationships between the lead characters and at setting the scene. Unfortunately as soon as the non-human characters appear the adaptation starts to unravel and once the children leave earth the whole thing falls apart. Alfre Woodward is too youthful looking and much too regal as the eccentric Mrs Whatsit (think Miriam Margolis or Joan Plowright instead) and Kate Nelligan face is so mask like and inexpressive, she must have visited Faye Dunaway's plastic surgeon in recent years. For some reason they make her Mrs Which look like Glinda from The Wizard of Oz when she should have resembled a benign Wicked Witch of the West.<br /><br />In the end what lets this down most badly are the terrible special effects and art direction. I understand that this is a TV movie, but the CGI looked like something that could have been done 15 years earlier. Mrs Whatsits' centaur incarnation is a disaster as is the Chewbacca like suit for Aunt Beast, who in the novel is a velvety, elegant creature instead of the ungainly Big Foot like thing shown here. I could go on and on, nearly every artistic choice is a disaster, presumably because there wasn't a large enough budget to do this justice, but also because the design work lacks imagination and good judgement.<br /><br />This really would have needed the sense of wonder Spielberg brought to his early films. What a shame that with the current popularity of adapting children's literary fantasy series nobody thought of adapting A Wrinkle in Time and it's sequels for the big screen, giving it the scope it deserves.\n",
      "* * * * * * * * * \n",
      "16199\n",
      "Let me start off by saying that this doesn't seem or feel like a movie. It seems like just another TV show about popular girls and boys with no real film language top back it up.<br /><br />The camera angles are so straight forward that the story is told the simplest way possible never making the public connect with it. This film takes us to where no movie I've seen has done before: to a realm where the Film Theater becomes a warm medium giving the public every element of interpretation. Too obvious. The large movie screen is only used as an enlarged TV from where we can see every attribute of these women in a larger than life manner.<br /><br />Lately it seems that young directors are compromising the Art of film making for sales. This is very scary. The industry is spoiling the art in movies. We must educate ourselves and our children about what cinematography and its language are really about. Not just sales and entertainment, but a way to communicate feelings, passions and even culture. Not as a launching platform for young divas and jocks.\n",
      "* * * * * * * * * \n",
      "16552\n",
      "Having read the other comments on this film, I would like to share my own view that this is one tough movie to see unless you are a total Brooksophile. I am not.<br /><br />When looked at by a purely objective observer, the film is an unbalanced narrative that presents us with more undistilled neuroses than are capable of being absorbed in one sitting. It is quite difficult to watch. The Brooks character (Robert Cole) is so unsympathetic and unpleasant that it is hard to relate to him---let alone root for him as he stumbles from one dysfunctional self-absorbed situation to the next. And he should NEVER do a topless scene and expect to be taken seriously in a romantic context. No man could have that much exposed foliage and be supposed to turn on a babe like Kathryn Harrold----unless, of course, he is Albert Brooks in an Albert Brooks-controlled production.<br /><br />\\Modern Romance\\\" has its amusing moments-----but they are fragmentary and infrequent. More often than not, I felt as if I were on a confined journey with a thoroughly dislikable person and wishing that it would end already. It confirms the problems that can develop when too much control of a film is placed in only one person---someone who lacks the self-discipline to be able to step back from it and see what is clearly happening.<br /><br />As most people probably know, James L. Brooks, who played the director in this film, is in fact what he portrayed. Six years later, he cast Albert Brooks in the very successful \\\"Broadcast News.\\\" James showed us how Albert can shape a credible and entertaining comic performance. Albert allowed us to see James (generally not cast as an actor) do a rare comic turn in a surprisingly effective manner.<br /><br />Fans of \\\"Modern Romance\\\" will by now have moved on to the next laudatory comment about it. To you I say-----there is enough pain in the world without having to find it in a film intended as an entertainment.\"\n",
      "* * * * * * * * * \n"
     ]
    },
    {
     "name": "stdout",
     "output_type": "stream",
     "text": [
      "17694\n",
      "I found this film to be quite an oddity. From the very get go I found it extremely hard to like this movie, and now after a little thinking about it I can pretty much pinpoint the reason why. Jean-Marc Barr, although I love him to bits (I think Zentropa is one of the best movies ever made) is quite miscast here, and although I can't figure for the life of me who would be better, I am sure someone could have taken his place quite easily and make this film work. Everything else is fine, except for the stabs at weak comedy (A Meet The Parents Joke is not really needed, filmmakers!) and I really like Richard E. Grant as the British Major. It just suffers from one thing.. Jean-Marc.\n",
      "* * * * * * * * * \n",
      "18480\n",
      "This Kiyoshi Kurosawa ghost movie is pretty wild, and it did have at least one jump scare that caught me off guard. But all in all, the movie is incredibly stupid, with a detective trying to track down a suspected serial killer, only to find out he may have committed one of the crimes. Then he finds himself haunted by a gorgeous Asian lady ghost, and has no idea why (and neither does the viewer). As other murders are committed, he becomes even more confused as the killers are easily found, and this ghost still haunts him for some reason. Not only is the plot completely stupid, the lady ghost is more funny than anything, especially when she suddenly flies across the city, like Wonder Woman. And the ending makes little sense, in fact, the whole movie makes little sense, and I can't recommend it at all. If it didn't take itself so serious, I would think it was supposed to be a black comedy. Outside of \\Bright Future\\\" this is the worst movie directed by Kiyoshi Kurosawa I have seen yet.\"\n",
      "* * * * * * * * * \n",
      "18490\n",
      "The book is fantastic, this film is not. There is no reason this film could not have embraced a futuristic technological vision of the book. Hell, total recall was released a few years later and that did a good job of it, even a clockwork orange released in the 70s did a good job of trying to make a futuristic world. The bleak German expressionistic colours, the black and white footage from the vision screens, there is no reason for this approach for when the film was made in 1984. The main character is in a white collar writing job yet he dresses like he works with oil and grease in a garage. This film decides to take a mock-communistic approach to set design, atmosphere and theme, yet the novel did not necessarily dictate a communist, worship-the-humble-worker theme itself. This book seriously needs to be adapted in a modern context as this book is more relevant today than ever before. I could not watch more than 20 minutes of this crap. The soundtrack is annoying, the lack of foresight is annoying, this film seems to have been made to deny a sense of realism or believability when that is exactly what is required to hammer the novel's messages to the viewer.\n",
      "* * * * * * * * * \n",
      "18517\n",
      "After what I thought was a masterful performance of two roles in Man From Snowy River, WHY was Kirk Douglas replaced by Brian Dennehy in the sequel? It just wasn't the same without Spur and Harrison, as portrayed by Douglas. Maybe he recognized how poor the plot was--Jim returns after extended absence, to find Jessica being pursued by another man. He could not expect any girl to wait that long with no contact from him, and not find competition. For a Disney movie, this contains foul language, plus the highly unnecessary part when Jim & Jessica shacked up without being married--very LAME. Quite an insult to viewer intelligence, according to members of my family. I'll stick with the first one, and try to forget I ever saw the sequel!\n",
      "* * * * * * * * * \n",
      "18596\n",
      "The story goes something like this: A small-town girl, Katie (Jessica Simpson), decides to visit her boyfriend in the big city. When she arrives she discovers he isn't quite as faithful as he should be. Katie then ends up venturing into the adventure that is New York. Filling in as bike messenger comedic and charming mishaps ensues. She falls into a hole in the ground and thus meets charismatic good-guy Ben (Luke Wilson). It's not love at first sight, at least for her, but destiny and Ben, won't give up quite that easy. Being \\just\\\" a small-town girl AND blonde a couple of evil executives at a building firm decides she's the perfect scapegoat for their cunning plan. Misunderstandings with hilarious and sad consequences follow. However, this is one blonde who won't take it lying down!<br /><br />People being judgmental of this film will soon enough be proved wrong. The jokes are confident and fitting, and the story well developed. The relationship between Katie and Ben feels so natural that it puts anything Godard has created to shame. The multi-talented Jessica Simpson once again surprises with a strong role only she could pull off. Simpson really is the Marilyn Monroe of our day (there's even one scene honoring her!). She balances perfectly between vulnerable and whimsy. Katie really does show us that you can't judge a book by its cover! Luke Wilson is as charming as ever. Even if he was covered in manure that man would be as appealing as anyone. His light touch, puppy dog eyes and laid back manner makes it difficult to resist. Andy Dick plays the role he was born to play, one of the two diabolical executives. He really cannot be underestimated. The strength of the performance lies in his restraint. It's remarkable, because most actors would just run away with it and play it for cheap laughs. Not this guy! <br /><br />In conclusion, director Scott Marshall has crafted an intelligent and frequently hilarious comedy that is destined to become a classic alongside masterpieces of cinema like Epic Movie and Norbit. Kudos to everyone involved in this, especially Jessica Simpson. Her sincere smile and whole-hearted laughter would make even the toughest man break out in a big grin. You may be tough, but you're not THAT tough! Warmly recommended to everyone who wants to be swept off their feet and see a romantic comedy that for once, feels honest. Thank you for this film! Oh, and the soundtrack rocks! <br /><br />Now if you still haven't gotten it. I'm being sarcastic. 1/10\"\n",
      "* * * * * * * * * \n",
      "18671\n",
      "As an impressionable 10 year old, I liked the \\love conquers all\\\" philosophy of the 70s sitcom \\\"Bridget Loves Bernie.\\\" I did understand the controversy, which was about the romantic complications between a Jewish cab driver (David Birney) and an Irish Catholic school teacher (Meredith Baxter) and both sets of parents (Harold J. Stone and Bibi Osterwald as Bernie's parents; Audra Lindley and David Doyle as Bridget's parents) who have issues with the young couple's interfaith marriage.<br /><br />Looking at the show now with years of personal life experiences, I am amazed that the show was even a success for one, albeit, highly-rated season. Created by veteran TV writer Bernard Slade, who a few years after the show's cancellation would write the successful play \\\"Same Time, Next Year\\\", \\\"Bridget Loves Bernie\\\" was a very light, superficial comedy that collapsed under its own airy weight.<br /><br />There was no denying the real-life chemistry between Birney and Baxter. But, in later years, both actors have shown that they are better actors in other projects (Birney in his short-lived role in \\\"St. Elsewhere\\\" and Baxter in \\\"Family\\\" and \\\"Family Ties\\\"). Here, they were trying to breathe life in a show that needed a much gritter comic edge, which might have given the complications more depth to a very controversial subject.<br /><br />The show aired Saturday nights between two CBS powerhouses: \\\"All in the Family\\\" and \\\"Mary Tyler Moore\\\". Both of those shows were smart, funny and had enough of an edge (more so on the former that the latter) that kept my interest in the situation and the characters. \\\"Bridget Loves Bernie\\\" was not very smart and only had some occasional chuckles.<br /><br />This was another example of a show that really was not as good as I remembered.\"\n",
      "* * * * * * * * * \n",
      "18742\n",
      "East Palace, West Palace reminded me somewhat of The Detective, with Frank Sinatra in the role of the cop, and William Windom is the boy. It's a progressive film for China, I guess, but it also perpetuates myths about the femininity of gay men: much is made of Chinese myths in which men take on female roles. The movie focuses on an effeminate man who wants desperately to be dominated and hurt by a macho guy. He cruises the park without fear--he hopes to be taken into the stationhouse by the officer. And that in fact happens. Then he tells the officer his entire life story while being subjected to mild torture: made to squat for a period of time, handcuffed, slapped. This is what the gay man wants, and, implicitly, the gay man is challenging the cop's self-image as a manly man. The story's about the gay man's life (which include flashbacks) are tolerable, but when he starts describing old Chinese myths and dramatic works, the movie becomes unbearable. It becomes a cry of pity for China's gays, who only want to fulfill a traditional role in Chinese society. Sorry, I can't relate.\n",
      "* * * * * * * * * \n",
      "18749\n",
      "This film is in no way entertainment but more of a look deep into the depths of the darkest side of human behaviour. Loosely linking a half a dozen stories of the worst kind of depravities, perverted sex, greed, violence and intolerance. All the action is played out over a few very hot and sticky days during a heatwave in Vienna and the heat is maybe responsible for some of the anger and hate in the film. For me the treatment of the retarded girl by the security equipment salesman was about the worst episode, closely followed by the scenes of drunkenness and perversity in the 'slags' flat. You will be gripped and I hope horrified by this film. I hated it but I felt compelled to see it through. 1/10 for 'fun' 8/10 for displaying 'man' as he sometimes is.\n",
      "* * * * * * * * * \n",
      "19420\n",
      "In addition to his \\Tarzan\\\" series, the prolific Edgar Rice Burroughs did write many other books, although, aside from the popular \\\"At the Earth's Core\\\", few of these have been filmed. One exception is the novel entitled \\\"The Lad and the Lion\\\", brought to the screen as \\\"The Lion Man\\\" (1936), an over-talkative, static, old-hat, slow-moving and rather dull movie, despite being filmed on real desert locations. Actually \\\"movie\\\" is the wrong word. The narrative doesn't move but proceeds at a snail's pace in an abrupt series of jerks. For instance, at least five characters are given elaborate opening scenes and then just disappear. Even more frustrating for the keen movie fan, are the characters who make an impression of sorts (like the lass who plies Hall with drugged wine) but are enacted by players who are not credited! The credited thespians generally come off worse than the unknowns. One exception is Australian actress Finis Barton who gives a good account of the kidnapped harem girl who rescues young Master Fairy. Admittedly, most of the cast are saddled with atrocious King James dialogue which has to be heard to be believed! But the way to play this rubbish is tongue-in-cheek, a stratagem which does not seem to have occurred to a single one of the film's roster of no-talent players. Maybe director J.P. McCarthy scotched that idea. Anyway, it's sad to see the lovely Kathleen Burke forced to trade lines with the likes of Richard Carlyle (her dad) and Jon Hall (her suitor). Admittedly, Mr Hall delivers his lines with marginally more conviction than Mr Carlyle, but that is no recommendation.\"\n",
      "* * * * * * * * * \n",
      "19591\n",
      "I have given this show (I have only watched seven episodes) four stars because most of her jokes/set-ups appear to fail. Some are not funny outright, but some are amusing -- in a 12 year old boy kind of way. She reminds me of that New York painter who throws paint upon a canvas, calls it art and sells it for a lot of money. Silverman throws out what she's got, including the kitchen sink, while she prays that a few things stick to the wall in her effort to be funny but different.<br /><br />However what she's \\got\\\" often times is not enough, as though she lacks the kind of follow-through a good comedian needs to succeed.<br /><br />The whole enterprise is like an under done potato.\"\n",
      "* * * * * * * * * \n"
     ]
    }
   ],
   "source": [
    "# false positives\n",
    "\n",
    "print(\"Examples of false positives:\")\n",
    "\n",
    "import random, time\n",
    "\n",
    "for i in range(0, len(nbs_predictions)):\n",
    "    if (nbs_predictions[i] == 1):\n",
    "        if (X_raw_train.iloc[i]['sentiment'] == 0):\n",
    "            if (random.uniform(0, 1) < 0.05): # to print only 5% of the false positives\n",
    "                print(i)\n",
    "                print(X_raw_train.iloc[i]['review'])\n",
    "                print('* * * * * * * * * ')\n"
   ]
  },
  {
   "cell_type": "markdown",
   "metadata": {},
   "source": [
    "---\n",
    "\n",
    "# <span style=\"color:red\">WARNING: Don't look at test set performance too much!</span>\n",
    "\n",
    "---\n",
    "\n",
    "The following cells show performance on your test set. Do not look at this too often! "
   ]
  },
  {
   "cell_type": "markdown",
   "metadata": {},
   "source": [
    "# Look at performance on the test set"
   ]
  },
  {
   "cell_type": "markdown",
   "metadata": {},
   "source": [
    "### MODEL: ordinary least squares"
   ]
  },
  {
   "cell_type": "code",
   "execution_count": 19,
   "metadata": {},
   "outputs": [],
   "source": [
    "# ols_performance_test = BinaryClassificationPerformance(ols.predict(X_test), y_test, 'ols_test')\n",
    "# ols_performance_test.compute_measures()\n",
    "# print(ols_performance_test.performance_measures)"
   ]
  },
  {
   "cell_type": "markdown",
   "metadata": {},
   "source": [
    "### MODEL: SVM, linear"
   ]
  },
  {
   "cell_type": "code",
   "execution_count": 20,
   "metadata": {},
   "outputs": [
    {
     "name": "stdout",
     "output_type": "stream",
     "text": [
      "{'Pos': 2498, 'Neg': 2502, 'TP': 2156, 'TN': 1757, 'FP': 745, 'FN': 342, 'Accuracy': 0.7826, 'Precision': 0.7431920027576697, 'Recall': 0.8630904723779024, 'desc': 'svm_test'}\n"
     ]
    }
   ],
   "source": [
    "svm_performance_test = BinaryClassificationPerformance(svm.predict(X_test), y_test, 'svm_test')\n",
    "svm_performance_test.compute_measures()\n",
    "print(svm_performance_test.performance_measures)"
   ]
  },
  {
   "cell_type": "markdown",
   "metadata": {},
   "source": [
    "### MODEL: logistic regression"
   ]
  },
  {
   "cell_type": "code",
   "execution_count": 21,
   "metadata": {},
   "outputs": [],
   "source": [
    "# lgs_performance_test = BinaryClassificationPerformance(lgs.predict(X_test), y_test, 'lgs_test')\n",
    "# lgs_performance_test.compute_measures()\n",
    "# print(lgs_performance_test.performance_measures)"
   ]
  },
  {
   "cell_type": "markdown",
   "metadata": {},
   "source": [
    "### MODEL: Naive Bayes"
   ]
  },
  {
   "cell_type": "code",
   "execution_count": 22,
   "metadata": {},
   "outputs": [
    {
     "name": "stdout",
     "output_type": "stream",
     "text": [
      "{'Pos': 2498, 'Neg': 2502, 'TP': 1725, 'TN': 1762, 'FP': 740, 'FN': 773, 'Accuracy': 0.6974, 'Precision': 0.6997971602434077, 'Recall': 0.6905524419535628, 'desc': 'nbs_test'}\n"
     ]
    }
   ],
   "source": [
    "nbs_performance_test = BinaryClassificationPerformance(nbs.predict(X_test), y_test, 'nbs_test')\n",
    "nbs_performance_test.compute_measures()\n",
    "print(nbs_performance_test.performance_measures)"
   ]
  },
  {
   "cell_type": "markdown",
   "metadata": {},
   "source": [
    "### MODEL: Perceptron"
   ]
  },
  {
   "cell_type": "code",
   "execution_count": 23,
   "metadata": {},
   "outputs": [],
   "source": [
    "# prc_performance_test = BinaryClassificationPerformance(prc.predict(X_test), y_test, 'prc_test')\n",
    "# prc_performance_test.compute_measures()\n",
    "# print(prc_performance_test.performance_measures)"
   ]
  },
  {
   "cell_type": "markdown",
   "metadata": {},
   "source": [
    "### MODEL: Ridge Regression Classifier"
   ]
  },
  {
   "cell_type": "code",
   "execution_count": 24,
   "metadata": {},
   "outputs": [],
   "source": [
    "# rdg_performance_test = BinaryClassificationPerformance(rdg.predict(X_test), y_test, 'rdg_test')\n",
    "# rdg_performance_test.compute_measures()\n",
    "# print(rdg_performance_test.performance_measures)"
   ]
  },
  {
   "cell_type": "markdown",
   "metadata": {},
   "source": [
    "### MODEL: Random Forest Classifier"
   ]
  },
  {
   "cell_type": "code",
   "execution_count": 25,
   "metadata": {},
   "outputs": [],
   "source": [
    "# rdf_performance_test = BinaryClassificationPerformance(rdf.predict(X_test), y_test, 'rdf_test')\n",
    "# rdf_performance_test.compute_measures()\n",
    "# print(rdf_performance_test.performance_measures)"
   ]
  },
  {
   "cell_type": "markdown",
   "metadata": {},
   "source": [
    "### ROC plot to compare performance of various models and fits"
   ]
  },
  {
   "cell_type": "code",
   "execution_count": 26,
   "metadata": {},
   "outputs": [
    {
     "data": {
      "image/png": "[encoded data removed]",
      "text/plain": [
       "<Figure size 432x288 with 1 Axes>"
      ]
     },
     "metadata": {
      "needs_background": "light"
     },
     "output_type": "display_data"
    }
   ],
   "source": [
    "fits = [nbs_performance_test, svm_performance_test]\n",
    "\n",
    "for fit in fits:\n",
    "    plt.plot(fit.performance_measures['FP'] / fit.performance_measures['Neg'], \n",
    "             fit.performance_measures['TP'] / fit.performance_measures['Pos'], 'bo')\n",
    "    plt.text(fit.performance_measures['FP'] / fit.performance_measures['Neg'], \n",
    "             fit.performance_measures['TP'] / fit.performance_measures['Pos'], fit.desc)\n",
    "plt.axis([0, 0.8, 0.4, 1])\n",
    "plt.title('ROC plot: test set')\n",
    "plt.xlabel('False positive rate')\n",
    "plt.ylabel('True positive rate')\n",
    "plt.show()"
   ]
  },
  {
   "cell_type": "markdown",
   "metadata": {},
   "source": [
    "---\n",
    "\n",
    "# <span style=\"color:red\">SUBMISSION</span>\n",
    "\n",
    "---"
   ]
  },
  {
   "cell_type": "code",
   "execution_count": 68,
   "metadata": {},
   "outputs": [
    {
     "name": "stdout",
     "output_type": "stream",
     "text": [
      "movie_data is: <class 'pandas.core.frame.DataFrame'>\n",
      "movie_data has 25000 rows and 2 columns \n",
      "\n",
      "the data types for each of the columns in movie_data:\n",
      "id        object\n",
      "review    object\n",
      "dtype: object \n",
      "\n",
      "the first 10 rows in movie_data:\n",
      "         id                                             review\n",
      "0  12311_10  Naturally in a film who's main themes are of m...\n",
      "1    8348_2  This movie is a disaster within a disaster fil...\n",
      "2    5828_4  All in all, this is a movie for kids. We saw i...\n",
      "3    7186_2  Afraid of the Dark left me with the impression...\n",
      "4   12128_7  A very accurate depiction of small time mob li...\n",
      "Shape of CountVectorizer X:\n",
      "(25000, 38406)\n",
      "Look at a few rows of the new quantitative features: \n",
      "   word_count  punc_count  repeated_word_count  unique_word_count  \\\n",
      "0         131           5                    0                 92   \n",
      "1         169          15                    1                117   \n",
      "2         176          18                    2                129   \n",
      "3         112           5                    3                 87   \n",
      "4         133           8                    4                111   \n",
      "5         331          20                    5                220   \n",
      "6         121          18                    6                 85   \n",
      "7         230          22                    7                174   \n",
      "8          59           3                    8                 47   \n",
      "9         224          14                    9                170   \n",
      "\n",
      "   avg_word_length  \n",
      "0         4.877863  \n",
      "1         4.307692  \n",
      "2         4.619318  \n",
      "3         4.875000  \n",
      "4         4.736842  \n",
      "5         4.800604  \n",
      "6         4.545455  \n",
      "7         4.456522  \n",
      "8         4.389831  \n",
      "9         5.785714  \n",
      "Size of combined bag of words and new quantitative variables matrix:\n",
      "(25000, 38411)\n",
      "(25000, 38411)\n",
      "Shape of X_test for submission:\n",
      "(25000, 38411)\n",
      "SUCCESS!\n",
      "Number of rows in the submission test set (should be 25,000): \n"
     ]
    }
   ],
   "source": [
    "# read in test data for submission\n",
    "# CHANGE FILE PATH and my_random_seed number (any integer other than 74 will do): \n",
    "raw_data, X_test_submission = process_raw_data(fn='/Users/maybaho/Documents/Parsons/Machine Learning/assignments/data/moviereviews_test.tsv', my_random_seed=13, test=True)\n",
    "print(\"Number of rows in the submission test set (should be 25,000): \")"
   ]
  },
  {
   "cell_type": "markdown",
   "metadata": {},
   "source": [
    "---\n",
    "\n",
    "Choose a <span style=\"color:red\">*single*</span> model for your submission. In this code, I am choosing the Ordinary Least Squares model fit, which is in the `ols` object. But you should choose the model that is performing the best for you! "
   ]
  },
  {
   "cell_type": "code",
   "execution_count": 72,
   "metadata": {},
   "outputs": [
    {
     "name": "stdout",
     "output_type": "stream",
     "text": [
      "0.60232\n"
     ]
    }
   ],
   "source": [
    "# store the id from the raw data\n",
    "my_submission = pd.DataFrame(raw_data[\"id\"])\n",
    "# concatenate predictions to the id\n",
    "my_submission[\"prediction\"] = svm.predict(X_test_submission)\n",
    "# look at the proportion of positive predictions\n",
    "print(my_submission['prediction'].mean())"
   ]
  },
  {
   "cell_type": "code",
   "execution_count": 73,
   "metadata": {},
   "outputs": [
    {
     "data": {
      "text/html": [
       "<div>\n",
       "<style scoped>\n",
       "    .dataframe tbody tr th:only-of-type {\n",
       "        vertical-align: middle;\n",
       "    }\n",
       "\n",
       "    .dataframe tbody tr th {\n",
       "        vertical-align: top;\n",
       "    }\n",
       "\n",
       "    .dataframe thead th {\n",
       "        text-align: right;\n",
       "    }\n",
       "</style>\n",
       "<table border=\"1\" class=\"dataframe\">\n",
       "  <thead>\n",
       "    <tr style=\"text-align: right;\">\n",
       "      <th></th>\n",
       "      <th>id</th>\n",
       "      <th>review</th>\n",
       "      <th>word_count</th>\n",
       "      <th>punc_count</th>\n",
       "      <th>repeated_word_count</th>\n",
       "      <th>unique_word_count</th>\n",
       "      <th>avg_word_length</th>\n",
       "    </tr>\n",
       "  </thead>\n",
       "  <tbody>\n",
       "    <tr>\n",
       "      <th>0</th>\n",
       "      <td>12311_10</td>\n",
       "      <td>Naturally in a film who's main themes are of m...</td>\n",
       "      <td>131</td>\n",
       "      <td>5</td>\n",
       "      <td>0</td>\n",
       "      <td>92</td>\n",
       "      <td>4.877863</td>\n",
       "    </tr>\n",
       "    <tr>\n",
       "      <th>1</th>\n",
       "      <td>8348_2</td>\n",
       "      <td>This movie is a disaster within a disaster fil...</td>\n",
       "      <td>169</td>\n",
       "      <td>15</td>\n",
       "      <td>1</td>\n",
       "      <td>117</td>\n",
       "      <td>4.307692</td>\n",
       "    </tr>\n",
       "    <tr>\n",
       "      <th>2</th>\n",
       "      <td>5828_4</td>\n",
       "      <td>All in all, this is a movie for kids. We saw i...</td>\n",
       "      <td>176</td>\n",
       "      <td>18</td>\n",
       "      <td>2</td>\n",
       "      <td>129</td>\n",
       "      <td>4.619318</td>\n",
       "    </tr>\n",
       "    <tr>\n",
       "      <th>3</th>\n",
       "      <td>7186_2</td>\n",
       "      <td>Afraid of the Dark left me with the impression...</td>\n",
       "      <td>112</td>\n",
       "      <td>5</td>\n",
       "      <td>3</td>\n",
       "      <td>87</td>\n",
       "      <td>4.875000</td>\n",
       "    </tr>\n",
       "    <tr>\n",
       "      <th>4</th>\n",
       "      <td>12128_7</td>\n",
       "      <td>A very accurate depiction of small time mob li...</td>\n",
       "      <td>133</td>\n",
       "      <td>8</td>\n",
       "      <td>4</td>\n",
       "      <td>111</td>\n",
       "      <td>4.736842</td>\n",
       "    </tr>\n",
       "  </tbody>\n",
       "</table>\n",
       "</div>"
      ],
      "text/plain": [
       "         id                                             review  word_count  \\\n",
       "0  12311_10  Naturally in a film who's main themes are of m...         131   \n",
       "1    8348_2  This movie is a disaster within a disaster fil...         169   \n",
       "2    5828_4  All in all, this is a movie for kids. We saw i...         176   \n",
       "3    7186_2  Afraid of the Dark left me with the impression...         112   \n",
       "4   12128_7  A very accurate depiction of small time mob li...         133   \n",
       "\n",
       "   punc_count  repeated_word_count  unique_word_count  avg_word_length  \n",
       "0           5                    0                 92         4.877863  \n",
       "1          15                    1                117         4.307692  \n",
       "2          18                    2                129         4.619318  \n",
       "3           5                    3                 87         4.875000  \n",
       "4           8                    4                111         4.736842  "
      ]
     },
     "execution_count": 73,
     "metadata": {},
     "output_type": "execute_result"
    }
   ],
   "source": [
    "raw_data.head()"
   ]
  },
  {
   "cell_type": "code",
   "execution_count": 74,
   "metadata": {},
   "outputs": [
    {
     "data": {
      "text/html": [
       "<div>\n",
       "<style scoped>\n",
       "    .dataframe tbody tr th:only-of-type {\n",
       "        vertical-align: middle;\n",
       "    }\n",
       "\n",
       "    .dataframe tbody tr th {\n",
       "        vertical-align: top;\n",
       "    }\n",
       "\n",
       "    .dataframe thead th {\n",
       "        text-align: right;\n",
       "    }\n",
       "</style>\n",
       "<table border=\"1\" class=\"dataframe\">\n",
       "  <thead>\n",
       "    <tr style=\"text-align: right;\">\n",
       "      <th></th>\n",
       "      <th>id</th>\n",
       "      <th>prediction</th>\n",
       "    </tr>\n",
       "  </thead>\n",
       "  <tbody>\n",
       "    <tr>\n",
       "      <th>0</th>\n",
       "      <td>12311_10</td>\n",
       "      <td>1</td>\n",
       "    </tr>\n",
       "    <tr>\n",
       "      <th>1</th>\n",
       "      <td>8348_2</td>\n",
       "      <td>0</td>\n",
       "    </tr>\n",
       "    <tr>\n",
       "      <th>2</th>\n",
       "      <td>5828_4</td>\n",
       "      <td>1</td>\n",
       "    </tr>\n",
       "    <tr>\n",
       "      <th>3</th>\n",
       "      <td>7186_2</td>\n",
       "      <td>1</td>\n",
       "    </tr>\n",
       "    <tr>\n",
       "      <th>4</th>\n",
       "      <td>12128_7</td>\n",
       "      <td>1</td>\n",
       "    </tr>\n",
       "  </tbody>\n",
       "</table>\n",
       "</div>"
      ],
      "text/plain": [
       "         id  prediction\n",
       "0  12311_10           1\n",
       "1    8348_2           0\n",
       "2    5828_4           1\n",
       "3    7186_2           1\n",
       "4   12128_7           1"
      ]
     },
     "execution_count": 74,
     "metadata": {},
     "output_type": "execute_result"
    }
   ],
   "source": [
    "my_submission.head()"
   ]
  },
  {
   "cell_type": "code",
   "execution_count": 75,
   "metadata": {},
   "outputs": [
    {
     "data": {
      "text/plain": [
       "(25000, 2)"
      ]
     },
     "execution_count": 75,
     "metadata": {},
     "output_type": "execute_result"
    }
   ],
   "source": [
    "my_submission.shape"
   ]
  },
  {
   "cell_type": "code",
   "execution_count": 76,
   "metadata": {},
   "outputs": [],
   "source": [
    "# export submission file as pdf\n",
    "# CHANGE FILE PATH: \n",
    "my_submission.to_csv('/Users/maybaho/Documents/Parsons/Machine Learning/assignments/final_assignment_1/iterations/iteration 1/moviereviews_submission.csv', index=False)"
   ]
  },
  {
   "cell_type": "markdown",
   "metadata": {},
   "source": [
    "# Submit to Canvas: 1) the CSV file that was written in the previous cell and 2) the url to the repository (GitHub or other) that contains your code and documentation"
   ]
  },
  {
   "cell_type": "code",
   "execution_count": null,
   "metadata": {},
   "outputs": [],
   "source": []
  }
 ],
 "metadata": {
  "kernelspec": {
   "display_name": "Python 3",
   "language": "python",
   "name": "python3"
  },
  "language_info": {
   "codemirror_mode": {
    "name": "ipython",
    "version": 3
   },
   "file_extension": ".py",
   "mimetype": "text/x-python",
   "name": "python",
   "nbconvert_exporter": "python",
   "pygments_lexer": "ipython3",
   "version": "3.8.8"
  }
 },
 "nbformat": 4,
 "nbformat_minor": 2
}
