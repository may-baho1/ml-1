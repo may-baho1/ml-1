{
 "cells": [
  {
   "cell_type": "markdown",
   "metadata": {},
   "source": [
    "# Movie reviews\n",
    "\n",
    "This notebook takes you though a complete iteration of Machine Learning Assignment 1 - Movie reviews. The assignment details (including links to download the data) can be found [here](https://docs.google.com/document/d/1WGYw99e5q6j5V0Zrf2HveagU6URt_kVvdR8B9HYQ99E/edit?usp=sharing). "
   ]
  },
  {
   "cell_type": "code",
   "execution_count": 24,
   "metadata": {},
   "outputs": [],
   "source": [
    "# all imports and magic commands\n",
    "import numpy as np\n",
    "import pandas as pd\n",
    "import matplotlib.pyplot as plt\n",
    "from my_measures import BinaryClassificationPerformance\n",
    "from sklearn.feature_extraction.text import HashingVectorizer, CountVectorizer\n",
    "from sklearn.feature_extraction.text import TfidfTransformer\n",
    "from scipy.sparse import csr_matrix, hstack\n",
    "from sklearn.preprocessing import StandardScaler\n",
    "from sklearn.model_selection import train_test_split\n",
    "%matplotlib inline"
   ]
  },
  {
   "cell_type": "markdown",
   "metadata": {},
   "source": [
    "### IMPORTANT!!! Make sure you are using `BinaryClassificationPerformance` v1.02"
   ]
  },
  {
   "cell_type": "code",
   "execution_count": 25,
   "metadata": {},
   "outputs": [
    {
     "name": "stdout",
     "output_type": "stream",
     "text": [
      "Help on class BinaryClassificationPerformance in module my_measures:\n",
      "\n",
      "class BinaryClassificationPerformance(builtins.object)\n",
      " |  BinaryClassificationPerformance(predictions, labels, desc, probabilities=None)\n",
      " |  \n",
      " |  Performance measures to evaluate the fit of a binary classification model, v1.02\n",
      " |  \n",
      " |  Methods defined here:\n",
      " |  \n",
      " |  __init__(self, predictions, labels, desc, probabilities=None)\n",
      " |      Initialize attributes: predictions-vector of predicted values for Y, labels-vector of labels for Y\n",
      " |  \n",
      " |  compute_measures(self)\n",
      " |      Compute performance measures defined by Flach p. 57\n",
      " |  \n",
      " |  img_indices(self)\n",
      " |      Get the indices of true and false positives to be able to locate the corresponding images in a list of image names\n",
      " |  \n",
      " |  ----------------------------------------------------------------------\n",
      " |  Data descriptors defined here:\n",
      " |  \n",
      " |  __dict__\n",
      " |      dictionary for instance variables (if defined)\n",
      " |  \n",
      " |  __weakref__\n",
      " |      list of weak references to the object (if defined)\n",
      "\n"
     ]
    }
   ],
   "source": [
    "help(BinaryClassificationPerformance)"
   ]
  },
  {
   "cell_type": "markdown",
   "metadata": {},
   "source": [
    "# Function for feature building and extraction on natural language data"
   ]
  },
  {
   "cell_type": "code",
   "execution_count": 26,
   "metadata": {},
   "outputs": [],
   "source": [
    "# function that takes raw data and completes all preprocessing required before model fits\n",
    "def process_raw_data(fn, my_random_seed, test=False):\n",
    "    # read and summarize data\n",
    "    movie_data = pd.read_csv(fn, sep='\\t')\n",
    "    print(\"movie_data is:\", type(movie_data))\n",
    "    print(\"movie_data has\", movie_data.shape[0], \"rows and\", movie_data.shape[1], \"columns\", \"\\n\")\n",
    "    print(\"the data types for each of the columns in movie_data:\")\n",
    "    print(movie_data.dtypes, \"\\n\")\n",
    "    print(\"the first 10 rows in movie_data:\")\n",
    "    print(movie_data.head(5))\n",
    "    if (not test):\n",
    "        print(\"The rate of 'good' movie reviews in the dataset: \")\n",
    "        print(movie_data['sentiment'].mean())\n",
    "\n",
    "    # vectorize Bag of Words from review text; as sparse matrix AS COUNT VECTORIZER, USING 1-3 N GRAMS\n",
    "    if (not test): # fit_transform()\n",
    "        cv = CountVectorizer(stop_words='english', ngram_range=(1, 3))\n",
    "        X_cv = cv.fit_transform(movie_data.review)\n",
    "        fitted_transformations.append(cv)\n",
    "        print(\"Shape of CountVectorizer X:\")\n",
    "        print(X_cv.shape)\n",
    "    else: # transform() \n",
    "        X_cv = fitted_transformations[0].transform(movie_data.review)\n",
    "        print(\"Shape of CountVectorizer X:\")\n",
    "        print(X_cv.shape)\n",
    "    \n",
    "    # http://scikit-learn.org/stable/modules/generated/sklearn.feature_extraction.text.TfidfTransformer.html\n",
    "    if (not test):\n",
    "        transformer = TfidfTransformer()\n",
    "        X_tfidf = transformer.fit_transform(X_cv)\n",
    "        fitted_transformations.append(transformer)\n",
    "    else:\n",
    "        X_tfidf = fitted_transformations[1].transform(X_cv)\n",
    "    \n",
    "    # create additional quantitative features\n",
    "    # features from Amazon.csv to add to feature set\n",
    "    movie_data['word_count'] = movie_data['review'].str.split(' ').str.len()\n",
    "    movie_data['punc_count'] = movie_data['review'].str.count(\"\\.\")\n",
    "\n",
    "    X_quant_features = movie_data[[\"word_count\", \"punc_count\"]]\n",
    "    print(\"Look at a few rows of the new quantitative features: \")\n",
    "    print(X_quant_features.head(10))\n",
    "    \n",
    "    # Combine all quantitative features into a single sparse matrix\n",
    "    X_quant_features_csr = csr_matrix(X_quant_features)\n",
    "    X_combined = hstack([X_tfidf, X_quant_features_csr])\n",
    "    X_matrix = csr_matrix(X_combined) # convert to sparse matrix\n",
    "    print(\"Size of combined bag of words and new quantitative variables matrix:\")\n",
    "    print(X_matrix.shape)\n",
    "    \n",
    "    # Create `X`, scaled matrix of features\n",
    "    # feature scaling\n",
    "    if (not test):\n",
    "        sc = StandardScaler(with_mean=False)\n",
    "        X = sc.fit_transform(X_matrix)\n",
    "        fitted_transformations.append(sc)\n",
    "        print(X.shape)\n",
    "        y = movie_data['sentiment']\n",
    "    else:\n",
    "        X = fitted_transformations[2].transform(X_matrix)\n",
    "        print(X.shape)\n",
    "    \n",
    "    # Create Training and Test Sets\n",
    "    # enter an integer for the random_state parameter; any integer will work\n",
    "    if (test):\n",
    "        X_submission_test = X\n",
    "        print(\"Shape of X_test for submission:\")\n",
    "        print(X_submission_test.shape)\n",
    "        print('SUCCESS!')\n",
    "        return(movie_data, X_submission_test)\n",
    "    else: \n",
    "        X_train, X_test, y_train, y_test, X_raw_train, X_raw_test = train_test_split(X, y, movie_data, test_size=0.2, random_state=my_random_seed)\n",
    "        print(\"Shape of X_train and X_test:\")\n",
    "        print(X_train.shape)\n",
    "        print(X_test.shape)\n",
    "        print(\"Shape of y_train and y_test:\")\n",
    "        print(y_train.shape)\n",
    "        print(y_test.shape)\n",
    "        print(\"Shape of X_raw_train and X_raw_test:\")\n",
    "        print(X_raw_train.shape)\n",
    "        print(X_raw_test.shape)\n",
    "        print('SUCCESS!')\n",
    "        return(X_train, X_test, y_train, y_test, X_raw_train, X_raw_test)"
   ]
  },
  {
   "cell_type": "markdown",
   "metadata": {},
   "source": [
    "# Create training and test sets from function"
   ]
  },
  {
   "cell_type": "code",
   "execution_count": 27,
   "metadata": {},
   "outputs": [
    {
     "name": "stdout",
     "output_type": "stream",
     "text": [
      "movie_data is: <class 'pandas.core.frame.DataFrame'>\n",
      "movie_data has 25000 rows and 3 columns \n",
      "\n",
      "the data types for each of the columns in movie_data:\n",
      "id           object\n",
      "sentiment     int64\n",
      "review       object\n",
      "dtype: object \n",
      "\n",
      "the first 10 rows in movie_data:\n",
      "       id  sentiment                                             review\n",
      "0  5814_8          1  With all this stuff going down at the moment w...\n",
      "1  2381_9          1  \\The Classic War of the Worlds\\\" by Timothy Hi...\n",
      "2  7759_3          0  The film starts with a manager (Nicholas Bell)...\n",
      "3  3630_4          0  It must be assumed that those who praised this...\n",
      "4  9495_8          1  Superbly trashy and wondrously unpretentious 8...\n",
      "The rate of 'good' movie reviews in the dataset: \n",
      "0.5\n",
      "Shape of CountVectorizer X:\n",
      "(25000, 4302432)\n",
      "Look at a few rows of the new quantitative features: \n",
      "   word_count  punc_count\n",
      "0         433          20\n",
      "1         158          16\n",
      "2         378          20\n",
      "3         379           8\n",
      "4         367           9\n",
      "5          89           5\n",
      "6         112           9\n",
      "7         132           9\n",
      "8         163           7\n",
      "9          43           5\n",
      "Size of combined bag of words and new quantitative variables matrix:\n",
      "(25000, 4302434)\n",
      "(25000, 4302434)\n",
      "Shape of X_train and X_test:\n",
      "(20000, 4302434)\n",
      "(5000, 4302434)\n",
      "Shape of y_train and y_test:\n",
      "(20000,)\n",
      "(5000,)\n",
      "Shape of X_raw_train and X_raw_test:\n",
      "(20000, 5)\n",
      "(5000, 5)\n",
      "SUCCESS!\n",
      "Number of fits stored in `fitted_transformations` list: \n",
      "3\n"
     ]
    }
   ],
   "source": [
    "# create an empty list to store any use of fit_transform() to transform() later\n",
    "# it is a global list to store model and feature extraction fits\n",
    "fitted_transformations = []\n",
    "\n",
    "# CHANGE FILE PATH and my_random_seed number (any integer other than 74 will do): \n",
    "X_train, X_test, y_train, y_test, X_raw_train, X_raw_test = process_raw_data(fn='/Users/maybaho/Documents/Parsons/Machine Learning/assignments/data/moviereviews_train.tsv', my_random_seed=13)\n",
    "\n",
    "print(\"Number of fits stored in `fitted_transformations` list: \")\n",
    "print(len(fitted_transformations))"
   ]
  },
  {
   "cell_type": "markdown",
   "metadata": {},
   "source": [
    "# Fit (and tune) Various Models"
   ]
  },
  {
   "cell_type": "markdown",
   "metadata": {},
   "source": [
    "### MODEL: ordinary least squares"
   ]
  },
  {
   "cell_type": "code",
   "execution_count": 28,
   "metadata": {},
   "outputs": [
    {
     "name": "stdout",
     "output_type": "stream",
     "text": [
      "{'Pos': 10002, 'Neg': 9998, 'TP': 4864, 'TN': 5358, 'FP': 4640, 'FN': 5138, 'Accuracy': 0.5111, 'Precision': 0.5117845117845118, 'Recall': 0.48630273945210956, 'desc': 'ols_train'}\n"
     ]
    }
   ],
   "source": [
    "from sklearn import linear_model\n",
    "ols = linear_model.SGDClassifier(loss=\"squared_loss\")\n",
    "ols.fit(X_train, y_train)\n",
    "\n",
    "ols_performance_train = BinaryClassificationPerformance(ols.predict(X_train), y_train, 'ols_train')\n",
    "ols_performance_train.compute_measures()\n",
    "print(ols_performance_train.performance_measures)"
   ]
  },
  {
   "cell_type": "markdown",
   "metadata": {},
   "source": [
    "### MODEL: SVM, linear"
   ]
  },
  {
   "cell_type": "code",
   "execution_count": 29,
   "metadata": {},
   "outputs": [
    {
     "name": "stdout",
     "output_type": "stream",
     "text": [
      "{'Pos': 10002, 'Neg': 9998, 'TP': 10002, 'TN': 9998, 'FP': 0, 'FN': 0, 'Accuracy': 1.0, 'Precision': 1.0, 'Recall': 1.0, 'desc': 'svm_train'}\n"
     ]
    }
   ],
   "source": [
    "from sklearn import linear_model\n",
    "svm = linear_model.SGDClassifier()\n",
    "svm.fit(X_train, y_train)\n",
    "\n",
    "svm_performance_train = BinaryClassificationPerformance(svm.predict(X_train), y_train, 'svm_train')\n",
    "svm_performance_train.compute_measures()\n",
    "print(svm_performance_train.performance_measures)"
   ]
  },
  {
   "cell_type": "markdown",
   "metadata": {},
   "source": [
    "### MODEL: logistic regression"
   ]
  },
  {
   "cell_type": "code",
   "execution_count": 30,
   "metadata": {},
   "outputs": [
    {
     "name": "stdout",
     "output_type": "stream",
     "text": [
      "{'Pos': 10002, 'Neg': 9998, 'TP': 10002, 'TN': 9998, 'FP': 0, 'FN': 0, 'Accuracy': 1.0, 'Precision': 1.0, 'Recall': 1.0, 'desc': 'lgs_train'}\n"
     ]
    }
   ],
   "source": [
    "from sklearn import linear_model\n",
    "lgs = linear_model.SGDClassifier(loss='log')\n",
    "lgs.fit(X_train, y_train)\n",
    "\n",
    "lgs_performance_train = BinaryClassificationPerformance(lgs.predict(X_train), y_train, 'lgs_train')\n",
    "lgs_performance_train.compute_measures()\n",
    "print(lgs_performance_train.performance_measures)"
   ]
  },
  {
   "cell_type": "markdown",
   "metadata": {},
   "source": [
    "### MODEL: Naive Bayes"
   ]
  },
  {
   "cell_type": "code",
   "execution_count": 31,
   "metadata": {},
   "outputs": [
    {
     "name": "stdout",
     "output_type": "stream",
     "text": [
      "{'Pos': 10002, 'Neg': 9998, 'TP': 10002, 'TN': 9998, 'FP': 0, 'FN': 0, 'Accuracy': 1.0, 'Precision': 1.0, 'Recall': 1.0, 'desc': 'nbs_train'}\n"
     ]
    }
   ],
   "source": [
    "from sklearn.naive_bayes import MultinomialNB\n",
    "nbs = MultinomialNB()\n",
    "nbs.fit(X_train, y_train)\n",
    "\n",
    "nbs_performance_train = BinaryClassificationPerformance(nbs.predict(X_train), y_train, 'nbs_train')\n",
    "nbs_performance_train.compute_measures()\n",
    "print(nbs_performance_train.performance_measures)"
   ]
  },
  {
   "cell_type": "markdown",
   "metadata": {},
   "source": [
    "### MODEL: Perceptron"
   ]
  },
  {
   "cell_type": "code",
   "execution_count": 32,
   "metadata": {},
   "outputs": [
    {
     "name": "stdout",
     "output_type": "stream",
     "text": [
      "{'Pos': 10002, 'Neg': 9998, 'TP': 10002, 'TN': 9998, 'FP': 0, 'FN': 0, 'Accuracy': 1.0, 'Precision': 1.0, 'Recall': 1.0, 'desc': 'prc_train'}\n"
     ]
    }
   ],
   "source": [
    "from sklearn import linear_model\n",
    "prc = linear_model.SGDClassifier(loss='perceptron')\n",
    "prc.fit(X_train, y_train)\n",
    "\n",
    "prc_performance_train = BinaryClassificationPerformance(prc.predict(X_train), y_train, 'prc_train')\n",
    "prc_performance_train.compute_measures()\n",
    "print(prc_performance_train.performance_measures)"
   ]
  },
  {
   "cell_type": "markdown",
   "metadata": {},
   "source": [
    "### MODEL: Ridge Regression Classifier"
   ]
  },
  {
   "cell_type": "code",
   "execution_count": 33,
   "metadata": {},
   "outputs": [
    {
     "name": "stdout",
     "output_type": "stream",
     "text": [
      "{'Pos': 10002, 'Neg': 9998, 'TP': 10002, 'TN': 9998, 'FP': 0, 'FN': 0, 'Accuracy': 1.0, 'Precision': 1.0, 'Recall': 1.0, 'desc': 'rdg_train'}\n"
     ]
    }
   ],
   "source": [
    "from sklearn import linear_model\n",
    "rdg = linear_model.RidgeClassifier()\n",
    "rdg.fit(X_train, y_train)\n",
    "\n",
    "rdg_performance_train = BinaryClassificationPerformance(rdg.predict(X_train), y_train, 'rdg_train')\n",
    "rdg_performance_train.compute_measures()\n",
    "print(rdg_performance_train.performance_measures)"
   ]
  },
  {
   "cell_type": "markdown",
   "metadata": {},
   "source": [
    "### MODEL: Random Forest Classifier"
   ]
  },
  {
   "cell_type": "code",
   "execution_count": 34,
   "metadata": {},
   "outputs": [
    {
     "name": "stdout",
     "output_type": "stream",
     "text": [
      "{'Pos': 10002, 'Neg': 9998, 'TP': 7679, 'TN': 6168, 'FP': 3830, 'FN': 2323, 'Accuracy': 0.69235, 'Precision': 0.6672169606394995, 'Recall': 0.767746450709858, 'desc': 'rdf_train'}\n"
     ]
    }
   ],
   "source": [
    "from sklearn.ensemble import RandomForestClassifier\n",
    "rdf = RandomForestClassifier(max_depth=2, random_state=0)\n",
    "rdf.fit(X_train, y_train)\n",
    "\n",
    "rdf_performance_train = BinaryClassificationPerformance(rdf.predict(X_train), y_train, 'rdf_train')\n",
    "rdf_performance_train.compute_measures()\n",
    "print(rdf_performance_train.performance_measures)"
   ]
  },
  {
   "cell_type": "markdown",
   "metadata": {},
   "source": [
    "### ROC plot to compare performance of various models and fits"
   ]
  },
  {
   "cell_type": "code",
   "execution_count": 37,
   "metadata": {
    "scrolled": false
   },
   "outputs": [
    {
     "data": {
      "image/png": "[encoded data removed]",
      "text/plain": [
       "<Figure size 432x288 with 1 Axes>"
      ]
     },
     "metadata": {
      "needs_background": "light"
     },
     "output_type": "display_data"
    }
   ],
   "source": [
    "fits = [ols_performance_train, svm_performance_train, lgs_performance_train, nbs_performance_train, prc_performance_train, rdg_performance_train, rdf_performance_train]\n",
    "\n",
    "for fit in fits:\n",
    "    plt.plot(fit.performance_measures['FP'] / fit.performance_measures['Neg'], \n",
    "             fit.performance_measures['TP'] / fit.performance_measures['Pos'], 'bo')\n",
    "    plt.text(fit.performance_measures['FP'] / fit.performance_measures['Neg'], \n",
    "             fit.performance_measures['TP'] / fit.performance_measures['Pos'], fit.desc)\n",
    "plt.axis([0, 1, 0, 1])\n",
    "plt.title('ROC plot: train set with n-grams, countvectorizer')\n",
    "plt.xlabel('False positive rate')\n",
    "plt.ylabel('True positive rate')\n",
    "plt.show()"
   ]
  },
  {
   "cell_type": "markdown",
   "metadata": {},
   "source": [
    "### looking at reviews based on their classification\n",
    "\n",
    "Let's say we decide that Ordinary Least Squares (OLS) Regression is the best model for generalization. Let's take a look at some of the reviews and try to make a (subjective) determination of whether it's generalizing well. "
   ]
  },
  {
   "cell_type": "code",
   "execution_count": 38,
   "metadata": {},
   "outputs": [],
   "source": [
    "ols_predictions = ols.predict(X_train)"
   ]
  },
  {
   "cell_type": "markdown",
   "metadata": {},
   "source": [
    "### let's look at some false positives:"
   ]
  },
  {
   "cell_type": "code",
   "execution_count": 39,
   "metadata": {},
   "outputs": [
    {
     "name": "stdout",
     "output_type": "stream",
     "text": [
      "Examples of false positives:\n",
      "69\n",
      "What an unfortunate mess is \\Shiner.\\\" I wanted to like this over-the-top, anti-film aspirant, and in fact found a number of moments with powerful resonance. Sadly, those moments are few and far between. While I appreciate some of what Calson was attempting, any advantage aspired to by bare bones, no budget cinematography was destroyed with some truly atrocious editing that benefited the movie not at all.<br /><br />While bad acting abounds in low budget (and big budget) cinema, Shiner has some remarkably bad performances that are nearly painful to watch. In particular the \\\"straight\\\" couple Linda and Young Guy. These are the two most poorly written characters offering almost nothing to the story. The acting is so abysmal and neither actor seems capable of resisting smirking or cracking up as they drearily drop their lines with an appalling lack of skill. The choppy editing almost lends the feeling that these roles were entirely gratuitous and dropped in to avoid the films being stereotypically cast as an oddball gay film. It would have been better off as such.<br /><br />With all that is going wrong for it, there are several performances that seem to capture what Calson was hoping to get. In particular the story centering on Bob and Tim. These are the two most richly drawn characters and offer the most rewards with genuinely captivating performances by Nicholas T. King (Bob) and David Zelinas (Tim). Tim is a boxer with some serious issues. Remarkably low self esteem is disguised by an almost cartoon like arrogance that he wears like armour plating. Obsessed with Tim, the seemingly harmless yet ultimately creepy Bob, stalks the boxer in classic cat-and-mouse fashion. When the tables are turned and hunter becomes the hunted, the resulting in the film's only genuine emotional catharsis. In a film so artificially hard-edged (that's a compliment) one character MUST have that revelatory break through (or breakdown, as the case proves here) and the final confrontation between Bob and Tim provide Zelinas and King opportunity to display some real acting chops.<br /><br />As played by Scott Stepp and Derris Nile, Tony and Danny seem to be the focus of the movie, and despite some bravado moments of their own (including one truly disturbing scene revealing the sex/violence obsession), but they can't seem to escape a cartoon-like artifice and it's difficult to look at - or beyond their seeming one note symphony and find anything other than the obvious.<br /><br />Ultimately this same raw material could (and should) be used to tell this story in better fashion. Alas, there really isn't much to recommend this yet, the performances by Messrs. King and Zelinas, really do offer something special and a glimpse of what might have been and are ultimately worth seeing.\"\n",
      "* * * * * * * * * \n",
      "98\n",
      "How did I ever appreciate this dud of a sequel? All it does is throw balls! Worst of all, it doesn't compare to even the first installment of the series! The comedy suffers from not being funny. Where did all the unintentional laughter go? Enough slapstick on-the-field action goes on too long. Bob Uecker literally saved this one from a complete nine-inning shutout. What's next, MAJOR LEAGUE 4: RETURN TO THE LITTLE LEAGUE? Ehh, could be! Leave this one on the shelf and plan a trip to the All-Star Game. This one's had three strikes too many.\n",
      "* * * * * * * * * \n",
      "318\n",
      "She may have an Oscar and a Golden Globe, but this film shows why she also is a perennial Razzie nominee. To do a film that is so bad must be an indication that she needs money. She could do ads on why you shouldn't talk on a cell phone while driving, especially at night on the way to a crowded mall.<br /><br />Susan Montford should stick to producing (Shoot 'Em Up ) as she is not very good as a writer/director.<br /><br />She is accosted by four thugs in the mall parking lot, and the first thing they do is tell her they have a gun. What does she do? She starts pushing and cursing them like she knows martial arts or something. She manages to get away, but gets lost in the forest after crashing. Why didn't she run to someones house? We get four thugs with guns chasing a lady with a toolbox. Of course, their guns are no match for her wrench. Ha! Of course, she also has a tire iron and a screwdriver. Those poor thugs.<br /><br />Now, she's home for Christmas - and she brought a gun!\n",
      "* * * * * * * * * \n",
      "410\n",
      "This movie never made it to theaters in our area, so when it became available on DVD I was one of the first to rent it. For once, I should listened to the critics and passed on this one.<br /><br />Despite the excellent line up of actors the movie was very disappointing. I can see now why it went straight to video. <br /><br />I had thought that with Bloom, Ledger, and Rush it could have some value. All have done wonderful work in the past. <br /><br />The movie was slow moving and never pulled me in. I failed to develop much empathy for the characters and had to fight the urge to fast-forward just to get to the end. <br /><br />I do not recommend this film even if you are thinking of renting it for only for 'eye candy' purposes. It won't satisfy even that.\n",
      "* * * * * * * * * \n",
      "479\n",
      "Following the release of Cube 2: Hypercube (2003), and playing off the alleged success of the original Cube (1998), Director Ernie Barbarash takes the liberty of bringing us the third installment in the trilogy, the prequel Cube Zero.<br /><br />Deep in the bowels of a giant and faceless institution, time and place unknown, two low-ranking operators, Wynn (Zachary Bennett) and Dodd (David Huband) sit and observe on monitors the behavior of people that have been placed in a giant network of cubic chambers, some of which are rigged with death traps. Told that the people they are observing are convicted felons who chose this horrific and deadly ordeal over a lethal injection, these observers have had no problem with their jobs until Wynn, a mathematical genius, discovers that one of the prisoners, a woman named Cassandra (Stephanie Moore) never agreed to be put inside the Cube. Suddenly it's realized that perhaps their \\jobs\\\" are not what they seem, and that they may be part of something deeply sick and twisted...<br /><br />For people that have seen and enjoyed the original Cube, this prequel will probably not be to your liking. It's not that the story does not have potential; it's simply that the first Cube film never needed to be expanded on. Standing alone, it is a neat little psychological thriller with very interesting concepts and a certainty about its own message. It was also nicely self-contained. The problem with Cube Zero is that it destroys some of the mystique of the original, attempting to answer questions with more questions but only really resulting in making a mess of what never needed fixing.<br /><br />What this new film has to offer, which is questions about the psychological nature of authoritarianism and the banality of evil, certainly are good questions to be raised, but probably should have been done so on their own merits, rather than as a continuation of a film that had no such aspirations.<br /><br />Having said this, the other traits of the film, such as acting and direction and writing, are not awful. There is a bleak, dark look to the film akin to such film noir as 'The Matrix' and 'Dark City', and they have certainly managed to recapture the claustrophobic feeling of the first Cube. Unfortunately for Barbarash, these are not enough positive qualities to save it.\"\n",
      "* * * * * * * * * \n",
      "620\n",
      "Dietrich Bonhoeffer's writings have had a profound influence on my life as a Christian, and I eagerly anticipated watching this movie and finding out more about his life. Words can hardly express my disappointment. This movie was disjointed...it gave no background about his life, no historical context, and nothing about his great writings (except a brief, passing reference to \\The Cost of Discipleship\\\" by a colleague at the beginning of the movie.) Instead, we see him enjoying jazz (apparently in the States) and chilling out with his friends before he decides to go back to Germany. Apparently to show his human side. OK, I'm ready for the dramatic part. The part where he stands up for his faith. Instead of emphasizing that, we get a very badly acted romance with a 17-year-old schoolgirl. Whether or not that actually took place, it should not have been a major portion of the movie. Now...still waiting for the dramatic part, or some narration explaining what his writings were all about...or SOMETHING to make us know a little bit of the greatness of this man. drum-roll.....waiting..... ....waiting.....ZIP. Nada. This is the kind of movie that gives \\\"Christian Films\\\" a bad name. All they had to do was set up a structure for the movie to follow, with some background...even some voice-overs, or flashbacks to him preaching from his works...some narrative about who he was and where he had been. But no...this is what we got. Hardly fitting for a hero of the Faith.\"\n",
      "* * * * * * * * * \n",
      "705\n",
      "Jason Alexander is a wonderful actor, but it's ridiculous to cast him as a cuddly romantic lead. The fact that he dances so well, croons so effectively, and throws himself into the part so completely somehow just made him seem all the more creepy. In his more cutesy moments (with the girl in the train station, in the final number with Rosie), I couldn't take my eyes off him he was so repellent. You keep expecting him to drop the nice-guy act and start snarling. Vanessa Williams was the real star, the only performance that was better than the 1963 movie. By the way, if you see a production of the stage musical, the 1963 movie and this 1995 movie, you'll see three versions that have more revisions (different songs, same songs assigned to different characters and in different situations) than any other musical I've ever seen.\n",
      "* * * * * * * * * \n",
      "754\n",
      "Peter Sellers plays Dick Scratcher (ha,ha), a cook for a pirate ship who takes over as captain after he murders the previous one. Although he's witnessed a treasure being buried, he begins losing his memory and the treasure map he obtains becomes blank. Thus, Dick is forced to find someone who can see and communicate with ghosts (do you place an ad for that?) and help lead a path to the treasure. It's mind boggling how anyone could have bankrolled this pointless film. Former Goon Spike Milligan replaced Medak as director, and given Medak's talents in the film The Ruling Class, you can probably guess which of the grainy, poorly lit scenes had Milligan in the director's chair. Peter Boyle makes a brief appearance in the film's first 10 minutes as the doomed pirate captain. He's probably quite thankful that Young Frankenstein was released the same year this was filmed and canned, so that he can keep this off his resume. Franciosa looks dashing as the handsome power-behind-Scratcher but he and Seller both look pretty desperate, with even Sellers' makeup and hair looking quite terrible. They had to know this movie was bombing even as they were filming it. With lines like these, I can understand any possible unease:<br /><br />PIERRE: (about to be hanged) You'll pay for this.<br /><br />SCRATCHER: No, I won't. I'll do it for free.<br /><br />And that's one of the GOOD jokes. It's amazing to me that much of Sellers prolific material is still in the vaults, but this was made available on VHS more than 15 years ago! How about someone stepping up to the plate and releasing in the US the well-received British TV program \\A Show Called Fred\\\" starring Sellers, Milligan, and directed by the great Richard Lester?\"\n",
      "* * * * * * * * * \n",
      "888\n",
      "... but the keyword here is \\usually.\\\" I have been known to adore movies EVERYONE thinks are dumb. But in the world of B-rated movies, THIS one is Z-rated. Absolutely ridiculous. The thing I respect about most of my favorite B-rated movies are that they don't take themselves too seriously. The makers of movies like that sort-of treat the movie lightly, even if it's a heavy topic. I get the impression, however, that the producers of this movie took themselves way to seriously, like they were putting together a 10-star classic, complete with poor attempts at poignant lines and dumb camera shots. Nevertheless, despite all this, I STILL gave it 4 out of 10 stars, as I am biased towards movies like this. If you're a B-rated fan, however, I would try too hard to find this one.\"\n",
      "* * * * * * * * * \n",
      "904\n",
      "******SPOILERS******<br /><br />The unfunny radio quiz show host Kyser and his mediocre band are the excuse for Lugosi, Karloff, and Lorre to pick up a paycheck in this bland, sporatically watchable haunted house spoof. Lugosi is a mystic whose seances are exposed as a fraudulent attempt to bilk an heiress' fortune; Karloff is the butler and Lorre is a professor who exposes fake mediums, but it turns out that they're both in conspiracy with Lugosi. <br /><br />Of course, Kay Kyser and his band of 30-something year old \\kids\\\" uncover the truth with the minimum of possible humor along the way. Not recommended to any but the absolute horror completist.\"\n",
      "* * * * * * * * * \n",
      "980\n",
      "This film has been receiving a lot of play lately during the day on either HBO or Cinemax. The reason is that they are assuming people would be interested in comparing it to the Leonardo DiCaprio/Tom Hanks caper of the same name. The only reason to see it is for the attractive Matt Lattanzi. Yum! Although I must say Matt was more than a little long in the tooth to be playing a high schooler. If he were a woman, they'd have had him playing the MOTHER of a high schooler! (Is is just me, or is his daughter starting to look like Shelley Duvall?) Oh yeah, the plot--who cares? Typical teen highjinx played by adults.\n",
      "* * * * * * * * * \n",
      "1083\n",
      "Corridors of time. The movie you can watch if you're looking for a sophisticated way of suicide. Some use guns, ropes, or gas, but you want to ruin your brains ? Do not wait any longer ! Corridors of time is probably one of the biggest possible mistakes : thinking Christian Clavier is able to act and to bring you fun. I do not miss the 45 francs this poor thing cost me : sometimes, one has to reset its evaluation system looking at the absolute zero. This film deserves a 2/10, but that's only because I like Jean Reno. Too bad for him, he also stars in Ronin. I think I'm gonna dislike him...\n",
      "* * * * * * * * * \n",
      "1202\n",
      "This crap is like watching paint dry. I'm so disappointed because I was so eager to see it.<br /><br />There simply is no meaning to this film. If it were never made, no one would notice or care. It's hyped up because of all the big names in it, but if \\nobody's\\\" were in, nobody would give this film any love.<br /><br />Seriously, I was at the point where half-way through the film I would look at Vanessa Redgrave and think, \\\"Hurry up and die already!\\\" This is like the \\\"Joy Luck Club\\\" without any of the friggin' joy. It's the \\\"Ocean's 13\\\" (nothing but a big-named cast) of mother-daughter movies and completely anti-climatic...oh until it's finally over.<br /><br />I'm sure they'll all be nominated for Oscars...<br /><br />- 4 stars for cinematography and the ability to convince great actresses to commit to this junk.\"\n",
      "* * * * * * * * * \n",
      "1291\n",
      "This is one of the worst films ever. I like cheesy movies but this is simply awful. Where are the images in the film that are on the box? I think more money was spent on the DVD box illustrations than on the entire film. <br /><br />Why would a company release a DVD that the cover is so misleading? I feel like such an idiot for renting this movie based strictly on the box. As much as I explore IMDb I should have done a little research and made a list prior to visiting my local video rental store. I have no one to blame except myself. I want my money and time back. <br /><br />DO NOT WATCH THIS MOVIE. <br /><br />Even if curiosity is motivating you, stick cocktail umbrellas in your eyes instead. It will be much more enjoyable. You have been warned!\n",
      "* * * * * * * * * \n",
      "1365\n",
      "This wasn't the major disaster that I was expecting, but that is about as positive as I can be in my description of the movie. I'm not sure what was meant to be funny about this movie, but I suppose it's all a matter of taste. Personally, I don't find it funny to watch morons living their idiotic lives or making fools of themselves on television, but then again, I'm not a fan of Jerry Springer's pathetic daytime talk show. I didn't get too bored watching this, but I was definitely never enjoying it, either. If you're in the mood to see a bad movie, but one that isn't too painful to sit through, this is a good choice.\n",
      "* * * * * * * * * \n",
      "1384\n",
      "It's telling that as of the entry of this comment, NO females have submitted a vote of any kind for this movie. Not surprisingly, cheesy science fiction doesn't appeal to them quite as much... If you like a good \\B\\\" movie, and especially if you like to satirize them as you watch, you will like this. If you don't have fun watching bad movies, this one's not for you.\"\n",
      "* * * * * * * * * \n",
      "1520\n",
      "This movie is little more than poorly-made, fetish porn, and this is saying a lot considering the similar crap that was made in that era. This was recommended to me by friend as a \\unique film experience.\\\" He was right. I suppose he meant that as a joke. Not disgusting, not even that shocking. Just mediocre acting and poor attempts at shock art. A little bit of camp value, though I don't believe the makers of this film intended this. And yes, as a previous reviewer mentioned, it's sex with a guy in a bear suit. Don't spend a lot of money on this. Try to borrow it, if you must see it. Or contact me, I'd be happy to sell you my copy for half price.<br /><br />I may have to see another of this particular director's films, as he seems to have a certain following. But if it's anything like this, I will again regret another 2 hours of my life gone forever.\"\n",
      "* * * * * * * * * \n",
      "1588\n",
      "I read about this movie in a magazine and I was intrigued. A woman, who one day sees herself drive past in her own car. Well, I thought, this could be interesting...<br /><br />...but it isn't. First, the title. The Broken? The Broken...what? What is broken? The...oh, wait...I get it, the title itself is \\broken\\\"! WOW, clever! Unfortunately, this is virtually the only thing going for it.<br /><br />The premise is not that bad, but I think Kiefer Suderland did much better in 'Mirrors'. A cross between Invasion of the Body Snatchers and Mirrors, and a rather mediocre one at that. A more suited title would be 'The Boring', since it draws out every single scene for bloody ages. Or maybe 'The Confusing' since it doesn't explain anything at all, not in the narrative nor in the story itself, only some vague idea about evil copies and somesuch, dotted with cheap scares and scenes used to death, but nothing tangible. It's just messed up.<br /><br />On the other hand, the acting and the special effects are quite good, but then again, it's not a difficult role to act.<br /><br />After watching the movie twice, I still feel unsatisfied, a little confused maybe, and not in the E. A. Poe or Stephen King kind of way. Do yourself a favor, and don't watch this one. Simply put, there are better thrillers out there.\"\n",
      "* * * * * * * * * \n",
      "1844\n",
      "so altogether i found this documentary to be strange and really pointless. i know it got awards and things, but i personally did not enjoy it too much. there was no humor or drama in it to keep you interested, just a bunch of wierdos and their jobs. some of the people in are rather different which isn't a bad thing, it just didn't leave a good impression on me. i was thoroughly bored by this movie, no offense to my creative writing teacher. the circus theme throughout the whole movie was kinda cool but i didn't get it, and robotics and lion taming is definitely not my thing. the green animals thing was neat, i really liked the garden lots of colorful flowers, but how did these four jobs connect? it just didn't make much sense to me why someone would make a movie about that. But if you are into stuff like this you might enjoy it. who am i to stand in your way. I am just forewarning you about possible suffering.\n",
      "* * * * * * * * * \n",
      "1880\n",
      "WARNING SPOILERS***** A really stupid movie about a group of young excursionists in Italy that find an armor of mythical warrior with a demonic souls. One of them wears it and becomes possessed by the spirit of a demon. It's killing time and several of his friends die under his blade to revive the demon corpse.<br /><br />A waste of time for the viewers, as the fine young ladies in the movie leave their clothes on, the gore is ludicrous at best, and the acting is terrible, perfect pairing for such a bad script<br /><br />\n",
      "* * * * * * * * * \n",
      "1921\n",
      "Well, what to say...<br /><br />Having seen the film I still have to wonder what the hell the point of it all really was?? V.Dodgy camera moves in the courtyard at one point... I had to look away from the screen, I was feeling physically sick... Round and Round and Round.... You get the idea...<br /><br />VERY VERY Strange accents at many points.... \\Those that should know, know\\\"<br /><br />Unless your getting in for free, or being paid to watch it, or your partner is about to make you paint the house or something.. then forget it...\"\n",
      "* * * * * * * * * \n",
      "1932\n",
      "I was interested in seeing this movie because I knew it was Christian based. The director had a good idea/intentions when making this movie but it could have been better. I can understand why someone would still have feelings for who they believe is the greatest love of their life. However, I didn't understand why the director made his friends so insensitive, mean and rude. The main character kept apologizing to his friends when they were the ones mean to him. They weren't understanding at all and they used God as a reason to explain their behaviors. The main character, nor anyone else didn't know if the ex-girlfriend was divorced, still married etc but they were against him resolving old feelings that needed to be dealt with. His friends were suppose to be Christians and should have been portrayed as being supportive whether they agreed with his decision or not. So many times we do things in life where we don't apologize to those we have hurt in the past and when he was trying to do this they were all against him. The ironic part was his new female friend accused him of having stalking behavior for simply looking up an old friend, when she did a really odd thing to get a hold of his name, address and phone number...she seemed to be the stalker!. she didn't seem like a friend at all but was only looking out for herself. God is love...and I think God wants people to be with the person they were meant to be with and i feel the movie did a terrible injustice by making it seem like God doesn't care about true love...only that you stay with someone you made a bad choice with. We all make mistakes...it's all about what steps you take to make amends. Like I said the movie had potential but I was tired of the one-sided point of view being constantly repeated and jammed down the viewers throat by his so-called...well-meaning friends. This movie didn't hold true to the Christian belief of love but i give it a C for its effort.\n",
      "* * * * * * * * * \n",
      "2050\n",
      "George Brent is a reporter sent to interview an heiress. She is supposedly the heir to a face cream fortune. He interviews her on her yacht. They fall for each other in bathing costumes.<br /><br />It turns out (quite early) that she is not an heiress. She part of an advertising campaign for the cold cream.<br /><br />The movie follows the ups and downs of their romance.<br /><br />The supporting cast does little to buoy it up. Davis and Brent carry the picture. Though it's fairly predictable, it is also fairly entertaining. It's far from her best. But, especially considering its obscurity in her oeuvre, it's not one of her worst, either.\n",
      "* * * * * * * * * \n",
      "2188\n",
      "Black Candles is rather a muddled mess from the same director that brought us \\Vampyres\\\" and much later, \\\"Rest in Pieces\\\", among others..I'm only noting the ones I've seen. At any rate, we have a couple making love and then somewhere near by a pin is poised over a voodoo doll and then pierces it, and the man keels over. Not sure if it was good for either of them, at that point. Fast forward to where the man's sister has come to the house to investigate and hear the reading of the will, or something to that effect, and of course everybody else except her is in on something, which happens to be devil worship. It's really hard to say who is who at moments during the movie and it does get a bit confusing at times. To spice things up though, there's a simulated bestiality scene (I HOPE it's simulated) with a black goat, sure to be a crowd pleaser. Ugh. At times this echoes \\\"Rosemary's Baby\\\", minus the baby, because the hostess is always giving one woman herbal tea and the place reeks of whatever nasty Satanic herbs these are too, because that keeps getting remarked upon. However, the herbs aren't the only thing that reeks about this film. The end seems to be back to the beginning again, and many viewers might find themselves wondering where they've been during the middle part. It's not unwatchable, it's just not very good, and I guess it all depends on what you like to see in films, and there wasn't much here that did anything much for me. 3 out of 10.\"\n",
      "* * * * * * * * * \n",
      "2263\n",
      "After seeing the credits with only one name that I recognize and that was the preacher in this film (Russ Conway), I did not expect much from this film and I was not disappointed. A man is planning on killing his new wife by convincing other people that she is insane and will take her own life. Unbeknown to the husband is that the plastic looking skull that he uses, in contrast, a ghost of a woman apparently his first dead wife has revenge on her mind and uses a real skull. A simple plot with a twist of irony at the end. If you are tired late one night and in need of sleep, this will help you to sleep that sleep.\n",
      "* * * * * * * * * \n",
      "2359\n",
      "I should put out an alert all over saying that the movie shouldn't be watched. It fails to a fitting tribute in such a magnificent manner that it is almost an insult to the memory of those brave men. The special effect were horrible, I hadn't expected the total failure on the part of the director to appreciate military technology. How can a machine gun which normally fires at the rate of 600 rounds per minute fire at 1/10th the speed? How can soldiers fall forward when a grenade explodes in front of them? How can people survive when there are artillery shells falling as close as 20 feet away? How come the artillery shells fall only on either side of the road and not the road itself?<br /><br />Not only did this disrespect for the weaponry appall me, it was the cliched situations and the incongruity of the dialogues which had me screaming murder. There were the standard dialogues like Ye bhi kisi ka bhai hai, ise laath mat maro and Pakistan se jyaada musalmaan to Hindustaan me hai and LOC cross mat karo ye mera hukum hai. Stupid to say the least.<br /><br />What Shobha De had written is true. The director worked without a script and it shows. There is no flow to the movie. There is no gradual progression from one battle to another. It is just one gunfight after the next with no connection to the overall scheme of the war. The explanatory scenes are awful. The chief of army staff looks unconvincing. To make matters worse the theatre people had indiscriminately cut footage to fit the four hour long movie into 3 hours.\n",
      "* * * * * * * * * \n",
      "2385\n",
      "I have been known to fall asleep during films, but this is usually due to a combination of things including, really tired, being warm and comfortable on the sette and having just eaten a lot. However on this occasion I fell asleep because the film was rubbish. The plot development was constant. Constantly slow and boring. Things seemed to happen, but with no explanation of what was causing them or why. I admit, I may have missed part of the film, but i watched the majority of it and everything just seemed to happen of its own accord without any real concern for anything else. I cant recommend this film at all.\n",
      "* * * * * * * * * \n",
      "2499\n",
      "Utterly pretentious nonsense. The material is dull, dull, dull, and most of the cast wouldn't even have made understudies in Allen's earlier films. And to have to listen to the unfunny Will Ferrell do his Woody Allen imitation makes me loathe the second-rate (though mysteriously popular) Ferrell even more. It appears that the morose 70-year old Allen should have knocked off work when the clock rang in a new century.<br /><br />I truly tried to get involved in the film, but it was just impossible; my snyapses couldn't fire that slowly. So, rather than doze off and kill the afternoon sleeping in an upright position I got up, left my wife and daughter in the theater, and went out to the car where I had a really good book to re-read (George Bailey's great tome of 30 years ago, \\Germans.\\\") The day turned out pretty well after all, no thanks to Woody.\"\n",
      "* * * * * * * * * \n",
      "2797\n",
      "Lets put it this way. I actually get this movie. I get what the writer/directer was trying to do. I understand that the dialog was meant to be dry and emotionless. I understand that the plot was supposed to be non-climactic and stale. That was what the writer/director was going for. A very very very dry humor/comedy. With all that understanding, I still think the movie sucked. It seemed like the writer/director was trying to recreate Napolean Dynamite with this movie. It had all of the same features. Even the main character behaved similar to Napolean. But Napolean Dynamite was actually funny. Its script worked. This movie is not. It has no purpose. Well, let me rephrase that. Its only purpose is to rip off Napolean Dynamite and try to capture that look and feel. Too bad it didn't work.\n",
      "* * * * * * * * * \n",
      "2838\n",
      "Having the In-Laws over for the weekend? Then this is the film to hasten their departure, failing that it will induce a catatonic state to bring a welcome relief from constant nagging.<br /><br />The film is supposedly set on board a luxury cruise ship, which is more superannuated car ferry; the plot has more holes than the average colander and a cast dredged from the depths of the celebrity D list. An interesting piece of added amusement is playing \\Spot the Villain\\\" as passengers join the ship. You won't be wrong!!!! With a script that sinks faster than a brick, clichéd set pieces and copious amounts of raspberry jam doubling as blood this film attempts to encompass the genres of thriller, action movie and gore-fest and simultaneously fails to fulfil any of them.<br /><br />A must watch film, if only to laugh at how bad it is.\"\n",
      "* * * * * * * * * \n",
      "2878\n",
      "I have an awful pan-and-scan videotape of \\Boom!\\\", and I want to see it in all its widescreen glory. So I voted \\\"1\\\" and hope you will too. Together, we can pull this movie down into the pits of cinematic dross, and hope that someone will see an opportunity for BIG MONEY in releasing \\\"Boom!\\\" in its Director's Cut Extended Version. The movie is one of my howling favorites",
      "you just look at the people involved, the director, the actors, the cameraman, and you say to yourself, \\\"Yep, I guess you can fool some of the people for a lot of time.\\\" Producers considering the DVD release of \\\"Boom!\\\" should note that, everywhere it's been shown, there have been sellout crowds in the theaters. But it hasn't been up to Frostbite Falls yet.\"\n",
      "* * * * * * * * * \n",
      "2908\n",
      "All the kids aged from 14-16 want to see this movie (although you are only allowed at 18). They have heard it is a very scary movie and they feel so cool when they watched it. I feel very sad kids can't see what a good movie is, and what a bad movie is. This was one of the worst movies i saw in months. Every scene you see in this movie is a copy from another movie. And the end? It's an open ending... why? Because it is impossible to come up with a decent en for such a stupid story. This movie is just made to make you scared, and if you are a bit smart and know some about music, you exactly know when you'll be scared. <br /><br />When the movie was finished and i turned to my friend and told (a bit to loud) him that this was a total waste of money, some stupid kid looked strange at me. These day i could make an Oscar with a home-video of my goldfish, if only i use the right marketing.\n",
      "* * * * * * * * * \n",
      "2957\n",
      "This film is the worst film, but it ranks very high for me. It is how a slasher movie should be. It takes place at a university in which there only seems to be a handful of students. The teachers are dumber than a sack of hammers. It is filled with good Catholic priest, sexually repressed humor. Bad hair, bad clothes. The dialogue is so cliched it is hard to believe that I was able to predict lines in quotes. The slashings have some creativity and seem to revolve around stabbing people in the genitalia. A lack of continuity in the soundtrack and characters that deserve to die because they are so bad, I recommend this film for a fun time. Get a case of cheap beer and some friends, watch it and laugh.\n",
      "* * * * * * * * * \n",
      "3004\n",
      "Many people here say that this show is for kids only. Hm, when I was a kid (approximately 7-9 years old) I watched this show first. It was disgusting for me. I talked with other kids about this and, sure, other shows and know what? This was the measure of disguise, whenever we wanted to emphasize something's silliness (either on TV or anything else) we said \\Uh, just like Power Rangers\\\" and laughed. <br /><br />And before visiting this site I could not imagine that there actually are fans of MMPR. It was so strange for me that I decided to watch it again and try to understand why people like it. I did not enjoy that viewing. But it dawned upon me: maybe I have not enough imagination? It may be. However this argument is not sufficient for me to rate it more than 1 star.\"\n",
      "* * * * * * * * * \n",
      "3111\n",
      "Unless you are between the ages of 10 and 14 (except for the R rating), there are very few things to like here. One or two lines from Kenan Thompson, David Koechner (we really should see him more) and Sam Jackson are humorous and Julianna Margulies is as good as she can be considering her surroundings, but sadly, that's it. Poor plot. Poor acting. Worse writing and delivery. The special effects are dismal. As much as the entire situation is an odd and awful joke, the significant individual embedded situations are all equally terrible. If we consider the action portions, well there are unbelievable action sequences in some films that make you giddy and there are some that make you groan. This movie only contains the latter kind. This leaves little left. I'm so glad I did not pay for this.<br /><br />Despite any hype, I can read and think, so as I sat down to watch, I did not expect anything good. I had no expectations, but was somewhat worried going in. Yet, like a train wreck, one cannot merely look away. And even with no expectations, I was let down. Bad. Not even 'so bad, it's good' material. I'm _very_ tolerant of bad movies, but this makes \\Six String Samurai\\\" (which I liked) Oscar worthy.<br /><br />No, this piece of over CGI'd rubbish is in the same company as Battlefield Earth, Little Man and Gigli. How this is currently rated a 7.2 completely mystifies me. Brainwashing or somehow stacking the voting system is all that I can think of as answers.<br /><br />I could go on and on but suffice to say that tonight, I witnessed a train wreck. I need to go wash my eyes. 1 of 10\"\n",
      "* * * * * * * * * \n",
      "3183\n",
      "Ringmaster, Jerry Springer's pathetic excuse for wasting film that should be recycled as toilet paper recently destroyed my confidence in the art of film. First of all, it was made. Second of all, people went to see it. Third, some people voted it the best movie they have ever seen. If a monkey could make a movie, i'm 100 percent sure that it would be 1 billion times as good. Most crappy movies have their moments, (even Godzilla had a few cool special effects) this film's moment was when I left the theater nauseated. The only thing that possibly could've made this movie any worse would be if Jerry Springer was the star. If I want to stare at crap for an hour and a half, i'll take a dump in a can. If anyone didn't utterly despise this movie, I pity you, and your children, and your children's children's children; however, contrary to Springer's beliefs, I clearly don't condone children having sex.\n",
      "* * * * * * * * * \n",
      "3206\n",
      "I saw this movie today at the Haifa Film Festival in Israel after hearing rave reviews, but I guess the critics were just sucking up to Willem Defoe and his wife (the director) who were present at the festival. It is definitely the slowest movie I have ever seen with numerous pointless, ridiculously long scenes of nothing. Besides Defoe who was decent, the acting of the two and a half other people in the movie, Defoe's wife Giada included, was ridiculously awful (how they cast the part of the salesgirl at the bakery is beyond me). This movie is pretty much plot less with a lame attempt to be abstract and off the wall. The only scene that stirred any kind of reaction in the crowd was vulgar and came from nowhere as if just to add some kind of shock value to the dullness that is this movie. Sorry for being so harsh, but really this movie is a precious waste of time and money. I appreciate good indie cinema, but this movie is not worthy of moviegoers' time.\n",
      "* * * * * * * * * \n",
      "3287\n",
      "Obviously made to show famous 1950s stripper Misty Ayers \\acting\\\" talents. Too bad she can't act.<br /><br />Boring little tale about sweet, innocent Sally Down (Ayers) being drugged and forced into white slavery (prostitution). Then she meets likable Tommy Cole who instantly falls in love with her. He wants to help her escape but can he? You really won't care.<br /><br />There's no real skin here--Ayers just strips down SLOWLY to her underwear (twice). The rest is just a boring little tale chockful of bad acting, atrocious \\\"comedy\\\" (never thought prostitution was funny but what do I know?) and terrible post-dubbed dialogue. I admit there was a twist at the end I didn't see coming but that's not enough to sit through this. Also Ayers' attempts at acting are hysterical! A real bomb. Avoid.\"\n",
      "* * * * * * * * * \n",
      "3290\n",
      "Sam (Thomas Cavanagh) and Gray (Heather Graham) are devoted siblings who share an apartment and a love of many things -- ballroom dancing, 1940s movie musicals and, much to their surprise, an attractive woman named Charlie (Bridget Moynahan). Historically heterosexual, Gray is confused by her new feelings.<br /><br />Gray Matters proves to be one of the blandest films I have ever seen. It's dull, predictable, unfunny, poorly acted and poorly written. Nothing about it felt real and everything was very cheesy. Also, this isn't really a romantic comedy with a special twist but more of a \\coming out\\\" movie. Sue Kramer tried to make the first half cute with the romantic stuff and the second half serious with the actual acceptance and coming out part. Unfortunately, she failed miserably. The first half was largely unfunny and only Heather Graham was able to hold it up a little. Then, the film took an awkward tone and got all serious. The serious scenes were handled poorly and all of the emotions just felt phony.<br /><br />I guess I would have enjoyed the film a little more if the relationships between the characters felt more authentic. The brother and sister relationship was very weak and they didn't really appear to be that close. Their relationship just didn't feel very natural. Also, the relationship between Tom and Bridget felt very unnatural. If two people are going to get married after only knowing each other for less than a week, then you would expect to see a little more excitement but the characters talked about getting married in Vegas in the same manner of asking a waiter what the specials are. There was a lack of excitement in the film and it was hard to get involved with the movie with such unmotivated characters.<br /><br />The acting was mostly weak which was a bit surprising given the decent cast. Heather Graham gave the only good performance in the movie. She was funny and had a few charming scenes but it's too bad that all of her co-stars were complete duds. Bridget Moynahan was very weak and her performance ringed false on every level. Also, it seemed like she was reading her lines. Thomas Cavanagh was pretty wooden and he showed nearly no emotion. The chemistry between Thomas and Heather was non existent and that damaged the film because their relationship felt phony. I can usually rely on Molly Shannon to be funny in a supporting role but here she was just annoying. Sissy Spacek had about two scenes and she was annoying in both of them. Finally, Alan Cumming just had an embarrassing character and his performance wasn't very good. Overall, Gray Matters is a lame film and it isn't worth watching. Rating 3/10\"\n",
      "* * * * * * * * * \n",
      "3372\n",
      "This film has its share of negative comments and I have to agree with those who consider it one of the worst movies ever made. True, most of the films based on the works of King are pretty bad, but this one goes beyond bad into the realm of horrible. There is not one scary moment in it unless you consider stupidity scary. It is typical King garbage -- myths twisted around that made no sense in the first place, mixed with obvious and belabored so-called \\scares\\\" that are about as shocking as PeeWee's Playhouse (which, at least, is entertaining). It is full of ridiculous moments, not the least of which is Alice Krige's character. When she goes on a rampage and starts quipping like the villain in an old Batman TV show, it is so absurd as to be sickening. All the people who had cameos in this (including John Landis)are lucky they still have careers. But the most absurd part has to be the cat costumes towards the end, which look like cheap rubber outfits someone bought at K-mart. The best part of the movie is the appearance of some real cats who actually out-act the people in the movie.\"\n",
      "* * * * * * * * * \n"
     ]
    },
    {
     "name": "stdout",
     "output_type": "stream",
     "text": [
      "3819\n",
      "The point of the vastly extended preparatory phase of this Star is Born story seems to be to make ultimate success all the more sublime. Summer Phoenix is very effective as an inarticulate young woman imprisoned within herself but never convincing as the stage actress of growing fame who both overcomes and profits from this detachment. Even in the lengthy scenes of Esther's acting lessons, we never see her carry out the teacher's instructions. After suffering through Esther's (largely self-inflicted) pain in excruciating detail, we are given no persuasive sense of her triumph.<br /><br />The obsessive presence of the heroine's pain seems to be meant as a guarantee of aesthetic transcendence. Yet the causes of this pain (poverty, quasi-autism, Judaism, sexual betrayal) never come together in a coherent whole. A 163-minute film with a simple plot should be able to knit up its loose ends. Esther Kahn is still not ready to go before an audience.\n",
      "* * * * * * * * * \n",
      "4035\n",
      "Having lived in Japan for several years this movie does not reflect the Japanese culture and does not even come close to explain what being a Geisha is all about. Unfortunately, a great opportunity has been missed to bring the Japanese culture a bit closer to the broad Western audience and help demystify the country where Zen, Samurai, the Geisha world of Kyoto originate from. Some of the most poignant moments of the movie are when the Americans are shown in Japanese surroundings.The Geisha dances were not authentic. There was far too much use of Chinese music. A minor but essential detail: proper use of the incense sticks was nowhere to be seen. The Sakura scenes were almost obscenely kitschy ! Interestingly, some of the Chinese actors were quite convincing as Japanese persons.\n",
      "* * * * * * * * * \n",
      "4086\n",
      "This apocalyptic zombie film tries to be vicious and shocking; but FEEDING THE MASSES comes off lame as some of the stiff-legged zombies stalking the streets. In Rhode Island, a zombie epidemic known as the Lazarus Virus is being played down by the government manipulated newspapers and television stations. A couple of brave, but dumb, souls at Channel 5 TV News feels its audience is being given false hope and no idea of the real danger at hand. An eager reporter(Racheal Morris)and her cameraman(William Garberina), with the aid of a military escort(Patrick Cohen), risk life and limb to present a 'live' broadcast to show the doom at hand. Do yourself a favor and don't watch. This thing is obviously very low budget and comes across with the feel of a high school play gone bad. Acting is atrocious and the flesh-hungry zombies are almost comical. Also appearing are: Michael Propster, William DeCoff and Brenda Hogan. FEEDING THE MASSES should be left to starve.\n",
      "* * * * * * * * * \n",
      "4199\n",
      "Can I please say first of all, that I felt so strongly about this movie that I signed up to IMDb specifically to review it. And my review? This is easily the worst movie I have ever seen.<br /><br />The synopsis of the movie sounded interesting- Nazis, occult, time travel, etc., but the movies plot failed to properly bring all these elements together. Remember the episode of South Park that featured manatees writing Family Guy using 'idea balls'? Did these manatees also write Unholy? Its like the writer wanted to include all these different ideas, but had no idea how to link them all together, and then to make things make even less sense, included a Donnie Darko-esquire time travel theme to the ending, messing up the chronology.<br /><br />I could tell from early on that this was a bad movie. Special effects were too low budget for anything better than straight to DVD. The acting wasn't great, but in fairness I've seen worse. I will praise the Nazi paintings, they were creepy, but the evil Nazi butcher guy was just comic.<br /><br />I don't have a vendetta against this movie or anything, but to be honest, I'm not even into the horror genre. But this movie cannot be described as a thriller or a drama. If this story had been well told, this would have been a good movie. But it has been over hyped. Waaaaay over hyped.\n",
      "* * * * * * * * * \n",
      "4315\n",
      "Okay, the film festival crowd probably loved it. But your average, popcorn munching movie goer who has scraped to-gether the ten or fifteen bucks it costs to see a movie these days will probably wonder why he or she made this choice. If it's stamped \\Copolla\\\" it's automatically great stuff, right? Wrong! It's a neat spoof of filmdom's pretensions. But it's terribly \\\"in.\\\" I worry when film makers are more concerned about entertaining themselves rather than the public. It's interesting as a cinematic curio and it does have a chuckle or two in it. But once it's run its course in the movies and on TV, the dust will grow thick on the film cans and tape boxes holding it. Hardly either epochal or an epic!\"\n",
      "* * * * * * * * * \n",
      "4356\n",
      "\\A Town Called Hell\\\" (aka \\\"A Town Called Bastard\\\"), a British/Spanish co-production, was made on the heels of Clint Eastwood's success in the Italian made \\\"Man With No Name\\\" trilogy. The template used in most of these films was to hire recognizable American actors, whose careers were largely in decline and dub their voices. This film is no exception except for the fact that they used some British actors as well.<br /><br />It's difficult to summarize the plot, but here goes. The story opens with rebels or whatever, led by Robert Shaw and Marin Landau raiding a church and killing everyone inside, including the priest. Fast forward to the subject town a few years later where the Shaw character is masquerading as a priest. The mayor of the town (Telly Savalas) is a brutal leader who thinks nothing of meting out justice with his gun.<br /><br />Throw into the mix a grieving widow Alvira (Stella Stevens) who is searching for her husband's killer. Add to this the fact that she rides around in a hearse lying dead like in a coffin for God knows why. After the mayor is murdered by his henchman La Bomba (Al Lettieri) the town is invaded by a federale Colonel (Landau) in search of a rebel leader (I'm sorry but the name escapes me). The Colonel takes over the town and begins summarily executing the townsfolk to force them to reveal the identity of the leader.<br /><br />Even though they opened the film side by side, its difficult to tell from the dialog that the Landau and Shaw characters know each other. A blind man (Fernando Rey) claims he can identify the rebel leader by touching his face. He does so and..............................................<br /><br />I'm sure the principals regretted making this film. It's just plain awful and well deserving of my dreaded \\\"1\\\" rating. Shaw spends most of the film fixating his trademark stare at whomever is handy. Even Landau can't salvage this film. The beautiful Ms. Stevens is totally wasted here too. Having just made Peckinpah's \\\"The Ballad of Cable Hogue\\\" the previous year, I found it odd that she would appear in this mess of a movie. Savalas made several of these pictures, (\\\"Pancho Villa\\\" and \\\"Horror Express\\\" come to mind) during he pre-Kojak period.Michael Craig is also in it somewhere as a character called \\\"Paco\\\".<br /><br />Fernando Rey appeared in many of these \\\"westerns\\\" although he would emerge to play the villain in the two \\\"French Connection\\\" films. Al Lettieri would also emerge with a role in \\\"The Godfather\\\" (1972) and go on to other memorable roles before his untimely death in 1975.<br /><br />In all fairness, the version I watched ran only 88 minutes rather than the longer running times of 95 or 97 minutes listed on IMDb, however I can't see where an extra 7 or 8 minutes would make much difference.<br /><br />Avoid this one.\"\n",
      "* * * * * * * * * \n",
      "4364\n",
      "CQ could have been good, campy fun. But it commits the only unforgivable sin: it is b-o-r-i-n-g! The pace is deadly slow and the plot is fairly confused and so artificial that it's next to impossible to care where it's going. The story would have been acceptable in a creative writing class from a thoughtful and sensitive eighth grader but this video should have carried a warning label: \\CAUTION: Student film. Fit for viewing only by relatives of the film maker.\\\"\"\n",
      "* * * * * * * * * \n",
      "4389\n",
      "Generally I don't like films directed by Sydney Pollack (\\The Firm\\\" being somewhat of an exception) and I've never been a Robert Redford fan either. Still, I thought \\\"Three Days of the Condor\\\" must be good because of the number of praising comments it has received.<br /><br />Although the widescreen cinematography is quite pleasing for the eye and Max von Sydow does a nice job as the sinister professional killer, I found the whole affair tremendously disappointing. The film undeniably radiates paranoid atmosphere, but everything is ruined by the muddled plot which doesn't seem to make any sense.<br /><br />The film also contains one of the most unsatisfying endings I have ever seen which really leaves the viewer hanging in the air. And what can one say about that absurd romance between Redford and Dunaway? I'd much rather watch any of Hitchcock's films five times in succession than to sit through this piece of waste once more.\"\n",
      "* * * * * * * * * \n",
      "4414\n",
      "Mindless dribble about the second coming of Christ in the form of a hippie and albino looking Sandra Locke. You have no idea what's happening on the screen with the irritating theme song \\Suzanne\\\" being played over and over throughout the movie until when \\\"The Second Coming of Suzanne\\\" is over you already know it by hard no matter how hard you try to forget the whole thing.<br /><br />This off-the-wall armature movie maker Logan,Jared Martin, is out to make the movie of the century but is so rude and obnoxious that none in the banking world is willing to finance his project. Planning to go on his own Logan then spots this couple at a seaside café and is fascinated with the young woman Suzanne, Sandra Locke, who reminds him of someone he knew in another life: Jesus Christ.<br /><br />With Logan's assistant and all around gofer Clavius, Richard Dreyfuss,somehow getting a $740,000.00 loan from the bank to finance Logan's masterpiece he starts to work on Suzanne by flattering her about her talent as an actress in order to get her interested to be in his film. This leads to Suzanne not only leaving her boyfriend artist Simon, Paul Sand, but later Simon being so depressed and feeling all alone takes a gun to his mouth and blows his brains out.<br /><br />The movie also has two somewhat unrelated sub-plots in it that has to do with a young autistic girl Dorothy, Kari Avalos, who's cured of her autism by Suzanne after everyone else, at the psychiatric hospital that she was committed to,failed. It's not really known what exactly Suzanne was doing at the hospital but she seemed to be some kind of orderly or volunteer there; was this supposed to show us in the audience that she, like Jesus, could miraculously heal the sick?<br /><br />There's also this newspaper columnist and big time businessman tycoon Jackson Sinclair, Gene Barry, who seems to be either going through a very difficult mid-life crisis or has seen a biblical-like vision that changed his life forever. Sinclair had been searching for the meaning of life as well as what it's all about all through the movie and wanted to know why there's all this suffering in the world, like this movie that he's in, and seemed to have found the answer when he first laid his eyes on Suzanne. Sinclair also got some sense knocked into his head when his private chauffeur David, Mark Rasmusser, who's gotten sick and tired of his weird and crazy hallucinations almost running him off a cliff in a kamikaze like drive along the Pacific Coast.<br /><br />The movie \\\"The Second Coming of Suzanne\\\" goes on with a number of unrelated sequences, probably to fill or pad in some time by it's director and film editor, and then goes to it's final scene in a Christ-like crucification on a hill as Logan has all the cameras rolling. It turns out that the crazed Logan got so carried away with his masterpiece as he tried to replicate, on the helpless and tied up Suzanne, the actual crucification of Jesus Christ some 2,000 years ago.<br /><br />Hard to sit through and almost impossible to follow \\\"The Second Coming of Suzanne\\\" puts you through the same kind torture that Suzanne is put through by Logan and the makers of the film. The movie tries to be arty but that's just an excuse to cover up it's brainless and non-existent storyline and even worse the terrible and amateurish acting by everyone in it.\"\n",
      "* * * * * * * * * \n",
      "4569\n",
      "I was interested in the topic, and only fans of Drew Barrymore's dancing on David Letterman's desk will find anything remotely interesting in it. OK, she shows some breast (or maybe a body double does). The plot is slashed to bits and the acting is horrible. Neither lead has any material to work with, as the direction of the film leads nowhere. Don't waste your time. See Donnie Darko instead if you want a creepy Drew Barrymore film, and if you want to see another, skip this and see Darko again.<br /><br />The treatment of the Doppelganger legend is absolutely criminal as well. Refer to Charles Williams' novel \\Descent Into Hell\\\" for something worth considering instead. This is just an excuse to make a B film to go straight to video and suck some life out of people at Blockbuster.<br /><br />What makes any of these people think the acting here was praiseworthy? Give me a break.\"\n",
      "* * * * * * * * * \n",
      "4598\n",
      "I had a really hard time making it through this move. It was extermly slow and at times wondered when the plot of the movie would actually come to life.<br /><br />This movie seemed to flow to slow and I kept on wondering when it was going to end. I am normally a person who likes a good indie file every once in a while but this did not satisfy what I was looking for.<br /><br />It seemed they tried to make to much out of this movie. At one point it seemed to turn political which I am not a big fan of in movies. If you are looking for a slow moving movie with little to no plot then this is the right movie for you. As for me I felt I wasted 2 hours when I could of been doing something else.\n",
      "* * * * * * * * * \n",
      "4649\n",
      "This one was marred by potentially great matches being cut very short.<br /><br />The opening match was a waste of the Legion of Doom, but I guess the only way they could have been eliminated by Demolition was a double-DQ. Otherwise, Mr. Perfect would have had to put in overtime. Kerry von Erich, the I-C champ, was wasted here. And this was the third ppv in a row where Perfect jobbed. Remember, before that he never lost a match.<br /><br />The second match was very good, possibly the best of the night. Ted DiBiase and the Undertaker were excellent, while the Jim Neidhart had one of his WWF highlights, pinning the Honky Tonk Man. Koko B. Ware continued his tradition of being the first to put over a new heel (remember the Big Bossman and Yokozuna?). This was a foreshadowing of Bret Hart's singles career, as he came back from two-on-one and almost survived the match. He and DiBiase put on a wrestling clinic, making us forget that the point of the match was DiBiase's boring feud with Dusty Rhodes.<br /><br />Even though the Visionaries were the first team to have all of its members survive (and only the second since '87 to have four survivors), this match was not a squash. This was the longest match of the night, and Jake did a repeat of his '88 performance when he was left alone against four men and dominated. I think he could have actually pulled off an upset. These days, the match would have ended the other way around.<br /><br />One of the shortest SS matches ever was also one of its most surprising. Possibly the most underrated wrestler ever, Tito Santana was the inspirational wrestler of the night, putting on war paint and pinning Boris Zukhov, Tanaka, and even the Warlord in the final survival match. It was so strange to see him put over so overwhelmingly, then go right back to his mediocre career. Sgt. Slaughter also did well, getting rid of Volkoff and the Bushwhackers, but that just wasn't a surprise. Tito was.<br /><br />I think the only point of the survival match was to have Hogan and the Warrior win together at the end.<br /><br />This show was boring and the matches were too short. The Undertaker's debut was cool, but Tito Santana is the reason I will remember this one.\n",
      "* * * * * * * * * \n",
      "4660\n",
      "Nikolai Gogol's story \\Viy\\\" has been filmed again and released to home video in the US via Faith Films.<br /><br />The original story concerns a priest who has to watch over the body of a witch with only his faith to protect him. Greatly expanded and set in America, though clearly filmed in Russia (the houses,clothing and furnishing are all wrong despite the English signs), this is an odd film that doesn't really work.Part of it is the weird setting that tries very hard to be backwoods America but clearly isn't.There are also some weird, intentionally oblique moments as the main character being a reporter at the start and a priest a short time later. I'm not sure why they did that, even after watching the making of piece on the DVD) The other problem is the dubbing which is beyond awful. Its done in such away that everyone speaks when their lips are not on camera- or if they are the voices don't even remotely match the lip flaps. I don't know if its Faith Films fault or that of the producers who made the film hoping to dump into the West (revealed in the making of piece).<br /><br />The film isn't very good. As I've said it has all sorts of technical issues that just make this an odd ball curio. Despite some really good looking horror images the film never works as a horror film. As film to engender faith its much too confused in this retelling to amount to make anyone feel anyone closer to god.<br /><br />Given the choice I'd give it a pass, even at a bargain bin price. My advice would be to find the 1960's version of the tale called Viy which will bring both some shivers and some understanding about a belief in god.\"\n",
      "* * * * * * * * * \n",
      "4701\n",
      "Picture the scene where a bunch of scriptwriters sit around a table and one says \\lets have a black woman approach an unsuspecting member of the public (also black) in the street and ask him if he is black, then walk away\\\". The other writers fall about laughing hysterically until one suggests they repeat it in every episode. More laughter. Now if you think the premise is funny, and the show contains many such types of situation, you will enjoy this show. For the rest, use your zapper and find something more entertaining like watching paint dry. Those that have written glowing reports of this show should either get out more or be forced to watch television comedies that are really funny. Another example of the humor in the show, a girl tries to get out of paying at a supermarket checkout by trying to hypnotise the cashier. Marginally funny the first time but why repeat it over and over in different shows with different cashiers? I could give other examples but these just might be treated as spoilers, divulging why this comedy just is not funny at all.\"\n",
      "* * * * * * * * * \n",
      "4739\n",
      "<br /><br />Cheap-looking and ugly, this film didn't even seem to entertain the kids in the audience, except for one fairly amusing toilet joke. Christopher Lloyd is way past his prime and actually quite tiresome in this role, although the sorry excuse for jokes by the writers don't help.   Elizabeth Hurley is embarrassingly amateurish in a supposedly comic role. Jeff Daniels and Darryl Hannah avoid humiliation. There is really no reason to make this movie, especially since it is unavoidable that one will compare it with Robin Williams's often brilliant improvisations in Mork & Mindy.<br /><br />\n",
      "* * * * * * * * * \n",
      "4767\n",
      "I´m not surprised that even cowgirls get the blues if this movie is anything to go by. I expected something better from Uma Thurman, which was the reason I suffered my way through this experience in the first place. An awful film with only the music as a redeeming quality. It´s just a shame that we are incapable of giving 0 out of 10 in these reviews. This movie deserves it.\n",
      "* * * * * * * * * \n",
      "4790\n",
      "This is the most cliche ridden and worst romantic comedy I have ever seen. Every scene is cringe worthy and the two lead actors - Corey and Danny are soo annoying. Corey is very dumb and naive and should have never listened to Danny's false promises.<br /><br />Neve Campbell and the killer from Urban Legend are the only redeeming qualities in this poor attempt of a film. Danny (Dean Paras) looks in his late thirties and the girl he's trying to bed - Corey looks as if she's still in college.<br /><br />Here in Australia, this film is called Too Smooth; there is nothing smooth about this film at all. 1/10 Avoid\n",
      "* * * * * * * * * \n",
      "4797\n",
      "Like last year, I didn't manage to sit through the whole thing. Okay, so Chris Rock as a host was a good choice because he was vaguely engaging. Or rather, out of all the total bores packed into the theatre, he at least wasn't in the Top 10 Most Boring. A lot of the presenters, on the other hand, were in this coveted Top 10. I hadn't known that the whole thing had been done by autocue (although I knew it was scripted) but it was really terrible to see these supposedly good actors unable to insert expression, look away from the cue and stumble over simple words (Natalie Portman",
      "if there's no director, she's gone). The Night of Fancy Dresses and Boring Speeches was long and tedious, Beyonce Knowles butchered some good songs and there were very few decent acceptance speeches and clips. Adam Sandler wins the Worst Presenter award.<br /><br />For helping me write this review I'd like to thank my Mum, my Dad, my lawyers and my pedicurist for all believing in me, and I'd like to point out that I have a high metabolism and of course I haven't been starving myself for a month. I'm not going to cry...thank you.\n",
      "* * * * * * * * * \n",
      "4868\n",
      "Alas, poor Hamlet. I knew him, dear reader, and let me tell thee, THIS VERSION SUCKS! I don't know who of all people put up the money for this flotsam, but I hope that they're proud of themselves. They took THE classic play and turned it into the most boring melodrama imaginable. This version is quite literally so bad, that not even the presence of a great thespian like Maximilian Schell in the title role can save it. This movie's only redeeming quality is that it made great fodder for \\MST3K\\\"; Mike, Servo and Crow had a lot of fun with this one.<br /><br />But either way, I'm sure that Shakespeare, had he been alive when they made this, would not have wanted his name associated with it. This \\\"Hamlet\\\" is not even so bad that's it good; it's just plain bad. Absolutely dreadful.\"\n",
      "* * * * * * * * * \n",
      "5027\n",
      "This must be accompanied by a special rating and warning: NOT RECOMMENDED TO NORMAL PEOPLE.<br /><br />The obsession of Daneliuc with the most dirty body functions becomes here a real nightmare. Also, it's evident that the man is a misanthrope, he hates everybody - his country his people, his actors, his job. And this hatred makes him blind and he forgets anymore the profession he knew long ago.<br /><br />This so called \\film\\\" is just a hideous string of disgusting images, with no artistic value and no professionist knowledge. It is an insult to good taste and to good sense. Shame, shame, shame!\"\n",
      "* * * * * * * * * \n",
      "5041\n",
      "There's one line that makes it worth to rent for Angel fans. Everyone else: this is just a very bad horror flick. The female characters are typical horror movies females. They are wooden, annoying and dumb. You are glad when they are killed off. Long live the strong female character in a horror movie!!\n",
      "* * * * * * * * * \n",
      "5088\n",
      "I guess this movie is a fitting tribute to the first Superman film,as it is just as crummy and painfully long as the original.<br /><br />After an opening scene consisting solely of murky intergalactic visuals, the credits pay homage to the even-crummy-looking-for-their-time futuristic sweeping credits of the original Superman film.<br /><br />Then there is some more murky stuff. Ma Kent sees some kind of murky ruckus on the farm, and spends a good portion of my life slowly walking up to some debris in the cornfield. Then Superman sneaks up on her and faints.<br /><br />Next we catch up with Lex Luthor in a scene about many murky close-ups of an old lady as she dies. We don't see Luthor's face until the end of the scene, an early instance of the film's drive to leave no hackneyed stone unturned. Lex Luthor is a guy who doesn't like Superman because he is not human. Also, he probably doesn't like humans either, as the movie occasionally features some kind of plot about Lex Luthor planning to kill most of Earth's population.<br /><br />After a while, Clark Kent shows up back at his old job (I forgot to mention, he had been away on a five year trip where nothing happened). Then he finds out Lois Lane has an illegitimate kid and is dating Cyclops. It upsets him so much that he loses control of his super strength to such an extent that he accidentally breaks a picture frame.<br /><br />At this point we see that Miss Lane is on some kind of jet attached to some kind of space shuttle. It is some kind of important event on account of it is on television. Then we learn that there are people in a control room monitoring this event. There are also people watching it on television and there are pilots in the cockpit. The film then reminds us that these people are involved by cutting between them for most of the summer.<br /><br />As the events leading up to the inevitable disaster started to build, I excused myself to get a soda. I accidentally walked back into the wrong theater and watched that movie about Al Gore showing slides in its entirety. I tried to find my way back to Superman Returns, but I somehow wandered into Prairie Home Companion, which I watched twice in a row. Then it was time to stop messing around.<br /><br />I walked back into the first theater, found my seat, and looked up to see that the impending Lois Lane space shuttle disaster was almost upon us. Still, it seemed to be taking forever, so I wandered around the theater, met a girl, got married, raised a son and sent him off to college. While attending my son's medical school graduation, I remembered that I should probably check in on Superman Returns, so I excused myself and raced back to the theater only to learn there was no need to hurry. It still took about another half hour before things went wrong for Space Shuttle Lane. When they did, Superman saved everybody, which was pretty cool.<br /><br />. And then there is a a subplot where Superman turns really creepy and starts stalking Lois Lane and her family with his x-ray vision and super-hearing. Then he tries to get her to cheat on Cyclops, who seems like a good guy.<br /><br />Meanwhile, Lex Luthor is involved in some kind of contest to display every possible generic villain behavior before the end of the movie. I forgot to bring my scorecard home with me (they give you one at the door), but I think he scored damn close to one hundred percent. I hope he wins the million dollars.<br /><br />At this point, things start to gear up for the big murky finale. I think maybe the projector was broken, on account of the movie seemed to be in some kind of loop for a while here. I remember seeing murky things growing out of the water, Superman getting sick, Superman getting better, back to the murky things, he's sick again, no wait, he's okay again.<br /><br />Then Lex Luthor unleashed his final bad guy move: yelling at his girlfriend a little bit.<br /><br />Then Superman died and came back to life. I thought the movie was over, so I left.<br /><br />Ninety years later, the nursing home where I lived felt a little chilly. I realized I left my sweatshirt back in the theater, and I went to retrieve it. When I did, I was slightly surprised to find that Superman Returns wasn't over yet. I tried to ask some of the viewers what I missed, but most of them were only skeletons with long gray beards by now.<br /><br />I sat back in my old seat and watched as Lois Lane puttered around her house for a while. Then Superman showed up and started quoting the beginning of the movie, and since I already saw that part I thought it was okay to leave.<br /><br />So that is my review of Superman Returns.<br /><br />Oh, also, if you like jokes about people eating dogs or jokes about one dog eating another dog, you will love this movie. On account of there are two jokes like that in it.\n",
      "* * * * * * * * * \n",
      "5113\n",
      "I saw this by accident one lazy summer afternoon. It was playing on the family programming channel of HBO. At first I was drawn in, by what I thought was a Disney animation. But then, after a few minutes, I found myself searching for the remote, so I could find the 'INFO BUTTON', to find out what in the world was on my TV. I have nothing against Harvey F., I enjoy him in many of his films, but one thing he is not, is a voice-over artist. Sure he has one of the more unique voices in Hollywood, but it works only as a part of a bigger visual package. Attaching his voice to a cute duck made watching somewhat difficult. As for the rest of the cast, uninspired. I suppose working on this film didn't appeal to the really good voice over talent out there.<br /><br />So, weak voice talent, strong animation...who was this film targeting? Gay adolescent ducks? I don't get it. Is there really such a dearth of role-models for young up and coming homosexuals, that we must resort to animated ducks? Cute story, and like the title, this movie I found hard to love, just like an ugly duckling.\n",
      "* * * * * * * * * \n",
      "5209\n",
      "The direction had clearly stated that this film's idea and plot is totally original....however, as to those who have read 'slam dunk' comic, we can clearly see that the characters are very similar and even some jokes...<br /><br />Another note is Jay Chow himself DO NOT know Kung Fu, it just won't impress anyone if he tries to act like he can, many people today can see the differences.. Luckily the movie do not contain much of KunG Fu fighting and much are enchanced by stunners and visual effects...<br /><br />I think that Jay's acting is still a pain to watch, especially when almost everyone else in the film is so much better. The only reason I think why Jay is the main actor is simply is for his popularity.<br /><br />Despite how hard I wish to stop anyone from watching this thus making this \\orginal\\\" movie getting what it shouldn't have, it has became one of the best budget films in China for this year.\"\n",
      "* * * * * * * * * \n",
      "5235\n",
      "This was a complete disappointment. The acting isn't bad, but the production was just so bad that at times I felt I needed to stop it, but I sadly made it through and was able to finish it a bit embarrassed by the whole poor movie. It is o.k. if you are o.k. with cheesy moral plots and don't mind watching a movie that vastly misconstrues Whitman. If you want a cheesy fictional story go for it.\n",
      "* * * * * * * * * \n",
      "5243\n",
      "Not a `woman film' but film for the gang. One of the worst films ever made by a male director about woman. Director Andy McKay simply doesn't know woman. Peaks of bad taste, American Pie's humor style, crude story, no sense, groundless story, refuted characters. Vulgar fantasies came to life on screen. Insulting and definitely not funny. I wonder how three good actresses accepted to take part in it.\n",
      "* * * * * * * * * \n",
      "5431\n",
      "John Leguizemo, a wonderful comic actor, is a New York Latino, able to get inside a myriad of characters, both male and female, to show the bizarre foibles of an ethnic group trying to cope in an alien culture. He is not, however, Italian. He doesn't look, think or behave Italian...Especially Sicilian or Calabrese, immigrant groups who live in Bensonhurst or Bayridge Brooklyn. Every scene in which he interacts with his \\Gumbas\\\" rings false, as though he'd wandered in from a college production of \\\"West Side Story\\\" while the other guys were doing a low-rent \\\"Mean Streets\\\". That's only one problem with this ill-conceived, mean-spirited flick. Spike blew this one big time. Btw, CBGBOMFUG means \\\"Country, Bluegrass, Blues and Other Music For Uplifting Gourmets [or possibly Gourmands] Ask Hilly Crystal who founded the club. <br /><br />\"\n",
      "* * * * * * * * * \n",
      "5455\n",
      "I stopped watching lost at this episode because I thought Ana-Lucia and Libby's deaths were unnecessary and really depressing. Then I found out that they kept Libby around just to die in the next episode! Gah! I can't handle it.<br /><br />I liked this show for the first season, but it definitely declined in the second season, I found Jack and Locke's little religious feud to be annoying. The deaths of Rodriguez & Watros' characters was the final straw! <br /><br />I give this episode a 4/10, for being the end to my viewing of this formerly great series created by Alias legend J.J. Abrams. I hope his series in the future will improve on this one.\n",
      "* * * * * * * * * \n",
      "5501\n",
      "Whoa. In the Twin Cities, we have a station that shows a \\Big Bad Movie\\\" Monday through Friday. Tonight's nugget was a film with Carrie Fisher called \\\"She's Back\\\" about a really annoying woman who ends up getting murdered when thugs break into her house. Bea (Beatrice) comes back to haunt her husband. She wants him to seek revenge on her killers, hence \\\"she's back\\\". And she won't let him rest until he does so. She irritates him endlessly... and the viewers, too! This movie is truly one of the worst movies I've ever seen. Hey, I like bad movies, though (my fave movie is Xanadu). I was really shaking my head throughout the whole film, wondering who thought this would be a good idea for a movie. Bea is just so annoying. The plot is silly; the acting is bad; the story... well, you get my drift. Anyway, if you wanna see a really bad movie - really really bad movie, check this one out. You won't be disappointed. Heh.\"\n",
      "* * * * * * * * * \n",
      "5535\n",
      "I'm not looking for quality; I'm just trying to get through the 74 famous video nasties that were banned in Britain. This one was initially banned and re-released in 2001 with a whole 10 seconds cut.<br /><br />Some college kids spend their Christmas vacation preparing a dorm for renovation. There are some creepy characters lurking about along with the four kids. Which of them is the slasher? The actual killings are not very gory, so this video nastie is not really nasty. There is the requisite flashing of the boobies, but it has nothing to do with the college kids.<br /><br />I had a suspect very quickly and I turned out to be right. Maybe I've seen too many of these. The end twist was clever; I have to give the writers credit for that bit of originality.\n",
      "* * * * * * * * * \n",
      "5538\n",
      "Chan Wook Park is nothing if not inventive. I'M A CYBORG BUT THAT'S OK is chock full of amusing little technical flourishes with some ingenious ideas sprinkled in between. Attempting to walk in the footsteps of the likes of Marc Caro and Jeunet (CITY OF LOST CHILDREN, DELICATESSEN), Park embarks on a fanciful, lighthearted tale which is a radical departure from his usual morbid fare. Hardly one to be faulted for his ambition or his vision, it is genuinely unexpected, then, to see all Park's effort add up to so very little.<br /><br />I'M A CYBORG BUT THAT'S OK seems astonishingly to subtract from itself as it goes along, with the the end result being a fraction of the sum of its parts. The premise is promising, gags are copious and offbeat humour abounds but it all fails miserably to create any meaningful connection with the audience. The characters are cute and quirky and played with gusto by the cast, but, try as i might, i could not bring myself to care for any.<br /><br />SYMPATHY FOR LADY VENGEANCE was a misstep, indicating perhaps that Park was overindulging himself a little bit, but it still managed to showcase some of the director's unique flare and in the wake of an impressive filmography, was readily forgiven. None of the assured confidence that commanded JOINT SECURITY AREA or SYMPATHY FOR MR. VENGEANCE is evident here. I'M A CYBORG BUT THAT'S OK left me so utterly unengaged i caught myself instinctively fast forwarding from time to time (more regularly as the film progressed). I gave LADY a 5/10, and by that measure, this probably deserves no more than a 3. For old time's sake, i'll be generous: 4/10\n",
      "* * * * * * * * * \n",
      "5807\n",
      "I've seen (far too) many flicks from this company - this one is about middle of the pack. One the good side, its a bit more stylized and under control than some of their fare - less of the sophomoric attempts at humor and more adherence to story (for what its worth). Many of their titles, like Sexy Sixth Sense, are buried by baaaad performances and an amateurish sensibility. On the other side, I found the simulated sex scenes not as hot as some of their other flicks (like Vampire Vixens, Gladiator Eroticus, Spiderbabe or Mistress Frankenstein).<br /><br />Misty Mundae is always a 10 on the peter meter, as is Darian Caine. I found Barbara Joyce hot in a school-marm kinda way, and Ruby LaRocca a sexy little hottie.<br /><br />Watch this with the remote firmly in your (free) hand, on a night when you need a break from porn. Don't waste your time wanting to check the story - you've got better things to do w/ your life. It is not a movie, it's pure T&A, but not bad by that standard.\n",
      "* * * * * * * * * \n",
      "5951\n",
      "When i got this movie free from my job, along with three other similar movies.. I watched then with very low expectations. Now this movie isn't bad per se. You get what you pay for. It is a tale of love, betrayal, lies, sex, scandal, everything you want in a movie. Definitely not a Hollywood blockbuster, but for cheap thrills it is not that bad. I would probably never watch this movie again. In a nutshell this is the kind of movie that you would see either very late at night on a local television station that is just wanting to take up some time, or you would see it on a Sunday afternoon on a local television station that is trying to take up some time. Despite the bad acting, cliché lines, and sub par camera work. I didn't have the desire to turn off the movie and pretend like it never popped into my DVD player. The story has been done many times in many movies. This one is no different, no better, no worse. <br /><br />Just your average movie.\n",
      "* * * * * * * * * \n",
      "6046\n",
      "This 1996 movie was the first adaptation of Jane Eyre that I ever watched and when I did so I was appalled by it. So much of the novel had been left out and I considered William Hurt to be terribly miscast as Rochester. Since then I have watched all the other noteworthy adaptations of the novel, the three short versions of '44, '70 and '97 and the three mini series of '73, '83 and 2006, and I have noticed that there are worse adaptations and worse Rochesters.<br /><br />This is without doubt the most exquisite Jane Eyre adaptation as far as cinematography is concerned. Director Franco Zerifferelli revels in beautiful long shots of snow falling from a winter sky, of lonely Rochester standing on a rock, and of Jane looking out of the window - but he is less good at telling a story and bringing characters to life. In addition, his script merely scratches the surface of the novel by leaving out many important scenes. As a consequence the film does not show the depth and complexity of the relationship between Jane and Rochester, and sadly it does also not include the humorous side of their intercourse. There are a number of short conversations between Rochester and Jane, each of them beautifully staged, but the couple of sentences they exchange do not suffice to show the audience that they are drawn to each other. We know that they are supposed to fall in love, but we never see it actually happen. The scene in which Rochester wants to find out Jane's reaction to his dilemma by putting his case in hypothetical form before her after the wounded Mason has left the house is completely missing, and the farewell scene, the most important scene - the climax - of the novel is reduced to four sentences. Zerifferelli does not make the mistake other scriptwriters have made in substituting their own poor writing for Brontë's superb lines, neither are crucial scenes completely changed and rewritten, but he makes the less offensive but in the end similarly great mistake of simply leaving many important scenes out. What remains is just a glimpse of the novel, which does no justice to Charlotte Brontë's masterpiece.<br /><br />The cast is a mixed bag: While Fiona Shaw is an excellent Mrs Reed, Anna Paquin's young Jane is more an ill-mannered, pout Lolita than a lonely little girl, longing for love. The ever-reliable Joan Plowright makes a very likable, but far too shrewd Mrs Fairfaix, and one cannot help feeling that Billie Whitelaw is supposed to play the village witch instead of plain-looking, hard-working Grace Poole. Charlotte Gainsbourgh as the grown-up heroine, however, is physically a perfect choice for playing Jane Eyre. Looking every bit like 18, thin and frail, with irregular, strong features, she comes closest to my inner vision of Jane than any other actress in that role. And during the first 15 minutes of her screen time I was enchanted by her performance. Gainsbourgh manages well to let the audience guess at the inner fire and the strong will which are hidden behind the stoic mask. But unfortunately the script never allows her to expand the more passionate and lively side of Jane's character any further. As a result of leaving out so many scenes and shortening so much of the dialogues, Gainsbourgh's portrayal of Jane must necessarily remain incomplete and therefore ultimately unsatisfactory. This is a pity, as with a better script Charlotte Gainsbourgh might have been as good a Jane as Zelah Clarke in the '83 version.<br /><br />But while it is still obvious that Gainsbourgh is trying to play Jane, there is no trace whatsoever of Rochester in the character that William Hurt portrays. Hurt, who has proved himself to be a fine actor in many good movies, must have been aware that he was physically and type-wise so miscast that he did not even attempt at playing the Rochester of the novel. His Rochester, besides being blond and blue-eyed, is a soft-spoken, well-mannered nobleman, shy and quiet, slightly queer and eccentric, but basically good-natured and mild. He is so far from being irascible, moody and grim that lines referring to these traits of his character sound absolutely ridiculous. Additionally, during many moments of the movie, Hurt's facial expression leaves one wondering if he is fighting against acute attacks of the sleeping sickness. Particularly in the proposal scene he grimaces like a patient rallying from a general anaesthetic and is hardly able to keep his eyes open. If you compare his Rochester to the strong-willed and charming protagonist of the novel, simply bursting with energy and temperament, it is no wonder that many viewers are disappointed in Hurt's performance. Still, he offends me less than the Rochesters in the '70, '97 and 2006 versions and I would in general rank this Jane Eyre higher than these three other ones. Hurt obviously had the wits to recognise that he could not be the Rochester of the novel and therefore did not try to do so, whereas George C. Scott, Ciaràn Hinds and Toby Stephens thought they could, but failed miserably, and I'd rather watch a character other than Rochester than a Rochester who is badly played. And I'd rather watch a Jane Eyre movie which leaves out many lines of the novel but does not invent new ones than a version which uses modernised dialogues which sound as if they could be uttered by a today's couple in a Starbucks café. Of course this Jane Eyre is a failure, but at least it is an inoffensive one, which is more than one can say of the '97 and 2006 adaptations. I would therefore not desist anyone from watching this adaptation: You will not find Jane Eyre, but at least you will find a beautifully made movie.\n",
      "* * * * * * * * * \n",
      "6202\n",
      "It seems to me, as a recent film school graduate, that in these times of New Zealand film reaching new heights, the general public seems to think every New Zealand film made is great. Sione's Wedding proves this is dead wrong.<br /><br />It's completely overrated and not funny, and far from the 'hilarious' film other users of IMDb have commented. The only really funny thing I found in this film was Derek the wannabe black guy, but other than that the jokes were recycled crap that we'd all heard before.<br /><br />Being of half-Samoan decent, I wanted to see how the film was going to deal with Polynesian representation. It was a complete balls-up - I know it's a supposed comedy, but I didn't feel like the characters had anything new to say about Polynesian identity, even if it was in a tongue-in-cheek manner. I was most disappointed with the ending of the film and the resolution of the character's relationships - Mikaele was the player who only messed around with white women, comes to slightly turn his ways when the 'Dusky Maiden' comes to town, has an epiphany that maybe he should start looking for a stable relationship, then at the very last minute rejects it and accepts his position as a Polynesian Playboy for palagi women. I didn't understand why they did this.<br /><br />All in all, it was very disappointing. My whole family went to see it expecting to have a good laugh, but ended up being really bitter about paying to see it at the cinema. The jokes are lame at best, the acting, particularly of Sefa's girlfriend, APPALLING, and honestly I would've been happy if I had got my hands on one of those pirated copies of the film to save myself the $15 ticket price.<br /><br />I think the only good thing to come from the movie is that it's the second step (behind No. 2, of course, a far superior film to this one) in the birth of Polynesian cinema. I hope Pacific filmmakers in the future can learn from Sione's Wedding in how to NOT reflect Polynesia and have something more meaningful and sensible to say. Even if it is done in a comedic fashion.\n",
      "* * * * * * * * * \n",
      "6254\n",
      "This is one of the worst film adaptations of a musical ever made. The stage version of A Chorus Line is wonderful. This movie misses the mark in almost every way. Even the casting is baffling. Take Audrey Landers as Val. \\Dance 10 Looks 3\\\" is Val's song. Val's story is that she is a great dancer but a 3 in the looks department. Yes, she finds a solution, but ultimately she's a great dancer. What do the brilliant filmmakers do? They hire an actress who can't dance and is famous for looking great. Way to miss the boat.<br /><br />Then there's the choreography. I'm sure Michael Bennett was turning over in his grave. Why didn't they use his choreography? It really can't be improved upon.\"\n",
      "* * * * * * * * * \n",
      "6275\n",
      "The movie has only one flaw, unfortunately this flaw damages all credibility of the piece.<br /><br />It starts with the condemnation of the Israeli occupation of disputed territories. It fails to address the reason Israelis are there. Egypt, Syria, Iraq and Jordan attacked Israel. This is why Israel \\occupys\\\" their land, because those countries lost it in a war they started.<br /><br />The film also claims that Israel has defied the U N by not complying with Resolution 242. Problem is, 242 was rejected immediately upon it's inception by.....the palestinians, making it void.<br /><br />Many films are put together well, and can really show footage that changes minds, but remember, when watching anything, believe none of what you hear, and only half of what you see.<br /><br />All participants in this film are known critics of Israel, and some have made many antisemitic public comments, removing any possible credibility to their words.<br /><br />All participants are in dire need of a actual history lesson taught objectively, not by some palestinian sympathizer.\"\n",
      "* * * * * * * * * \n",
      "6357\n",
      "I saw this film on the History Channel today (in 2006). First of all, I realize that this is not a documentary -- that it is a drama. But, one might hope that at least the critical \\facts\\\" that the story turns on might be based on actual events. Reagan was shot and the other characters were real people. The movie got that right. From there on, reliance on facts rapidly decays. I had never heard of this movie before seeing it. Having been a TV reporter at the time of these events, I was stunned that I had never heard anything about the bizarre behavior of Secretary Haig as portrayed by Richard Dreyfuss. The whole nation had heard the \\\"I am in control...\\\", etc., but Dreufuss' Haig is bullying a cowered cabinet and totally out of control personally. Having watched the film, I began researching the subject on the Internet and quickly found actual audio tapes and transcripts of most of the Situation Room conversations that this film pretends to reenact. Incredibly, many the the principal \\\"facts\\\" of the film meant to show a White House, Secret Service etc. in total chaos -- and the nation's leadership behaving irrationally and driving the world near the brink of nuclear war -- are demonstrably incorrect. They didn't happen! There is internal conflict, to be sure. Haig makes missteps, his press room performance is historically regrettable and he is \\\"difficult\\\". But there is nothing approaching the scenes depicted in the film. There are too many gross errors to list, but any fair comparison of the recorded and written record and the fantasy of this film begs the question as to what the producers were really trying to accomplish. Enlighten? Inform? Entertain? I believe they failed on all three fronts. It is difficult to ascribe motives to others, but one must seriously question what was behind such shameless invention. And, as for my beloved History Channel's \\\"Reel to Real\\\" follow-on documentary, there was almost no mention of the issues that were the central focus of the film -- namely the events within the Administration on the day of the shooting. So, the viewer was left to research those without much -- if any -- help from the network.\"\n",
      "* * * * * * * * * \n",
      "6397\n",
      "I've seen a lot of crap in my day, but goodness, Hot Rod takes the cake. I saw a free screening in NY the other night. I can only hope they show the funny version to the paying customers. The big laughs were sparse, the plot was uninteresting, and the characters were one dimensional at best. One highlight is a hilarious dancing scene with Adam Samberg. It was priceless and was the only scene I truly had a hearty laugh at. Other than that, I can only recollect randomness and dead air. SNL & Samberg fans may be disappointed. I know I was expecting more from it. But it short, I definitely would not recommend attending a free screening or paying to watch this film.\n",
      "* * * * * * * * * \n",
      "6820\n",
      "Unless I'm sadly mistaken, I rented A Nightmare on Elm Street 3 several years ago and there was a music video, I'm pretty sure which was called Dream Warriors, at the end of it, and I rented this one on DVD hoping that the video would be there because it was one of the funniest things I've ever seen. It's amazing how stuff from the 80s is so funny now, but nothing is funnier than 80s rap videos. There was this rap group singing that song Dream Warriors on the VHS version of this movie after the credits, and they're all wearing like denim jackets with no shirt underneath and form fitting jean shorts that are all frayed at the bottoms like Daisy Dukes. What could make a rap group look more foolish I can't imagine.<br /><br />(spoilers) At any rate, I was disappointed in looking for that video on the DVD version, so all I had was this mediocre installment in the Freddy Krueger series. The movie sort of starts off with the same idea as part 2, with the main character witnessing all kinds of gruesome murders and then sort of coming out of a trance and finding himself with the bloody hands. Kristen Parker (Patricia Arquette) has a nightmare about the infamous house that Nancy Thompson used to live in, then runs to the bathroom, the sink's handles turn into Freddy's hands and attack her, and then she wakes up standing in her bathroom having slit her own wrists. From there, the movie turns into the usual mental hospital installment. <br /><br />`Larry' Fishburne, tired of always playing the bad guy in his roles, was happy to take on the role in this film as a nice-guy orderly, stern but accommodating when the patients want to bend the rules a little. Not surprisingly, he turns in what is by leaps and bounds the best performance in the movie. Arquette later goes on to become an accomplished actor, but had not perfected her acting skills when she starred in this film. The characters in the movie are mostly all patients at the mental hospital that Kristen is placed into after cutting her wrists. All of them are cynical and uncooperative, almost none believing that they really belong there at all. Eventually, they realize and are able to convince the staff that they are all having dreams about the same man and it's not just some kind of group hysteria.<br /><br />Heather Langenkamp has returned in her famous role as Nancy Thompson, this time grown up into a dream researcher as a result of her childhood experiences involving Freddy Krueger. Not surprisingly, she is able to quickly relate to the hysterical Kristen and the rest of the patients, since she had experienced exactly what they're going through. There are some interesting murders in this installment, and the technology used for the special effects have taken a huge jump. There is a gigantic, worm-like Freddy that tries to swallow Kristen whole, there is a scene where a television turns into Freddy and with mechanical arms he picks up one of the patients there for some late night entertainment and punishes her for sitting too close to the TV, but there is also an unconvincing go-motion scene where a couple guys have a fight with Freddy Krueger's skeleton, which has been rotting in the trunk of some car in a car junkyard. And one of the more groan-inducing scenes was one where Freddy attacks one of the patients in his dream (the one famous for sleepwalking), tearing the muscles and tendons out of his arms and legs and leading him around like a puppet. Ouch.<br /><br />We get a peek into Freddy's past in this installment. Not only do we meet his mother, but we also find out the circumstances that led to Freddy being fathered by more than 100 maniacs. In fighting Freddy, the patients all band together and, in their dreams, use their special powers (most of which reflect their shortcomings in real life) to fight him. One student, bound to a wheelchair, is able to walk in his dreams, another has the hilarious powers of what he calls the `Wizard Master,' another is `beautiful and bad' (she has lots of makeup, her hair stands up in a foot-high Mohawk, and she has knives). Clever, but the movie falters when it has only one of the patients, the one who can't speak, not have any powers in his dreams until the climax of the movie, when he suddenly realizes that he can talk in his dreams (at just the right moment to save the day). His dream power was a little too obvious to have been left out for that long, but collectively, now you see why the movie was subtitled Dream Warriors.<br /><br />Altogether, this is not an entirely weak entry into the series. The acting is pretty shoddy, but it's actually pretty good for a horror movie. Larry Fishburne vastly overshadows the rest of the cast, displaying wonderful acting skills early on in his career, and the movie is not simply a rehash of either of the first two  a problem that plagues the Friday the 13th movies much more than the Elm Street films. The characters are never developed enough to allow for the later creation of much tension, which is why most of the deaths come across more as creative ways to kill off someone in a horror film than the tragic loss of the life of one of the characters that we've come to know and root for their triumph over evil. But then again, not a lot of horror movies take the time to really develop their characters to the point where you throw up your hands in defeat when they are killed, or are on the edge of your seat as they run for their lives. But it's important to note that the few horror films that actually do that are almost invariably the best ones",
      "\n",
      "* * * * * * * * * \n",
      "6917\n",
      "I really wanted to like The Pillow Book. Intriguing story, interesting character outlines, Ewan Macgregor in the utterly glorious altogether. Unfortunately, I hated every minute of it. Greenaway got so enamoured with presenting the movie uniquely, and not to the film's benefit. I won't even get into Vivian Wu's abysmal acting.<br /><br />You get distracted from the story with 4 billion teeny windows and calligraphy that rolls on the bottom of the screen displaying the lyrics of the music that's playing. It seems he lost sight of presenting the actual story and developing the plot, and got entangled with foo-foo embellishments that have nothing to do with anything. It's a bit like presenting a John Singer Sargeant portrait in a chintzy Hallmark frame that says \\GRANDMA LOVES ME!\\\" in big sparkly letters.<br /><br />This movie seems to be a casualty of the director auteur's ego instead of what it could have been - disturbingly and horrifyingly beautiful. In another director's hands (Jeunet? Coppola?), it could have been a masterpiece. In Greenaway's hands, it's best relegated to fine arts classes that also take themselves too seriously.\"\n",
      "* * * * * * * * * \n",
      "6939\n",
      "I heard so much about this movie how it was a great slasher and one of those early 80's movies that die hard fans of most slasher movies just had to see. Well, I rented it and I have to say that although it kept my attention as far as the suspense goes for most slasher films such as \\April Fools Day\\\", \\\"Friday 13th\\\" and \\\"Prom Night\\\", this film could have been right up there with the above mentioned only it lacked true enthusiasm and potential from the characters as well as the on going story. Characters that I found were unfortunate to be in this movie was the weirdo guy with the frizzy hair that kept creeping around the dorm and of course leading up to his true climatic role during the end with he faces the killer. Another would be the dirty scruffy looking guy with the jean jacket, he could have played more roles in this movie that might have made the movie more interesting, instead, the movie played this guy as just another loser out there making unknown calls while he sleeps with his girlfriend and then drops his part and cuts him off until the end which was a waste, I was disappointed in his part in the end. As far as the true identity of the killer goes, when the identity was released as to who he was, I just laughed, but it was all to obvious and he really made a true jerk out of himself as well as an annoying character after his true intentions were revealed. This movie should be one to at least watch once for all slasher fans but don't spend your hard earned money on it in some rare hard to find collectors inventory.\"\n",
      "* * * * * * * * * \n",
      "6965\n",
      "I can fondly remember Bo Derek's heyday and the UK press attention (the mucky Sun & News of the World papers especially)- all following her small role in \\10\\\" with Dudley Moore. Understandably, much fuss was made of her photogenic face, crystal clear blue eyes and her perfectly formed bouncing breasts. <br /><br />Unfortunately, acting is, and never was, her forte! I think they should make one of the triple disc collections you always find in the bargain DVD bins- Orca, Tarzan the Ape-man and Bolero. All these films could be nominated for the \\\"So Bad They Are Great\\\".<br /><br />It would be a guilty \\\"must buy\\\" of mine! Should you ever read your press, or this comment Ms Derek, please do not be offended- ALways had a soft spot for you and there are more important things going on in the world to worry about than your acting ability. Much Love.x\"\n",
      "* * * * * * * * * \n",
      "6981\n",
      "I am the guy who usually keeps opinions to himself, but I just got back from this movie, and felt I had to express my opinions. Let me start by saying that I am a HUGE horror fan. But what makes a horror movie? I sure like to see even a tiny bit of a good script and character development. I know they often lack in horror movies, but Prom Night looked like it didn't even put forth ANY effort in that department. Next, we all love suspense. That on the edge of your seat suspense with unpredictable surprises. Yeah, Prom Night had none of that! Of course, we like a terrifying killer. Prom Night have that? Nope, it has a pretty boy with a cute lil' knife. And when all else fails...at least horror has its guilty pleasure to make it enjoyable like gore gore gore, and the occasional nude scene! Yeah, well when you have a horror movie rated PG-13 like Prom Night, they leave that stuff out too. So with all of these elements missing, I ask....does this still count as a horror movie? Nope. I'd call it more of a comedy. People in my theater were laughing more at this then they were when I saw \\Semi-Pro\\\" that was supposed to actually be a comedy (which also sucked, but thats another story!). I think I am just going to have to give up on new horror. All the good horror movies of the good ol' days have been remade into garbage so movie studios can make money. The people I went to see it with didn't even know this was a remake! Which made me mad! I wonder what will happen when there's no more movies to remake??? Where will horror go next???\"\n",
      "* * * * * * * * * \n",
      "6986\n",
      "What a dreadful movie! For some reason, scientific laboratories and outposts always have a staff of grubby, dirty, mean-spirited, misanthropes living inside. These folks who presumably work together on complicated scientific projects cannot seem to agree on how to survive death at the hands of a CGI Dragon. Spoilers: An extra-nasty scientist whose main acting skill is \\leering\\\" and \\\"the sinister stare\\\" has cloned a Dragon. While the lab was supposed to work on this kind of thing, the other scientists are shocked, because apparently they were all way behind in their experiments and got caught with their pants down. The rest of the story is like THE THING, or Ten Little Indians, where the staff is hunted and killed off as they try to formulate a way to escape and/or defeat the \\\"Dragon.\\\" The CGI Dragon creature is dark gray, which seems to be the popular color for most of the cheap CGI special effects. It hardly looks better than a cartoon, and the dark gray tones make it difficult to see any interesting details in the body of the Dragon. All it looks like is a gray blob. The acting is less than horrible. These scientists act like a bunch of children who cannot agree on anything, and this makes it easier for the Dragon to kill them off in various attempts to escape, hide, etc. Dean Cain is hardly better than any of the cast of unknown actors in this movie. He seems to sink to the level of his supporting cast. This movie is really, really atrocious. The acting is bad. The story is dumb. The CGI is very very cheap and amateurish. There is nothing commendable about this movie, it is not even a good time-killer to glance at while doing chores or other work.\"\n",
      "* * * * * * * * * \n",
      "7018\n",
      "If you like movies about creepy towns, hotels, houses, states (ala the Eagles \\Hotel California\\\"), etc. that possess the people that are \\\"just passing through,\\\" read almost any Stephen King novel instead. If you like the setting of \\\"Disappearance\\\" start by reading King's \\\"Desperation\\\" but also check out \\\"The Shining\\\", \\\"Salem's Lot\\\" and \\\"Needful Things.\\\"<br /><br />The crow motif, the desert, the family driving in desperation to escape or avoid possession are tired. Why didn't they just make the film from the \\\"Desperation\\\" novel? Maybe they approached King and he nixed? Must be.<br /><br />Susan Dey and Harry Hamlin look happy to be reunited and they have both worn well over the years, but they're still TV and direct-to-DVD caliber actors.\"\n",
      "* * * * * * * * * \n",
      "7024\n",
      "Lolita is a rebel and she's going to share to our wide open eyes some little sex stories, between sci-fi and fantasy... Well, this Surrender Cinema production is not very good: very bad acting, horrifying music and a story line without any story and any line. BUT, the sex scenes are pretty well done, lot of lesbian scenes, and Jacqueline Lovell, as beautiful as in The Exotic House Of Wax, offer to us a very good final and very hot strip show. For Lovell's fans only.\n",
      "* * * * * * * * * \n",
      "7102\n",
      "60 minutes in the beautiful Christina Galbo tries to escape the isolated boarding school she's brought to at the beginning of the movie. Is she running from some kind of fate too horrible to contemplate, a monster, black-gloved killer, or supernatural evil? No, she's running from a bunch of bullies. For the OTHER 40 minutes that follow, various figures walk around the school in the dark holding candelabras and looking alarmed or distraught, which doesn't say much in itself perhaps because great movies have been made about just that but if you're going to have characters walking around corridors and staircases you better be Alain Resnais or you better know how to light that staircase in bright apple reds and purples like Mario Bava. We know a killer stalks the perimeters of the school but his body count is pitiful and sparse and in the absence of the visceral horrors one expects to find in the giallo, we get no sense of sinister mysteries/unspeakable secrets festering behind a facade of order and piety and rightness which is the kind of movie La Residencia wants to be but doesn't quite know how to do it. We know something is off because girls are reported missing but we never get the foreboding mysterious atmosphere that says \\something is seriously f-cking wrong here, man\\\". When Serrador tries to comment on the sexual repression of the female students, he does so with quick-cutting hysterics and detail closeups of eyes and parted lips while high pitched \\\"this-is-shocking\\\" music blares in the background. None of the aetherial beauty and longing of PICNIC AT HANGING ROCK to be found here. It's all a bit clumsy and aimless, with no real sense of urgency or direction. A number of people are presented as suspects but there's little reason to care for the identity of a killer that goes unnoticed by the characters inside the movie. I like the first kill, the image of a knife hitting target superimposed over the anguished face of the victim as a lullaby chimes in the background, but the rest is too inconsequential for my taste. I have to say Serrador did much better with the killing children and paranoia du soleil of WHO CAN KILL A CHILD?\"\n",
      "* * * * * * * * * \n",
      "7156\n",
      "I cannot believe the same guy directed this crap and Dracula 2000. Dracula 2000 was innovative, fresh, and well written, if poorly acted.<br /><br />This pile can't even claim that. It starts with the defeat of Dracula at the end of Dracula 2000. Then ignores the narrative afterwards describing what happened after that. Following the narrative properly could have made this a good sequel somehow, but Craven chose to go in the style of his older films, having no good tie but the main villain's name.<br /><br />Even the actor playing Dracula was different (going from dark hair in Dracula 2000 to a blonde here).<br /><br />Avoid this movie if you have any respect for your taste in movies.\n",
      "* * * * * * * * * \n",
      "7169\n",
      "I live in Salt Lake City and I'm not a Mormon, so why did I rent this movie? Well because I live in Utah and thought it'd be nice to see locations I know in a film. I really knew going into it that I wasn't going to get the inside jokes so I wasn't surprised when I sat with the deer in the headlights stare. What I was surprised at was the ant-non Mormon actions that were placed in this film.<br /><br />I know it's a Mormon film, catered to the members of the LDS Church, but I found it offensive because of the typical stereotype of people that isn't of their faith. Every non Mormon, which wasn't many, drank, smoked and had an amazing selfishness attitude, why?<br /><br />That really ticked me off about this film, they made the Mormons so pure, yet the rest of the state of Utah I guess is filled with punk psychos just because they don't follow the scriptures of the LDS Church.<br /><br />I can understand having the plots revolve around all LDS members, but you'd think Salt Lake City was 100% Mormon, which isn't even close to being the truth. And as I said, the non Mormons in the movie were portrayed as drunken jerks, please!<br /><br />I guess I just don't get it because I don't belong to their faith and I guess I never will.\n",
      "* * * * * * * * * \n",
      "7186\n",
      "Since the Little Mermaid was one of my favorite Disney movies when I was little, I was curious about its sequel.<br /><br />The Little Mermaid(one) is a classic animated feature with top quality everything, a grand music score, and targets a general audience. In contrast, the Little Mermaid 2 is targeted primarily at young children, because it is spontaneous, reflects a child's self perspective, the music is bouncier and less dramatic, and the ending feels like recess.<br /><br />The Little Mermaid 2 starts out when baby Melody is presented to Ariel's side of the family. Abruptly without any visual cues to aid the drama, a giant tentacle grabs the baby. I laughed, wait a minute it's not funny, the baby's being attacked! Okay, I'll stop laughing. Morgana's crime in broad daylight and her spontaneity, takes away potential drama since it happened so quickly.<br /><br />Throughout the feature, Melody seems superhuman, which I defend is how most children envision themselves. This quality in Melody's character is clearly brought out toward the end when she fights Morgana without an inch of fear on her face.<br /><br />Like the first movie, Melody has a lot of Ariel's problems, except the reverse. Queen Ariel turns out to be like her father by restricting her from the ocean, whereas King Triton restricted Ariel from the surface. Ariel and Melody both rebel against their parent.<br /><br />The music is more emotionally moving in the first. This sequel has a bunch of songs, but not as much orchestral work went into it. It's great for little ones, because it doesn't take an orchestra to impress them.<br /><br />The ending in the first movie was strong and uplifting. The sequel ends with a bouncy song and everyone playing in the water. It's definitely more targeted at kids, because instead of the ending being solemn and leaving you blown away, this ending leaves you thinking, \\It's time for recess!\\\" Ultimately, this movie is fun for kids, so we should let them have fun.\"\n",
      "* * * * * * * * * \n",
      "7288\n",
      "Medellin is a fabulous place to live, work, and study. I've been there twice, and never did I hear anything about guerrilla activities, paramilitaries taking tourists hostage, or anything of the sort. There are \\invisible police,\\\" but it is *not* a Big Brother system. There are just enough police so that they are visible in everyday life, but they do not hassle someone without good reasons.<br /><br />La Sierra is an interesting documentary in that the youths it depicts in the movie essentially become its characters. The directors of the movie carefully carve out plot lines among the daily actions of the inhabitants of La Sierra, and when a \\\"character\\\" dies, there is genuine pathos. It is difficult to imagine, however, that the three youths are all members of the Bloque Metro, a gang that used to terrorize La Sierra before the Colombian government began to restructure the country.<br /><br />La Sierra is not an accurate depiction of life in Colombia; there are, of course, things to be wary of such as petty crime, but when one considers pickpocketing happens in \\\"modern\\\" cities such as London, New York, or Tokyo, Colombia doesn't seem that different after all. Colombians are eagerly awaiting their chance to show to the world that the once war-torn country is now prospering more than ever.\"\n",
      "* * * * * * * * * \n",
      "7311\n",
      "There are bad movies, then there are the movies that are SO bad, that they become almost art. This is one of those films. My partner and I are still both kind of shell shocked, you know, staring off into space and drooling! You can tell that the people involved (I hope they changed their names to protect themselves) were having a blast, and they definitely weren't shy. I give this one a three out of ten just because of the gratuitous smut and REALLY bad gore effects. I laughed out loud during most of the movie, so I guess you could say that it showed me a good time. Beware viewer, the above words in no way construe that this is a good film, because it is not. All I can say in my defense, is that it was impossible to pass up a movie with such a GREAT title!\n",
      "* * * * * * * * * \n"
     ]
    },
    {
     "name": "stdout",
     "output_type": "stream",
     "text": [
      "7534\n",
      "I don't buy kung fu movies for a plot. I buy them for fight scenes. A bad plot can be forgiven for excellent fight scenes, but not the other way around.<br /><br />The story was decent, but moved too slowly for my tastes. There were about 3 or 4 mediocre fight scenes throughout, lasting only a couple of minutes apiece. The last fight was a bit longer, but by that point i was so bored i didn't even pay attention to it.\n",
      "* * * * * * * * * \n",
      "7649\n",
      "I picked this up at the video store because of Tarantino's recommendation (\\If you don't like (this), go f&^% yourself!\\\") on the box... seemed like a ringing endorsement.... I was expecting something a bit more like \\\"Death Proof\\\"... not much actual violence in this one tho, or plot, of character, or dialogue. <br /><br />Look at the poster. It's all there. Stunts, and rock. It goes back and forth. A week or so in the life of an LA band that does a crappy magic show, at a level that you'd maybe see in one of the lesser casinos off the Strip, and an Aussie stuntman new in town finding his feet... They work, they meet girls, they party. End of story.<br /><br />The band obviously needed all that stuff because they are frankly second-tier, and playing a style that was already dated in 1978. It has to be said that the stunt bits in the film are genuinely spinetingling - that Aussie fellow really is something, and the film seems largely motivated by love and respect for the \\\"art\\\". I hung it there to see what crazy thing he'd do next. Just wish he could have found a better vehicle.\"\n",
      "* * * * * * * * * \n",
      "7766\n",
      "A typical 70s Italian coming of age film, original and good music, but with some quirks, interesting but not fantastic photography, poor and at times confused storyline (e.g. the role of the wolf-dog, and where does the boy come from?) with poor dialogue, nice ambiance.<br /><br />The reason it is still (relatively) well-known and sought after is probably the nude scenes (including typical 70s pseudo-coitus) involving an 11 and 13 year old girl with an older teenage boy (Eva Ionesco and Laura Wendel) - it is interesting from a socio-political point of view to see how these representations of very young adolescents was considered acceptable and normal in the whole of Europe (and US) 30 years ago, whereas now it is more than taboo.<br /><br />The story revolves round bullying of one girl (Laura) by the other two characters, and her discovery of sex, a quite accurate representation of an aspect teenage life. The character of Eva (Silvia) does not evolve to the very end of the film and already appears very versed in the erotic arts - there is no \\coming of age\\\" for her: she is a very vain young girl who is already aware of her sexual charms, but ultimately is just used and ends the film crying like the little girl she really still is. The boy is an utterly despicable bully, while Laura comes across as a very naive and weak victim.\"\n",
      "* * * * * * * * * \n",
      "7954\n",
      "I bought this movie last weekend at my local Movie Gallery. It was buy 2 get 2 free and I needed one more so I chose this one. Horrible mistake. The box reads like it would be a really good movie. Well, it starts out like it is going to be this great movie. For about 5 minutes, that is. The movie is about a young woman, Laila, who gets killed trying to save her beau, Jack, from a bull. Laila's dad, Cordobes, is a rancher that the townspeople are afraid of. He assumes that Jack killed Laila because she was supposedly afraid of this bull, and goes on this hunt to find him. That was the first 5 minutes that is good. What follows after that is only gonna get 100 times worse. Whoever wrote the script, in my opinion, had to of been on some kind acid trip or something because nothing else made any sense what so ever. Jack is on the run and finds this traveling radio DJ named Mary who gives him a ride. I think Mary is supposed to be a virgin Mary type character. You know, Jesus' mother. But, who knows, I couldn't make heads or tails of it. As they're running... we get to see bad guys, magical visions, ghostly encounters, flashbacks, etc... And all these things are done in such a way that your brain hurts from trying to figure out what's going on. Needless to say, I took the movie back and exchanged it for something else. It's horrible I tell ya, horrible. And, there is absolutely no bull-fighting in this movie. Unless you count the first minute of the movie. Hope I helped some other people keep from wasting their time on this movie.\n",
      "* * * * * * * * * \n",
      "8018\n",
      "well, the writing was very sloppy, the directing was sloppier, and the editing made it worse (at least i hope it was the editing). the acting wasn't bad, but it wasn't that good either. pretty much none of the characters were likable. at least 45 minutes of that movie was wasted time and the other hour or so was not used anywhere near its full potential. it was a great idea, but yet another wasted good idea goes by. it could have ended 3 different places but it just kept going on to a mostly predictable hollywood ending. and what wasn't predictable was done so badly that it didn't matter. the ending was not worth watching at all. sandra bullock was out of her element and should stay away from these types of movies. the movie looked rushed also. the movie just wasn't really worth seeing, and had i paid for it i would have been very mad. maybe i was more disappointed because i expected a really good movie and got a bad one. the movie over all was not horrifibly bad, but i wouldn't reccomend it. i gave it 2 out of 10 b/c i liked the idea so much and i did like one character (justin i believe, the super smart one). and it also had some very cheap ways to cover plot holes. it was like trying to cover a volcano with cheap masking tape, it was not pretty. anyway, if you see it, wait for the $1.50 theater or video, unless you like pretty much every movie you see, then i guess you'll like this one.\n",
      "* * * * * * * * * \n",
      "8318\n",
      "I can't for the life of me remember why--I must have had a free ticket or something--but I saw this movie in the theater when it was released. I don't remember who I went with, which theater I was in, or even which city. All I remember was how offended I was at this travesty someone dared to call a film, and how half the people in the theater walked out before the movie was over. Unfortunately I stuck it out to end, which I still consider to be one of the worst mistakes of my life thus far. My offense became pure horror when just before the closing credits the smarmy demon child sticks his head out from behind a sign and says \\Look for Problem Child 2, coming soon!\\\" That was hands-down THE most terrifying moment ever recorded on film.<br /><br />The plot, if I recall correctly, involved John Ritter and perhaps his wife (Lord, how I've tried without success to block this film out of my mind) adopting a \\\"problem child.\\\" Maybe they think they can reform him, or something. I really don't know. If that was their intent, they fail miserably because from first frame to last this child remains the brattiest, rudest, most horrid demon-spawn ever to hit the big screen. Forget Damian, forget Rosemary's Baby. This kid takes the cake. The only difference is, we are supposed to feel sorry for him because he's a \\\"problem child.\\\" However, this is impossible since this child is quite likely the most unsympathetic character ever portrayed. You want to kill him through the entire film, and when (SPOILER, like anyone cares) John Ritter decides to keep the vile hell-child you will be yelling \\\"Send him back!\\\" in shocked disgust (like several of the people at the theater where I saw it did).<br /><br />This is only the second movie I have given a \\\"1\\\" to on the IMDb. The other was Superman IV, and by God I couldn't tell you which was worse. John Ritter had a quote in TV Guide about the time that Problem Child 3, which he was not in, came out. He said something like \\\"The only way I would do another [Problem Child] sequel is if they dragged my dead body back to perform.\\\" Amen to that!<br /><br />I would rather watch a 24-hour marathon of Police Academy sequels than see even twenty minutes of Problem Child again. 1/10, only because I can't give it a negative score, which is what it really deserves. Someone burn the original negatives of this film, please!\"\n",
      "* * * * * * * * * \n",
      "8441\n",
      "I think this is probably one of the worst movies I've watched in a long time.<br /><br />Trying to get the 'same characters' with different people is *such* a bad idea. If they couldn't get Sara Michelle G. and Ryan P. in this one, they should have just cut their losses and said to heck with it. Instead they get NEW actors that are horrible at what they did. I seriously felt like I was at a High School or (bad) College play with the lever of acting these people put forth.<br /><br />Where do they get some of these people? Was this their first movie? It sure seemed like it.<br /><br />This movie also parallels the original in a few lines of speech. I had just got done watching the first one and popped #2 in. I was all excited to get to watch the second one and it ended up being the worst show I've seen in a while. I don't hardly EVER *EVER* turn off a movie, but this one definitely went off after about 30 - 40 min.\n",
      "* * * * * * * * * \n",
      "8743\n",
      "Honestly I can't understand why this movie rates so well here, nor why Bakshi himself thought it was his finest film. I'm a huge fan of Bakshi's earlier work - particularly 'Heavy Traffic' and 'Wizards', but frankly 'Wizards' (1977) was the last good film he made. After that he turned to the mainstream, beginning with the diabolical 'Lord of the Rings' and then knuckling down with sword and sorcery heavyweight Frank Frazetta, for 'Fire and Ice'.<br /><br />What can I say? The story is puerile, the animation is TV quality - I insist that it's considerably worse than his 70's stuff - and whereas 'Wizards' had real imagination, quirkiness, some gorgeous background art, and an underground, adult sensibility, 'Fire and Ice' is just designed for 14 year old boys, and has the intellectual clout of Robinson Crusoe on Mars.<br /><br />Yes, if you liked the Gor books, you might like this. In my view though, this was just another blip in the slide in quality after 'Wizards' from which Bakshi never recovered (though he's done some decent TV stuff fairly recently)<br /><br />4.5 out of 10\n",
      "* * * * * * * * * \n",
      "8798\n",
      "***Possible Spoilers***<br /><br />When I saw this today I had some expectation of how it would be like, not too high, but not low either. This was nothing like I expected at all though, it seems to me like the movie makers couldn't make up their mind of what kind of movie to make.<br /><br />In the begining of the film it's somewhat mysterious and kinda exciting, but that'll soon change to some ridiculous scenes - very obvious scenes... As I watched further I almost fell asleep a couple of times.<br /><br />The ending is the most ridiculous of all though, almost splatter/comedy...<br /><br />I'm not saying it doesn't have some good scenes it's just that the film never becomes \\whole\\\".<br /><br />4/10 Movie-Man\"\n",
      "* * * * * * * * * \n",
      "9205\n",
      "Bottom-of-the-Freddy barrel. This is the worst film in the series, beating \\Freddy's Revenge\\\" for that title. A cheap-looking (with mediocre special effects), incoherent mess, with Freddy turned into a punster. He has one or two cool lines, but that doesn't save this illogical and sloppy sequel.\"\n",
      "* * * * * * * * * \n",
      "9267\n",
      "Yet another colourful excuse for men in rubber suits to wrestle with each other. This time around, time travellers from the future arrive in 1992 and recruit a few people to go back with them to 1944 and prevent the creation of Godzilla, thus saving a future Japan from destruction. But having accomplished this task, the time travellers are revealed to be a bunch of double crossers whose own creature goes on the rampage, and with no Godzilla to stop it",
      " Eek! It all sounds very silly, and it probably is, but the plot is surprisingly decent and the final battle looks pretty good too. Unfortunately the rest of the visual effects are just rubbish rather than enjoyably rubbish, and the movie turns out to be just as dull as its predecessors. Look out for the shaky Spielberg in-joke.\n",
      "* * * * * * * * * \n",
      "9424\n",
      "You'll notice that the chemist, who appears in two scenes and gets to speak, is played by Stephen King. \\Don't give up your day job\\\" is the standard thing to say, but that's not fair. King acquits himself reasonably well: he's no worse than any other member of the cast, and better than most. The story, on the other hand, is pure rubbish. Please, give up your day job.<br /><br />Never have I seen so many dreadful performances - of which the lead actor's (the LEAD ACTOR'S!) is probably the worst - gathered together in the one film. Everyone acts hammily, but not in any entertaining way; they all somehow manage to go over-the-top without expending, or manifesting, energy. I blame screenwriter/director Tom Holland. It can't be that ALL the actors are REALLY this bad. What are the odds against that? Admittedly, I've never heard of any of them before, but still, I don't think I could walk into a talent agency and walk out with this many bad performers if I tried: ONE actor, despite my best efforts, would turn out to have talent. So what's more likely - that Tom Holland rolled a dozen consecutive snake-eyes, or that he wrote a lousy script and then directed it poorly? That would also explain why actors are bad in direct proportion to their prominence in the script. The more direction an actor got, the worse he performed. (\\\"You want me to bend over like a hunchback, talk from the back of my throat, show all my teeth, and look bored, all at the same time? Okay...\\\")<br /><br />This theory is confirmed by the fact that Holland undeniably managed to co-write a lousy script. Several writers here have commented on the fact that Billy Halleck is not a likeable character, but that's a misleading way of putting it. He's not a knowable character. All we find out about him before the supernatural stuff starts happening is that he's fat, and that all he can think about is food. (\\\"All I can think about is food,\\\" he tells us, helpfully.) And in the end...<br /><br />(Sigh) I suppose I ought insert a spoiler warning here...<br /><br />In the end he becomes evil. Why? I can only shrug. Perhaps he's under some kind of enchantment. Yeah, that's probably it. By \\\"evil\\\" perhaps I mean \\\"inexplicable\\\" - it's not so much badness as a socially undesirable suspension of ordinary means-end psychology. Anyway, his actions at the end make no sense, nobody's actions make much sense, and this is despite the fact that the characters do little but explain their motivation for the benefit of the audience.<br /><br />By the way, here's my nominee for hammiest line/delivery: \\\"I don't think you'd like it. IN FACT...\\\" [big dramatic pause] \\\"...I don't think you'd like it at all.\\\"\"\n",
      "* * * * * * * * * \n",
      "9437\n",
      "The movie is basically the story of a Russian prostitute's return to her home village for the funeral of a sister/friend. There are a couple of other minor story lines that might actually be more interesting than the one taken, but they are not fully explored. The core of the movie is the funeral, wake, and later controversy over the future of a community of crones that make dolls and sell them to buy vodka but are now missing the artist who made their dolls marketable. Apparently, the movie is unedited. The prostitute's journey from the city to the village is an excruciatingly endless train ride and tramp through the mud. Maybe that's supposed to impress us with the immensity of the Russian landscape. The village itself, such as it is, is inhabited by a legion of widows and one male, the consort of the dead girl. Continuing the doll business is problematic for everyone involved and eventually seems impossible. Most of the film is shot with a hand-held camera that could induce nausea. Another problem for Western viewers is that subtitles don't include the songs and laments of the crones. Don't go to this movie unless you're fluent in Russian.\n",
      "* * * * * * * * * \n",
      "9482\n",
      "First of all, Jenna Jameson is the best actress in this movie, and she's just awful. This movie has every horror move cliché in imagination, and all badly played. The over-sexed teen couple. The comical(not)horny jock. The snotty cool chick. The creepy local color guy. The parental-type couple. The virginal chick who amazingly never dies in these films. The dialogue is so painfully awful and delivered with the depth of a wading pool. It's almost like you're wishing that they'd all die sooner. I saw the rough cut of this film a while ago, but somehow, this just got worse. Sure, the funniest thing in here is the ghoul trying to eat Jameson's implants, but that hardly rates even a rental of this dog. Avoid at all costs.\n",
      "* * * * * * * * * \n",
      "9524\n",
      "Considering that I felt like picking up a new Jet Li film to see some but kicking and brainless hand to hand fighting, I grabbed this title.<br /><br />Unfortunatly, this movie contains more gun battles (ala Chow Yun Fat but nowhere near as good), than Jet Li and company's acrobatic fighting. Thus it was a let down.<br /><br />The faucet fighting was interesting and even funny, considering this was something totaly unexpected in a Jet Li film for me, more on the line of say Jackie Chan.<br /><br />But alas I'd recommend Fist of Legend, Tai Chi Master, or even the Enforcer over this dissapointment.<br /><br />Rating 4 for martial arts Rating 3 for overall movie score\n",
      "* * * * * * * * * \n",
      "9615\n",
      "The more I analyze this film, the worse it becomes. First of all, why a motivational speaker? That part was just stupid. I mean, why would a megalomaniac trying to control the world rely on a motivational speaker? Is Alexander Stone really that disorganized? First he can't decide what he wants to do to control the world, so he looks to the Bible for ideas. Many of these ideas, I might add, really have no reliability(For example, the part of the \\The houses of Ishmael and Isaac shall scream out in terror\\\" could have already happened. It could have been have been the synagogues burned during Krystalnacht and the mosques could very well have been the mosques blown up in Baghdad or something.) And Gillen Lane's family! They had no part except to provide a family values platfrom and dab their eyes with water! I might add that since Casper van Dien/Gillen Lane is only in his twenties(or that's the impression that I had)and has a ten year child, he had his child during high school. Yeah, there goes TBN's family values. Also, why did this film have to be so damn propaganda-like? I'll repeat what an earlier reviewer said. The Indiana Jones flicks use Christian mythology as a plot dvice and manipulate it well so that we are intoxicated. This film doesn't do that. The beginnig starts off well, with Michael Ironsides playing a priest who murders a scholar off some sort and steals the dead guy's Omega Code. Then when confronted by two men who he is obviously afraid of, the two prophets tell him \\\"Tell your master that we are here!\\\". Dominic(Ironsides) replies \\\"He already knows\\\" and points to a small surveillance camera. That part sent chills up my spine. Had only it gone on like that one scene I would have loved this film. I'll give Michael York credit: he does a fine job of acting out his character, as does Michael Ironsides. But the good guys are horrible. I've already went on about Lane's family<br /><br />. Now that I'm over the acting, I'll get on to plot. This is obviously a Baptist film, since our beloved Pope of the Vatican is portrayed as an oaf. The world domination plot I liked and found plausible and subtle, as were the action sequences were also thrilling and well-done. Also another diatribe against the Vatican, their leaders are seen as dogmatically minded, since Gillen explains to the Pope that it's not the end of the world, but the beginning of a new one Also, the Vatican (or Israelis)says their going to secede from the World Union aince they used the Omega Code to control the world. Whoever it was, they wouldn't just secede, they'd send over commandoes and kill them. This is the equivalent of America knowing about the KGB going to kill the President and simply saying \\\"We're not going to talk to you any more!\\\". Come on! I did enjoy the scenes where we see bombers headed towards Israel and see them again on the monitor. Mediocre in short.\"\n",
      "* * * * * * * * * \n",
      "9662\n",
      "This film is terrible. You don't really need to read this review further. If you are planning on watching it, suffice to say - don't (unless you are studying how not to make a good movie).<br /><br />The acting is horrendous... serious amateur hour. Throughout the movie I thought that it was interesting that they found someone who speaks and looks like Michael Madsen, only to find out that it is actually him! A new low even for him!!<br /><br />The plot is terrible. People who claim that it is original or good have probably never seen a decent movie before. Even by the standard of Hollywood action flicks, this is a terrible movie.<br /><br />Don't watch it!!! Go for a jog instead - at least you won't feel like killing yourself.\n",
      "* * * * * * * * * \n",
      "9771\n",
      "When someone remakes a classic movie, the remake is always unfavorably compared to the original. Also, there's a chance that the remake is so radically different that it is just too unfamiliar to audiences.<br /><br />Well, the 1973 TV version of \\Double Indemnity\\\" has almost identical scenes and dialogue as the 1944 original. The main difference is that the remake just seems to have no energy at all. Fred MacMurray was great as the lecherous, leering insurance agent Walter Neff in the original; Richard Crenna just seems world-weary and tired. Edward G. Robinson brought great manic energy to his role as MacMurray's boss Barton Keys; Lee J. Cobb, a fine actor, appears almost bored with the proceedings. Samantha Eggar is all wrong as the conniving, back-stabbing Phyllis Dietrichson; while Barbara Stanwyck was just superb in this wicked role, Eggar is overly polite and mannered and just seems way out of place.<br /><br />Robert Webber, in the old Richard Gaines role as Robinson's boss Norton, and John Fiedler taking the Porter Hall role as the crucial witness, bring some life to the movie. In particular, Webber recreates the Norton role well in a 1970s context.<br /><br />However, after the movie starts, the whole thing just sort of lies there, without any life or electricity. This is one film that never should have been remade.\"\n",
      "* * * * * * * * * \n",
      "9848\n",
      "Without reiterating what was said above about this movie, I would like to add that I was looking forward to watching this film...the cast/location and the work of the excellent director Michael Winterbottom etc...It had a vague shadow of 'Don't look Now' about the storyline from the beginning. A stay in different surroundings (Italy again) to dim the heartbreak of loss...or perhaps that's how I saw it? So consequently I sat there waiting for the story to unfold and put a spin on what we expect to happen to this family in a foreign European country....and I sat there and sat there....and guess what? nothing actually happens! and I mean nothing!! You are not even given the chance to get into the characters as they are so 1 dimensional and vacuous..You are led to believe from the pace of the movie that something was going to happen to turn the whole film on it's head...The eldest daughters flirtation with the local vespa boys, had great scope to take the movie in another direction, the youngest daughters visions of her dead mother ended up being a fruitless and pointless exercise, the fathers attempts at being seduced by one of his female students felt ridiculous given his age. It felt as if the script had a last recall made where they decided at the last minute to eradicated any guts to the story and went for paring it down to a bare minimum to no effect. When the credits started to roll (unexpectedly) you can't help but feel robbed of your time spent sat watching this pile of rubbish.\n",
      "* * * * * * * * * \n",
      "10009\n",
      "Remakes (and sequels) have been a staple of Cinema from the beginning of the media. It is pretty much a hit or miss venture though. If you take what's good of the original and build upon it and update key features too current standards, you can have a success. Note, such films like THE THIEF OF BAGDAD (1924/1940) or KING KONG (1933/2005) succeeded in their attempts. Others like KING KONG (1976) fail, miserably.<br /><br />BRIEF ENCOUNTER (1945) is the template for this film. It is as perfect as could be made on such a subject and we rate it IMDb**********Ten. The story is simple, Love, innocently found by accident and tragically lost. Why, it just happened for the two (2) principals involved at the wrong time. These are portrayed in a convincing and sensitive manner by TREVOR HOWARD and CECILIA JOHNSON. Neither are conventionally leading Star material, but quality Character Actors. For the details watch the film.<br /><br />Now what went wrong? A T.V. Movie, remade practically scene for scene with name actors RICHARD BURTON and SOPHIA LOREN should have at least scored IMDb******Six. Both actors though appear disinterested, just showing up to punch their time-clocks and pick up their checks. Neither are involved with their characters or with each other. You do not believe they are in Love or when they finally separate it is any great loss to either of them. That should not be and that's why it fails in its intent. Sometimes it is just better to leave things alone.\n",
      "* * * * * * * * * \n",
      "10169\n",
      "My wife and I just finished watching Bûsu AKA The Booth. She fell asleep during some parts of the movie. I really wish I had taken a snooze with her, but the unfortunate fact is that the main character's voice is so loud and grating that it was impossible for me to sleep. When our protagonist speaks, it makes me want to hear Regis Philbin and William Shatner sing karaoke. He also has no redeeming qualities. I was hoping he'd get hit by a bus five minutes into the film.<br /><br />Don't get me wrong, I love Asian horror cinema, but The Booth is extremely irritating and full of scenes that really make no damned sense at all. If you want some good Asian cinema, check out A Tale of Two Sisters or Into The Mirror. Avoid The Booth like the plague, especially if you suffer from frequent migraines.\n",
      "* * * * * * * * * \n",
      "10185\n",
      "What can possibly said about this movie other than, \\viewer beware\\\". Christmas Evil should come with a warning label like cigarettes do, because this was harmful to my eyes and ears. I am rarely this unsatisfied with a \\\"b\\\" horror flick, but this movie couldn't even bring a little scare to a five year old. The point of a relentless lunatic that has a thirst for blood in a film is that he/she should seem almost god-like, like nothing can stop their maniacal rage, but in this film the resident psychopath gets himself stuck in a chimney in a bizarre attempt to surprise his next victim and of course follow along with the all to popular legend of santa claus, it's a reminder to the viewer that this man is in no way dangerous because he's far too stupid to be dangerous. All in all a total waste of film.\"\n",
      "* * * * * * * * * \n",
      "10280\n",
      "Disney has yet to meet a movie it couldn't make at least two sequels about. And this one was no exception to the people at Disney to give a weak story to receive a quick reward. Somehow, although I did not pay to view it, I feel cheapened by watching it.<br /><br />Ariel is grown up now and had a daughter. Yet doesn't allow the daughter to go into the sea because of some idle threat made by the sister of the deceased sea-witch. So here we go again.<br /><br />The daughter is tricked (of course) and helps the sea-witch. After a not-so-glorious battle, she is defeated and the mermaids and humans live in harmony. Yawn.<br /><br />There is nothing to view here. Go back to your lives. \\D-\\\"\"\n",
      "* * * * * * * * * \n",
      "10284\n",
      "The Brain (or head) that Wouldn't Die is one of the more thoughtful low budget exploitation films of the early 1960s. It is very difficult to imagine how a script this repulsively sexist could have been written without the intention of self-parody. And the themes that are expressed repeatedly by the female lead, Ginny Leith - a detached head kept alive by machines, I-Vs and clamps - seem to confirm that the film was meant to simultaneously exploit and critique gender stereotypes. Shades of the under-rated Boxing Helena.<br /><br />The genderisms are plentiful, and about as irritating as an army of angry ants. The dialog is hyperbolic, over-dramatic and unbelievable, and the acting is merely OK (but not consistent). Why have I given this film a 4? Because some thought clearly went into it. I am really not sure what point the film was really trying to make, but it seems clear that it strives for an unusually edgy and raw sort of horror (without the blood and guts today's audiences expect).<br /><br />Another unique and interesting aspect of the Brain is that there really are not any heroes in this film, and none of the characters are particularly likable.<br /><br />All considered, this is a fairly painful and disturbing look at early 1960s American pop sexuality, from the viewpoint of a woman kept alive despite her missing body after what should have been a fatal car crash. Her lover is threatening to sew a fresh, high quality, body onto her and force her to continue living with him. She is understandably non-plussed by all of this and forced to befriend a creature who is almost as monstrous as her boyfriend. Oh, there are also some vague references to the 1950s/60s cliché about the evils of science run amok.<br /><br />Recommended for B sci fi buffs and graduate students in gender studies. O/w not recommended.\n",
      "* * * * * * * * * \n",
      "10303\n",
      "This is the least scary film i have ever seen. How the blob manages to eat anyone is the biggest mystery of the film. The blob moves so slowly that an o.a.p in a zimmerframe could escape it. The blob has a large slice of luck coming across a typical horror film woman who instead of running away stands still for half an hour so that she can be eaten. If you havent seen this film i recommend you do, its far too funny to be taken seriously.\n",
      "* * * * * * * * * \n",
      "10305\n",
      "I had the misfortune to sit through the full 102 minutes of what, in my opinion, is this shockingly bad film. It fails on pretty much all levels; the cast is awful, the acting - ham at best and the plot lacks any depth, leaving me feeling violently apathetic as to the outcome of any of the convoluted story lines.<br /><br />Plan B has none of the charm this genre has the scope to convey and I found myself physically cringing at the various points where the script makes its regular misjudged meanderings anywhere towards the region of comedy.<br /><br />A bona fide saccharine coated turd of a movie.\n",
      "* * * * * * * * * \n",
      "10406\n",
      "Man, I really find it hard to believe that the wonderful Alan Ball had anything to do with this mess. Having seen the first two episodes thus far, I think I can safely say this show isn't going to be on my must see list. It's just got so many things working against it.<br /><br />None of the actors cast are particularly good. Anna Paquin as the lead character Sookie, is just awful. I remember her being better in a lot of other things I've seen her in so maybe it's just the writing. She's not really much fun to look at either, there are moments where to be honest she looks downright ugly. The actor who plays Bill is marginally better, if only because his character is supposed to be sort of wooden and aloof. The other actors do their best but with the cliché characters with difficult to perform accents they are given it's a tough job. Tara is an absolute misery to watch, Rutina Wesley absolutely murders the accent. It's like nails on a chalkboard bad. Almost as awful is Nelsan Ellis, it's difficult to understand what he's even saying sometimes. Both his character as well as Tara's also seem a bit racist to me. I don't know, having a character say 'whycome' on an HBO show that isn't The Wire just seems a bit odd. Rounding out the cast so far are Sookie's doddering grandmother, her sex addict brother, and the only bit of genius casting I've seen in William Sanderson as the sheriff.<br /><br />The story seems to be meandering towards it's destination at this point, with no real worry about keeping the viewer interested. The romance stuff is very Dark Shadow-sy. Although this show ups the camp factor from something like those old Dark Shadows episodes times about ten. At times it seemed so campy to me, that I just have to assume it was intended to be. But unlike a show such as Buffy, that pulled camp off masterfully, this show does not. Out of place with the campiness is the extreme gore and graphic sex of the show. I'm not averse to either of these when they are done well, as they have in many other HBO shows but here at least they prolonged rough sex scenes involving Jason Stackhouse seem a bit over the top and pointless.<br /><br />About the only nice thing I can really think to say about this mess is that I liked the opening title sequence. HBO has had a string of bad luck with their shows lately, I hope they cancel this after the first season and try to get something better on the air.\n",
      "* * * * * * * * * \n",
      "10465\n",
      "I gave this 3 stars out of a possible 10 - because the stories are open-ended and left unexplained, and because of the nauseating scenes of someone eating in an extremely disgusting way, plus scenes of a decaying corpse. <br /><br />Neither of the above needed to be shown in such a graphic manner.<br /><br />The film's plot, such as it is, concerns three loosely interconnecting stories, none of which conclude satisfactorily.<br /><br />The bounty hunter, played by Bruce Dern, is the character that connects all three vignettes.<br /><br />First we have Dylan McDermott, looking darn fine, as a wanted criminal who is fleeing to Mexico to escape both the law and the bounty hunter, when he rides through a border town and spots a sad-faced saloon girl played by Helen Hunt.<br /><br />Then we have one of the Hemingway girls, not sure which one, playing a western wife out on the lonely frontier who goes over to see about a neighbor woman, an attractive redhead, whom we soon realize has been out in the badlands a little too long.<br /><br />The conclusion of the film returns to the bounty hunter and what happens to him, with the final scene in the film being completely beyond rational comprehension.\n",
      "* * * * * * * * * \n",
      "10531\n",
      "Channel surfing and caught this on LOGO. It was one of those \\I have to watch this because it's so horribly bad\\\" moments, like Roadhouse without the joy. The writing is atrocious; completely inane and the acting is throw-up-in-your-mouth bad.<br /><br />There's low budget and then there is the abyss which is where this epic should be tossed and never seen from again. I mean, the main characters go to a ski retreat in some rented house and the house is, well, ordinary which is no big deal, but they choose to show all the houseguests pouring over it like it was the Sistine Chapel. I'm sorry but watching 6 guys stare into every 10'x10' boring room with a futon in it and gushing is lame. I guess they didn't learn anything from the Bad News Bears in Breaking Training (see hotel room check scene)...wow a toilet !!! yaayyyyy !!!! I don't buy the its all over the top so anything goes routine. If it smells like...and it looks like...well, you know the rest.<br /><br />Avoid like the plague.<br /><br />edit: Apparently other more close minded reviewers believe that since I disliked this movie, I am an \\\"obvious hater\\\" which I can only assume means I am phobic, which of course is not true. I decided to do this wacky, crazy thing and judge the movie based on the actual content of the film and not by its mere presence (i.e. its refreshing to see...)<br /><br />Sure, it may be refreshing to see but that doesn't equate into a great movie, just give them some better material to work with and tighter direction. In fact, I applaud the effort. Frankly, I'd rather go listen to my Kitchens of Distinction catalogue than watch this again.\"\n",
      "* * * * * * * * * \n",
      "10608\n",
      "the cover of the box makes this movie look really good, don't be fooled. splatter university came out in 1984 which was the last good year for horror, but this movie sucks. the characters are so annoying. only the teacher is cool. there is like no plot to this movie, who the hell would ever produce this waste of a film?<br /><br />spoilers up ahead<br /><br />the teacher dies in this, and it was a female, we all know that we must have a female surviver, if you're going to break the rules do it in a good horror flick not this waste\n",
      "* * * * * * * * * \n",
      "10610\n",
      "End of the World is an uneventful movie, which is odd since it is supposed to be about the total destruction of the earth. The main character is some kind of scientist, I'm not exactly sure what kind. He has two jobs at a government(?) facility guarded by four security men. His first job is monitoring transmissions to and from space (although this actually seems more like a hobby he does when not working on job #2). Job #2 requires him to put on a protective suit and go into a dark room...at least that's the best I can figure. Apparently the \\plant\\\" is not exactly top-secret, as the scientist brings his wife there. She hangs out (they're on their way to a dinner) while he discovers a message from space: Major Earth Disruption, repeated over and over. He says something about it being the first message from space he's ever been able to decipher; his wife tells him they're going to be late for the dinner party. So they leave and go to the party (!?!). Moments later he finds out that China has suffered a major earthquake. From there, the movie goes... nowhere! Yes, Christopher Lee is in it, but that really doesn't help much. Besides, Lee gives a lackluster performance along the lines of his appearance in Howling II. This movie is boring, but it has enough stupid elements that you might want to suffer through it once if you like Christopher Lee or Z-grade sci-fi. Plus, there's lots of stock footage of the earth being destroyed.\"\n",
      "* * * * * * * * * \n",
      "10667\n",
      "Written and acted by sincere amateurs, produced by some exploitation monger, this is dull and hard to watch.<br /><br />Not the worst movie ever, but at least schlock like _Plan 9 From Outer Space_ usually had a real actor or two. I'd recommend _A Thief In The Night_ only to hardcore ironists and hardcore Dispensationalists. I'm neither.<br /><br />Don't believe me? Watch it for free (albeit sourced from poor VHS) here: http://www.archive.org/details/Thief-In-The-Night<br /><br />Relevant links added mostly to reach IMDb's 10-line minimum: http://en.wikipedia.org/wiki/Dispensationalism http://www.dvdtalk.com/reviews/3199/thief-in-the-night-se-a/\n",
      "* * * * * * * * * \n",
      "10684\n",
      "I still can't believe that Wes Craven was responsible for this piece of crap.This movie is worse than \\Deadly Friend\\\".The plot is stupid,the acting is mediocre and the film is deadly dull.I don't know why Wes Craven hates his debut \\\"Last House on the Left\\\"-an absolute masterpiece of the genre and likes(probably)this turkey.Don't get me wrong,I really like some of his movies,but it was a real torture sitting and watching this.\"\n",
      "* * * * * * * * * \n",
      "10911\n",
      "The first half of this movie is a pure delight. Novel. Funny. Wonderful performances. A close knit brother and sister living in Manhattan fall for the same woman! Adult. Bright. Witty. What more could you ask. As a romantic comedy this starts refreshing. It heads into unexplored territory. And then it falls apart.<br /><br />It goes from being a universal adult comedy to a coming-of-age coming-out-of-the-closet story that has been done many times before. What a disappointment. As a people film it begins with such promise. Why does it need to turn into such a pedestrian \\I am who I am\\\" film. The freeze-frame ending shot of Heather Graham's jumping in the air to celebrate \\\"her happiness at finding herself\\\" underlines the banality of the last part of the film.<br /><br />It could have been different. It could have been magical. It ended up being the same old same old.\"\n",
      "* * * * * * * * * \n",
      "10916\n",
      "Despite the acclaim on the DVD cover of the version I borrowed, this film was a disappointment. Yes, it is far more realistic than other war films of the period for depicting the mud, boredom and frustration of the grunt, but unfortunately one comes away from it thinking that's ALL there is to this movie. There is no plot and the dialogue is monotonous. It's not that a good war film needs to have a battle scene every five minute. One of the best World War II films, \\Twelve O'Clock High,\\\" has very little action. But it compensates with crackling dialogue and psychological tension. The exception to \\\"The Story of G.I. Joe\\\" is a brief battle segment (titled \\\"city under siege\\\" on the DVD) which takes place in Italy. Admittedly it is one of the most fast-paced and convincing combat scenes of any war movie. But alas, the rest of the film is not worth watching just for this highlight. Another turn-off is Pvt. Dondaro, played by Wally Cassell, who is meant to be a \\\"romeo\\\" but comes off a pervert. By contrast, Sgt. Warnicki is a sympathetic, if flawed, man. As he says to Capt. Walker (Mitchum) when volunteering for another patrol: \\\"Every step forward is a step closer... to home.\\\" But that last step  one patrol too many  drives him over the mental brink. Too bad the rest of the movie doesn't do justice to some otherwise fine touches. As for Meredith's portrayal of Pyle... it is practically comatose.\"\n",
      "* * * * * * * * * \n",
      "11003\n",
      "This is probably the first entry in the \\Lance O'Leary/Nurse Keat\\\" detective series; in subsequent O'Leary films, he was played by much younger actors than Guy Kibbee.<br /><br />A group of relatives (all played by well-known character actors) gathers in an old house (on a rainy nite, of course!) to speak to a wealthy relative, who goes into a coma.<br /><br />While they wait for him to recover, all sorts of mysterious goings-on happen, including a couple of murders.<br /><br />A creepy film; worth seeing!\"\n",
      "* * * * * * * * * \n"
     ]
    },
    {
     "name": "stdout",
     "output_type": "stream",
     "text": [
      "11148\n",
      "After just 15 minutes into this film, I began to miss Zhang Yimou's earlier, more weighty films that looked at the politics and society of China from unique perspectives. His turn to martial arts films was a serious misstep in my humble opinion. Hero was his worst film since Operation Cougar, with a needlessly complex story and acting more wooden than that found in a John Agar film. Shi Mian Mai Fu is no different. As an American who has been studying Chinese films for a few years now (and understands and can speak some Mandarin), I'm sure my opinion is different from many others as I'm coming from a different background. SMMF, like Hero, is not really a traditional a kung fu film, and it's certainly not a wuxia pian film. There are no sword & sorcery or chivalry elements here. This is a completely different vehicle than infinitely more watchable films such as A Chinese Ghost Story (all 3), The Butterfly Murders, Green Snake, et al. While those all featured charismatic leads who looked like they were actually enjoying what they do, SMMF features bland, and sometimes laughable, dialogue combined with cardboard acting. Zhang Ziyi plays a blind person about as well as Ben Affleck. There's an air of superiority with this film that's really quite insulting. It takes itself so seriously, it just becomes a huge joke by the end. All the actors look as though this is the most important piece of celluloid in history, they destroy any chance of actually conveying emotions, and the complete humorlessness of it really makes you wonder if Zhang Yimou was making a film per se, or simply a showcase (i.e. an \\ego booster\\\") for Zhang Ziyi. The camera is literally making out with her face and she gets sexually assaulted not once but twice in the film. Her acting range really hasn't extended past her ability to play a naive \\\"w\\\"itch. She's so concentrated on her acting, she comes across as cold and lifeless, as though she's reading her lines from a notecard. It's so funny to hear American critics and film people (like the completely clueless Quentin Tarantino) call this film a masterpiece. I guess if they see a bunch of Asian actors on screen looking really important while flying through a bamboo forest, they're tricked into thinking it's brilliant film-making. Ching Siu Tung's choreography, while still retaining his trademark style, editing, and postures, lacks the vitality and originality of his earlier films like A Chinese Ghost Story, Dragon Inn, and Duel to the Death. Sadly to say, the wirework in this film is really subpar, and if there's subpar/obvious wirework, then you probably shouldn't have filmed it at high speed. The same goes for the special effects which have a distinct B-movie feel to them. Beans, daggers, bowls, arrows, swords, and other random objects fly through the air (after being thrown) with no regard for logic, turning, climbing, and banking as though there's a little pilot inside. I know that logic doesn't really hold a place in stylized Chinese martial arts films, but if you don't want to induce a mass amount of giggling from your audience, then you should probably work on your compositing a bit more. Mass melodrama, unintentionally funny dramatic moments, boring fight scenes, really uninspired plot twists are what await you with Shi Mian Mai Fu. It's obvious that Zhang Yimou is no longer making movies for Chinese audiences. This is meant to crack into the Western market just as CTHD did. After watching Hero and SMMF, I've come to the conclusion that if Zhang Yimou wants to make Hollywood films, he's definitely off to the right start. SMMF is basically The Phantom Menace of Chinese martial arts films. And I thought Hero was bad.\"\n",
      "* * * * * * * * * \n",
      "11256\n",
      "In short, the movie had a little bit of a weak 1st act with some forced acting and a somewhat disjointed rhythm and pacing, somewhat of a decent 2nd act that managed to build some tension and intrigue despite some inconsistent pacing and some inferior performances by the cast, and the 3rd act ... there virtually wasn't ANY 3rd act!<br /><br />Regarding the 3rd act, the movie just abruptly ends. There is no resolution and no path down from the climax of the 2nd act, so there wasn't much of a 3rd act. The bad guys die and that's that; the end credits roll. There is nothing to show what happens to the protagonist and the supporting characters and so on. The audience would've likely left the theater after the movie, asking \\that's it?\\\" A real letdown.<br /><br />Music was composed by David Bell which worked adequately enough to serve the film most of the time, but it's certainly nothing outstanding. It's just functional, but achieves this by being merely generic and derivative. It is also apparent that the score is VERY dated with the use of synthesized timpani for some of the percussion. What least impressed me about the score is that some moments of tension heralds music cues sounding like they were ripped off of James Horner from \\\"48 HRS.\\\" and \\\"Commando,\\\" particularly the brass.<br /><br />In all, the film had potential as the basic story itself is good, but the execution was lackluster with mediocre direction, weak acting, and somewhat inconsistent pacing.<br /><br />There was virtually no 3rd act to properly finish the story, and this omission is major and unforgivable as it doesn't allow the movie to end satisfactorily. This could either be the screenplay or, possibly, the production had to cut out filming or editing the 3rd act into the finished movie due to budget constraints (but I'm speculating as to why there isn't a 3rd act). Whatever the reason, the abrupt ending really hurts the movie overall. <br /><br />This is good for a view if you're curious and you can get the movie for VERY cheap as well as to learn the reason WHY you need to have the 3 acts (beginning, middle, end) if you write screenplays and make movies.<br /><br />Otherwise, you might not want to waste your time unless you can get the MST3K version to at least get some laughs out of it.\"\n",
      "* * * * * * * * * \n",
      "11264\n",
      "This film is really terrible. terrible as in it is a waste of 84 minutes of your life. Special effects are so terrible. The acting wasn't convincing.<br /><br />Its about a crocodile that attack a view tourists as they are filming a documentary about \\blood surfing\\\". Blood surfing is when they surf around sharks but it turns terrible wrong when a 31 foot crocodile interrupts there holiday. The sharks don't look real. The crocodile is even worse, and it gets even more pathetic when they are running away form the creature, but the crocodile gets stuck and 2 females flash it. The deaths are fake and the pirates are just to fill in time.<br /><br />A pointless, terrible film thats not worth seeing!!\"\n",
      "* * * * * * * * * \n",
      "11273\n",
      "They constructed this one as a kind of fantasy Man From Snowy River meets Butch Cassidy and the Sundance kid, and just for a romantic touch Ned and Joe get to play away with high class talent, the bored young wives of wealthy older men. OK, there are lots of myths about Ned Kelly, but there are also a lot of well documented facts, still leaving space for artistic creativity in producing a good historical dramaticisation. I mean, this is not the Robin Hood story, not the Arthurian legends, not Beowulf, not someone whose life is so shrouded in the mists of many many centuries past that any recreation of their life and times is 99% guesswork. It's only a couple of lifetimes ago. My own grandparents were already of school age when Ned was hanged. <br /><br />So it's silly me for fancifully imagining this movie was a serious attempt to tell the Kelly story. Having recently read Peter Carey's excellent novel \\The True History of the Kelly Gang\\\" I had eagerly anticipated that this would be in similar vein. But no, the fact is that Mick Jagger's much derided 1970 Kelly was probably far closer to reality, and a better movie overall, which isn't saying a whole lot for it.<br /><br />Glad it only cost me two bucks to hire the DVD! I'll give it 3/10, and that's only because some of the nice shots of the Australian bush make me feel generous.\"\n",
      "* * * * * * * * * \n",
      "11391\n",
      "This movie is written by Charlie Higson, who has before this done the \\legendary\\\" Fast Show and his own show based on one of Fast Show's characters (Tony the car sales man). He's also written James Bond books for kids.<br /><br />Actually I've seen before this only Gordon's movies that are based on Lovecraft's stories, and every one of those is marvelous. Here Gordon tries to do something different. The style is totally \\\"contemporary\\\", which means shaky camera, fast and strange cutting, cool chillout music in the background. It works quite well here, I guess, but it's still pointless and cheap. It makes me often think of the cameraman who's shaking his dv-camera in front of the actors/actresses and try to make stylish moves in the pictures (hoping that something tolerable would come out of it). The casting is good, and there is a whole atmosphere, which is the result of good directing. I think the main character, the \\\"zero\\\" young guy, is quite interesting in his \\\"zeroness\\\". The fat guy is also good. And the guy who looks like Alec Baldwin, but is not him. But pretty soon after the beginning the movie turns out to be something not-so-interesting: In this case I mean an endless line of scenes of sadism and sickness. There is not much humanity in this film/story: It's totally pessimistic, and every person in this movie is disgusting and hopeless, or soon dead. Needless to say that there is no humor either. It's a 1'40 long vomit without no relief in any moment. Anyway, Gordon remains to me one of the most interesting movie makers that are active today, and I think of this movie as an experiment, and as a failure in that. Everyone has to experience getting lost sometimes, just to learn and to find their way again. This might be Gordon's most uninteresting and empty work.\"\n",
      "* * * * * * * * * \n",
      "11555\n",
      "It's rare that I come across a film this awful, this annoying and this irritating. It is without doubt one of the worst films I've ever seen.<br /><br />The plot, when it's not a blur of confusing and pointlessly over flashy editing, is ludicrous. Why did Domino become such a bad-ass tough bitch? Because her gold fish died when she was a kid and this \\traumatic\\\" event left her emotionally stunted, and hating everyone. When the dialogue is not clichéd or banal, it's littered with laughable lines such as: \\\"There are three kinds of people in this world: the rich... the poor... and everyone else\\\". At one point the bounty hunters have some guy tied up in the back of their bus who has a combination number tattooed on his arm. Because of a confusing mobile phone call, instead of rolling his sleeve up and just reading the number, they blow off his arm with a shotgun. At another point, the bounty hunters take a bomb to a meeting arranged with the mafia and threaten to set the bomb off unless the mafia let them go!? Clearly not going to the meeting would have been just too easy.<br /><br />Keira Knightley is unconvincing and dreadfully miscast. Mickey Rourke does manage to salvage some credibility from this mess.<br /><br />I have enjoyed some of Tony Scott's previous films, True Romance being one, but all I could think while suffering this drivel was that it must have been made by a complete idiot.\"\n",
      "* * * * * * * * * \n",
      "11589\n",
      "Disappearance is set in the Mojave desert as Jim (Harry Hamlin) & Patty Henley (Susan Dey) plus their two kids Katie (Basia A'Hern) & Matt (Jeremey Lelliott) along with Ethan (Jamie Croft) a friend of the family are travelling along, they stop at a roadside diner & ask about an old deserted mining town on the map called Weaver. No-one claims to have heard of it but it's definitely there & the family decide to take a detour in order to check it out & take some pictures. Once at the town they take some pictures & have a look around but when it comes time to leave their car won't start & they have to spend the night there. While looking around they find a camcorder videotape which they play only to discover footage of a scared woman saying all her friends have disappeared, the next morning & their car has disappeared as things take a very sinister turn. What is Weaver's secret? Will the Henley's ever leave there alive...<br /><br />Written, co-executive produced & directed by Walter Klenhard I have to say that Disappearance is one of the most frustrating films I have ever watched. For the first 85 minutes it was a pretty good mysterious mix of thriller & horror film but then we are treated to one of the single worst endings ever in motion picture history. The script suggest lots of different things but never elaborates or confirms & I was sitting there genuinely intrigued about what was going on, from the families car mysterious disappearing, the four recent graves, the thing in the abandoned mines, the supernatural sandstorm, the sudden & unexplained disappearance of Ethan & his just as unexplained reappearance, the Sheriff's sinister motives, the compass in the car going crazy, the crashed plane, the townspeople denying Weaver existed & the possible side effects of a neutron bomb being dropped near Weaver in the 40's but they are all tossed out of the window & for all we know could have been totally separate random events. Everything was coming along nicely & was set up for a big twist revelation but none was forthcoming & instead I was treated to the most ambiguous, strange, surreal & downright frustrating ending possible. If nothing else the ending contradicts much of what has gone before & leaves the viewer with more questions than answers. It's almost as if the makers had these great ideas but then didn't know what to do with them & just made the ending up on the spot. I just felt I put so much effort into watching the film which can be pretty slow at times without any sort of reward & in fact the ending felt more like a kick in the teeth or a good two finger salute!<br /><br />Director Klenhard does a reasonable job here, the old ghost town has a certain atmosphere & the large expansive desert locations give a good sense of isolation. It's well made but what were they thinking with that ending? Nothing fits, nothing makes sense & it's just a huge frustrating mess that after sitting through the thing for nearly an hour & a half leaves you confused & wanting to know more. Despite being a horror film there's no blood or gore although there are one or two creepy moments here & there. The film actually reminds of The Hills Have Eyes (2006) remake for large parts as that is what the film is set-up to be before a bizarre ending which does nothing to bring any closure to the film.<br /><br />Technically the film is good with high production values, good special effects, sets, locations & cinematography. Set in America but filmed in South Australia. The acting is fine from a decent cast.<br /><br />Disappearance is a really odd film, for a long time it shapes up to be a neat little horror mystery thriller but it never explains anything which happens & the truly surreal ending just throws up more questions than answers. I really can't see anyone making head nor tail of this, I really can't.\n",
      "* * * * * * * * * \n",
      "11610\n",
      "I remember when I first saw this movie, I was in sixth grade when it happened. Before I saw this, i had listened to the original Broadway recording of it, and I really loved it! But when I saw this, I was like, what the heck?! This movie is missing a lot of the songs from the musical for crying out loud! Who decided to do all of that?!<br /><br />I really am a very huge fan of Gene Kelly, but this movie is probably the worst of a musical that he ever did! The movie looked more like a Hollywood set than the beautiful Highlands of Scotland. And who the heck decided to cut all of Meg's songs out of the movie?! <br /><br />I am willing to bet that when they saw this movie, Lerner and Lowe were probably wondering: \\Who in the world decided to do this to our masterpiece?\\\" Well they had a right to say that if they did, they were probably mad at the fact that Hollywood turned their great musical into this rather blank movie.<br /><br />Song and acting wise Mr. Kelly, you passed the audition with flying colors, but you are in a movie that is missing a lot of the text.<br /><br />So in short, if you want a good movie based on a musical by Frederick Lowe and Alan Jay Lerner, this one isn't it! <br /><br />3/10\"\n",
      "* * * * * * * * * \n",
      "11626\n",
      "I'm somewhat of a fan of Lynche's work, so I was excited when I found this DVD. Unfortunately, I was very let down. It's a series of short cartoons which attempt to show a disturbing and disgusting sort of humor. The animation is very crude, no doubt done using Macromedia. Each cartoon has a big fat guy beating up his family and generally acting like a jerk to everyone he knows. <br /><br />For people who are not familiar with this vein of animation, they will probably be somewhat impressed by it. However, if you've spent much time on Newgrounds.com, like me, then these cartoons will be no different than any of the other stuff you've seen before. Many of the popular amateur artists on Newgrounds are doing much better work than what was shown on this DVD. If Lynch submitted this work to the website, then he would blend in perfectly with some of the better of Newgrounds artists. But, since I saw this on DVD, instead of on Newgrounds, I give it a 4/10, instead of a 7/10, as I would have otherwise. These cartoons are fit for the internet, but with a name like David Lynch on it, I expected better quality both in story and in animation.\n",
      "* * * * * * * * * \n",
      "11632\n",
      "I picked up Time Changer because it looked like a nice low-budget scifi time travel movie and I was in the mood for something like that. The description said it had something to do with some biblical stuff and time travel but I didn't expect a fundamentalist Christian film!<br /><br />The movie had decent special effects and an interesting premise that could have gone places and been far more interesting than it ended up being. Our hero, who is a bible professor from the 1890s, eventually travels forward to the 2000s and finds that modern life is filled with the influences of evil - Jesus is nowhere to be found. This wonderful technological feat is accomplished with the assistance of a fellow bible teacher who somehow managed to invent a functional HG-Wells-style time machine. The movie starts to lose some credibility at this point, which is unfortunate because this happens very early in the film. Earlier (or perhaps immediately later, can't remember for certain), our hero professor was seen teaching what appeared to be a science class where he claimed that scientific findings could only be considered validated if it could be matched with what the bible says. What should be obvious to anyone is that this is clearly not what the scientific method is about, however it is presented such that the filmmakers appear to prefer the point of view that science is useful only if it supports their claims and otherwise is not useful.<br /><br />In any case, that belief is perfectly valid and sensible in the context of the character at the time. So, if we accept that as the fact of life for these bible professors, then obviously the professor who went and invented the time machine isn't a very strong believer as I don't think there's any evidence (and none was offered) for the physics of time travel in the bible. So immediately there's a problem with mixed messages and credibility there, but never mind...<br /><br />After the professor is convinced to take the leap into the future, the shock of modern technology was handled quite well in most cases. It was also fun to not have it pinned down to an exact year (as the character is reading the date off a newspaper to himself, a car honks a horn and it scares him into not finishing the date: it's just two thousand and... *honk*). Some of the shock went on a little too long, though. For instance, the car was one of the first things he encountered when he arrived and around two days later he's invited to a church movie night and takes a ride in a van. He sticks his head out the window like a dog might, is scared by the headlights and the starting engine, etc. That seemed a bit off since he'd been there a few days by this point and the city appeared to be quite busy with traffic. In any case, that's easy to ignore. The rest of the tech shock was well done - especially his first encounter with the TV which was delayed because he didn't even realize what it was until he saw a kid watching one and using a remote.<br /><br />Unfortunately, our hero predictably starts to preach to virtually everyone he meets as if he's an authority on all life and religion just because he's from the past and is an elder. Eventually he gets himself a brief moment in the spotlight at the church he had been visiting where he proceeds to explain his concept of Christianity to them in a long monologue that was supposed to be moving and insightful, but mostly was just more of the same. A couple of husbands in the church begin to get a funny feeling about this guy (go figure) and investigate his name. They eventually conclude that he either is a time traveler or is impersonating this long dead bible professor and decide to find out which it is. The movie frames these guys as non-believer bad guys for being skeptical.<br /><br />Just before the professor is to head back to his own time, he is confronted by those two men. In an effort to avoid being arrested or hauled away, he eventually breaks into an almost insane-like rant about how Jesus is coming soon and that he's a prophet so they should listen to him. Just in time, he's whisked away and one of the husbands wonders if perhaps this is the rapture he'd heard so much about.<br /><br />The irony is that this essentially means the professor became a self-proclaimed (and most likely false) prophet claiming to know that the rapture was near and he was sent by God when truthfully he was sent by his fellow bible professor and did not have any God-given knowledge (that was stated or even hinted at).<br /><br />As I understand it, Revelation claims that the time of the end is only for God to know and at the end of the film we see the inventor professor trying (and failing) to send a bible into the future. First 2080, then 2070, etc. as the scene fades out. Clearly he's trying to determine the exact date of the end times - which he shouldn't be able to know! Essentially, the entire premise of the movie cancels itself out because by being so insistent on their religious beliefs and how certain things are for God to know only, it means there couldn't ever BE a time machine in the first place because then mankind could find out something that only God should know! The entire movie's premise collapses and makes the whole thing basically worthless as it undermines it's own credibility in the end.\n",
      "* * * * * * * * * \n",
      "11778\n",
      "I missed the beginning but I did see most of it. A friend got it on DVD in the cheap room at FYE.<br /><br />The skits are all very short, and yet most of them are still too long. The majority of them, they seem to have forgotten to have something funny! Quite a lot of racist/sexist/\\homophobic\\\" humor in it, skits based on stereotypes, or skits which use racist terms for people.<br /><br />I'm trying to remember anything I thought was funny in it, and I'm having trouble.... The logo for the Tunnel Vision network is a lipsticked mouth with an eyeball in it. The mouth opens and closes over the eye like eyelids. Kind of creepy.<br /><br />What a disappointment. Most of the actors went on to better things, and it's lucky this bomb didn't hold them back.\"\n",
      "* * * * * * * * * \n",
      "11925\n",
      "OK, I am not Japanese. I do know a little about Japanese culture, and a little less about Japanese pop culture. Other than that, I am Spanish, I eat paella and I like black humor.<br /><br />Good, with that point set, I can comment on the movie: I have no idea on how it is enjoyable to the Japanese audiences, Mamoru Oshii is quite a good director- despite the overly pedantic postmodern stuff in the style of Talking Head, and even that was curious and somehow interesting- and I am surprised he came up with this. It may just be one of those lost-in-translation cases, I am afraid it is, but as a European viewer watching the film with subtext overloaded English subtitles I just thought it was horrible. The jokes seemed bad, the script was overcooked- I mean, give the audience a break, and shut up a little you damn narrator- to the point of almost making my head explode over an overkill of fast-paced speaking and absurd action.<br /><br />However, I thought the animation was really cool. The idea is great, and it is well exploited in those animated scenes. However, the eye-candy finishes as soon as the characters are left aside to start with an endless not funny at all mumbo-jumbo speech over still pictures. It just makes you want to fast forward to the next cut-out hysterical characters scene.<br /><br />I read Mamoru Oshii is actually planning on a sequel for this. The idea was good but horribly exploited. Maybe the second part will bring up the good parts of this first one and actually make an interesting movie, or maybe it will be more and more over-narrated scenes. But hell, if you thought Talking Head was dense, Amazing Lifes of Fast Food Gifters will give cause you a stroke.<br /><br />Of course, all this comment is based on the experiences of someone who is European. Probably this is totally useless to Japanese people, maybe it was a really funny film lost in cultural frontiers and translation. Maybe.\n",
      "* * * * * * * * * \n",
      "11979\n",
      "the movie sucked, it wasn't funny, it wasn't exciting. they tried to make it so bad that it would be good, but failed. and thinking it's cool to like this movie, next to the hype, are the only reasons that this movie is a success...<br /><br />the fact that at this moment 50% voted a 10 out of 10 for this movie seems pretty concerning to me, either the movie going public is going insane or this vote is unrealistic which can have numerous causes, and should be dealt with. anyway it is a less than average movie which bloomed through mouth to mouth advertising. It's success can only be described as a marketing marvel.\n",
      "* * * * * * * * * \n",
      "12389\n",
      "Power rangers, the moronic merchandising television kids show from the 1990s, has got to be the most pointless and ridiculous television show ever created.<br /><br />What exactly is the point of this show anyway, other than to sell second rate plastic nonsense to children? There is nothing even remotely redeeming or interesting about this show in anyway.<br /><br />Look at the costumes, which look like spandex gone bad.<br /><br />The mullet style hair, earrings, and fashions of the early 1990s look completely ridiculous these days.<br /><br />Avoid this show at all costs!\n",
      "* * * * * * * * * \n",
      "12422\n",
      "Like 'First Blood', this attempts to make a point about the treatment of Vietnam vets, but there really isn't much time for that in between the monotonous gunfire, burnings, stabbings, torture and explosions as an impossibly indestructible Rambo takes out half of Asia, a ton of Vietnamese soldiers, most of the Russian army, various vehicles and anything else he can point a rocket launcher at. The only woman in the middle of all these boys toys is soon bumped off, allowing the testosterone to reach dangerous levels and the script to degenerate into a succession of loud noises. Helpfully supplying a few hackneyed musical cues is Jerry Goldsmith, who carefully checks off all the clichéd themes from Russian rat-a-tat to Chinese ching-chang-chong just in case we don't quite understand who we're looking at. Stallone has a brain in his head; this empty nonsense is beneath him.\n",
      "* * * * * * * * * \n",
      "12446\n",
      "Is it just me or is that kid really annoying?<br /><br />Hideos sister, spends most of her time running around after the disobedient little so and so. As for him, well, I know he's a kid n all, but his acting ability is about as wooden as a dead tree. So far I'm only half way through, and am fascinated by the story, but the people in it, let it down, I just hope it gets better by the end, as I can't not know what it's all about. Although, some supposedly cryptic messages in the scribbles on the wall and a notebook, indicate everything is backwards, i.e. Dog is God, Live is Evil etc... just seems a little obvious at the moment, yet nobody mentions its obvious meaning, (As yet anyway) If my opinion changes at the end of the movie, I'll update this post, but if your reading this, then well...... See above statement.\n",
      "* * * * * * * * * \n",
      "12550\n",
      "Absolutely awful movie. Utter waste of time.<br /><br />background music is so loud that you cannot understand speech. Well if you really listen closely, whatever they speak is actually unintelligible.<br /><br />Camera work is bad, editing is not present, background score gives a headache, action is shoddy, dialogs are unintelligible, Acting is abysmal and well Kareena used to look like a wrestler, now she looks like a starved wrestler. Hell you can slim down but you cannot gain grace.<br /><br />After spending three hours watching a movie I want to like it, but this movie would not even allow me that pleasure. <br /><br />Please if you want to torture yourself, go ahead watch this.\n",
      "* * * * * * * * * \n",
      "12625\n",
      "First, IFC runs Town and Country, and now this. The difference between that stinker and this Pink Panther rip-off is that Town and Country was watchable. This isn't.<br /><br />I can only surmise that the cast signed up for this so they could goof off in Europe on somebody else's dime. Belushi is especially irritating. His scene with Candy (doing a Z-grade Dom DeLuise) was torture. Speaking of torture, five minutes of the talentless Shepherd, and I bet the prisoners at Gitmo would crack like walnuts!<br /><br />The real \\Crime\\\" (besides this being green-lighted) is Shepherd's character: a mousy wife who takes a Monte Carlo casino for a half-million bucks! If you buy that, I have some oceanfront property in Arizona you might be interested in!\"\n",
      "* * * * * * * * * \n",
      "12646\n",
      "Whether you watch the regular version of this monstrosity or the MST3K version, you can only be impressed by the utter GALL that went into this production. The filmmakers insult the viewer's intelligence from one end to the other and obviously couldn't care less that they are doing so.<br /><br />Everything about it is rock-bottom cheap. Even the 1950s car in the flashback sequence to that era looks like it was hauled out of a junkyard.<br /><br />The \\hobgoblins\\\" are, as you probably know, \\\"realized\\\" with badly-crafted hand puppets and stuffed toys; when a person is supposed to be attacked by them, it's clear the toy is being held by the victim to his or her own body. When the critters scurry away from the two security guards, this is shown (or rather, not shown) by the camera aiming UP at the guards as they look down and turn their heads as if watching the hobgoblins scurrying past. It's reminiscent of the scene in the film \\\"Tangents\\\" where two people are standing in the ruins of a future world, surveying the wreckage, and we aren't shown any of it. Budget constraints alloyed with utter incompetence generally mean you won't have anything worth showing, so why try? The \\\"sets\\\" were utterly laughable. \\\"Club Scum\\\" was an obvious diner; the house appears to have been a vacant house --probably for rent or sale-- which the production company got hold of for an hour or two to do the shoot. The \\\"spacecraft\\\" is something I would have been ashamed to build when I was a model-making 10 year-old.<br /><br />The motivations of the characters make no sense-- Kevin gets denigrated by his worthless ingrate of a girlfriend because he hasn't made her \\\"proud of him.\\\" I'm sure this was intended to make their reconciliation oh so touching at the end, but any guy with real self-respect would have told her to go to hell and left her. Nick is supposedly back from 2 months of Army training (yeah, nice regulation haircut, Nick,) and seems bent on proving that our country is being defended by sadistic, moronic animals who are sex maniacs. Kyle is a phone-sex freak in red shorts who dreams of a night with a spandex-clad dominatrix type, but he's so effeminate that he's more likely gay than not. One of the girls is a prude and the other is a sleaze.<br /><br />And the hobgoblins? At the end they all head back to the vault where they've lived for 30 years. Why? Who knows? Who cares? Watch this film and be amazed at how primitive film-making in our modern age can be when you have an idiotic script, incompetent direction, actors who are so bad they'd be rejected from a high school theater production, and sets worthy of Edward D. Wood, Jr.\"\n",
      "* * * * * * * * * \n",
      "12928\n",
      "Okay, now what the hell is this supposed to be? Is it a family fantasy movie to cash in further on the huge success of Spielberg's \\Close Encounters of the Third Kind\\\"? Or a throwback to the glorious days of prehistoric epics such as \\\"When Dinosaurs Ruled the Earth\\\" and \\\"The Lost World\\\"? Perhaps it's an intellectual & philosophical masterpiece we all fail to comprehend? Yes, that must be it! Whatever it is, the creators of \\\"The Day Time Ended\\\" (good old John 'Bud' Cardos of \\\"Kingdom of the Spiders\\\" and writer David Schmoeller of \\\"Tourist Trap\\\") must have been sniffing quite a lot glue when they penned down the ideas for this demented hodgepodge of genres. The story doesn't make the slightest bit of sense and the narrative structure is incoherent as hell but, hey, who cares as long as it's got papier-mâché dinosaurs, miniature spacecrafts, headache-inducing light & laser shows and spontaneously combusting supernovas! The voice-over introduction is practically inaudible, but no worries as it's all gibberish! Did you know that the definition of 'time' isn't what we all think it is? Time doesn't necessarily pass by chronologically, it is one giant paradox! Words that were spoken thousands of years ago are still floating around now and even things that will happen in the future are already surrounding us. I have absolutely NO idea what all this means, but apparently it provides an easy excuse to gather tap-dancing midget aliens and well-mannered dinosaurs on screen together. I deliberately say well-mannered dinosaurs, because at a certain point one of the prehistoric monsters politely knocks on the front door before menacing his targets. The crazy plot revolves on a family of weirdos living in their solar-powered house in the middle of nowhere. Grandpa is extremely annoying, the granddaughter even more, granny is a walking & talking advertisement billboard for plastic surgery, the youngest son strangely resembles Prince Valiant and the young mother is ",
      " incredibly hot! Chris Mitchum for some reason also pointless wanders around the filming sets as the hot mommy's husband on business travel. The special effects are purely cheesy and absolutely laughable (I sincerely hope that the other reviewer who talked about \\\"excellent special effects\\\" was being sarcastic), but the absolute most genius aspect here are the dialogs! Just read this wondrous example of extraordinary writing: <br /><br />Grandpa: \\\"You know what this is, don't you? This is a time-space warp!<br /><br />Stevie: \\\"I'm not quite sure if I know what that means, dad\\\"<br /><br />Grandpa: \\\"Well, I guess nobody really does\\\" <br /><br />Make up your mind, gramps! Do you know what it is or don't you? And stop talking about \\\"The Vortex\\\" like you're some kind of expert in the field! \\\"The Day Time Ended\\\" is an incredibly childish and not-worth-bothering-for fantasy movie, though I can totally understand that some of its fans cherish the film because they saw it at young age and became fascinated with the flamboyant effects. The ending completely comes out of nowhere, like they suddenly ran out of money or like the effects of the mushrooms they were eating wore out unexpectedly.\"\n",
      "* * * * * * * * * \n",
      "12940\n",
      "For those who never saw A CHORUS LINE onstage and their only exposure to the story was this film, this film is OK as movie musicals, nothing special, just OK. I have seen the show on Broadway 4 times and even auditioned for a touring company of the show once and for someone who pretty much memorized the original production, the 1985 film version is so dreadful on so many levels that I don't even know where to begin. First of all, for those who have never auditioned for a theatrical production, let me assure you that IRL when you audition for a play, the director, producer, and choreographer never ask personal questions and don't give a crap about why you wanted to become a performer. A real theatrical audition, whether it be for a play or a musical, rarely takes more than five minutes. If you're auditioning as a dancer, you get shown a 64-bar dance combination once, you do it, and then they decide immediately whether you're in or out. Michael Bennett's original concept of the show was to flesh out the lives of dancers and introduce to the uninitiated the passion for performing and why so many sacrifice so much for so little. The play is about these dancers. First of all, director Richard Attenborough took so much focus off the dancers by beefing up the Cassie/Zach relationship and by casting Michael Douglas as Zach. In the play, you NEVER see Zach...he is just a voice in the back of the theater and his relationship with Cassie is barely touched upon. Cassie shown in the cab in traffic trying to get to the audition and upstairs talking to Larry (a character who is not even in the play)was all added for the movie and took so much focus off what the story is about. Major musical numbers were cut or rethought. The opening number in the play \\I Hope I Get It\\\" shows all of the dancers doing a jazz and ballet combination and then people get eliminated. In the movie they jam three hundred dancers onstage together and show them in closeup to disguise the fact that they have cast people in the film who can't dance (can you say \\\"Audrey Landers\\\"). \\\"Goodbye 12, Goodbye 13, Hello Love\\\", a brilliant vocal exploration of these dancers' childhood's jaundiced memories was reworked as \\\"Surprise, Surprise\\\" mainly a vehicle for the late Gregg Burge as Richie. The show's most famous song, \\\"What I Did for Love\\\" which in the show was a touching allegory sung by the entire cast about what they give up to dance, becomes just another standard love song in the film, performed tiredly by a miscast Allyson Reed as Cassie. Jeffrey Hornaday's choreography for the film is dull and unimaginative and doesn't hold a candle to Michael Bennett' original staging and when you're making a movie about dancers, the choreography has to be special. There are a couple of good dancers in the film, the previously mentioned Gregg Burge as Richie, Michelle Johnston as Bebe, and Janet Jones as Judy, but they are hardly given the opportunity to show what they can do, yet Audrey Landers, who can barely walk and chew gum at the same time, is given one of the show's best numbers, \\\"Dance 10, Looks 3.\\\" I will admit that the finale, \\\"One\\\" is dazzling, but you have to wait almost two hours for that. I would say that if you never saw A CHORUS LINE onstage, this film might be worth a look, but if you are a devotee of the original Broadway musical...be afraid...be very afraid.\"\n",
      "* * * * * * * * * \n",
      "13029\n",
      "On Steve Irwin's show, he's hillarious. He doesn't even try to be funny and he just is but his movie wasn't even what I would call a movie-I mean when that guy on his car is trying to kill him he's just saying 'Oh, this is one nasty bloke!' and looking straight into the camera. He put his face in the camera too much! And then when the guy falls off the car wouldn't you expect him to be dead? And Terri had the worst acting I'd ever seen! Like when the crocodile almost ate Steve she just says 'Steve'. She didn't sound scared or anything, it was just 'Steve'. I mean I hate to sound mean but that was not worth seeing. I love Steve Irwin but his movie was just too stupid.\n",
      "* * * * * * * * * \n",
      "13128\n",
      "Sort of family parody blending \\An Officer And A Gentleman\\\", \\\"Heartbreak Ridge\\\", \\\"Full Metal Jacket\\\" (and without doubt other movies I am not able to remember now) into a rather dull movie, with some bright spots. The gags are always there where you would expect them, and Damon Wayans's lines are, well, predictable. As I said, unfortunately this movie never surprises you...\"\n",
      "* * * * * * * * * \n",
      "13133\n",
      "I tried to watch this movie twice and both times I still couldn't make it to the end credits. First time I managed to sit through the first fight sequence then lost interest. Second time I managed to force myself to digest over an hours worth of shoddy acting, lame SFX and extremely poor direction. Pales in comparison to the original.<br /><br />Anyone ever hear about the old ET Atari 2600 fiasco? For those who haven't let me fill you in. It's 1982...ET is one of the biggest box office smashes of all time...Atari decides to release a movie tie-in game on their 2600 home console system. To cut a long and financially painful story short the game flopped big time and resulted in thousands upon thousands of Atari 2600 ET games to be dumped in landfills because they couldn't even give them away let alone sell them.<br /><br />What does Universal Soldier: The Return have to do with this story? Look at the 3.2 rating and figure it out for yourself.<br /><br />Awful film...IMDb forced me to give it a 1 out of 10 because their rating systems doesn't go as low as 0 let alone into the negatives.\n",
      "* * * * * * * * * \n",
      "13296\n",
      "I would have liked to give this movie a zero but that wasn't an option!! This movie sucks!!! The women cannot act. i should have known it was gonna suck when i saw Bobby Brown. Nobody in my house could believe i hadn't changed the channel after the first 15 minutes. the idea of black females as gunslingers in the western days is ridiculous. it's not just a race thing, it's also a gender. the combination of the two things is ridiculous.i am sorry because some of the people in the movie aren't bad actors/actresses but the movie itself was awful. it was not credible as a movie. it might be 'entertaining' to a certain group of people but i am not in that group. lol. and using a great line from a great, great movie...\\that's all I have to say about that.\\\"\"\n",
      "* * * * * * * * * \n",
      "13300\n",
      "I was expecting to love this movie--film noir, serial killer, dark irony. I was baffled by many choices the characters made (\\Hey, I know they're creepy looking, but let's hook up for a cross-country road trip anyway!\\\"), found the pacing to be glacial, and the emphasis on moody lighting to take the place of original thought by the director and cinematographer.<br /><br />Thinking about it now, this would have been a much better movie if someone had just run the script through the common sense-o-meter (1992 model) before starting to film...\"\n",
      "* * * * * * * * * \n",
      "13346\n",
      "Utterly predictable silly show about a man who has killed his wife by mowing her down when driving and claimed he had blacked out. Why was he still driving a car? Why did he still feel able to drive a car having killed his wife with one? This question has not occurred to the writers. The story then witters on about a psychologist and her failing marriage which is tied into the failing marriage of wife-killing blackout driver. An omniscient mother and one dimensional child are thrown in for good measure, and the whole builds up to a predictable denouement and crashing finale. Are police psychologists so easily taken in? Deadful writing that the actors do their best with, but they are doomed to failure. This is on a par with a Harlequin Romance. Don't waste your time watching this one unless that's what you are aiming for.\n",
      "* * * * * * * * * \n",
      "13388\n",
      "Prior to watching \\Dahmer,\\\" I thought no movie could be worse than \\\"Freddy Got Fingered.\\\" I was wrong. To sum \\\"Dahmer\\\" up, it's a story about a gay serial killer which features almost no killing and almost entirely consists of Dahmer's encounters with gay men before they were killed. There is no plot to be found, and it serves no purpose as far as telling us anything about \\\"Dahmer.\\\" All you'll learn about Dahmer from watching this movie is that he liked to have sex with men. Horrible acting, horrible directing, horrible writing, horrible everything... If you have to choose between watching \\\"Dahmer\\\" and projectile vomiting for three hours, go with the vomiting .... it wll be less painful.....\"\n",
      "* * * * * * * * * \n",
      "13516\n",
      "for those of you who were desperate to find out what happened to Twitch in the original movie, heres your chance, and then get back to the real world.<br /><br />The guy who hid the gold in the first movie told Twitch, so he gets transferred to another prison, where wrestling champs hang around looking broody. Twitch plans to leave the jail in a month to get the gold to start a life with his woman.<br /><br />Then something happens and someone gets shot, and the film turns into Die Hard in another prison. But the wrestler's daughter is caught up in it all, so he and twitch go to find her and Twitch's woman.<br /><br />As you can imagine, the acting is below par, it features a lot of (really annoying) rap music, and poorly edited fight scenes. On the plus side, it's got that Hispanic bloke in it, who stars in every prison/action/thriller ever made, and he shuts a door in this.<br /><br />It's not very eventful, but at least it's harmless.<br /><br />If you were a massive fan of the original, it's okay-ish stuff.<br /><br />If not, you have been warned.\n",
      "* * * * * * * * * \n",
      "13586\n",
      "There seems to be an overwhelming response to this movie yet no one with the insight to critique its methodology, which is extremely flawed. It simply continues to propogate journalistic style analysis, which is that it plays off of the audiences lack of knowledge and prejudice in order to evoke an emotional decry and outburst of negative diatribe.<br /><br />Journalism 101: tell the viewer some fact only in order to predispose them into drawing conclusions which are predictable. for instance, the idea of civil war, chaos, looting, etc were all supposedly unexpected responses to the collapse of governmental infrastructure following Hussein's demise: were these not all symptomatic of an already destitute culture? doctrinal infighting as symptomatic of these veins of Islam itself, rather than a failure in police force to restrain and secure? would they rather the US have declared marshall law? i'm sure the papers here would've exploded with accusations of a police state and fascist force.<br /><br />aside from the analytical idiocy of the film, it takes a few sideliners and leaves the rest out claiming \\so-and-so refused to be interviewed...\\\" yet the questions they would've asked are no doubt already answered by the hundred inquisitions those individuals have already received. would you, as vice president, deign to be interviewed by a first time writer/producer which was most certainly already amped to twist your words. they couldn't roll tape of Condi to actually show her opinion and answer some of the logistics of the questions, perhaps they never watched her hearing.<br /><br />this is far from a neutral glimpse of the situation on the ground there. this is another biased, asinine approach by journalists - which are, by and large, unthinking herds.<br /><br />anyone wanting to comment on war ought at least have based their ideas on things a little more reliable than NBC coverage and CNN commentary. these interpretations smack of the same vitriol which simply creates a further bipartisanism of those who want to think and those who want to be told by the media what to think.\"\n",
      "* * * * * * * * * \n",
      "13739\n",
      "Can we say retarded? This girl has no talent what so ever, nothing but complete garbage. You people are just marking 10 stars because you know most people hate this pathetic woman, if its such a \\great\\\" show then why did it get canceled after 6 measly episodes? exactly. People that support her, please seek help you do NOT know what is funny. Her stand up comedy is just so stupid, seriously how do you find this trash funny? The show tries to poke fun at stereo types and other things that are not funny at all. Carlos Mencia is funny and to that stupid poster, he actually has fans and his show is on the air so I'm sorry your a redneck who doesen't get his jokes. Please give me my 20 minutes of my life back.\"\n",
      "* * * * * * * * * \n",
      "14006\n",
      "This is the worst movie I ever paid to see and with the exception of \\They Saved Hitler's Brain\\\" the worst movie I have ever seen period. When this movie came out I was a big fan of SNL and SCTV and therefore was anticipating what I thought would be the funniest movie that could be produced since it did not have the restrictions the TV improv shows must deal with. <br /><br />The writers must have thought we will throw in some grossness, some flatulence jokes, some cheap sex and hey we have a risky side splitting laughable comedy. The game show skits are nothing more than cheap unimaginable take offs on Let's Make a Deal with stupid grossness. The sit com take off involving the single girl and her boyfriend was just plain bad high school humor. The stun gun advertisement was suitable humor for Seasame Street. The LA subway skit was bland humor using tasteless bloodiness. The french chef walking around blind constantly uttering \\\"there is no difference\\\" with a french accent was, well you get my point.<br /><br />The only funny skit involved Chevy Chase which lasted for a whole minute. This means you get 60 seconds of entertainment in this movie. Oh yea I've read the comments about the entire country being stoned in the 1970's and you will like this movie if you are high. Well most of the country was not stoned in the 70's. If the inept writers were stoned it must have been on drowsy sinus medicine. There were 4 other people in the theater besides myself when I saw this movie. Of course word did not get out yet about how bad the movie was.\"\n",
      "* * * * * * * * * \n",
      "14061\n",
      "***SPOILERS*** ***SPOILERS*** When I saw a preview for this movie I thought it was going to be atleast a slightly admirable storyline. But as most superstation original movies I was left disapointed. This gullible family ends up driving through this \\deserted\\\" town to take a brake and find this video camera showing these people doing everything their donig and finds out they all eventually disappear, the family goes through all these mysterious stages and never discovers or displays what the heck is stalking them. Their are more gaps than I can count and they don't explain anything that happens how or what. It ends where the family gets in a car accident and get posest or brainwashed or something( which is never explained). The next thing you know ur hoping they somehow find out how all it happened but it ends leaving you completely confused.\"\n",
      "* * * * * * * * * \n",
      "14110\n",
      "All I can really say is that I'm glad that I was knitting socks while watching the movie, or I would be very angry for having wasted 2 hours of my life. The acting was terrible, the plot was even worse. There were some scenes that were meant to be serious that had my husband and I laughing out loud. I highly recommend this movie to people who like to do their own version of MST3K.\n",
      "* * * * * * * * * \n",
      "14157\n",
      "This is quite possibly THE worst movie I have ever seen. Again I made the mistake of buying the movie because the synapse on the back sounded cool and the front cover looked pretty cool too (After buying this and the movie \\Malevolence\\\" which I reviewed on here as well, I have learned my lesson). I love horror movies that take place in the woods or in the desert or on a farm. This supposedly takes place in the woods of Texas but was probably filmed in the director's backyard. The production was probably the worst I ever seen. The actors were absolutely the WORST. The story didn't have anything to do with what the back cover said. I even tried to sell it to F.Y.E and some other \\\"mom and pop\\\" store that buys used DVDs and neither would take it. Thats how awful this poor miserable excuse for a movie was. I have seen some bad movies before (Troll 2 for example) but this definitely takes the cake. I didn't think there was a worse movie than \\\"Troll 2\\\". Boy was I wrong! Do not buy this movie unless someone hands it to you for free but even than your stuck with it unless you throw it out which is what I am about to do!!!!\"\n",
      "* * * * * * * * * \n",
      "14347\n",
      "First of all, I apologize for my English. <br /><br />Everybody from ex-Yugoslavia who isn't some extreme Serbian radical will agree with me. This movie, shows Serbian side, and only Serbian side. No Serbian crimes were represented. Luckily, everyone can see that this movie was made by Serbians, so there is no neutrality. All ''professionals'' who were interviewed are not professionals at all. Some guy only read a book written by some radical Serbian, the other one is genocide denier etc.etc.<br /><br />Even Slovenians were accused in this movie.And the whole war in Slovenia lasted for few days, and only because Slovenians were lucky.There weren't many Serbs in Slovenia, and YNA couldn't reach Slovenia trough Croatia (after Croatia-Serbia war started). Every Slovenian is outraged by all accusations in this movie. <br /><br />Every reasonable Croat will agree with one thing: The independence was too early. Perhaps all major conflicts could be avoided. However, mentioning WWII and some unrelated things was truly pathetic attempt to justify everything. Just imagine Japanese throwing nuclear bombs at Seattle and Washington, and saying that was justified by Hiroshima and Nagasaki. You will find no evidence about strangled YNA soldier, and murdered Serbian civilians near Vukovar. But you can find the tape with reporter committing that his claims about Serbian civilians near Vukovar were lies. All over the internet. And the director forgot to mention the whole bombing of Vukovar by YNA (now on Serbian and Montenegro side-and 100% full of Serbs and Montenegrin) And let's not start about the Chetnik movement. At the beginning, it was simply a resistance movement. But director somehow forgot to mention collaboration with the Nazis, including Ustashe, ethnic cleansing, and fighting again the Yugoslav partisans. There are thousands of other things, but all of it can be easily checked. There are many misleading things in this movie. Only few of all accusations are true. Every Croatian is outraged by this movie. <br /><br />I believe that I don't need to mention Srebrenica genocide denial, the genocide that has too many evidence. Imagine the movie about holocaust denial. This movie is the same. And according to this movie Bosnian Muslims in Sarajevo bombed themselves. Every Bosnian Muslim is outraged by this movie. <br /><br />Somehow director forgot to mention the short occupation of small piece of Macedonian (FYROM) land by the Serbs. <br /><br />Croatians, Slovenians, Bosnians, and Macedonians never entered Serbian borders. If you are not Serbian and you actually started to believe some things from this movie, know that Serbs have some kind of propaganda that Croats, Bosnian Muslims, and Macedonians are actually Serbs who made up their history. So...<br /><br />Even 50% of Serbs will say that this movie is ''little'' extreme and pro-Serbian. <br /><br />And Serbian radicals are very, very pleased with this movie (there is about 40% Serbs who vote for radicals).<br /><br />I think everyone understands my points in here. In this so called documentary is very little truth, and my advice to everyone is: Inform yourself before watching this movie. After that, you will only laugh at all pathetic accusations.<br /><br />Watch real, neutral documentaries about death of Yugoslavia.\n",
      "* * * * * * * * * \n",
      "14520\n",
      "This is a typical Steele novel production in that two people who have undergone some sort of tragedy manage to get together despite the odds. I wouldn't call this a spoiler because anyone who has read a Steele novel knows how they ALL end. If you don't want to know much about the plot, don't keep reading.<br /><br />Gilbert's character, Ophelia, is a woman of French decent who has lost her husband and son in an accident. Gilbert needs to stop doing films where she is required to have an accent because she, otherwise a good actress, cannot realistically pull off any kind of accent. Brad Johnson, also an excellent actor, is Matt, who is recovering from a rather nasty divorce. He is gentle, convincing and compelling in this role.<br /><br />The two meet on the beach through her daughter, Pip, and initially, Ophelia accuses Matt of being a child molester just because he talked art with the kid. All of them become friends after this episode and then the couple falls in love.<br /><br />The chemistry between the two leads is not great, even though the talent of these two people is not, in my opinion, a question. They did the best they could with a predictable plot and a script that borders on stereotypical. Two people meet, tragedy, bigger tragedy, a secret is revealed, another tragedy, and then they get together. I wish there was more to it than that, but there it is in a nutshell.<br /><br />I wanted mindless entertainment, and I got it with this. In regard to the genre of romantic films, this one fails to be memorable. \\A Secret Affair\\\" with Janine Turner is far superior (not a Steele book), as are some of Steele's earlier books turned into film.\"\n",
      "* * * * * * * * * \n",
      "14587\n",
      "This is probably one of the worst films i have ever seen. The events in it are completely random and make little or no sense. The fact that there is a sequel is so sickening i may come down with a case of cabin fever (I'M SO SORRY). I describe it as bug being smooshed to a newspaper because it seems to be different parts of things mixed together. e.g Kevin the pancake loving karate kid is just freakishly weird on its own, then there's the cop who is slightly weird and perverted, then the drug addict, then there's the fact that they attack some random guy who clearly needs help. then all of a sudden the main character is having sex with his friends girlfriend just because she says something stupid about a plane going down. then at the end some good old family racism followed by a rabbit operating on Kevin the karate kid. Its actually pretty despicable that they can use racism as a joke in this film. There is no reason for anyone to enjoy this film unless you love Eli Roth, even that did not make me like this film. Hate is a strong word but seeing as it is the only word i am permitted to use it will have to do. BOYCOTT CABIN FEVER 2!!!!!\n",
      "* * * * * * * * * \n"
     ]
    },
    {
     "name": "stdout",
     "output_type": "stream",
     "text": [
      "14636\n",
      "In keeping with Disney's well-known practice of stealing.. I mean.. buying out known properties and bastardizing them, this live-action version of the venerable cartoon classic has got to be one of the worst re-makes in a year of bad re-makes. I grew up on the original cartoon TV series. Any episode of the original cartoon series will give you more laughs than this entire movie. Not present is Penny's cool computer book. Also not present is the gag with the self-destructing orders that always ends up detonating on the Chief. New are a smooth talking Gadget convertible (the original cartoon had a cooler vehicle that could turn into a van or a car) and an element of a typical, unrealistic Hollywood romance. Don't fill the coffers to pay for Disney executives and even their _ex_executives - don't see this movie.<br /><br />\n",
      "* * * * * * * * * \n",
      "14690\n",
      "This piece of crap, since I can't call it a movie, can be summed up by the following.<br /><br />-Stereotypical black criminal with black midget partner get in trouble -Black Midget pretends to be a baby with a fully developed adult face, body hair and genitalia -Black midget is mistaken(somehow) by man and woman who happen to want a baby -Black midget than goes on to commit acts of physical and sexual violence, demean white people wherever he sees them, and commit more crimes -Happy Ending<br /><br />Honestly, it could have been a good satire if it hadn't been directed so shallowly and had such talentless bastards star in it.\n",
      "* * * * * * * * * \n",
      "14850\n",
      "was sort of enjoying this movie until the issues of Ed Norton's facial hair. Without revealing any plot details--on one afternoon he was sporting a light beard but by the same evening the beard was gone and a very luxuriant moustache was in place. It was much fuller than the moustache that went with the beard. Later on, in the course of a dark night in the open the moustache was gone and he appeared cleans haven. This was on an occasion where stopping to shave wouldn't be an option. These continuity discrepancies totally distracted me from the rest of the movie and ruined any credibility it had previously had. Also, I found the lengthy scene of the cowboy alone in his bedroom was way too reminiscent of De Niro in Taxi Driver. Even if it was meant to be an homage it was laid on too thickly for this viewer.\n",
      "* * * * * * * * * \n",
      "14973\n",
      "do not be suckered into renting this movie. It has nothing to do with an escape from death row, despite the (english) title. I can't think of a single good thing to say about the movie. Poor acting, poor editing, poor directing... laughable \\plot\\\", and the sound/music was so irritating, it's a wonder this movie doesn't come with a warning label. The only possible way to sit through this movie and enjoy it is for it's historical cheesiness quality. They just don't make films this bad anymore.\"\n",
      "* * * * * * * * * \n",
      "15024\n",
      "I suppose bad Laurel and Hardy is better than no Laurel and Hardy at all, but just barely. It's sad that the Fox films are the ones getting a big release on DVD, exposing people who may not be too familiar with L&H to their WORST stuff rather than their classic comedies.<br /><br />Once again the boys are saddled with a dumb romantic plot about a guy who's invented an invisible ray. He's in love with the bosses' daughter, who hates him and prefers some slick guy. It's incredible to think the geniuses at Fox thought THIS is what L&H needed in their films.<br /><br />Without their pancake makeup the boys look tired and old. The only scenes that work for them in this picture is when they try to sneak out of a bedroom window at night and the rather bizarre scene where Robert Mitchum, being a classic noir bad guy tries to sell Oliver Hardy \\insurance\\\" on Stan.<br /><br />Otherwise, this script is just a mess. Forget this and see if you can find a copy of \\\"A Chump at Oxford\\\" or \\\"Bohemian Girl\\\" or \\\"Sons of the Desert\\\" instead.\"\n",
      "* * * * * * * * * \n",
      "15108\n",
      "When we were in junior high school, some of us boys would occasionally set off stinkbombs. It was considered funny then. But the producers, directors and cast of \\Semana Santa\\\" (\\\"Angel of Death\\\" in the DVD section of your local video rental) are adults and they are STILL setting them off.<br /><br />Like the previous reviewer who wondered if the cast were anxious to get off the set and home, I doubt more than one take was done for any of the scenes.<br /><br />Mira Sorvino, hot in \\\"Mighty Aphrodite\\\" and other top-rated films, seems to have undersold herself to this project. Her acting is non-existent, confined mostly to wistful stares that are supposed to indicate how \\\"sensitive\\\" she is to the plight of the film's various victims.<br /><br />But let me warn you--do not be the next victim! Step away from the DVD if you find it on the shelf. Tbere are not many good leg shots of Mira (the only high points I could find in the film) and the supporting cast is of inferior quality, delivering a mishmash of badly-done dialogue with embarrassing \\\"Spanish\\\" accents worthy of the best high school theatrical production.\"\n",
      "* * * * * * * * * \n",
      "15164\n",
      "This has got to be the worst horror movie I have ever seen. I remember watching it years ago when it initially came out on video and for some strange reason I thought I enjoyed it. So, like an idiot, I ran out to purchase the DVD once it was released...what a tragic mistake! I won't even bother to go into the plot because it is so transparent that you can see right through it anyhow. I am a fan of Herschell Gordon Lewis so I am accustomed to cheesy gore effects and bad acting but these people take this to a whole different level. It is almost as if they are intentionally trying to make the worst movie humanly possible...if that was their goal, they suceeded. If they intended to make a film that was supposed to scare you or make you believe in any way, shape, or form that it is real then they failed...MISERABLY! Avoid this movie...read the plot synopsis and you've seen it!\n",
      "* * * * * * * * * \n",
      "15216\n",
      "There is no way to describe how really, really, really bad this movie is. It's a shame that I actually sat through this movie, this very tiresome and predictable movie. What's wrong with it? Acting: There is not one performance that is even remotely close to even being sub-par (atleast they are all very pretty). Soundtrack (songs): \\If we get Orgy on the soundtrack then everyone will know that they are watching a horror film!\\\"; Soundtrack (score): Okay, but anyone with a keyboard can make an okay soundtrack these days. Don't even get me started on the \\\"What the hell?\\\" moments, here are a few: Killer can move at the speed of light--door opens actress turns, no one is there, turns back, there is something sitting in front of her.; Out of now where The killer shows up with a power drill, a really big one! The filmmakers get points for at least plugging it in, but can I really believe that the killer took the time to find the power outlet to plug it in. I feel like one of the guards at the beginning of Holy Grail and want to say \\\"Where'd you get the power drill?\\\". I could go on and on about how bad this film is but I only have 1000 words. I will give this 2 out of ten stars. One star for making me laugh and another star for all the cleavage. Seriously, do not waste your time with this one.\"\n",
      "* * * * * * * * * \n",
      "15273\n",
      "High heels are tricksy things. They can elevate women (or cross-dressing men) to newfound heights, put forward a sharp statement of style and bring a touch of fragile elegance. Alternatively, they can be a perilous foot pain that will inevitably lead to trips, falls and ultimate tragedy. Tacones lejanos is more of a disappointment trip than a stylish high riser.<br /><br />Almodóvar's mother-daughter drama is stylish for sure, but in terms of plot it's a tongue-tied and tedious affair full of confusing, complex characters that never fully engage or make sense. A few moments of comedy aside, Tacones lejanos just isn't interesting. The best bit comes at the beginning in a marvellously macabre case of manslaughter orchestrated by a child. From this brilliant bit of black comedy things are looking up, but then the film comes to a heel.<br /><br />There's solid enough acting performances and there's some stylish, arty direction that you'd expect from Almodóvar, but otherwise Tacones lejanos isn't an impressive piece of Spanish cinema. With a story of murder, showbiz, femininity, fractured mother-daughter relationship and a character who is alternately a judge, a transvestite and a police informer this could have been a melodramatic powerhouse. Instead it's poor. High Heels stumbles for sure.\n",
      "* * * * * * * * * \n",
      "15322\n",
      "I really must watch a good movie soon, because it seems every other entry or so is something that I despise. However my history speaks, I must not tell a lie. Bobby Deerfield and everything about it sucks big green banana peels. I never thought that I would see a film thud as thunderously as this one did. Al Pacino isn't acting in this film: he's posing. There are many, many scenes of his character, who is a race car driver, just staring at the camera. He's perfectly awful. Marthe Keller is just as bad. These two are supposed to be in a love affair, and there is simply no chemistry whatsoever. Sydney Pollack directed this film? There's no trace of the genius behind Tootsie here. Is this the same man I cheered for in Eyes Wide Shut? I can hardly believe it. Save yourself a horrible movie experience. Run, don't walk, away from Bobby Deerfield.\n",
      "* * * * * * * * * \n",
      "15365\n",
      "True, the setting in Paris is great. The actors are fine. The story is a twisted morality play. Is it supposed to say that if you want someone badly enough, it's OK to hurt everyone else along the way? In a real romance, you sort of want less cliché than the man who has become bored with his wife and is willing to dump his family, and the woman who is OK with encouraging him to do this. So what if they are decent looking and if Karen Allen shows off her body? The characters are still self-absorbed and reprehensible. Maybe the moral of the story is \\you get what you deserve\\\". I give it a 4, only for the fast scan potential through the \\\"male interest\\\" bits.\"\n",
      "* * * * * * * * * \n",
      "15428\n",
      "I will keep this as short as possible as this piece of crap barely warrants a mention. ZOMBIE 90 is one of the worst films ever made - right up there with Schnaas' other horrible zombie entry - ZOMBIE DOOM (aka VIOLENT SH!T 3). These films suck so bad that everyone involved in their creation should be shot. I somehow managed (barely...) to sit through ZOMBIE DOOM - but ZOMBIE 90 is so horribly inept - even when compared to Schnaas' other horrible film - that I had to fast-forward through everything after the first 10 minutes. ZERO acting skills, inept gore, horrible camcorder-style camera-work, ridiculous dubbing...it just goes on and on. I really can't find a single thing redeeming about this garbage - and I can usually find SOMETHING redeeming in just about ANY film. This truly is one of the worst films ever made - You've been warned...1/10\n",
      "* * * * * * * * * \n",
      "15497\n",
      "A series of painfully unfunny skits that seem to go on forever and a day. Not as mind-numbingly awful as say \\Freddy Got Fingered\\\" or \\\"Lost Reality\\\", but that in NO way is an endorsement in ANY way, sense or form. Features the worst rhyming clown ever. Any most if it isn't offensive to anybody but the most prudish or politically correct. It also has the worst song parody EVER put on film, the WORST Arnold impersonation EVER (not just the worst put on film, literally the worst EVER). I have NO clue why Karen Black, Micheal Clarke Duncan, or Slash would star in this (the reasons I watched this in the first place) The only thing mildly amusing was Dickman. In conclusion I would't recommend this film to ANYONE, but the people who are making it their mission in life to get this in the Bottom 250 on this site are pathetic. Do something notable with you lives people. Plus if it's true the Church of Scientalogy hates him, he can't be ALL bad.<br /><br />My Grade: D\"\n",
      "* * * * * * * * * \n",
      "15589\n",
      "Movie: There are some very interesting comments on IMDb about this movie. Its truly awful. Not enough money is spent on the movie and the way Spike Lee has made it, it seems like a combination of an indie film and an action flick. Characters/Actors: Denzel has done \\EXACTLY\\\" what he does in every movie, so no surprise there. Here is a little mind game for the readers. Quickly think of 10 Denzel movies. Now count how many of them were in which he played a cop/detective/body guard, whatever. Clive Owen, hmmmmmm, this guy needs a better role on his plate soon. His best performance was I think in \\\"Beyond Borders\\\". Other than that he did pretty much the same thing as he does in every movie as well. His tone and way of talking was very similar to what he did in \\\"Sin City\\\". Surely this guy knows acting, what he doesn't know is better way of choosing roles. He is in desperate need of a better agent. Jodie Foster was brilliant in the movie, if you are watching her for the first time in your life. She has done better. She has had better roles. It so happens in Hollywood that even the biggest stars fall down on their knees and pick up low class roles as Jody Foster did in this movie. Plot: Plot was not confusing, in fact, I could think of such a plot, in fact the whole movie, while taking a dump after a nice big Chinese dinner. I mean come on, ****SPOILER ON THE WAY----> I am sick of the un-necessary Haulocast and the Racism token. The movie is about bank robbers, why put the Haulocast and the Racism in there, nice try playing with people's emotions, worked on anyone? NOT ME. Police let the bank robbers go thinking they were hostages? Riiiiiiight, please, we're talking about US police force and security here. Nobody could find out where Clive was, I mean they didn't find anything different with that room. Who're we kidding? Conclusion: Sure, go watch this movie, if nothing, you'll have a nice time talking to you friends how bad the movie was. At least people won't think you're stupid to go watch this movie because they'd think you went to watch it because it has a big star cast \\\"MISTAKE\\\".\"\n",
      "* * * * * * * * * \n",
      "15622\n",
      "I really, really didn't expect this type of a film outside of America. How anyone can take the subject of sexually abusing children and turn it into a \\thriller\\\" is just sick. Auteuil (whom I had previously admired) going around like some sort of child-saving Rambo was ignorant and insulting to all the children being sexually exploited around the world.<br /><br />What's doubly depressing is that the stunning and ground-breaking film \\\"Happiness\\\" came out the year BEFORE this film. Menges and his cohorts should be ashamed of themselves. It's admirable to read some of the comments by the more intelligent viewers out there. They were able to see the shoddy and ridiculous handling of this topic. Those of you who think this is great cinema display a disgusting amount of ignorance and you need to watch \\\"Happiness\\\" to open your minds to the true horrors of pedophilia.<br /><br />Do you think your child is more likely to be kidnapped and sold into sexual slavery or be molested by a neighbor, teacher, friend or even a relative? Hmm...I wonder. If they are going to make a film about international child slavery of whatever kind they owe it to everyone to make it realistic and emotionally involving instead of this button-pushing crap. 1/10\"\n",
      "* * * * * * * * * \n",
      "15677\n",
      "Notorious for more than a quarter century (and often banned), it's obscurity was its greatest asset it seems. Hey, it's often better to be talked about, rather than actually seen when you can't back the \\legend\\\" up with substance.<br /><br />The film has played in Los Angeles a couple of times recently, and is available on home video, so that veil is slowly being lifted. While there is still plenty to offend the masses, it is more likely to bore them, than arouse much real passion. Except for a gratuitous and protracted XXX sex scene between a pair of horses (\\\"Nature Documentary\\\" anyone?), there follows nearly an hour of a dull arranged marriage melodrama. <br /><br />Once the sex and nudity begins, it is a nonstop sequence involving masturbation, a looooooooong flashback to an alleged 'beauty and the beast' encounter, and a naked woman running around the mansion (nobody, even her supposedly protective Aunt, seems to even think of putting some clothes on her!). On video, I guess you can fast-forward thru the banality, but it's not really worth the effort. The nudity doesn't go beyond what is seen in something much more substantive such as Bertolucci's THE DREAMERS.<br /><br />Try as one might to find some 'moral' or 'symbolism' in the carnality, I doubt it's worthy of anyone's effort. Unfortunately, for LA BETE, now that you can more easily see the film, the notoriety of something once 'forbidden' has been lifted. And this beast has been tamed.\"\n",
      "* * * * * * * * * \n",
      "15757\n",
      "Have you ever sat watching a movie when 20 or 30 minutes have gone by and suddenly you realize that you have actually seen the movie before? That happened to me with \\The Young Graduates\\\". The cover of the video box, if you can find the video, is extremely deceiving. I'd swear that the two women on the cover aren't even in the film.<br /><br />Anyway, I was either born a decade too late to appreciate the finer points of this film or...it is simply pointless junk. I'm heavily leaning toward the latter but I guess some out there have developed a connection to this movie.<br /><br />Hmm...plot. A plot. Let's see...there must be a plot around here somewhere. Nope, I can't find it. It's pretty much about some high school seniors acting dopey and doing drugs and speaking in a language that became outdated decades ago. One of the female students has a crush on her teacher. The teacher has a frigid wife (whom he indeed refers to as an iceberg) so he is receptive to the girl's advances.<br /><br />There's a lot of driving around and inane dialogue and plenty of spastic dancing. Our cat, BooBoo, was transfixed by the dancing high school kids. She watched with amazing intensity as the dancers gyrated and shook out on the dance floor. It's nice to see that at least one species has found something interesting in this relic. 1/10\"\n",
      "* * * * * * * * * \n",
      "15811\n",
      "Here's a review for people like me. This movie sucks from beginning to end. I threw popcorn at the screen and resorted to entertaining myself a la MSF2000. The plot hinges on chance happenings and relies on stupidity from people who are supposed to be smart. The lead falls for a con man and it doesn't occur to her that she might get conned????? And she's rich???? And she's a famous psychologist????? COME ON, people. She enters the bar at just the most convenient moment when everyone is assembled to talk about conning her??? That was so staged that it felt like slap in the face to even half-witted movie viewers. Rain man would have been insulted. I also admit that I despise Mamet dialogue with the kind of passion that some people have for meat-eaters, war-starters, and fur-wearers. My hatred is so complete that it defies logic. But I'll give it a shot. That it's not supposed to sound real is fine. I don't care. It's that everyone talks the SAME. Mamet can't create characters; all he can do is foist his voice on us relentlessly through different actors. No wonder his actors are so wooden. They're confused about everyone being the same character. (However, his later films do improve.)\n",
      "* * * * * * * * * \n",
      "15816\n",
      "A trooper is on the side of the road making sure every1 is obeying the speed limit (doing his job); he then pulls over a woman who appears she is a mother (there is a child in the back seat); he then is telling her what is wrong and BAM...they get killed. Okay, this is the start of what i personally thought would have been a good movie. When I was watching this movie in the theatre I was with some friends. This was our first night out after the summer so we wanted to go and see a good movie. We all decided to see a suspense/thriller that looked good to everyone in the group...this was one of the biggest mistakes of my life. Not only did I waste $7.oo on a movie ticket, but I had to sit through torture for the brain. This movie started off with mystery and suspense and I seriously thought \\this cant be bad\\\"...I was so wrong. The whole problem with this movie is that it makes no sense; even if you can get passed the bad acting, the \\\"not so scary\\\" storyline, and the over all horrible mess this movie was, you will still be puzzled. It's not because you're not smart enough to understand it, it's because no human with a brain could comprehend what this stupid movie is about. Right now you may be thinking \\\"Oh man! I have to watch this movie just to see if it's as bad as this person says it is\\\". GET THAT THOUGHT OUT OF YOUR HEAD RIGHT NOW!!! I'm trying to save you the trouble of watching this movie by telling you that it is so bad that there is no point in even considering seeing it. Please people don't make the same mistake i did thinking that this movie has potential...it doesn't. I give this movie 1 out of 10 (if I could give a zero I would), and I do not recommend anyone to ever see this movie, you'll be saving yourself many sleepless nights trying to think w.t.f. that freaking movie is about.\"\n",
      "* * * * * * * * * \n",
      "15861\n",
      "\\National Lampoon Goes to the Movies\\\" is the worst movie ever made, surpassing even the witless \\\"Plan 9 from Outer Space.\\\" At least that movie was just inept; the Lampoon film, on the other hand, is both inept and mean. Once upon a time, movies used to respect their audiences' intelligence. This one, however, holds a fetid, rotting carcass up to our faces -- and then tries to rub our noses in it.<br /><br />Another reviewer on this site wrote that the only good parts of the movie are the nude scenes; and I agree, Misses Ganzel and Dusenberry do flash a bit of flesh, and very nice flesh it is. But the directors seem not to realize that even T&A needs a good story to surround it. There's none of that here.<br /><br />Perversely, the film makers save the worst for last. The third of the three segments is the ugliest of the trio. In this vignette, Robby Benson plays an eager-beaver young police officer reporting for duty on his first day on the job. He is paired with a weary, cynical oldtimer played by Richard Widmark. For just a moment, we are given hope that this film will end triumphantly. Surely, we think, the youngster's spunky attitude will rub off on the cynic and change him for the better.<br /><br />Forlorn hope! Instead, the cynic wins the day -- and the youngster's spark is doused forever. \\\"National Lampoon Goes to the Movies\\\" and heads right for the toilet, asking us to follow it down the drain. Nominally, this is a comedy. But where's the humor?\"\n",
      "* * * * * * * * * \n",
      "15962\n",
      "This is not a good movie. Too preachy in parts and the story line was sub par. The 3D was OK, but not superb. I almost fell asleep in this movie.<br /><br />The story is about 3 young flies that want to have adventure and follow up on it. The characters are lacking, I truly do not care about these characters and feel that there was nothing to keep an adult interested. Pixar this is not.<br /><br />I would have liked to see more special 3D effects. Also I wold like to see more fly jokes than the mom constantly saying \\Lord of the flies\\\" Pretty sexist in showing the women as house wives and fainting.\"\n",
      "* * * * * * * * * \n",
      "16069\n",
      "It's a poor film, but I must give it to the lead actress in this one....Francine Forbes. She appeared to be acting the least and I personally thought she was kind of cute. Too bad she only appears in one other film in the database. Besides that, the film is filled with laughable gore and fakey death scenes. People get stabbed and they GUSH like 2 gallons of blood! But, if you like to watch poor horror films, I recommend this one highly.\n",
      "* * * * * * * * * \n",
      "16087\n",
      "Much has been made of Rohmer's use of digital technology to 'fill in' the background. At times it works well, the scene where Grace and her maid witness from afar the King's execution is particularly striking. At other times it gives the film a strangely amateurish look, resembling a home video. However, the major failing is that the sheer artificiality of the mise en scene creates an alienating effect in the viewer. We know that what we are watching is not real so how can we feel for the characters? To be frank, I did not care at all what happened to the Lady or the Duke.<br /><br />The other major failing, I regret to say, is the performance of Lucy Russell in the leading role. She is in virtually every scene and the success or otherwise of the film rests on her performance. OK she is speaking a foreign language but she is incapable of expressing real emotion. Her emoting in the scene where she recounts to her friend Mme de Meyler (an excellent performance by the debutante Helena Dubiel) seeing the head on a pole caused some embarrassed laughter in the audience. Also, watch her hands when she is expressing emotion!<br /><br />All in all a very disappointing film, particularly given the positive reviews on this site.\n",
      "* * * * * * * * * \n",
      "16165\n",
      "I saw this in the summer of 1990. I'm still annoyed by how bad this movie is in 2001.<br /><br />Implausible plot. You'd have to be a child to think this could happen.<br /><br />I'm just really annoyed by it. Don't see this.\n",
      "* * * * * * * * * \n",
      "16180\n",
      "You can give JMS and the boys a pass on this one because they were at the beginning of their series and on a small budget, but the movie is still sub-par. Dont get me wrong, B5 the series is by far the best TV series ever, but if i was an exec seeing this movie, i wouldnt have ordered the series. I dont like O'Hare as an actor, the costumes are silly, and there are tons of cliches. The same can be said for most of the first season (with the exception of Babylon Squared and Survivors); Bruce immediately put a fire into the series and it went on to be an amazing spectacle. If you are a B5 fan and havent seen this movie, see it. If you arent a B5 fan, dont...you wont want to watch the series.\n",
      "* * * * * * * * * \n",
      "16206\n",
      "Big Bad Ralph is also on the not so squeazy truck commercials, and can be found at numerous brothels around Melbourne any given night.<br /><br />Terrible Film by the way, wasn't shocking just bad, uninteresting<br /><br />The main guy was in charge of the metal section on countdown , and was the lead bouncer at a gay night club in Melbourne.<br /><br />I dunno who the women where? probably pros's that Ralph knew?<br /><br />No story of interest, its one of those fast forward jobs<br /><br />Please look up Big Bad Ralph at brothels around Melbourne<br /><br />hes famous in them.<br /><br />i wish i could give 0/10 but ill give it 1. Only cos i cant give 0\n",
      "* * * * * * * * * \n",
      "16223\n",
      "since this is part 2, then compering it to part one...<br /><br />man that was on many places wierd... too many time jumps etc.<br /><br />I have to say that I was really disapointed...<br /><br />only someplaces little lame action... and thats it....<br /><br />they could have done that better....<br /><br />\n",
      "* * * * * * * * * \n",
      "16291\n",
      "Thank G_d it bombed, or we might get treated to such delights as \\Skate Fu\\\" where we can see the likes of Brian Boitano performing a triple lutz & slashing bad guys to ribbons with his razor-sharp skates, but I digress. One thing that could have helped this turkey would have been a little T & A from Ms. Agbayani. It's not like the world would have seen anything new (at least that part of the world who saw her Playboy spread.) I truly believe that porn would have suited her 'talents' much better, although Aubrey Hepburn couldn't have stayed afloat in this sewer. One explanation for Kurt Thomas' presence could be a traumatic brain injury, possibly from coming up short too often on dismounts. It's a good thing the IOC wasn't as diligent on 'doping' as they are now, or Kurt would surely have been stripped of his medals. To be avoided at all costs.\"\n",
      "* * * * * * * * * \n",
      "16348\n",
      "I think the biggest disappointment in this film was that, right until the end, I expected the acting instructors of the cast to break in and apologize for how poor the acting was. When you consider the powerful subject, the brilliant scenery and the effort made in creating a wonderful set and spectacular images, it is a shame that little attention was given to acting.<br /><br />\n",
      "* * * * * * * * * \n",
      "16358\n",
      "GUERNSEY (Maria Kraakman - Belgium/Netherlands 2005).<br /><br />The mousy Maria Kraakman plays Anna, a woman in her thirties, who finds out her husband (Fedja van Huet) is cheating on her but she doesn't dare to confront him. She painfully avoids any confrontation with human beings, her parents as well as her sister, so we have a main character in a feature film that doesn't do much at all. We barely know anything about her background or her motivations. Just a woman who seems to be stuck in a blind alley, not just during this difficult episode of her life. She obviously suffers from something, but why do we in the audience have to suffer as well?<br /><br />I almost gave up on cinema after seeing this unwatchable mess. These were a very dull and painful 90 minutes. Normally I try to avoid wasting energy on bad film making. I'll take the beating and roll with the punches, but in this case a fair warning is in place. How on earth did Nanouk Leopold get funding (in large part from publicly financed funds) for this turkey? Obviously, there was no script to speak off. It could be compensated by an ingenious filmmaker with cinematographic ideas or a cast with only a little more appeal. None whatsoever, just a vaguely defined concept, \\I want to do something from a woman's point of view\\\". The result is an insult rather than a tribute to a female perspective on life.<br /><br />To make things worse, there's not an interesting shot to be found in the entire film. I cannot think of a cast who could have spiced this one up, but Johanna ter Steege is a (small) light in the dark, if possible with this dire lack of material. I'm trying to imagine how Leopold tried directing Maria Kraakman: \\\"Maria, look at the horizon, we'll film you for three minutes, just express sadness\\\". A perfect cure for insomnia. Get a copy and watch this late at night, guaranteed too put you to sleep.<br /><br />Camera Obscura --- 1/10\"\n",
      "* * * * * * * * * \n",
      "16368\n",
      "This low budget B horror's plot comes with all the amenities - mad scientist complete with sidekick, malicious corporate greed of pharmaceutical industry, eccentric and extreme genetic engineering, and information technology....can't leave that out.<br /><br />Start with strange sequence of hot looking nameless boaters that foolishly decide to take a dip in the waters near an uncharted island and end up chum for swarming hammerhead sharks.....<br /><br />Cut to weak back story implying the stock decline of a generic pharma corporation which motivates its wicked Shakespeare quoting CEO to entertain an un-solicited offer made by a former employee/scientist that was jilted out of his job as head of research and who also happens to be a nut...of course (total Herbert West wannabe). He is offering up a new stem cell technology that could make tons o' cash...or so it seems...This lures in several employees to his Moreau-ish island (must have been quite an impressive exit package from the company when he was let go for him to afford an island) to validate his scientific findings including the CEO and, co-incidentally, the ex-fiancé of the mad scientist's son now morphed sharkuman (how convenient)....<br /><br />The plan, sort of, is to rekindle lost love between the former nuptials while exacting revenge on the former colleagues for his termination. (Sheez, how can this guy be bitter? He has his own friggen' island after all...).<br /><br />Soon, everyone is on the run (from endless supply of security guards toting heavy weaponry, from mutant plants  can there be an uncharted island without man-eating plants?, from sharky son's appetite for carnage, from quack daddy's breeding plans, and from lack of a cell phone signal)...and they all must learn to work together to get off the island alive! <br /><br />Will anyone escape? Will a new species be created? Watch it and find out.<br /><br />There is some entertainment value in this movie, but don't expect much...for the true Combs fan, this is not to be missed. <br /><br />Don't say I didn't warn you.\n",
      "* * * * * * * * * \n",
      "16543\n",
      "There is no way to avoid a comparison between The Cat in the Hat and The Grinch Who Stole Christmas, so let's get that part out of the way. First of all, let me start by saying that I think Grinch was an underrated and unappreciated film. Cat was... well, just awful.<br /><br />Jim Carey was cast because he is a brilliant physical comedian, and fearlessly commits to over the top, outrageous characters. Mike Myers fell back on his old bag of tricks.<br /><br />Why, why, why Mike Myers?? The kids could care less, and the Austin Powers demographic isn't going to spy this film. So, what was the studio thinking?<br /><br />The Cat was also apparently related to Linda Richmond. Can we talk? Why a New York Accent? Not entirely consistent with anything Dr. Seuss has ever written. Myers was even allowed to sneak in his Scottish shtick. I wonder how many different voices the director and the studio tried to edit out of before they just gave in and said \\as long as you don't say fahklempt', you can keep the accents.\\\" Meyers never seemed to find any sort of comfort, either with the costume, make-up, or dialogue.<br /><br />The jokes, what few there were, were crude and age inappropriate. When Myers picks up a garden hoe and delivers to the camera: \\\"dirty ho\\\", everything but the rim shot was missing, and even that wouldn't have helped.<br /><br />The same folks who created 'Whoville', clearly had a hand in the creation of the town and the houses in 'Cat'. The sets and props were very appealing, giving the viewer a much needed distraction from the bad writing, direction, and Myers.<br /><br />There was some fun to be had with Alec Baldwin and Kelly Preston. Dakota Fanning was the only actor who seemed to be aware she was in a movie based on a Dr. Seuss classic, and stayed true to the genre.<br /><br />Call the SPCA. This Cat should be neutered and never be allowed to reproduce again. Please, please, no sequel.\"\n",
      "* * * * * * * * * \n",
      "16565\n",
      "John Candy. Need we say more? He is the main reason you should see this film. Most people don't realize how gifted he was as an actor. Witness him changing from poor slob to horny jerk. Just a simple(subtle) facial change and off we go. There are many great bits in this movie and many really dumb bits. The best moments for me are the KUNG FU U scenes as well as the great moment when John(in a trance) goes up on stage and talks about how much he loves his girlfriend-that is how much he and his genitals love his girlfriend. I'm sure reading this you might think this sequence sounds really crude. It is, but it is also very funny mainly because it is John Candy doing this bit. The story in general is pretty lame and Eugene Levy and Joe Flaherty(both SCTV alumni with Candy) are not given enough to do in the film. Levy has his moments, especially filming the wedding at the end(think Rod Serling) and the great scene when he is talking to his mother on the phone. Overall a good movie if you have had a tough day and need to put your brain on stupid. I give this one 4 out of 10.\n",
      "* * * * * * * * * \n",
      "16813\n",
      "I couldn't believe it when I put this movie in my DVD player. I thought I'd have a good laugh, since I've played D&D for half my life. I had to turn it off as I had company and they were wondering what the crap I was watching.<br /><br />Finished it later, and I should have just left it off at the soft-core gay clown porn in the beginning. No, they run the gamut of fart jokes, cum jokes, incest, racism, dressing up as KKK... This movie is flat out mean to anyone who's ever played D&D.<br /><br />No wonder it looks like the Real D&D wouldn't let them use their game. Who'd want their name attached to this?\n",
      "* * * * * * * * * \n",
      "16844\n",
      "I would have given it a one instead of a two, but I suppose it COULD have been worse. I guess the acting isn't all that bad, but the plot lacks anything even remotely close to interesting. It is a terrible movie!! TERRIBLE! Complete waste of time! I strongly suggest you do not watch this movie.!!!!!!!!!!!!!!!!!!!!!!!!!!!!!!!!!!!!!!!!!!!!!!!!!!!!!!!!!!!!!!!!!!\n",
      "* * * * * * * * * \n",
      "16851\n",
      "Burt Reynolds came to a point in his career where he appeared to just be going thru the motions. He'd show up, party with his friends on film, and take home a big paycheck. It didn't seem to matter to him that the product he was representing was pure crap.<br /><br />No film epitomized this more than \\Stroker Ace\\\" which makes \\\"Cannonball Run\\\" look like a classic and \\\"Cannonball Run II\\\" look watchable. Save for a few race scenes there is absolutely NOTHING worth seeing here. Even the beautiful Loni Anderson hams it up so bad as a dumb blonde it's embarrassing.<br /><br />If the thought of Burt hamming it up with Jim Nabors and dressing like a chicken sounds funny then this is your movie. Otherwise pick almost any other film comedy and it won't be any worse.\"\n",
      "* * * * * * * * * \n",
      "16905\n",
      "\\Ally McBeal\\\" was a decent enough show, but it was very overrated. The characters become boring after a while and the jokes begin to fall short.<br /><br />I think it chose an appropriate point in time to leave - it was starting to outstay its welcome.\"\n",
      "* * * * * * * * * \n"
     ]
    },
    {
     "name": "stdout",
     "output_type": "stream",
     "text": [
      "17179\n",
      "I like end-of-days movies. I like B-movies. I was hoping I would like this movie.<br /><br />I could ignore the poor effects, the often atrocious music, the cringe-inducing lines. I could ignore the unexplained events, and the fact that the movie constantly relies on deus ex machina is excusable, given the subject matter. I could ignore the fact that the people who fight hunger and try to reach world peace are the bad guys. None of these things kill the movie. What kills this movie is that it's just plain and simple boring. Nothing actually happens; almost all scenes in the movie are designed to push the movie creators' morals on the viewers, at the cost of actually having a coherent story, or any kind of suspense.<br /><br />If you're looking for an entertaining B-movie, look elsewhere. This movie is just boring.\n",
      "* * * * * * * * * \n",
      "17190\n",
      "Obvious attack on Microsoft made by people who don't appear to understand intellectual property or market economies generally.<br /><br />Loony liberal tim robbins plays a painfully obvious caricature of bill gates, and is a cartoonish corporate villain ordering murders right and left.<br /><br />While microsoft may engage in some anticompetitive activity at times, it's unlikely they actually murder people. Therefore, the film is over the top and ridiculous from the beginning.<br /><br />The \\deeper\\\" point is apparently that major tech innovations should be free to the public, and not subject to intellectual property laws. However, this ignores the fact that most major innovations would never have been developed if not for the market incentives (and rewards) provided by intellectual property.<br /><br />It's one thing to be opposed to anti-competitive conduct -- that's common sense. It's quite another to be opposed to market competition in the first place, which is what the film's mantra (\\\"knowledge belongs to mankind\\\") represents.<br /><br />Yet another example of Hollywood being completely out of touch with reality.\"\n",
      "* * * * * * * * * \n",
      "17211\n",
      "The film released at the start of 2000 alongwith MELA both disasters So sad to start a millennium with such nonsense<br /><br />The film seems to suit 70's but looks like an unintentional comedy for 2000<br /><br />Anywayz some classic gems from the film: Paresh Rawal I don't understand to laugh at his role or cry Reason: He goes searching his mother in the village worst part is when he realises a secret of Anil he keeps the secret in his stomach which becomes big and makes him look pregnant I remember in my childhood my teacher told me the same joke Urrf!!!! as a child i laughed at it that time but here?<br /><br />The whole film is a joke can't explain We have Anil in a dual role(One older and younger) and Rekha playing the older's wife and Raveena the youngers We also have reject Harish while Shakti playing the son of Aruna Irani who both fight on who has the worst wig<br /><br />Direction is outdated Music is bad<br /><br />Anil tries hard looks too old in the younger role and too young in the older role yet good effort Rekha is adequate, Raveena too is okay Harish is bad Shakti Kapoor is terrible Aruna Irani is as usual Rajnikant is okay in a cameo\n",
      "* * * * * * * * * \n",
      "17286\n",
      "Just like last years event WWE New Years Revolution 2006 was headlined by an Elimination Chamber match. The difference between last years and this years match however was the entertainment value. In reality only three people stood a chance of walking out of the Pepsi Arena in Albany, New York with the WWE Championship. Those men were current champion John Cena, Kurt Angle and Shawn Michaels. There was no way Vinnie Mac would put the belt on any of the rookies; Carlito or Chris Masters. And Kane? Kane last held the WWE Championship in June 1998, and that was only for one night. It was obvious he wasn't going to be the one either. Last years match was a thrilling affair with six of the best WWE had to offer. 2006 was a predictable and disappointing affair but still the match of the night by far.<br /><br />The only surprise of the evening came after the bell had run on the main event. Out strolled Vince McMahon himself and demanded they lift the chamber. It was then announced that Edge was cashing in his money in the bank championship match right then and there. With no time to prepare and just off the back of winning the Elimination Chamber match John Cena did not stand a chance and dropped the title after a spear to one of the most entertaining heels in WWE. This was the only entertaining piece of action that happened all night.<br /><br />The undercard, like last year, was truly atrocious. Triple H and The Big Show put on a snore fest that had me struggling to stay away. HHH picked up the win but that was never in any real doubt was it? Any pay-per-view that has both Jerry Lawler and Viscera wrestling on the same card will never have any chance of becoming a success really does it. The King pinned Helms (who books this stuff?) and Big Vis tasted defeat against the wasted Shelton Benjamin with a little help from his Mama.<br /><br />The women of the WWE also had a busy night. There was the usual Diva nonsense with a Bra and Panties Gauntlet match which was won by Ashley and the Woman's Championship was also on the line. In a match, I thought would have been left to brew till WrestleMania 22 Mickie James challenged Trish Stratus in a good match. Trish won the contest but it was evident that this is going to continue for the foreseeable future.<br /><br />The opening contest of the night pitted soon to be WWE Champion Edge against Intercontinental Champion, Ric Flair. This could have been better but it was a battered and bloody Flair that retained after a disqualification finish. Edge obviously had bigger fish to fry.<br /><br />So New Years Revolution kicked off the 2006 pay-per-view calendar in disastrous fashion. The only good thing from that is knowing that for the WWE the only way is up. They don't get much worse than this.\n",
      "* * * * * * * * * \n",
      "17318\n",
      "My kids picked this out at the video store...it's great to hear Liza as Dorothy cause she sounds just like her mom. But there are too many bad songs, and the animation is pretty crude compared to other cartoons of that time.\n",
      "* * * * * * * * * \n",
      "17415\n",
      "Honestly, I went to see the movie, not because of the actors, not because of the plot but because it was rated 17 here in Luxembourg and a movie has to be really brutal or pornographic to be put in this category. Believe me, being a movie-freak, I have seen quite a lot of brutal films in my lifetime (Ichi the killer, Irreversible, Hellraiser) but this movie was by far the most disturbing and brutal picture I have ever seen. <br /><br />The plot is plain stupid, the directing is awful, acting was mediocre even the music was a cheap copy of so-called \\Horror Soundtracks\\\". There isn't a single intelligent aspect in the whole movie, and some of the scenes are really hard to stand. (especially the scene, where you see the embryos in the glasses and hear the baby cries--horrible). I can't understand why the movie was rated 16 in Germany, where normally the criteria are real tough (e.g. kill-bill (brutal but it made fun of itself and had great allusions to Asian cinema and besides a magnificent directing) even a movie like state of grace is rated 18). No one can call this a Horror movie, because actually it was more about showing gore than about scaring the public (Showing the \\\"Creep's\\\" face in the middle of the movie was a very bad decision); for me (excuse my expression) it is just one insane director living out his disturbing fantasies. In some scenes you see violence, that has absolutely nothing to do with the plot nor does it explain anything. The plot has holes and flaws, the dialog is boring, honestly I can't mention a single positive aspect of the movie except for the British and Scottish accent.<br /><br />If I had something to say, I would ban this movie from the theaters, I fully understand why none of the big production companies invested their money in this crap.<br /><br />I'm looking forward to getting feedbacks to my thread and I'd be happy to discuss about one or the other topic.<br /><br />\\\"Livin' the dream baby, livin' the dream\\\" David Aames\"\n",
      "* * * * * * * * * \n",
      "17472\n",
      "A few years back the same persons who created Paris,J'TAIME., which was imperfect but very enjoyable ( my rating was a 7), created this piece of garbage about New York City.<br /><br />In Paris, I Love You (J'taime)created a feeling for Paris & it was made in many parts of beautiful Paris.<br /><br />In this current film, I did not recognize New York City, I did not feel that I was in the city of my birth.<br /><br />New York does have 5 boroughs,I saw no scenes in The Bronx, or Queens ,There is one scene in Brooklyn,(Brighton Beach), I saw no scenes in Times Square or Greenwich Village/ No scenes of the beautiful hotels or theatres. It does have a large cast,most of the performers were not even stereotypes, they were caricatures of the lowest sort.<br /><br />The very few humorous moments are all of a course sexual nature or quite insulting to the many fine New Yorkers that we all know & love.. <br /><br />A few of the films nominated for the 'razzie' awards were far better.<br /><br />Ratings: * (out of 4) 20 points (out of 100) IMDb 1 (Out of 10)<br /><br />In my way of thinking I think the title should have been<br /><br />NEW YORK, I HATE YOU.\n",
      "* * * * * * * * * \n",
      "17684\n",
      "MAY CONTAIN SPOILERS...BUT DOUBT IT CAN ACTUALLY BE SPOILT!!.<br /><br />Five Across The Eyes can be summed up in one word....Amateurish. This film tries it's best to be different from most films by the 'Blair Witch' type of filming....it doesn't work....it just ends up looking and feeling like somebody had a cheap video camera, a van and decided to make a movie. The story has no explanation, the protagonist is given no real motivation (and looks like a lesbian wearing a power-suit compared to the five girls) and there is no violence to speak of...just the sounds of screaming and crunching. The whole film takes place inside a van which means decent scenery is out of the question. The five girls really do their best with what they've been given but on the whole come across as pretty terrible actresses...although with the material given it's hard to judge if they can actually aCt....they spend THE WHOLE movie screaming, squealing and whimpering....so much that half the time it's hard to make out what was said and the cameras are so bad it's actually hard to tell who said it. This video paints itself as a violent torture film but is in fact just five girls in a van screaming in terror...that literally sums up the whole movie.....we then get to the end after what seems like 5 hours of constant screaming and all five girls are still alive... with one minus a finger. The only thumbs up(get it...finger....LOL) is for the poor actresses who tried hard and probably lost their voices(and their pride) after making this terrible movie. Do not judge this by the poster....you'll be very let down.\n",
      "* * * * * * * * * \n",
      "17857\n",
      "As a Hammer completist I was dreading the time when I would have to raise the courage to watch this film and the one following it, Holiday on the Buses. I had seen One the Buses the film and thought it one of the worst films I have ever seen. It was full of all the awful comedy that plagued British TV screens around the early 70's.<br /><br />I am ashamed to say that there were actually parts of this film that I laughed at. I don't know if it was because I was now familiar with the characters and enjoyed some of the situations, knowing how they would react. I found Blakey particularly funny, although I could swear at no point in the trilogy does he say his catchphrase, \\I'll get you Butler\\\".<br /><br />Having watched Holiday on the Buses the jokes were starting to wear thin and these three films could be compared to an early Hammer trilogy, Dick Barton, in that the second film made is the best (although this is probably the only way they could be compared).<br /><br />The only people who would want to watch this film are probably fans of the TV series, who will no doubt enjoy this, and Hammer completists like myself. To the completists I would say that this film isn't that bad and I can certainly think of worse Hammer comedies.\"\n",
      "* * * * * * * * * \n",
      "18071\n",
      "I understand that this movie is made for kids and as a parent I have sat through many movies that don't particularly hold my interest, but I can appreciate from a constructive point of view in how it is being received by my children. Parents are supposed to be encouraged after all to take part in their children's activities and to monitor the quality of the entertainment that they view so there should be something that appeals to an adult audience on some level even in children's movies. Disney has always understood this which is why it is so hard to fathom how it could allow such a complete piece of drek to bear their name.<br /><br />Technically, the sound editing is horrible and all dialog sounds over-dubbed and unnatural. Personally I hate that, but it was doubly awful considering the dialog itself seemed as though it was written by a 12 year old for a school project. The \\acting\\\" reminded me of a school play and none of the child actors had any range of emotion in their voices. Thankfully it was a very short movie.<br /><br />Now, before I come off like a video-geek measuring a kids movie with an adult yard stick, the one thing that can save even the worst children's movie is a positive message. Far be it from me to determine how a message has to be delivered so long as the right one is. Let us take a walk through this film to see what messages are given: <br /><br />If you are lost, don't worry, you will inevitably find your way home.<br /><br />Approach wild animals without any fear.<br /><br />You can win any competition just because you \\\"know\\\" you can.<br /><br />and my favorite, the final message left in the film: <br /><br />It's okay to disobey authority figures and do what you think is right.\"\n",
      "* * * * * * * * * \n",
      "18410\n",
      "The Pallbearer is a disappointment and at times extremely boring with a love story that just doesn't work partly with the casting of Gwyneth Paltrow (Julie). Gwyneth Paltrow walks through the entire film with a confused look on her face and its hard to tell what David Schwimmer even sees in her.<br /><br />However The Pallbearer at times is funny particularly the church scene and the group scenes with his friends are a laugh but that's basically it. Watch The Pallbearer for those scenes only and fast forward the rest. Trust me you aren't missing much.\n",
      "* * * * * * * * * \n",
      "18566\n",
      "I imagine when Hitchcock scholars and experts find themselves together, the talk is not of the Master's great films like \\North By Northwest\\\" or \\\"Strangers On A Train\\\", but a lesser-known effort like this one from 1931, obscure and seriously flawed, which showcases the great director in fledgling form.<br /><br />Emily and Fred Hill (Joan Barry and Harry Kendall) are a middle-class London couple scrimping to stay ahead. He begrudges their lot; she accepts it. Change comes in the form of a letter from an uncle, saying he will set them up so they can enjoy a life of globetrotting luxury. They make plans for a world cruise. But their problems have only begun.<br /><br />Just ask Richard Hannay, Roger O. Thornhill, or Marion Crane. Well, Marion's indisposed at the moment, but you get the idea. Travel and Hitchcock go together like moths and candlelight, setting one up for a perilous journey at best. This is perhaps Hitchcock's earliest foray into this theme, and not his most successful or memorable. Hitchcock tries to mix comedy with another element, in this case domestic drama rather than suspense, but the two do not cohere, at least not here.<br /><br />The Hills are a dull, flat couple, with no chemistry or personality. When they find themselves at the Folies Bergère, in the form of cross-cutting with footage that looks ten years older than the rest of this film, they are abashed at the outfits of the female performers. \\\"The curtain's gone up too soon!\\\" gasps Emily. \\\"They aren't dressed.\\\"<br /><br />When the Hills drift away from each other on an ocean cruise, it seems a mercy killing more than a tragic thing, even if the people they partner off with are drips, too. Emily's man, Gordon (Percy Marmont) carries around photographs of himself sitting next to empty chairs, which he suggests be filled by Emily. Fred's girl \\\"the Princess\\\" (Betty Amann) has Clara Bow's eyes and Wallace Beery's five o'clock shadow. There's also an obnoxious fellow passenger, a dowdy spinster whom Hitchcock always introduces with a cartoonish horn cue. Subtlety was still to come.<br /><br />Everything is shot in an abrupt manner, with confusing blocking and strained dialogue. Hitchcock tries for some early comedy with Fred and his umbrella that doesn't come off, and Kendall seems to aim for laughs while Berry plays for tears. When Fred and Emily break off, they are seen being jostled on a pair of wedged-together rickshaws, one of many clunky attempts at symbolism.<br /><br />Emily's the only vaguely sympathetic character, in part because she really cares about her husband and agonizes over her affair with Gordon, but mostly because she's among the first of Hitchcock's many magnetic blondes, her platinum ringlets whipping around her face like a Botticelli aboard the open deck of a Chinese junk near the film's conclusion.<br /><br />Matters conclude with a dangerous situation as set-piece for the protagonists to come to grips with, and presumably repair their relationship. Only they aren't active participants in the resolution, and except for the fate of a friendly cat, nothing about the ending resonates.<br /><br />At least you get some enjoyable views of London in the early 1930s, and a chance to see Hitchcock when he was still working for food. \\\"Rich And Strange\\\" is Hitchcock paying his dues, and learning his trade, one for scholars but not casual film goers.\"\n",
      "* * * * * * * * * \n",
      "18696\n",
      "I must admit that I have been a sucker for Samurai flicks since I can remember. I used to watch rather indiscriminate, be it \\elitist\\\" works like The Seven Samurai or the bloody comic-book variation like Lone Wolf and Cub. I also liked US-/Japanese \\\"Crossovers\\\" like The Bushido Blade. And of course everything containing Sonny Chiba and Hiroyuki Sanada. And I've virtually watched every Samurai at least twice. But not Kabuto.<br /><br />In 1993 I first watched Kabuto on video, that even Samurai films can be boring. In the beginning I was looking forward to Mayeda reaching Europe and the confrontations that would come from that but by the time he actually reached Spain, I really didn't care so much for the movie anymore.<br /><br />It wouldn't do the film justice to call it \\\"bad\\\". Technically it's a clean entry into the genre. But there is simply never quiet enough. Sho Kosugi has limited skills as both director and actor and has only a fraction of above mentioned Japanese actors charisma. And speaking of Sho Kosugis son Kane, who appears in almost all Sho Kosugi films as Shos son: he has inherited little-to-none of his fathers limited acting skills. Adding to the minus-points is the absence of the blood and gore that until then was a trademark of all Samurai film. This was obviously intended for a younger US- / European audience.<br /><br />Lets just say that it's a so-so film for the average historic-action-adventure fan but a bore for hardened fans of Samurai cinema. Fans who are into the \\\"Samurai meets ",
      "\\\"-genre, should rather go and watch Red Sun (1971), featuring Charles Bronson as cowboy who has to team up with Samurai Toshiro Mifume to retrieve a samurai sword from bad-guy Alan Delon. It pretty much how to do it right and where Kabuto went wrong.<br /><br />So, even though the film is a mere 100 minutes, it seems like a much longer film.<br /><br />The reason I gave this a honourable 4/10 points instead of 3/10: First time I saw this film, I saw it in the German synchronized version. In this version, Kosugi can actually be understood. I must admit that his 'Engrish' is at times funny but gets tiresome after about 30 minutes.\"\n",
      "* * * * * * * * * \n",
      "18821\n",
      "Anyone notice that Tommy only has 3 facial expressions.<br /><br />1. The angry eyes look he gives every enemy. 2. The holding of the hands to face, mouth agape and frightened eyes. 3. The smiling Tommy Turnbull.<br /><br />I have to say that i pretty much hate this show, i don't watch it but it's like Code Lyoko, we've all watched at least one, i must say that this show is borderline racist, uninteresting and pointless.<br /><br />every episode ends with robotboy winning, except for one exception when robotboy basically let this overly geeky freakazoid fly away on a jetpack.<br /><br />The jokes are pretty crude too, i think it's mostly people saying the word \\Suck\\\" or farting, i think the bullies of the show are quite shocking too.<br /><br />Isn't there one that hides a bowling ball under his hate, and the other uses a chain, for god sake, what kind of school is he going to. Not to mention his older brother, who is borderline psychopathic and has no other character qualities.<br /><br />The whole show i feel is ripping off megas XLR and Fosters. Like you could say the trio of coop, jamie and Kiva, as well as Robotboy being similar to Megas where he beats everyone no matter what the odds and he's free spirited despite being a robot.<br /><br />There is simply no appeal to this show, i'm surprised that it's still running.\"\n",
      "* * * * * * * * * \n",
      "18833\n",
      "I bought this DVD after seeing it highly ranked here. It's just a short 20 minutes zombie film. Nothing special about it except for the music perhaps.<br /><br />Don't buy it! Not even really worth spending 20 minutes to see it. Only if you're really bored...\n",
      "* * * * * * * * * \n",
      "18904\n",
      "as an actor I really like independent films but this one is amateur at best.<br /><br />The boys go to Vermont for a civil service yet when the plane lands it flies over a palm tree - were the directors aware that palm trees are not in Vermont? Pines yes - palms no. And the same for the wedding service - again nice grove of palm trees.<br /><br />When the boys are leaving VT they apparently could not get a ticket on any major airline since the plane that is filmed is Federal Express. Did they ship themselves Overnight in a crate? Come on guys little details like this separate an indi film from totally amateur.<br /><br />The Christian brother is far gayer than Arthur with his bleached hair and tribal band tattoo. The two should have switched roles.<br /><br />The minor characters are laughable and overact something terrible.<br /><br />Applause to the directors for making a gay film but pay some attention to your locations and casting next time\n",
      "* * * * * * * * * \n",
      "19005\n",
      "This movie is one of the most unintentionally bad action films ever put to film. Dolph Friggin' Lundren with a Japanese accent is funny enough, but add really corny buddy-buddy action to the mix, an eccentric and over-the-top villain, a clichéd love interest subplot and one of the worst endings of all time, and you've got yourself quite the little suicide-inducing cure for people who enjoy their life and, up till watching \\Showdown,\\\" had never contemplated killing themselves with a blowtorch.<br /><br />I don't know if it's just me but the whole homosexual subtext is none too subtle. There are constant references to male genitalia, and not by females, either. Brandon Lee and Dolphin talk about each other's manly parts, and in fact before going on a suicide spree, Brandon says to Dolphy, \\\"In case we don't make it, I want to tell you, you have the biggest d--- I've ever seen.\\\"<br /><br />Now, is this what a normal man would say to another man? In an ACTION film no less? And would you want those to be your _dying words_??<br /><br />Later, there's this gem:<br /><br />Dolph (regarding the villain): \\\"I would like to cut off certain parts of his anatomy.\\\" Brandon: \\\"Man, you've got a fixation.\\\" <br /><br />As the guy at RuthlessReviews.com pointed out, \\\"Unfortunately, Dolph doesn't respond with, 'I've got a fixation? I've got a fixation?! You're the one who decided that his last words should be about my privates! I was just gonna chop of his ears and his nose, man.\\\"<br /><br />This is relentlessly silly stuff and great fun if you're someone who enjoys receiving root canals from unlicensed dentists, without novocain. It's about on par. Great fun for the whole family!\"\n",
      "* * * * * * * * * \n"
     ]
    },
    {
     "name": "stdout",
     "output_type": "stream",
     "text": [
      "19272\n",
      "(Rating: 21 by The Film Snob.) (See our blog What-To-See-Next for details on our rating system.)<br /><br />Here's a movie that will have you clawing at your own face in an attempt to earn release from the on-screen tedium. <br /><br />You'll not be wringing your hands, nor rolling your eyes, nor sighing into your popcorn. No indeed. For a movie of *this* averagousity, only clawing at your own face will do. <br /><br />When you begin to claw your own face -- as begin you must! -- start in at the lower portion. You'll need your upper portion, with its handy tear ducts, intact for the Truly Tear-jerking third act which may bring you to your knees if you haven't clawed your way clear of the entire theatre by then. <br /><br />In a season celebrating Joe Six-Pack and Hockey Moms as the new Gold Standard for leadership and foreign diplomacy, permaybe a movie this tedium will be welcomed as A Thing that anyone could create. *Watching* it, however, is a much more dangerous undertaking. <br /><br />Here's our story... <br /><br />Sidney Young, the London publisher of a fourth-tier celebrity/entertainment magazine is just about to see his magazine go under. He needs a miracle, and what he gets is a phone call from New York City, in the USA.<br /><br />The publisher of Sharp's magazine, Clayton Harding (played by Jeff Bridges) says \\Come work for me!\\\" With his own employees carrying out the fax machine out of his apartment/office in the background, saying \\\"Yes\\\" is a no-brainer.<br /><br />Soon Sidney is at work in New York City, doing allllllll the wrong things. His interviews consist of asking Broadway musical directors if they are (1) Jewish, and (2) gay. <br /><br />He kills the pet dog of Sohpie Maes, the industry's hottest movie star, when she leaves it in the magazine's offices during a business luncheon.<br /><br />This is a spot of bad luck for everyone, for, among other things, Sidney imagines that he is in love with Maes, before he wakes up to the Dunst character.<br /><br />Worst of all, he totally alienates Alison Olsen (played by winsome scripting-confusion by Kristen Dunst), a colleague assigned to show him the ropes of the magazine *and* The Big Apple. (We have, of course, been to a movie before, and so we know how this relationship is going to end up. This is therefore why we'll need intact tear ducts for the movie's third act.)<br /><br />The problem with The Thing is, the script just never jells, excepting for the one tear-duct set piece in which True Love prevails.<br /><br />Publisher Harding is supposed to be a son-of-a-bitch who also wants to just throw the whole job over. The script never comes down firmly on one or the other sides of this dichotomy, however, and Bridges is left to twist and waffle in the breeze.<br /><br />Alison Olsen is supposed to despise Sidney Young, but whenever he comes up to her (as he does constantly) she makes a point of engaging him in conversation, instead of attempting to discourage his existence.<br /><br />The \\\"comedy\\\" of early scenes is built around a piglet destroying an expensive hotel room, and then taking the elevator downstairs to urinate on the expensive high heels of a celebrity at a cocktail reception.<br /><br />The hot starlet Maes confesses that she is attracted to Young because he is \\\"wounded.\\\" The character never shows us *why* he is wounded, however. This is yet another resultant of the movie's mortally wounded script.<br /><br />At one hours and fifty minutes, This Thing feels longer (and more deadly) than Napoleon's retreat from Moscow. It is uninspiring, unfunny, unredeemable, and not even rentable. Run Away\"\n",
      "* * * * * * * * * \n",
      "19400\n",
      "I remember watching the BSG pilot. I can describe that night exactly. I remember what chair I sat in. That show was magic. It came alive. I enjoyed the first two years of BSG. I enjoyed parts of the third year even, and I watched every episode of the fourth year, totally faithfully in great hopes that it would somehow turn around. Well, it didn't.<br /><br />I watched the Caprica pilot and was enthralled. There was hope for something good here. Then I started watching the regular episodes, and they are getting more and more boring.<br /><br />It's too obvious, too predictable. It reminds me of the droll political correctness of his last failed show, Virtuality.<br /><br />Much of his line work on DS9 was good. When he focused on BSG in an organized way, it was good. This was especially true early on when they more or less followed the pattern of episodes set by the first BSG series. When they departed from that after meeting up with Admiral Cain and the Pegasus, it all went to pot. It was like he wrote the rest of the show without knowing where he was going.<br /><br />Maybe it will improve. Maybe it was just a few weak initial episodes. But I am very, very nervous.\n",
      "* * * * * * * * * \n",
      "19406\n",
      "I never thought I see a movie worse than \\Lisa Picard Is Famous\\\", but this came pretty close. As repeated often throughout the comments, it was predictable; five minutes into the movie you know it will be a stranded at the alter outcome. This movie painfully references/rips off everything from \\\"Something about Mary\\\" to \\\"Revenge of the Pink Panther\\\". Writer Greg Glienna (Meet the Parents) needs some new material.<br /><br />The only twist is the deranged boyfriend/police officer pursued by internal affairs, but even that opportunity is wasted. Lots of setting shots of the Seattle Space Needle necessary to disguise the obvious Canadian shooting locale. Some of the worst driving in the car scenes with almost no effort to disguise the fact that the car is being pulled through town on a trailer. Geez, at least turn the wheel or put the brakes on once in a while. Selma Blair is inert and the short haircut a crime. $3M to Jason Lee, for what? Guess it beats skateboarding!<br /><br />So here's who should see this movie: Bee Gees fans who want to hear two actors sing 'Islands in the Stream' badly; People who can't get enough of Julia Stiles. 1/10\"\n",
      "* * * * * * * * * \n",
      "19447\n",
      "I have seen over 1000 movies and this one stands out as one of the worst movies that I have ever seen. It is a shame that they had to associate this garbage to The Angels 1963 song \\My Boyfriend's Back.\\\" If you have to make a choice between watching this movie and painful dental work, I would suggest the dental work.\"\n",
      "* * * * * * * * * \n",
      "19570\n",
      "The film is about Sir Christopher Strong (MP--member of Parliament--played by Colin Clive) and his affair with the Amelia Earhart-like character played by Katherine Hepburn. Up until they met, he had been a very devoted husband but when he met the odd but fascinating Hepburn, he \\couldn't help himself\\\" and they fell in love. You can tell, because they stare off into space a lot and talk ENDLESSLY about how painful their unrequited love is. Frankly, this is a terribly dated and practically impossible film to watch. Part of the problem is that in the Pre-Code days, films glamorizing adultery were very common. Plus, even if you accept this morally suspect subject, the utter sappiness of the dialog make it sound like a 19th century romance novel...and a really bad one at that. Sticky and with difficult to like characters (after all, Clive's wife is a nice lady and did no one any harm) make this one a big waste of time. About the only interesting aspect of this film is the costume Hepburn wears in an early scene where she is dressed in a moth costume! You've gotta see it to believe it--and she looks like one of the Bugaloos (an obscure, but fitting reference).\"\n",
      "* * * * * * * * * \n",
      "19576\n",
      "The school nerd Marty (Simon Scuddamore) is sexually humiliated by a bunch of classmates and then is in a lab explosion (set by them also) where his face is scarred by acid. Years later all the jerks get invited back to the high school (since closed) for a reunion. What they didn't know is that Marty is inviting them back to kill them. Then a storm starts, they're locked in the school and Marty starts to take revenge.<br /><br />Pretty silly. The murders are inventive and gory and there are some creepy atmospheric shots of the deserted school--but that's about it. The humiliations inflicted on Scuddamore are more than cruel (he's stripped, has his head dunked in a toilet AND gets burnt) and are just uncomfortable to watch. Considering Scuddamore committed suicide shortly after this was released make them almost impossible to view. Also this movie goes out of its way to have nudity. There is full frontal of Scuddamore (surprising for any movie) but one girl decides to take a bath alone...AFTER they know a killer is wandering around after them! And then there's the couple that has to have sex. This is the type of film where the killer seems to know where everybody is going to be and can teleport himself to them. It ends with a twist which had me groaning and rolling my eyes then ANOTHER twist which had me wanting to throw something heavy at the TV! The acting is bearable--not good, but bearable. Caroline Munro is in this too. She's a very beautiful woman but not much of an actress.<br /><br />This gets a 3 for some effectively gory murders and atmosphere. Otherwise it's run of the mill and forgettable. Scuddamore's tragic suicide has given this film more attention than it deserves.\n",
      "* * * * * * * * * \n",
      "19599\n",
      "This 1977 cult movie has two crazed lesbians (Sandra Locke & Colleen Camp) appearing at the home of wealthy socialite Doctor George Manning (Seymour Cassel), in hope of help in locating a residence they can't seem to find. But these two have other plans in mind, when they find out George's wife is out of town, they end up taking control of the residence, tying up the George, killing a delivery boy while destroying the place all in one evening. Bizarre and disturbing movie, but the two get there just reward in the same bizarre way as the movie ends. Most will either dislike it right off or get caught up in this ludicrous movie after about 30 minutes into it. Either way some even consider this a cult classic.<br /><br />Larry Dodson\n",
      "* * * * * * * * * \n",
      "19623\n",
      "I watched this film a long time ago (aprox 10 years or so) and liked it then. I remembered it the other day and decided to watch it again. The second time around was not pleasant. The acting is 'so,so', the plot is illogical, unreasonable and predictable.<br /><br />The acting...I'm sure it wasn't a stretch for those actresses to play those characters. The plot...there's no way in hell those women would have gotten away with the first robbery much less the 2nd. (side note: Why did TT not realise that even if she came up with a load of money for her court date they would ask where she got it and she would have no logical answer! Ding, Ding...we have a crook!). It horribly stereotyped black women in saying basically that the only way black women can 'beat the system' or obtain a large amount of money was to steal it and not use their intelligence or other resources. It plays too much on sympathy b/c all of them die in the end (bar Jada) but it's not sad (you're thinking 'They were so stupid; they deserve to die). You just don't really care about the characters unless you're a shallow person.<br /><br />I can't believe this film rates over a 5.\n",
      "* * * * * * * * * \n",
      "19756\n",
      "Just too many holes in this movie to be enjoyable AND WORSE OF ALL a bizarre almost Hollywood-like ending that is completely out of context with the rest of the movie (this is not a spoiler as you will never guess how it ends!).<br /><br />YOu will also need to be thick skinned to all sorts of politically correct undertones. The conflict between whites and blacks was highly contrived and one sided. I didn't understand why the author had the local black communinity behave in such an unacceptable manner, is he / she trying to be racist?<br /><br />A truly bizare movie. Only watch if you like to be really annoyed by holes in the plot and like to debate all the things that may or may not have supposed to have happened.<br /><br />But on the positive side the filming and acting is excellent.\n",
      "* * * * * * * * * \n",
      "19781\n",
      "This movie had potential and I was willing to give it a try but there are so many timeline problems that are so obvious - it's hard to swallow being treated like such an idiot.<br /><br />Rise to Power is set in the late sixties. Carlito's Way is set in the mid to late seventies. For this movie to be realistic, it would have to be set in the fifties, if not the late forties.<br /><br />Rise to Power has no sign of Gail (Pennelope Ann Miller), no sign of Kleinfeld, no sign of Rolando that Carlito supposedly ran with in his \\hey-day\\\". None of the primary characters in the original film were in this movie. We're supposed to believe that Carlito met all these people in the span of a few years.<br /><br />Rise to Power ends with Carlito walking down the beach talking about retiring in paradise which is what he wanted to do in the original film. Also, the pre-quel creates the Rocco and Earl characters - what's supposed to happen with them since they are clearly not in Carlito's Way? It's also hard to understand how Carlito could have the relationship with the Italians he has in the original film watching the events of Rise to Power. Where are the Taglialucci's in this film? There is probably seven years between the two films and he spends five of them in prison. It's like trying to put a square plug into a round hole.<br /><br />It is obvious that no one was interested in telling a good story and that they were more interested in making some bucks by making an average gangster film and throwing a character called Carlito Brigante into the story. The film had some good moments but I think they would have been better off leaving this movie to stand by itself instead of trying to make it a prequel to Carlito's Way.<br /><br />If you feel determined to see this movie, the only advice I can give is to not think of the movie as a linear pre-quel. Think of it like the spaghetti westerns with Clint Eastwood's man with no name, in other words two movies that have the same character but aren't necessarily connected with each other.\"\n",
      "* * * * * * * * * \n",
      "19798\n",
      "Ben a out-of-town cop is convinced his sister was brutally killed and wants to bring her killer to justice, but he's approached by Stefan who believes his sister was a victim of a werewolf cult. So Ben, his sister's best friend and Stefan travel to Transylvania to put a end to this evil.<br /><br />This is incredibly awful B-grade stuff and I wondered how it even got released. It makes the original 'Howling' look like a masterpiece. What was Christopher Lee thinking, as this has to be his worst performance I've seen.<br /><br />There was a lot wrong with this real cheap-ass film, ranging from the really hammy and wooden performances from Annie McEnroe, Reb Brown, Marsha A. Hunt and Sybil Danning (not to forgot Lee), cheesy fashion (those sunnies), cheap and lame special effects, bad use of lighting, the humour... if there was any, trashy 80s music (with some of the film just focusing on some unknown band playing), werewolf's having orgies which is a sight to see and a tiresome story with flat and annoying dialogue. I thought if it was that bad it would be awfully funny, but I was wrong. <br /><br />The positives were the location and settings of the film looked great, but that's about it... actually I'll add Sybil Danning short stripping scene too.<br /><br />During the end credits the band plays their crap-house song during a weird montage of scenes from the film, which I beckon the question why?<br /><br />An awful piece of mess, however at least it isn't boring.<br /><br />1/5\n",
      "* * * * * * * * * \n",
      "19952\n",
      "This piece of filth is virtually impossible to follow. The sound is crap the picture quality goes from bad to worse to good to bad again! Things happen for no apparent reason characters appear and disappear. Was the director suffering from a massive brain injury during its production?<br /><br />Poor film making aside, the story is vile just sick evil sh*t If you like rape, murder and self harm this is right up your alley. And if simulated scenes of murder are not enough you can enjoy clips of actual people being executed. I watched almost all of it but had to turn off after I seen someones brains blown out. Never before have I seen a film that left me feeling so ashamed and dirty.\n",
      "* * * * * * * * * \n",
      "19955\n",
      "The potential was there. I saw Creep and thought, 'Oooh, this is getting interesting' several times. Yet somehow the interesting plot lines wound up unexplained or ignored, like they never happened. The lead character was irritating throughout the movie, and at one point my fella and I both shouted that we wanted her to die. There are some genuinely spooky/scary moments, but these are grossly overshadowed by the moments that just annoyed the hell out of me. It's another one of those horror movies that crops up and intrigues you for a while, but ultimately leaves you frustrated and a little confused about what the movie makers were trying to achieve.<br /><br />The one saving grace of this movie is the bad guy, but when the baddie is more likable than the lead character you know you're on to a loser.\n",
      "* * * * * * * * * \n"
     ]
    }
   ],
   "source": [
    "# false positives\n",
    "\n",
    "print(\"Examples of false positives:\")\n",
    "\n",
    "import random, time\n",
    "\n",
    "for i in range(0, len(ols_predictions)):\n",
    "    if (ols_predictions[i] == 1):\n",
    "        if (X_raw_train.iloc[i]['sentiment'] == 0):\n",
    "            if (random.uniform(0, 1) < 0.05): # to print only 5% of the false positives\n",
    "                print(i)\n",
    "                print(X_raw_train.iloc[i]['review'])\n",
    "                print('* * * * * * * * * ')\n"
   ]
  },
  {
   "cell_type": "markdown",
   "metadata": {},
   "source": [
    "---\n",
    "\n",
    "# <span style=\"color:red\">WARNING: Don't look at test set performance too much!</span>\n",
    "\n",
    "---\n",
    "\n",
    "The following cells show performance on your test set. Do not look at this too often! "
   ]
  },
  {
   "cell_type": "markdown",
   "metadata": {},
   "source": [
    "# Look at performance on the test set"
   ]
  },
  {
   "cell_type": "markdown",
   "metadata": {},
   "source": [
    "### MODEL: ordinary least squares"
   ]
  },
  {
   "cell_type": "code",
   "execution_count": 40,
   "metadata": {},
   "outputs": [
    {
     "name": "stdout",
     "output_type": "stream",
     "text": [
      "{'Pos': 2498, 'Neg': 2502, 'TP': 1198, 'TN': 1361, 'FP': 1141, 'FN': 1300, 'Accuracy': 0.5118, 'Precision': 0.5121846943138093, 'Recall': 0.4795836669335468, 'desc': 'ols_test'}\n"
     ]
    }
   ],
   "source": [
    "ols_performance_test = BinaryClassificationPerformance(ols.predict(X_test), y_test, 'ols_test')\n",
    "ols_performance_test.compute_measures()\n",
    "print(ols_performance_test.performance_measures)"
   ]
  },
  {
   "cell_type": "markdown",
   "metadata": {},
   "source": [
    "### MODEL: SVM, linear"
   ]
  },
  {
   "cell_type": "code",
   "execution_count": 41,
   "metadata": {},
   "outputs": [
    {
     "name": "stdout",
     "output_type": "stream",
     "text": [
      "{'Pos': 2498, 'Neg': 2502, 'TP': 2048, 'TN': 2037, 'FP': 465, 'FN': 450, 'Accuracy': 0.817, 'Precision': 0.8149621965777955, 'Recall': 0.8198558847077662, 'desc': 'svm_test'}\n"
     ]
    }
   ],
   "source": [
    "svm_performance_test = BinaryClassificationPerformance(svm.predict(X_test), y_test, 'svm_test')\n",
    "svm_performance_test.compute_measures()\n",
    "print(svm_performance_test.performance_measures)"
   ]
  },
  {
   "cell_type": "markdown",
   "metadata": {},
   "source": [
    "### MODEL: logistic regression"
   ]
  },
  {
   "cell_type": "code",
   "execution_count": 42,
   "metadata": {},
   "outputs": [
    {
     "name": "stdout",
     "output_type": "stream",
     "text": [
      "{'Pos': 2498, 'Neg': 2502, 'TP': 2038, 'TN': 2038, 'FP': 464, 'FN': 460, 'Accuracy': 0.8152, 'Precision': 0.8145483613109512, 'Recall': 0.8158526821457166, 'desc': 'lgs_test'}\n"
     ]
    }
   ],
   "source": [
    "lgs_performance_test = BinaryClassificationPerformance(lgs.predict(X_test), y_test, 'lgs_test')\n",
    "lgs_performance_test.compute_measures()\n",
    "print(lgs_performance_test.performance_measures)"
   ]
  },
  {
   "cell_type": "markdown",
   "metadata": {},
   "source": [
    "### MODEL: Naive Bayes"
   ]
  },
  {
   "cell_type": "code",
   "execution_count": 43,
   "metadata": {},
   "outputs": [
    {
     "name": "stdout",
     "output_type": "stream",
     "text": [
      "{'Pos': 2498, 'Neg': 2502, 'TP': 1715, 'TN': 2277, 'FP': 225, 'FN': 783, 'Accuracy': 0.7984, 'Precision': 0.884020618556701, 'Recall': 0.6865492393915132, 'desc': 'nbs_test'}\n"
     ]
    }
   ],
   "source": [
    "nbs_performance_test = BinaryClassificationPerformance(nbs.predict(X_test), y_test, 'nbs_test')\n",
    "nbs_performance_test.compute_measures()\n",
    "print(nbs_performance_test.performance_measures)"
   ]
  },
  {
   "cell_type": "markdown",
   "metadata": {},
   "source": [
    "### MODEL: Perceptron"
   ]
  },
  {
   "cell_type": "code",
   "execution_count": 44,
   "metadata": {},
   "outputs": [
    {
     "name": "stdout",
     "output_type": "stream",
     "text": [
      "{'Pos': 2498, 'Neg': 2502, 'TP': 2028, 'TN': 2029, 'FP': 473, 'FN': 470, 'Accuracy': 0.8114, 'Precision': 0.810875649740104, 'Recall': 0.8118494795836669, 'desc': 'prc_test'}\n"
     ]
    }
   ],
   "source": [
    "prc_performance_test = BinaryClassificationPerformance(prc.predict(X_test), y_test, 'prc_test')\n",
    "prc_performance_test.compute_measures()\n",
    "print(prc_performance_test.performance_measures)"
   ]
  },
  {
   "cell_type": "markdown",
   "metadata": {},
   "source": [
    "### MODEL: Ridge Regression Classifier"
   ]
  },
  {
   "cell_type": "code",
   "execution_count": 45,
   "metadata": {},
   "outputs": [
    {
     "name": "stdout",
     "output_type": "stream",
     "text": [
      "{'Pos': 2498, 'Neg': 2502, 'TP': 2285, 'TN': 2125, 'FP': 377, 'FN': 213, 'Accuracy': 0.882, 'Precision': 0.8583771600300526, 'Recall': 0.9147317854283427, 'desc': 'rdg_test'}\n"
     ]
    }
   ],
   "source": [
    "rdg_performance_test = BinaryClassificationPerformance(rdg.predict(X_test), y_test, 'rdg_test')\n",
    "rdg_performance_test.compute_measures()\n",
    "print(rdg_performance_test.performance_measures)"
   ]
  },
  {
   "cell_type": "markdown",
   "metadata": {},
   "source": [
    "### MODEL: Random Forest Classifier"
   ]
  },
  {
   "cell_type": "code",
   "execution_count": 46,
   "metadata": {},
   "outputs": [
    {
     "name": "stdout",
     "output_type": "stream",
     "text": [
      "{'Pos': 2498, 'Neg': 2502, 'TP': 1881, 'TN': 1485, 'FP': 1017, 'FN': 617, 'Accuracy': 0.6732, 'Precision': 0.6490683229813664, 'Recall': 0.7530024019215372, 'desc': 'rdf_test'}\n"
     ]
    }
   ],
   "source": [
    "rdf_performance_test = BinaryClassificationPerformance(rdf.predict(X_test), y_test, 'rdf_test')\n",
    "rdf_performance_test.compute_measures()\n",
    "print(rdf_performance_test.performance_measures)"
   ]
  },
  {
   "cell_type": "markdown",
   "metadata": {},
   "source": [
    "### ROC plot to compare performance of various models and fits"
   ]
  },
  {
   "cell_type": "code",
   "execution_count": 47,
   "metadata": {},
   "outputs": [
    {
     "data": {
      "image/png": "[encoded data removed]",
      "text/plain": [
       "<Figure size 432x288 with 1 Axes>"
      ]
     },
     "metadata": {
      "needs_background": "light"
     },
     "output_type": "display_data"
    }
   ],
   "source": [
    "fits = [ols_performance_test, svm_performance_test, lgs_performance_test, nbs_performance_test, prc_performance_test, rdg_performance_test, rdf_performance_test]\n",
    "\n",
    "for fit in fits:\n",
    "    plt.plot(fit.performance_measures['FP'] / fit.performance_measures['Neg'], \n",
    "             fit.performance_measures['TP'] / fit.performance_measures['Pos'], 'bo')\n",
    "    plt.text(fit.performance_measures['FP'] / fit.performance_measures['Neg'], \n",
    "             fit.performance_measures['TP'] / fit.performance_measures['Pos'], fit.desc)\n",
    "plt.axis([0, 1, 0, 1])\n",
    "plt.title('ROC plot: test set, n-grams countvectorizer')\n",
    "plt.xlabel('False positive rate')\n",
    "plt.ylabel('True positive rate')\n",
    "plt.show()"
   ]
  },
  {
   "cell_type": "markdown",
   "metadata": {},
   "source": [
    "---\n",
    "\n",
    "# <span style=\"color:red\">SUBMISSION</span>\n",
    "\n",
    "---"
   ]
  },
  {
   "cell_type": "code",
   "execution_count": 23,
   "metadata": {},
   "outputs": [
    {
     "name": "stdout",
     "output_type": "stream",
     "text": [
      "movie_data is: <class 'pandas.core.frame.DataFrame'>\n",
      "movie_data has 25000 rows and 2 columns \n",
      "\n",
      "the data types for each of the columns in movie_data:\n",
      "id        object\n",
      "review    object\n",
      "dtype: object \n",
      "\n",
      "the first 10 rows in movie_data:\n",
      "         id                                             review\n",
      "0  12311_10  Naturally in a film who's main themes are of m...\n",
      "1    8348_2  This movie is a disaster within a disaster fil...\n",
      "2    5828_4  All in all, this is a movie for kids. We saw i...\n",
      "3    7186_2  Afraid of the Dark left me with the impression...\n",
      "4   12128_7  A very accurate depiction of small time mob li...\n",
      "Shape of HashingVectorizer X:\n",
      "(25000, 131072)\n",
      "Look at a few rows of the new quantitative features: \n",
      "   word_count  punc_count\n",
      "0         131           5\n",
      "1         169          15\n",
      "2         176          18\n",
      "3         112           5\n",
      "4         133           8\n",
      "5         331          20\n",
      "6         121          18\n",
      "7         230          22\n",
      "8          59           3\n",
      "9         224          14\n",
      "Size of combined bag of words and new quantitative variables matrix:\n",
      "(25000, 131074)\n",
      "(25000, 131074)\n",
      "Shape of X_test for submission:\n",
      "(25000, 131074)\n",
      "SUCCESS!\n",
      "Number of rows in the submission test set (should be 25,000): \n"
     ]
    }
   ],
   "source": [
    "# read in test data for submission\n",
    "# CHANGE FILE PATH and my_random_seed number (any integer other than 74 will do): \n",
    "raw_data, X_test_submission = process_raw_data(fn='/Users/maybaho/Documents/Parsons/Machine Learning/assignments/data/moviereviews_test.tsv', my_random_seed=13, test=True)\n",
    "print(\"Number of rows in the submission test set (should be 25,000): \")"
   ]
  },
  {
   "cell_type": "markdown",
   "metadata": {},
   "source": [
    "---\n",
    "\n",
    "Choose a <span style=\"color:red\">*single*</span> model for your submission. In this code, I am choosing the Ordinary Least Squares model fit, which is in the `ols` object. But you should choose the model that is performing the best for you! "
   ]
  },
  {
   "cell_type": "code",
   "execution_count": 24,
   "metadata": {},
   "outputs": [
    {
     "name": "stdout",
     "output_type": "stream",
     "text": [
      "0.5596\n"
     ]
    }
   ],
   "source": [
    "# store the id from the raw data\n",
    "my_submission = pd.DataFrame(raw_data[\"id\"])\n",
    "# concatenate predictions to the id\n",
    "my_submission[\"prediction\"] = ols.predict(X_test_submission)\n",
    "# look at the proportion of positive predictions\n",
    "print(my_submission['prediction'].mean())"
   ]
  },
  {
   "cell_type": "code",
   "execution_count": 25,
   "metadata": {},
   "outputs": [
    {
     "data": {
      "text/html": [
       "<div>\n",
       "<style scoped>\n",
       "    .dataframe tbody tr th:only-of-type {\n",
       "        vertical-align: middle;\n",
       "    }\n",
       "\n",
       "    .dataframe tbody tr th {\n",
       "        vertical-align: top;\n",
       "    }\n",
       "\n",
       "    .dataframe thead th {\n",
       "        text-align: right;\n",
       "    }\n",
       "</style>\n",
       "<table border=\"1\" class=\"dataframe\">\n",
       "  <thead>\n",
       "    <tr style=\"text-align: right;\">\n",
       "      <th></th>\n",
       "      <th>id</th>\n",
       "      <th>review</th>\n",
       "      <th>word_count</th>\n",
       "      <th>punc_count</th>\n",
       "    </tr>\n",
       "  </thead>\n",
       "  <tbody>\n",
       "    <tr>\n",
       "      <td>0</td>\n",
       "      <td>12311_10</td>\n",
       "      <td>Naturally in a film who's main themes are of m...</td>\n",
       "      <td>131</td>\n",
       "      <td>5</td>\n",
       "    </tr>\n",
       "    <tr>\n",
       "      <td>1</td>\n",
       "      <td>8348_2</td>\n",
       "      <td>This movie is a disaster within a disaster fil...</td>\n",
       "      <td>169</td>\n",
       "      <td>15</td>\n",
       "    </tr>\n",
       "    <tr>\n",
       "      <td>2</td>\n",
       "      <td>5828_4</td>\n",
       "      <td>All in all, this is a movie for kids. We saw i...</td>\n",
       "      <td>176</td>\n",
       "      <td>18</td>\n",
       "    </tr>\n",
       "    <tr>\n",
       "      <td>3</td>\n",
       "      <td>7186_2</td>\n",
       "      <td>Afraid of the Dark left me with the impression...</td>\n",
       "      <td>112</td>\n",
       "      <td>5</td>\n",
       "    </tr>\n",
       "    <tr>\n",
       "      <td>4</td>\n",
       "      <td>12128_7</td>\n",
       "      <td>A very accurate depiction of small time mob li...</td>\n",
       "      <td>133</td>\n",
       "      <td>8</td>\n",
       "    </tr>\n",
       "  </tbody>\n",
       "</table>\n",
       "</div>"
      ],
      "text/plain": [
       "         id                                             review  word_count  \\\n",
       "0  12311_10  Naturally in a film who's main themes are of m...         131   \n",
       "1    8348_2  This movie is a disaster within a disaster fil...         169   \n",
       "2    5828_4  All in all, this is a movie for kids. We saw i...         176   \n",
       "3    7186_2  Afraid of the Dark left me with the impression...         112   \n",
       "4   12128_7  A very accurate depiction of small time mob li...         133   \n",
       "\n",
       "   punc_count  \n",
       "0           5  \n",
       "1          15  \n",
       "2          18  \n",
       "3           5  \n",
       "4           8  "
      ]
     },
     "execution_count": 25,
     "metadata": {},
     "output_type": "execute_result"
    }
   ],
   "source": [
    "raw_data.head()"
   ]
  },
  {
   "cell_type": "code",
   "execution_count": 26,
   "metadata": {},
   "outputs": [
    {
     "data": {
      "text/html": [
       "<div>\n",
       "<style scoped>\n",
       "    .dataframe tbody tr th:only-of-type {\n",
       "        vertical-align: middle;\n",
       "    }\n",
       "\n",
       "    .dataframe tbody tr th {\n",
       "        vertical-align: top;\n",
       "    }\n",
       "\n",
       "    .dataframe thead th {\n",
       "        text-align: right;\n",
       "    }\n",
       "</style>\n",
       "<table border=\"1\" class=\"dataframe\">\n",
       "  <thead>\n",
       "    <tr style=\"text-align: right;\">\n",
       "      <th></th>\n",
       "      <th>id</th>\n",
       "      <th>prediction</th>\n",
       "    </tr>\n",
       "  </thead>\n",
       "  <tbody>\n",
       "    <tr>\n",
       "      <td>0</td>\n",
       "      <td>12311_10</td>\n",
       "      <td>1</td>\n",
       "    </tr>\n",
       "    <tr>\n",
       "      <td>1</td>\n",
       "      <td>8348_2</td>\n",
       "      <td>1</td>\n",
       "    </tr>\n",
       "    <tr>\n",
       "      <td>2</td>\n",
       "      <td>5828_4</td>\n",
       "      <td>1</td>\n",
       "    </tr>\n",
       "    <tr>\n",
       "      <td>3</td>\n",
       "      <td>7186_2</td>\n",
       "      <td>1</td>\n",
       "    </tr>\n",
       "    <tr>\n",
       "      <td>4</td>\n",
       "      <td>12128_7</td>\n",
       "      <td>0</td>\n",
       "    </tr>\n",
       "  </tbody>\n",
       "</table>\n",
       "</div>"
      ],
      "text/plain": [
       "         id  prediction\n",
       "0  12311_10           1\n",
       "1    8348_2           1\n",
       "2    5828_4           1\n",
       "3    7186_2           1\n",
       "4   12128_7           0"
      ]
     },
     "execution_count": 26,
     "metadata": {},
     "output_type": "execute_result"
    }
   ],
   "source": [
    "my_submission.head()"
   ]
  },
  {
   "cell_type": "code",
   "execution_count": 27,
   "metadata": {},
   "outputs": [
    {
     "data": {
      "text/plain": [
       "(25000, 2)"
      ]
     },
     "execution_count": 27,
     "metadata": {},
     "output_type": "execute_result"
    }
   ],
   "source": [
    "my_submission.shape"
   ]
  },
  {
   "cell_type": "code",
   "execution_count": 28,
   "metadata": {},
   "outputs": [],
   "source": [
    "# export submission file as pdf\n",
    "# CHANGE FILE PATH: \n",
    "my_submission.to_csv('/home/ec2-user/data/moviereviews_submission.csv', index=False)"
   ]
  },
  {
   "cell_type": "markdown",
   "metadata": {},
   "source": [
    "# Submit to Canvas: 1) the CSV file that was written in the previous cell and 2) the url to the repository (GitHub or other) that contains your code and documentation"
   ]
  }
 ],
 "metadata": {
  "kernelspec": {
   "display_name": "Python 3",
   "language": "python",
   "name": "python3"
  },
  "language_info": {
   "codemirror_mode": {
    "name": "ipython",
    "version": 3
   },
   "file_extension": ".py",
   "mimetype": "text/x-python",
   "name": "python",
   "nbconvert_exporter": "python",
   "pygments_lexer": "ipython3",
   "version": "3.8.8"
  }
 },
 "nbformat": 4,
 "nbformat_minor": 2
}
