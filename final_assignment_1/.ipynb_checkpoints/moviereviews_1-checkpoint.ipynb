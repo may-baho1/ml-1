{
 "cells": [
  {
   "cell_type": "markdown",
   "metadata": {},
   "source": [
    "# Movie reviews\n",
    "\n",
    "This notebook takes you though a complete iteration of Machine Learning Assignment 1 - Movie reviews. The assignment details (including links to download the data) can be found [here](https://docs.google.com/document/d/1WGYw99e5q6j5V0Zrf2HveagU6URt_kVvdR8B9HYQ99E/edit?usp=sharing). "
   ]
  },
  {
   "cell_type": "code",
   "execution_count": 82,
   "metadata": {},
   "outputs": [],
   "source": [
    "# all imports and magic commands\n",
    "import numpy as np\n",
    "import pandas as pd\n",
    "import matplotlib.pyplot as plt\n",
    "from my_measures import BinaryClassificationPerformance\n",
    "from sklearn.feature_extraction.text import HashingVectorizer, CountVectorizer\n",
    "from sklearn.feature_extraction.text import TfidfTransformer\n",
    "from scipy.sparse import csr_matrix, hstack\n",
    "from sklearn.preprocessing import StandardScaler\n",
    "from sklearn.model_selection import train_test_split\n",
    "from collections import Counter\n",
    "from scipy.stats import chi2_contingency\n",
    "%matplotlib inline"
   ]
  },
  {
   "cell_type": "markdown",
   "metadata": {},
   "source": [
    "### IMPORTANT!!! Make sure you are using `BinaryClassificationPerformance` v1.02"
   ]
  },
  {
   "cell_type": "code",
   "execution_count": 83,
   "metadata": {},
   "outputs": [
    {
     "name": "stdout",
     "output_type": "stream",
     "text": [
      "Help on class BinaryClassificationPerformance in module my_measures:\n",
      "\n",
      "class BinaryClassificationPerformance(builtins.object)\n",
      " |  BinaryClassificationPerformance(predictions, labels, desc, probabilities=None)\n",
      " |  \n",
      " |  Performance measures to evaluate the fit of a binary classification model, v1.02\n",
      " |  \n",
      " |  Methods defined here:\n",
      " |  \n",
      " |  __init__(self, predictions, labels, desc, probabilities=None)\n",
      " |      Initialize attributes: predictions-vector of predicted values for Y, labels-vector of labels for Y\n",
      " |  \n",
      " |  compute_measures(self)\n",
      " |      Compute performance measures defined by Flach p. 57\n",
      " |  \n",
      " |  img_indices(self)\n",
      " |      Get the indices of true and false positives to be able to locate the corresponding images in a list of image names\n",
      " |  \n",
      " |  ----------------------------------------------------------------------\n",
      " |  Data descriptors defined here:\n",
      " |  \n",
      " |  __dict__\n",
      " |      dictionary for instance variables (if defined)\n",
      " |  \n",
      " |  __weakref__\n",
      " |      list of weak references to the object (if defined)\n",
      "\n"
     ]
    }
   ],
   "source": [
    "help(BinaryClassificationPerformance)"
   ]
  },
  {
   "cell_type": "markdown",
   "metadata": {},
   "source": [
    "# Function for feature building and extraction on natural language data"
   ]
  },
  {
   "cell_type": "code",
   "execution_count": 110,
   "metadata": {},
   "outputs": [],
   "source": [
    "# function that takes raw data and completes all preprocessing required before model fits\n",
    "def process_raw_data(fn, my_random_seed, test=False):\n",
    "    # read and summarize data\n",
    "    movie_data = pd.read_csv(fn, sep='\\t')\n",
    "    print(\"movie_data is:\", type(movie_data))\n",
    "    print(\"movie_data has\", movie_data.shape[0], \"rows and\", movie_data.shape[1], \"columns\", \"\\n\")\n",
    "    print(\"the data types for each of the columns in movie_data:\")\n",
    "    print(movie_data.dtypes, \"\\n\")\n",
    "    print(\"the first 10 rows in movie_data:\")\n",
    "    print(movie_data.head(5))\n",
    "    if (not test):\n",
    "        print(\"The rate of 'good' movie reviews in the dataset: \")\n",
    "        print(movie_data['sentiment'].mean())\n",
    "\n",
    "    # vectorize Bag of Words from review text; as sparse matrix\n",
    "    if (not test): # fit_transform()\n",
    "#         hv = HashingVectorizer(n_features=2 ** 17, alternate_sign=False)\n",
    "        cv = CountVectorizer(lowercase=True, ngram_range=(1, 3), analyzer=\"char_wb\")\n",
    "        X_cv = cv.fit_transform(movie_data.review)\n",
    "        fitted_transformations.append(cv)\n",
    "        print(\"Shape of CountVectorizer X:\")\n",
    "        print(X_cv.shape)\n",
    "    else: # transform() \n",
    "        X_cv = fitted_transformations[0].transform(movie_data.review)\n",
    "        print(\"Shape of CountVectorizer X:\")\n",
    "        print(X_cv.shape)\n",
    "    \n",
    "    # http://scikit-learn.org/stable/modules/generated/sklearn.feature_extraction.text.TfidfTransformer.html\n",
    "    if (not test):\n",
    "        transformer = TfidfTransformer()\n",
    "        X_tfidf = transformer.fit_transform(X_cv)\n",
    "        fitted_transformations.append(transformer)\n",
    "    else:\n",
    "        X_tfidf = fitted_transformations[1].transform(X_cv)\n",
    "    \n",
    "    # create additional quantitative features\n",
    "    # features from Amazon.csv to add to feature set\n",
    "    movie_data['word_count'] = movie_data['review'].str.split(' ').str.len()\n",
    "    movie_data['punc_count'] = movie_data['review'].str.count(\"\\.\")\n",
    "#     movie_data['word_counts'] = Counter(movie_data['review'].split())\n",
    "    movie_data['repeated_word_count'] = [word for word, count in movie_data['word_count'].items() if count > 1]\n",
    "    movie_data['unique_word_count'] = movie_data['review'].apply(lambda x: len(set(x.split())))\n",
    "    movie_data['avg_word_length'] = movie_data['review'].apply(lambda x: sum(len(word) for word in x.split()) / len(x.split()))\n",
    "\n",
    "    \n",
    "#     # Chi-squared test to select top categorical features\n",
    "#     if (not test):\n",
    "#         top_features = []\n",
    "#         for col in ['word_count', 'punc_count', 'repeated_words']:\n",
    "#             crosstab = pd.crosstab(movie_data[col], movie_data['sentiment'])\n",
    "#             chi2, p, dof, expected = chi2_contingency(crosstab)\n",
    "#             if p < 0.05:\n",
    "#                 top_features.append(col)\n",
    "#         print(\"Top categorical features selected using chi-squared test: \")\n",
    "#         print(top_features)\n",
    "#         movie_data = movie_data[top_features]\n",
    "        \n",
    "        \n",
    "    X_quant_features = movie_data[[\"word_count\", \"punc_count\", \"repeated_word_count\", \"unique_word_count\", \"avg_word_length\"]]\n",
    "#     X_quant_features = movie_data[top_features]\n",
    "    print(\"Look at a few rows of the new quantitative features: \")\n",
    "    print(X_quant_features.head(10))\n",
    "    \n",
    "    # Combine all quantitative features into a single sparse matrix\n",
    "    X_quant_features_csr = csr_matrix(X_quant_features)\n",
    "    X_combined = hstack([X_tfidf, X_quant_features_csr])\n",
    "    X_matrix = csr_matrix(X_combined) # convert to sparse matrix\n",
    "    print(\"Size of combined bag of words and new quantitative variables matrix:\")\n",
    "    print(X_matrix.shape)\n",
    "    \n",
    "    # Create `X`, scaled matrix of features\n",
    "    # feature scaling\n",
    "    if (not test):\n",
    "        sc = StandardScaler(with_mean=False)\n",
    "        X = sc.fit_transform(X_matrix)\n",
    "        fitted_transformations.append(sc)\n",
    "        print(X.shape)\n",
    "        y = movie_data['sentiment']\n",
    "    else:\n",
    "        X = fitted_transformations[2].transform(X_matrix)\n",
    "        print(X.shape)\n",
    "    \n",
    "    # Create Training and Test Sets\n",
    "    # enter an integer for the random_state parameter; any integer will work\n",
    "    if (test):\n",
    "        X_submission_test = X\n",
    "        print(\"Shape of X_test for submission:\")\n",
    "        print(X_submission_test.shape)\n",
    "        print('SUCCESS!')\n",
    "        return(movie_data, X_submission_test)\n",
    "    else: \n",
    "        X_train, X_test, y_train, y_test, X_raw_train, X_raw_test = train_test_split(X, y, movie_data, test_size=0.2, random_state=my_random_seed)\n",
    "        print(\"Shape of X_train and X_test:\")\n",
    "        print(X_train.shape)\n",
    "        print(X_test.shape)\n",
    "        print(\"Shape of y_train and y_test:\")\n",
    "        print(y_train.shape)\n",
    "        print(y_test.shape)\n",
    "        print(\"Shape of X_raw_train and X_raw_test:\")\n",
    "        print(X_raw_train.shape)\n",
    "        print(X_raw_test.shape)\n",
    "        print('SUCCESS!')\n",
    "        return(X_train, X_test, y_train, y_test, X_raw_train, X_raw_test)"
   ]
  },
  {
   "cell_type": "markdown",
   "metadata": {},
   "source": [
    "# Create training and test sets from function"
   ]
  },
  {
   "cell_type": "code",
   "execution_count": 111,
   "metadata": {
    "scrolled": true
   },
   "outputs": [
    {
     "name": "stdout",
     "output_type": "stream",
     "text": [
      "movie_data is: <class 'pandas.core.frame.DataFrame'>\n",
      "movie_data has 25000 rows and 3 columns \n",
      "\n",
      "the data types for each of the columns in movie_data:\n",
      "id           object\n",
      "sentiment     int64\n",
      "review       object\n",
      "dtype: object \n",
      "\n",
      "the first 10 rows in movie_data:\n",
      "       id  sentiment                                             review\n",
      "0  5814_8          1  With all this stuff going down at the moment w...\n",
      "1  2381_9          1  \\The Classic War of the Worlds\\\" by Timothy Hi...\n",
      "2  7759_3          0  The film starts with a manager (Nicholas Bell)...\n",
      "3  3630_4          0  It must be assumed that those who praised this...\n",
      "4  9495_8          1  Superbly trashy and wondrously unpretentious 8...\n",
      "The rate of 'good' movie reviews in the dataset: \n",
      "0.5\n",
      "Shape of CountVectorizer X:\n",
      "(25000, 38406)\n",
      "Look at a few rows of the new quantitative features: \n",
      "   word_count  punc_count  repeated_word_count  unique_word_count  \\\n",
      "0         433          20                    0                246   \n",
      "1         158          16                    1                116   \n",
      "2         378          20                    2                265   \n",
      "3         379           8                    3                237   \n",
      "4         367           9                    4                265   \n",
      "5          89           5                    5                 66   \n",
      "6         112           9                    6                 85   \n",
      "7         132           9                    7                 96   \n",
      "8         163           7                    8                121   \n",
      "9          43           5                    9                 40   \n",
      "\n",
      "   avg_word_length  \n",
      "0         4.318707  \n",
      "1         4.993671  \n",
      "2         5.481481  \n",
      "3         4.926121  \n",
      "4         5.081744  \n",
      "5         3.966292  \n",
      "6         4.410714  \n",
      "7         4.522727  \n",
      "8         4.914110  \n",
      "9         4.651163  \n",
      "Size of combined bag of words and new quantitative variables matrix:\n",
      "(25000, 38411)\n",
      "(25000, 38411)\n",
      "Shape of X_train and X_test:\n",
      "(20000, 38411)\n",
      "(5000, 38411)\n",
      "Shape of y_train and y_test:\n",
      "(20000,)\n",
      "(5000,)\n",
      "Shape of X_raw_train and X_raw_test:\n",
      "(20000, 8)\n",
      "(5000, 8)\n",
      "SUCCESS!\n",
      "Number of fits stored in `fitted_transformations` list: \n",
      "3\n"
     ]
    }
   ],
   "source": [
    "# create an empty list to store any use of fit_transform() to transform() later\n",
    "# it is a global list to store model and feature extraction fits\n",
    "fitted_transformations = []\n",
    "\n",
    "# CHANGE FILE PATH and my_random_seed number (any integer other than 74 will do): \n",
    "X_train, X_test, y_train, y_test, X_raw_train, X_raw_test = process_raw_data(fn='/Users/maybaho/Documents/Parsons/Machine Learning/assignments/data/moviereviews_train.tsv', my_random_seed=13)\n",
    "\n",
    "print(\"Number of fits stored in `fitted_transformations` list: \")\n",
    "print(len(fitted_transformations))"
   ]
  },
  {
   "cell_type": "markdown",
   "metadata": {},
   "source": [
    "# Fit (and tune) Various Models"
   ]
  },
  {
   "cell_type": "markdown",
   "metadata": {},
   "source": [
    "### MODEL: ordinary least squares"
   ]
  },
  {
   "cell_type": "code",
   "execution_count": null,
   "metadata": {},
   "outputs": [],
   "source": [
    "# from sklearn import linear_model\n",
    "# ols = linear_model.SGDClassifier(loss=\"squared_loss\", penalty=\"elasticnet\", alpha=0.001)\n",
    "# ols.fit(X_train, y_train)\n",
    "\n",
    "# ols_performance_train = BinaryClassificationPerformance(ols.predict(X_train), y_train, 'ols_train')\n",
    "# ols_performance_train.compute_measures()\n",
    "# print(ols_performance_train.performance_measures)"
   ]
  },
  {
   "cell_type": "markdown",
   "metadata": {},
   "source": [
    "### MODEL: SVM, linear"
   ]
  },
  {
   "cell_type": "code",
   "execution_count": null,
   "metadata": {},
   "outputs": [],
   "source": [
    "# from sklearn import linear_model\n",
    "# svm = linear_model.SGDClassifier()\n",
    "# svm.fit(X_train, y_train)\n",
    "\n",
    "# svm_performance_train = BinaryClassificationPerformance(svm.predict(X_train), y_train, 'svm_train')\n",
    "# svm_performance_train.compute_measures()\n",
    "# print(svm_performance_train.performance_measures)"
   ]
  },
  {
   "cell_type": "markdown",
   "metadata": {},
   "source": [
    "### MODEL: logistic regression"
   ]
  },
  {
   "cell_type": "code",
   "execution_count": null,
   "metadata": {},
   "outputs": [],
   "source": [
    "# from sklearn import linear_model\n",
    "# lgs = linear_model.SGDClassifier(loss='log')\n",
    "# lgs.fit(X_train, y_train)\n",
    "\n",
    "# lgs_performance_train = BinaryClassificationPerformance(lgs.predict(X_train), y_train, 'lgs_train')\n",
    "# lgs_performance_train.compute_measures()\n",
    "# print(lgs_performance_train.performance_measures)"
   ]
  },
  {
   "cell_type": "markdown",
   "metadata": {},
   "source": [
    "### MODEL: Naive Bayes"
   ]
  },
  {
   "cell_type": "code",
   "execution_count": 112,
   "metadata": {},
   "outputs": [
    {
     "name": "stdout",
     "output_type": "stream",
     "text": [
      "{'Pos': 10002, 'Neg': 9998, 'TP': 9003, 'TN': 9130, 'FP': 868, 'FN': 999, 'Accuracy': 0.90665, 'Precision': 0.9120656468442914, 'Recall': 0.9001199760047991, 'desc': 'nbs_train'}\n"
     ]
    }
   ],
   "source": [
    "from sklearn.naive_bayes import MultinomialNB\n",
    "nbs = MultinomialNB(fit_prior=True, alpha=0.001)\n",
    "nbs.fit(X_train, y_train)\n",
    "\n",
    "nbs_performance_train = BinaryClassificationPerformance(nbs.predict(X_train), y_train, 'nbs_train')\n",
    "nbs_performance_train.compute_measures()\n",
    "print(nbs_performance_train.performance_measures)"
   ]
  },
  {
   "cell_type": "markdown",
   "metadata": {},
   "source": [
    "### MODEL: Perceptron"
   ]
  },
  {
   "cell_type": "code",
   "execution_count": null,
   "metadata": {},
   "outputs": [],
   "source": [
    "# from sklearn import linear_model\n",
    "# prc = linear_model.SGDClassifier(loss='perceptron')\n",
    "# prc.fit(X_train, y_train)\n",
    "\n",
    "# prc_performance_train = BinaryClassificationPerformance(prc.predict(X_train), y_train, 'prc_train')\n",
    "# prc_performance_train.compute_measures()\n",
    "# print(prc_performance_train.performance_measures)"
   ]
  },
  {
   "cell_type": "markdown",
   "metadata": {},
   "source": [
    "### MODEL: Ridge Regression Classifier"
   ]
  },
  {
   "cell_type": "code",
   "execution_count": 36,
   "metadata": {},
   "outputs": [],
   "source": [
    "# from sklearn import linear_model\n",
    "# rdg = linear_model.RidgeClassifier()\n",
    "# rdg.fit(X_train, y_train)\n",
    "\n",
    "# rdg_performance_train = BinaryClassificationPerformance(rdg.predict(X_train), y_train, 'rdg_train')\n",
    "# rdg_performance_train.compute_measures()\n",
    "# print(rdg_performance_train.performance_measures)"
   ]
  },
  {
   "cell_type": "markdown",
   "metadata": {},
   "source": [
    "### MODEL: Random Forest Classifier"
   ]
  },
  {
   "cell_type": "code",
   "execution_count": 37,
   "metadata": {},
   "outputs": [],
   "source": [
    "# from sklearn.ensemble import RandomForestClassifier\n",
    "# rdf = RandomForestClassifier(max_depth=2, random_state=0)\n",
    "# rdf.fit(X_train, y_train)\n",
    "\n",
    "# rdf_performance_train = BinaryClassificationPerformance(rdf.predict(X_train), y_train, 'rdf_train')\n",
    "# rdf_performance_train.compute_measures()\n",
    "# print(rdf_performance_train.performance_measures)"
   ]
  },
  {
   "cell_type": "markdown",
   "metadata": {},
   "source": [
    "### ROC plot to compare performance of various models and fits"
   ]
  },
  {
   "cell_type": "code",
   "execution_count": 113,
   "metadata": {
    "scrolled": false
   },
   "outputs": [
    {
     "data": {
      "image/png": "[encoded data removed]",
      "text/plain": [
       "<Figure size 432x288 with 1 Axes>"
      ]
     },
     "metadata": {
      "needs_background": "light"
     },
     "output_type": "display_data"
    }
   ],
   "source": [
    "fits = [nbs_performance_train]\n",
    "\n",
    "for fit in fits:\n",
    "    plt.plot(fit.performance_measures['FP'] / fit.performance_measures['Neg'], \n",
    "             fit.performance_measures['TP'] / fit.performance_measures['Pos'], 'bo')\n",
    "    plt.text(fit.performance_measures['FP'] / fit.performance_measures['Neg'], \n",
    "             fit.performance_measures['TP'] / fit.performance_measures['Pos'], fit.desc)\n",
    "plt.axis([0, 0.8, 0.4, 1])\n",
    "plt.title('ROC plot: training set')\n",
    "plt.xlabel('False positive rate')\n",
    "plt.ylabel('True positive rate')\n",
    "plt.show()"
   ]
  },
  {
   "cell_type": "markdown",
   "metadata": {},
   "source": [
    "### looking at reviews based on their classification\n",
    "\n",
    "Let's say we decide that Ordinary Least Squares (OLS) Regression is the best model for generalization. Let's take a look at some of the reviews and try to make a (subjective) determination of whether it's generalizing well. "
   ]
  },
  {
   "cell_type": "code",
   "execution_count": 94,
   "metadata": {},
   "outputs": [],
   "source": [
    "nbs_predictions = nbs.predict(X_train)"
   ]
  },
  {
   "cell_type": "markdown",
   "metadata": {},
   "source": [
    "### let's look at some false positives:"
   ]
  },
  {
   "cell_type": "code",
   "execution_count": 95,
   "metadata": {},
   "outputs": [
    {
     "name": "stdout",
     "output_type": "stream",
     "text": [
      "Examples of false positives:\n",
      "653\n",
      "I can't really say what I think about this movie, its against the guidelines, I've watched many many films, and this has got to be the worst one yet, Extremely low budget, I'm guessing all the money went into the slaughter house scenes, cause I could of did a better job with a b&w 8mm camera and a crew of monkeys. It was so bad I registered just to leave a comment, cause I had to tell someone, movie rental place wasn't enough. But this is my 2 cents worth, I suggest borrowing it from some poor sap who rented it and watch it yourself. Cause i sure wouldn't waste the money on it myself again. Now i leave you with this comment. I hope your not made at the rental place when they wont refund you your money .. =)\n",
      "* * * * * * * * * \n",
      "903\n",
      "Whoever wrote the screenplay for this movie obviously never consulted any books about Lucille Ball, especially her autobiography. I've never seen so many mistakes in a biopic, ranging from her early years in Celoron and Jamestown to her later years with Desi. I could write a whole list of factual errors, but it would go on for pages. In all, I believe that Lucille Ball is one of those inimitable people who simply cannot be portrayed by anyone other than themselves. If I were Lucie Arnaz and Desi, Jr., I would be irate at how many mistakes were made in this film. The filmmakers tried hard, but the movie seems awfully sloppy to me.\n",
      "* * * * * * * * * \n",
      "961\n",
      "I am a 11th grader at my high school. In my Current World Affairs class a kid in my class had this video and suggested we watch. So we did. I am firm believer that we went to the moon, being that my father works for NASA. Even though I think this movie is the biggest piece of crap I have ever watched, the guy who created it has some serious balls. First of all did he have to show JFK getting shot? And how dare he use all those biblical quotes. The only good thing about this movie is it sparks debates, which is good b/c in my class we have weekly debates. This movie did nothing to change my mind. I think he and Michael Moore should be working together and make another movie. Michael Moore next movie could be called \\A Funny Thing Happened on Spetember 11th\\\" or \\\"A Funny thing happened on the way to the white house\\\".\"\n",
      "* * * * * * * * * \n",
      "1790\n",
      "It's amazing to see how Nikhil Advani manages to attract people to the theater till the very day of the release. I mean..... look at the cast here , the promotion is superb, good enough songs and the trailers are fine. This makes it a house full on the first day, but it's only when people go and see the film they realize that there is no way their money is refundable. House full the first day , the movie is out the next week. <br /><br />This film, inspired by 'Love Actually' is what they say, didn't manage to handle the whole cast well. They tried to put in big stars but ended up by not even managing to bring out even an average performance by any one. The stories are hollow and cheesy, so the audience can't connect with any single one of them. It's a big disappointment to all those who like big stars or for that matter Nikhil Advani after his big success of 'Kal Ho Na Ho'.\n",
      "* * * * * * * * * \n",
      "1860\n",
      "It is enjoyable and fast-paced. <br /><br />There is no way on Earth that the actor playing Mat could be eighteen. However, the main thing is that he does act eighteen very convincingly. It must be a credit to his audition that he convinced them to cast him. I quite soon accepted him as being a naive young country boy.<br /><br />While his was the best performance, most of the others were also very engaging. In particular, the interplay between the policemen was natural and well-balanced, and worked very well.<br /><br />It is only about 45 minutes long, so the plot is not complex. More key is the style of the whole thing. It is very slick and vibrant, and the backdrops are atmospheric, especially from the fact that all the colours are extremely rich. The gangland is identifiable to foreign audiences, but still manages to be distinctly Australian.\n",
      "* * * * * * * * * \n",
      "2056\n",
      "When Marlene Dietrich was labeled box office poison in 1938 one of a handful of actresses so named by the trades papers, it was films like The Garden Of Allah. How a film could be so breathtakingly beautiful to behold and be so insipidly dull is beyond me. Also how Marlene if she was trying to expand her range and not play a sexpot got stuck with such an old fashioned story is beyond me.<br /><br />The Garden Of Allah, one of the very first films in modern technicolor was a novel set at the turn of the last century by Robert Hitchens who then collaborated on a play adaption with Mary Anderson that ran for 241 performances in 1911-12. It then got two silent screen adaptions. The story is about a monk who runs away from the monastery out in French Tunisia to see some of what he's missed in the world. He runs into a similarly sheltered woman who was unmarried and spent her prime years caring for a sick parent. She's traveling now in the desert and the two meet on a train.<br /><br />The woman is of course Marlene and the runaway monk is Charles Boyer. I'm not sure what was in David O. Selznick's mind in filming this story. Someone like Ingrid Bergman might have made it palatable for the audience. But you can bet that the movie-going public of 1936 when they plunked their money down for a ticket they expected to see Marlene as a modern day Salome rather than a saint with that title. The public still remembered Rudolph Valentino and you can bet that it was some desert romance and seduction that they were expecting.<br /><br />As for the monks you have to remember that they are self supporting in their monasteries and this particular one bottles a special wine of which Boyer happens to be the one with the secret. The monastery will have to rethink it's economics if Boyer leaves. The monks are a sincerely pious group, but from the head man Charles Waldron on down they've a right to be a little concerned with some self interest.<br /><br />Anyway a whole lot of religious platitudes get said here by a pair of leads that really are not suited for the parts. Most especially Marlene Dietrich. I would watch this film with an eye for the special color desert cinematography and forget the plot.\n",
      "* * * * * * * * * \n",
      "3704\n",
      "I saw this movie at the AFI Dallas festival. Most of the audience, including my wife, enjoyed this comedy-drama, but I didn't. It stars Lucas Haas (Brick, Alpha Dog), Molly Parker (Kissed, The Five Senses, Hollywoodland) and Adam Scott (First Snow, Art School Confidential). The director is Matt Bissonnette, who's married to Molly Parker. All three actors do a fine job in this movie about 3 friends, the marriage of two of them and infidelity involving the third. It all takes place at a lake house and it looks wonderful. The film wants to treat its subject as a comedy first and then a drama, and I thought it needed to be the other way around.\n",
      "* * * * * * * * * \n",
      "3942\n",
      "I am always wary of taking too instant a dislike to a film. Look at it a month later and you might see it differently, or dig it up after 50 years in a different continent and some cult followers find something stylistically remarkable that went unnoticed at first. After sitting through The Great Ecstasy of Robert Carmichael at its UK premiere, it came as no surprise to me that I found the question and answer session afterwards more interesting than the film itself. Shane Danielsen (Artistic Director of the Edinburgh International Film Festival), aided by the film's director and producer, gave a spirited defence of a movie than received an overall negative response from the audience. Edinburgh Festival audiences are not easily shocked. Only one person walked out in disgust. The criticisms of the film included very articulate and constructive ones from the lay public as well as an actor and a woman who teaches M.A. film directors. This was not an overly 'shocking' film. There was a degree of uninterrupted sexual violence, but far less extreme than many movies (most actual weapon contact was obscured, as were aroused genitals). The audience disliked it because they had sat through two hours that were quite boring, where the acting standards were not high, where the plot was poor, predictable and drawn out, and where they had been subjected to clumsy and pretentious film-making on the promise of a controversial movie. Metaphors to the war in Iraq are contrived, over-emphasised and sloppy (apart from a general allusion to violence, any deeper meaning is unclear); and the 'fig-leaf' reference Marquis de Sade, as one audience member put it, seems a mere tokenistic excuse for lack of plot development towards the finale.<br /><br />We have the story of an adolescent who has a certain amount going for him (he stands out at school for his musical ability) but takes drugs and hangs out with youths who have little or nothing going for them and whose criminal activities extend to rape and violence. When pushed, Robert seems to have a lot of violence locked inside him.<br /><br />The film is not entirely without merit. The audience is left to decide how Robert got that way: was it the influence of his peers? Why did all the good influences and concern from parents and teachers not manage to include him in a better approach to life? Cinematically, there is a carefully-montaged scene where he hangs back (whether through too much drugs, shyness, a latent sense of morality or just waiting his turn?). Several of his friends are raping a woman in a back room, partly glimpsed and framed in the centre of the screen. In the foreground of the bare bones flat, a DJ is more concerned that the girl's screams interrupt his happy house music than with any thought for the woman. Ultimately he is a bit annoyed if their activities attract police attention. The stark juxtaposition of serious headphones enjoyment of his music even when he knows a rape is going on points up his utter disdain in a deeply unsettling way. Robert slumps with his back to us in the foreground.<br /><br />But the rest of the film, including its supposedly controversial climax involving considerable (if not overly realistic) sexual violence, is not up to this standard. Some people have had a strong reaction to it (the filmmakers' stated intention: \\If they vomit, we have succeeded in producing a reaction\\\") but mostly - and as far as I can tell the Edinburgh reaction seems to mirror reports from Cannes - they feel, \\\"Why have programmers subjected us to such inferior quality film-making?\\\" Director Clay Hugh can talk the talk but has not developed artistic vision. His replies about holding up a mirror to life to tell the truth about things that are swept under the carpet, even his defence that there is little plot development because he didn't want to do a standard Hollywood movie - all are good answers to criticisms, but unfortunately they do not apply to his film, any more than they do to holding up a mirror while someone defecates, or wastes film while playing ineptly with symbols. Wanting to try and give him the benefit of any lingering doubt, I spoke to him for a few minutes after the screening, but I found him as distasteful as his movie and soon moved to the bar to wash my mouth out with something more substantial. There are many truths. One aspect of art is to educate, another to entertain, another to inspire. I had asked him if he had any social or political agenda and he mentions Ken Loach (one of the many great names he takes in vain) without going so far as to admit any agenda himself. He then falls back on his mantra about his job being to tell the truth. I am left with the feeling that this was an overambitious project for a new director, or else a disingenuous attempt to put himself on the map by courting publicity for second rate work<br /><br />Andy Warhol could paint a tin of soup and it was art. Clay Hugh would like to emulate the great directors that have made controversial cinema and pushed boundaries. Sadly, his ability at the moment only extends to making high-sounding excuses for a publicity-seeking film.\"\n",
      "* * * * * * * * * \n"
     ]
    },
    {
     "name": "stdout",
     "output_type": "stream",
     "text": [
      "4394\n",
      "I was very displeased with this move. Everything was terrible from the start. The comedy was unhumorous, the action overdone, the songs unmelodious. Even the storyline was weightless. From a writer who has written successful scripts like Guru and Dhoom, I had high expectations. The actors worked way too hard and did not help the film at all. Of course, Kareena rocked the screen in a bikini but for two seconds. I think Hindi stunt directors should research how action movies are done. They tend to exaggerate way too much. In Chinese films, this style works because that is their signature piece. But, Hindi cinema's signature are the songs. A good action movie should last no more than two hours and cannot look unrealistic. But, in the future, I'm sure these action movies will get much sharper. Also to be noted: Comedy and action films do not mix unless done properly. Good Luck next time.\n",
      "* * * * * * * * * \n",
      "5300\n",
      "Hoo boy, this was a real trial to get through. The DVD case has Tom Hanks' mug plastered on it and that is the only reason that anybody would buy it. He looks about forty on the box, however, the movie was made in 1982, so he still has his Bosom Buddies 'do and of course is about forty pounds lighter. The plot concerns a Dungeons and Dragons like game that Hanks and his three friends play and Hanks ends up thinking the whole thing is real. Chris Makepeace is a boy genius named Jay Jay and the best thing about the movie is that he wears a succession of funny hats. Ooh,look, he has a yellow hardhat on with a tuxedo! Now he's dressed like a WWI pilot! This was a truly awful movie but in a bad way. A bunch of vets pop up mostly as parents of the kids. There's Anne (I'm Honey West, dammit!) Francis and Louise Sorel, who actually looks kind of hot. Murray Hamilton, the Mayor from Jaws, has a thankless roll as a cop. Wendy Crewson, is the love interest for Hanks and some blonde guy I have never seen before or since. There is some syrupy music here and there and absolutely no tension or sense of danger or excitement. There is a monster that only Hanks can see because he's, you know, nuts. The monster is played by the late, great Kevin Peter Hall, he of Predator fame. A friend of mine got this out of the ol' discount bin at MallWart and advised me to chuck it in the trash without even looking at it, so naturally I had to see if it was as bad as all that. It was. The night before, I watched Apollo 13, so after that, this movie was a bit of a shock. Do yourself a favor and leave it in the bin. Oh yeah, after Hanks almost jumps from one of the World Trade Center towers because of his delusions, he goes home to recuperate and is visited by his friends. Hanks mother, a drunken Vera Miles, says he is coming along nicely now but when they walk down to the lake to visit him in his tennis outfit, he is crazier than ever. The End\n",
      "* * * * * * * * * \n",
      "5585\n",
      "I can't believe that so much talent can be wasted in one movie! The Gingerbread Man starts of on the right foot, and manages to build up some great expectations for the ending. But at some point the movie turns into one of the worst stories I've ever wasted my time on. It's just so unbelievably how the bewitched Mallory Doss manages to pull Kenneth Branagh's character around by his nose. The movies climax is as uninteresting and flat as a beer, which has been left out in the sun too long. The Gingerbread Man is probably the worst Grisham-movie ever and this isn't changed by the fact that talented stars crowd the movie. Don't waste your time here!\n",
      "* * * * * * * * * \n",
      "6473\n",
      "this one of the best celebrity's reality shows a ever saw. we can see the concerts we can see the life of Britney, i love the five episodes. i was always being surprised by Britney and the subjects of the show i think that some people don't watch the show at all we can how a great person she his. she his really funny really gentle and she loves her fans and we can see how she loves her work. i just don't give a 10 because of k-fed he his a real jerk he doesn't seem to like Britney at all. I they make a second season of this great show because it shows at some people how Britney really is. Go Britney your the best and you will never leave our hearts.\n",
      "* * * * * * * * * \n",
      "7374\n",
      "What made the idea of seeing this movie so attractive was the hope that it would live up to Charlotte Bronte's brilliance of the original classic story. I was deeply disappointed to find that this movie, which seemed to be either written or filmed in great haste, had not the qualities that made the original novel so powerful. Much of the witty back and forth between the main characters, Jane Eyre and Mr. Rochester, seemed to be either missing from the screenplay or left on the cutting room floor. Also missing was Jane Eyre's charismatic sense of self, which enabled her to suffer through her turmoil and triumph over all. The original Jane Eyre was a hero. The woman in this movie did not seem to have much to triumph over, including one of the greatest parts of the story when Jane runs away from Thornfield and Mr. Rochester. Her struggle to find food and shelter, her shame at having to beg for bread, the threat of freezing to death in the cold, all to get away from a man she loved were, in my opinion, poignant parts of the story that were simply left out of this movie. The title character seemed dry and uninspired. The story was unappealing and for those who did not read the book, I cannot imagine that this story would be the least bit interesting. The screenplay and Direction did little if any credit to the classic story.\n",
      "* * * * * * * * * \n",
      "7879\n",
      "Why? Because for one reason, there has never been a more adorable scene in any film than Ann Margret singing \\Bye Bye Birdie\\\" at the opening. She reprises it again at the ending, too (in a different mood!). Both wonderful. Rent it and see. Even if that's all of it that you watch. You'll agree, I'm sure.<br /><br />Everything about the original was so excellent it just didn't need a remake, sorry! Jason and Vanessa gave commendable performances, as well as Tyne and Chynna. In fact, all the actors and singers in this new version were giving their 'all,' but it's like trying to improve on \\\"Casablanca\\\" -- it just can't be done! It's even annoying finding yourself comparing the two mentally as you try to appreciate the remake, and it just falls short, through no fault of the actors.\"\n",
      "* * * * * * * * * \n",
      "8526\n",
      "I was VERY disappointed with this film. I expected more of a Thelma and Louise female-buddy crime movie. Instead, the women prison escapees in this flick, had no sense of loyalty to one another. They were an extremely vulgar pack of hyenas, who beat each other up, double-crossed each other, and even committed lesbian rape against other women in the film.<br /><br />Instead of being shrewed thieves, who stuck together to plan their escape and find the hidden stash of money, the women escapees were too selfish and vicious, to trust each other for long. These women weren't liberated in a positive sense. They just ended up being a bunch of loose-cannons, incapable of respect for themselves, or each other. If you like 70s female crime caper films, skip this bomb, and see The Great Texas Dynamite Chase, which stars Claudia Jennings and Jocelyn Jones.\n",
      "* * * * * * * * * \n",
      "9008\n",
      "In an apparent attempt to avoid remaking the original movie an excellent cast that should have made this inherently funny, classic Neil Simon material better than the original failed on every level.<br /><br />The chemistry between Goldie Hawn and Steve Martin that was magic in `Housesitter' was nonexistent in this effort.\n",
      "* * * * * * * * * \n",
      "9241\n",
      "Istanbul is another one of those expatriate films that Errol Flynn was making in the last decade of his life trying to support his family and stay out of trouble with the IRS. It's a remake of the Fred MacMurray- Ava Gardner film Singapore from a decade ago.<br /><br />Unlike that studio product, Istanbul has the advantage of that great location cinematography right at the sight of the Golden Horn. But Errol Flynn, who was aging exponentially before the camera in every film, was way too old to be playing these action/adventure types any longer. His scenes with Cornell Borchers really do lack conviction.<br /><br />As for Cornell, she plays Errol's former sweetheart who through the trauma of being saved from a fire now has amnesia. She both doesn't remember Errol and is now married to Torin Thatcher. <br /><br />But Errol's got some nasty people led by Martin Benson and Werner Klemperer who are after some diamonds which have come into his possession. Got to deal with them too.<br /><br />Best reason to see Istanbul is to hear Nat King Cole sing and play the piano. Most people today don't realize that Cole was an accomplished jazz pianist, they only think of him as a singer. Actually he was a pianist first, the singing was an afterthought.<br /><br />Istanbul is a routine action/adventure film for those who are fans of that type of movie.\n",
      "* * * * * * * * * \n",
      "9582\n",
      "When Ben (Red Foxx) discovers his wife Beatrice (Pearl Bailey) has run off with his own brother, he rushes to his son Norman (Michael Warren) to unload his tale of woe--only to discover that Norman has a secret lover: the effeminate Garson (Dennis Dugan.) Needless to say, Ben does not take it well, and numerous complications follow--including Ben's attempt to get Norman over being homosexual by fixing him up with a hooker (Tammy Dobson.) Unfortunately, this description of the movie sounds a great deal more entertaining than the movie itself.<br /><br />Originally written for the theatre by Ron Clark and Sam Bobrick, NORMAN... IS THAT YOU? was an absolute disaster on the New York stage. To give the play its due, I actually saw it staged in the 1970s as a community theatre production--and while no one would accuse it of being anything other than a shallow farce, the cast played so broadly and in such drop-dead manner that it proved quite amusing. It is a pity the cast of this film didn't do the same.<br /><br />This is an atrociously performed motion picture. Red Foxx, one of the most hilarious comics of the 20th century, is about as funny here as yesterday's wash, Michael Warren (who later appeared on the television series HILL STREET BLUES to much better effect) competes with Foxx to see who can give the worst performance, and Pearl Bailey is not far behind; truth be told, only Dennis Duggan, Tammy Dobson, and a cameo by Wayland Flowers have any spark--and sadly, that is only in comparison with the rest of the cast.<br /><br />Not only is the film badly performed, it looks bad. According to film lore, this was the first big screen effort to be filmed in videotape, which was then transfered to celluloid for project purposes--and believe me, it shows. The film has the look of a bad 1970s sitcom right down to the painted skyline seen through the windows of Norman and Garson's apartment.<br /><br />Some films are so bad that they become funny, but NORMAN... IS THAT YOU? isn't one of them. I can sum up my reaction to this film in two words: miss it. Don't buy it, don't rent it, don't touch it with a ten foot pole. Just back away slowly and then run like hell.<br /><br />Gary F. Taylor, aka GFT, Amazon Reviewer\n",
      "* * * * * * * * * \n",
      "10092\n",
      "As if there weren't enough of those floating around at the time already, we have here another lame GODFATHER clone from the director of IL CONSIGLIORI (1973) which I had watched earlier this year. The marquee-value name roped in this time is Telly Savalas who belatedly enters the proceedings and is first seen from behind, rather campily tending to his flowers and wearing a beret in the style of French painters! Apart from not looking minimally Sicilian, he sports no accent of any kind other than his familiar drawl. Antonio Sabato, then, makes for an unlikely gangster - apart from being a resistible leading man; his relationship with Savalas, which becomes paternal at the flick of an eye, is also unconvincing (especially since he subsequently becomes romantically involved with the latter's spirited teenage niece)! Besides, for a gangster flick, there's precious little action to speak of and none of it is in any way memorable (though the finale set in a clinic is well enough handled); furthermore, the score by Francesco De Masi is serviceable but nothing else. Incidentally, the bargain-basement DVD I rented starts off midway through the credits so that none of the cast members - or even the film's title - is ever listed!\n",
      "* * * * * * * * * \n",
      "10228\n",
      "A little girl's dead body is found stripped of all possible means of identification. When it is discovered that one leg is longer than the other, it is assumed to be the body of a couple's missing daughter. After this trauma, the couple separates and the mother becomes addicted to tranquilizers and leads a miserable existence. All of this changes when one day, many years later, she receives a phone call from her daughter! With the help of an ex-cop and a reporter, she sets out on a journey to determine if her daughter is indeed alive. \\Los Sin Nombre\\\" is a mess plot-wise, moves at an achingly slow pace, and is completely unscary. The saving grace is Emma Vilarasau, who does an outstanding job as the desperate mother. The best part of the movie is the ending, but I'm not sure it is worth enduring the rest of the film. Beware of the English subtitles on the recent R1 release--they aren't very accurate.\"\n",
      "* * * * * * * * * \n",
      "10271\n",
      "An interesting idea for a film, both showing the last dragon on earth and showing the struggle he and someone evil have together. When he was younger, Einon got stabbed in the heart, so Bowen (Dennis Quaid) took him to the dark lord who gave him half his heart. Now grown up Einon (David Thewlis) is now the selfish and evil king. Meanwhile, Bowen is using a new friend Draco the Dragon (voiced by Sir Sean Connery) to get rewards for \\killing\\\" dragons. But because Einon has half of Draco's hear, they both feel the pain in one of them is hurt, or killed. Also starring Pete Postlethwaite as Gilbert of Glockenspur, Jason Isaacs as Lord Felton, Julie Christie as Queen Aislinn and John Gielgud as King Arthur. It was nominated for the Oscar for Best Visual Effects. Worth watching!\"\n",
      "* * * * * * * * * \n",
      "10286\n",
      "A few weeks ago, I read the classic George Orwell novel, 1984. I was fascinated with it and thought it was one of the best books I've read recently. So when I rented the DVD, I was intrigued to see how this adaptation measured up. Unfortunately, the movie didn't even come close to creating the ambiance or developing the characters that Orwell so masterfully did in his book. The director seems to think that everyone watching the movie has read the book, because he makes no attempt to demonstrate WHY the characters act and feel the way they do. John Hurt, the main actor, is droll the entire way through, and hardly does any acting until the end. We never really find out what he does for a living, or why his love affair is forbidden, or what the political climate is and why the main character desires rebellion. This book cannot be done justice in movie form without proper narration and explanation of the political system oppressing the characters, and the fact that those are missing is the greatest shortcoming of this film. Besides that, John Hurt was a terrible casting choice, looking about 15 years older than the 39 year old Winston he was supposed to be portraying. On a more positive note, however, the rest of the cast was well chosen. It's just too bad they were put in such a horribly adapted film with the wrong lead actor. -Brian O.\n",
      "* * * * * * * * * \n",
      "11429\n",
      "Simon Pegg stars as Sidney Young, a stereotypically clumsy idiot Brit working as a celebrity journalist in this US comedy. After getting a very lucky break he starts work at the highly respected Sharps magazine run by a reliably on form Jeff Bridges in New York. It's more The Devil Wears Prada than Shaun of the Dead. The unlikely love interest is provided by Kirsten Dunst who works well with Pegg for the laughs but they don't exactly set the screen ablaze with their passion.<br /><br />Sidney goes through some emotional challenges while trying to decide if he should forget about his journalistic principles in order to get material in the magazine. Of course he's eventually seduced by the glitz and glamour of the world of celebrities especially the young starlet Sophie Maes (Transformers' Megan Fox). Fans of Shaun of the Dead, Hot Fuzz and Spaced will wonder if Pegg himself ever experienced similar feelings in real life with this film and to an extent Run Fat Boy Run as one of the UK's best comic talents being ruined by the US.<br /><br />All in all this is a forgettable comedy. Please come back to us Simon, we can forgive and forget.\n",
      "* * * * * * * * * \n"
     ]
    },
    {
     "name": "stdout",
     "output_type": "stream",
     "text": [
      "13103\n",
      "The plot of this film is not strong at all, lots of holes. If you approach it as a car movie its not bad, lots of great cars in this one. The reason I like it is because I am from the area where this was filmed. I get the most enjoyment looking at the recognizable places in St. Cloud MN and seeing how the town has changed since 89. Its an interesting historical piece for us locals. Seems like whenever a film is made here everyone wants some relationship to it. It is impossible to find a copy in any of the local video stores as they were all stolen once it came out on VHS. Had to get a copy from Japan on Ebay I find it interesting how the path of the drag race is all over town. I didn't know the director was from St.Cloud.\n",
      "* * * * * * * * * \n",
      "13128\n",
      "Sort of family parody blending \\An Officer And A Gentleman\\\", \\\"Heartbreak Ridge\\\", \\\"Full Metal Jacket\\\" (and without doubt other movies I am not able to remember now) into a rather dull movie, with some bright spots. The gags are always there where you would expect them, and Damon Wayans's lines are, well, predictable. As I said, unfortunately this movie never surprises you...\"\n",
      "* * * * * * * * * \n",
      "13148\n",
      "This centers on unironic notions of coming to grips with guilt. <br /><br />Merrill berates the distraught boy to stop his 'whining' about Rennie's death. Old-style real men in action, here.<br /><br />The crashing model plane and car crash must have been impressive on the big screen.<br /><br />The storytelling itself, despite the flashback sequences, plays it straight -- all the narrators are trusted by us (regardless of the 'truth' or 'untruth' of the dialogue), so there's no game with the viewer about narrative structure. This would become a rough template for future retellings, such as \\Fearless\\\".<br /><br />So all we're left with is individual performance, and at that level, it's best for Wynn's bantering, a virtual one-man show.\"\n",
      "* * * * * * * * * \n",
      "13215\n",
      "This movie is a re-write of the 1978 Warren Beatty movie, \\Heaven Can Wait\\\", but it is written for the stand-up comedic style of Mr Rock. The premise remains the same: Lance Barton, (Rock) is taken before his life time is up and works a deal with God's representative, Mr King, to come back to earth as someone else. As in Beatty's movie; he chooses the murdered Charles Wellington, a rich white man, all because he fancies Sontee Jenkins (Regina King) who happens to turn up at Wellington's house during the murder. The role of Mrs Wellington and her lover suffers in this remake and the idea to turn an aged white multi-millionaire into a stand up black comedian who tries to woo Sontee simply does not work. Also the intercuts used to show Rock as Wellington and then as the real 'white' Wellington, fail miserably. Improvements could have been made to the original Beatty plot - which in itself did not masterfully portray the life-after-death idea - but they certainly were not to be found in \\\"Down To Earth\\\".\"\n",
      "* * * * * * * * * \n",
      "13431\n",
      "Christopher Lambert is annoying and disappointing in his portrayal as GIDEON. This movie could have been a classic had Lambert performed as well as Tom Hanks in Forrest Gump, or Dustin Hoffman as Raymond Babbitt in RAIN MAN, or Sean Penn as Sam Dawson in I AM SAM.<br /><br />Too bad because the story line is meaningful to us in life, the supporting performances by Charlton Heston, Carroll O'Connor, Shirley Jones, Mike Connors and Shelley Winters were excelent. 3 of 10.\n",
      "* * * * * * * * * \n",
      "13688\n",
      "Down to Earth is about Lance Barton, a black comedian who gets hit by a truck. He goes to Heaven and he gets to get another body. Lance gets the body of Charles Wellington, a white guy. So Lance does a few things in the body of Charles. The movie has a few laughs, but it's nothing special. It's a good movie if you're a fan of Chris Rock. Madagascar, the 2005 animated comedy, is better. This is a good movie, but Chris Rock has done way better things than this. It will only make you laugh about 4 times the whole movie. And it's not really laugh-out-loud funny. You'll laugh to yourself and you might giggle, but you definitely won't be rolling on the floor laughing.\n",
      "* * * * * * * * * \n",
      "14291\n",
      "Boston legal has turned its tail and is headed for the barn door and th pig slop it has created! When this show first aired almost four season back it was a humorous slap at the legal system which all actors seem to take pride in portraying. It was funny, diversified, and to some extent factual. The characters portrayed were acceptable and to an extent real in their portrayals. The sexual comment and activity were limited and humorous. Julie Bowen is and was beautiful as in other series she participated but is now dragged to the lower depths of Media programming of sex and violence. Julie is an excellent actress and needs a more stable platform than this \\production\\\". Rene Adjurdubois Is an excellent actor who has from the days of \\\"Benson\\\" to this production held his own in the field of entertainment, always showing the humor and respectful acting of the production. Captain Kirk \\\"is\\\". Funny and humorous is Candace Bergan and is to be admired for her continuing in this production and is a good actress. James Spader, there is no doubt in his acting ability, however he should go back to his XXX origins such as \\\"Crash\\\" as it appears he has much talent and inclination in that direction. We ask that this series be trashed as it already is and its really starting to smell!!!\"\n",
      "* * * * * * * * * \n",
      "14320\n",
      "Yes, this movie has kids going to space camp and it starts out okay enough as you have the kids meeting one another and learning the ropes. Then they introduce Jinx, a robot that could not possibly exist in 1986 as they do not have anything with that kind of artificial intelligence now. Kid becomes buddy with robot and robot repays the kid's kindness by shooting him and a group of other kids in this camp into outer space with a very limited oxygen supply and radios that do not have the signal to reach into space. This camp is also not very fun as these kids are put to real training and the instructors get all over them for failing missions or not doing the right things. Give it a rest, they are there for fun, not to become astronauts just yet, just give them the experience of space flight not a military like camp. However, you do get to see Joaquin Phoenix in a fairly early role. So in the end a movie that tries to be realistic in some areas, but with the introduction of Jinx and other factors you might as well had the kids battle space aliens on top of everything else that was happening in the movie as that would have made the movie a bit more enjoyable at least for me. Probably for a few others as well, who else would like to see Kate Capshaw's face ripped apart by some strange super alien creature.\n",
      "* * * * * * * * * \n",
      "14617\n",
      "A drama at its very core, \\Anna\\\" displays that genuine truth that all actors age, and sometimes, fade away. Anna is a character that believes America is her safety net, her home, and it can do her no wrong  but she refuses to belittle herself to do work she doesn't believe in. She is hard-nosed, optimistic, stubborn, and arrogant when it comes to her life, yet not afraid to let others in, yet drop them at a moments notice. Anna flip-flops between personalities, which makes this film ideal of an aging star, but not idea of the viewing audience. \\\"Anna\\\" has been praised for its star Sally Kirkland, and her ability to get \\\"grungy\\\" for the role, but a month into 2008, \\\"Anna\\\" does not remain a staple of film culture. It is dated, dull, and formulaically chaotic.<br /><br />Director Yurek Bogayevicz has a message hidden within \\\"Anna\\\" about the falsehoods of Czechoslovakia, both politically and socially, but Kirkland refuses to let them upstage her. Bogayevicz is not afraid to play with the camera, to use wooden frames to allow Kirkland to stand out, and he is not afraid to lessen the surrounding characters so that when you walk away from the film, it is Kirkland you remember. If it isn't obvious, this film didn't sit well with me. From the opening of the first act and deep within the second, \\\"Anna\\\" felt like a high school theater production. The characters were non-existent, there was no enlightening pre-story, and there was no definition of time or place. There was Sally Kirkland, stubbornly saying that she is better than the other actresses vying for the same lifestyle that she wants. Randomly she encounters a friend, a young girl that has also traveled a long distance to get to America for the glitz and glamour, and two of them (within the span of 20 minutes) build a friendship that could break all walls. It is emotionally boring and unbelievable. Again, randomly, we meet Anna's boyfriend Daniel (played by the weak Robert Fields), who brings nothing to the table in terms of definition or character  only to boost the attention onto Kirkland's Anna. Through the course of nearly two hours, we watch as more random acts coupled with unnamed characters intertwine together to feebly create a story that is held together by loose threads  and SALLY KIRKLAND. Arg, it pains me to continue to say this but \\\"Anna\\\" could have been a fantastic film had Bogayevicz presented equal time between Anna, Daniel, and Krystina, but instead we are forced into a one-sided game where emotional scenes speak louder than plot.<br /><br />Is this where Charlize Theron found inspiration for her beauty-less role in \\\"Monster\\\", or Halle Berry in \\\"Monster's Ball\\\"? Was Sally Kirkland one of the early actresses discover that by letting themselves go for a character Oscar will shine in their direction? Throughout this film I was disgusted by Kirkland's portrayal of Anna, and Bogayevicz's lack of excitement for anything else fluent. Bogayevicz gives us an Anna that doesn't work hard for her parts, doesn't care for others, and is generally mean spirited  yet we are to feel sympathy for her? Near the beginning of the film, she forces what she wants to do onto others, and gets upset when she doesn't get her way. Sure, aging actresses my have that appeal to them, but Kirkland creates a more childish character instead of a mature one. That is where \\\"Anna\\\" could have improved. If this was a mature Kirkland, I would have gobbled it up, but this stammering childish Anna was impossible to believe. While my favorite scene was near the end where Anna goes to watch one of her older films playing (included is absurd make-out characters) and the film burns, this scene is also one of my least favorite. Anna has made a phenomenal life for herself, creating films and building the dream, yet when anyone else wants to enter that spotlight, she gets jealous and outraged. This didn't make for a character I wanted to stand behind nor win Oscars. Coupled with the classic 80s background synthesizer, the outrageous over-the top wardrobe, and the displaced ending (where did that come from and what happened??)  \\\"Anna\\\" slipped far in the scope of amazing cinema. It was a show-piece, an opportunity for an aging star to yell at the world one more time. In this one it worked, but I don't think I will be fooled again.<br /><br />Overall, I cannot say that I was impressed with this film. \\\"Anna\\\" is not a film about an aging film star; it is about Sally Kirkland, and ONLY Sally Kirkland. Bogayevicz tries to do more with the story, but fails either because Kirkland will not allow him or he just realizes that there isn't enough to support a full story. There are one or two decent scenes in this film, but nothing that promotes this film as innovative or influential. Bogayevicz did not create a character that audiences would believe, tear up for, or dedicate a Sunday afternoon with  he created an annoyance. Kirkland wasn't Anna, she was an actress playing her a bit overdone and crusty on the sides. Perhaps I missed the scope of this film, but what makes films like this work is the cooperation of everyone involved. That wasn't the case here. In \\\"Anna\\\", Kirkland orders Daniel to act like a dog (apparently as a symbolic act) and yet during the entire emotional scene, I couldn't help but think that was what Kirkland was like to those on the set. She didn't make this into a film, she transformed it into her own production, and because of it \\\"Anna\\\" failed. I cannot suggest this to anyone  from one Czech to another  skip it! <br /><br />Grade: * ½ out of ***** (for that pesky theater scene that creeped me out)\"\n",
      "* * * * * * * * * \n",
      "14768\n",
      "The Good Earth is perhaps the most boring film I've seen in my life. The plot is slow and lacking. The acting is borderline comical. While I love Paul Muni, I can now say i have seen a film that does not do his true ability justice. The only saving grace I found with this film is it's production value. The use of hundreds of extras throughout the film creates a very believable and interesting environment. Also, the beautiful effects used to create the illusion of millions of wasps sells easily and was revolutionary at the time. Other than the production value I can say little else that is good or entertaining about this film.\n",
      "* * * * * * * * * \n",
      "15212\n",
      "This was talked about to death by the critics when it honestly isn't that great. Sure, \\CHAOS\\\" and \\\"INSIDE MAN\\\" are literally the same movie, just with variations in suspense. But I found \\\"CHAOS\\\" more enjoyable because it was fast paced kinda like the silly film \\\"Swordfish.\\\" The reason this film is more popular is because this got released in the States and \\\"Chaos\\\" was aired all around the world at film festivals and foreign theaters, but has yet to find a distributor in the U.K. and U.S.A. <br /><br />It's true that this film makes lots of tributes to classic films like DOG DAY AFTERNOON and other Spike Lee films, but that doesn't mean that it is a pleasant film to watch. <br /><br />Watch it if nothing else is on T.V., but you'll probably get bored with after awhile.\"\n",
      "* * * * * * * * * \n",
      "15314\n",
      "Very businesslike authority with little responsibility and only a desire to keep his/her name clean - check. A veteran cop that has bad relationship with his family - check. Mafia guys that while criminals, want to do something good vigilante style - check. A sociopath and loyal mafia guy not hesitant to kill people to make an example - check. Cops' methods being less effective than the mafia guy's brutal yet very effective methods - check. A corrupt cop tying the authority, the criminals and the police together - check.<br /><br />Slow motion and/or jerky frame rates for showing what the actor's reaction can't - check. A serial killer whose background is explained in far too much detail, esp. using childhood abuse as the reason for everything - check. A child spree killer that is very, very non-menacing - check. Foreshadowing of the veteran cop's moral values not being what the killer deserves in the movie's and the majority of characters' opinion - check. Morally ambiguous and predictable ending thanks to the foreshadowing and the good veteran cop's coming to terms he should submit to the vigilante attitude of the majority of the characters - check.<br /><br />Recently saw this on TV and decided to endure it because it had Dennis Hopper in it and I could not sleep - check. Realized that was a mistake and should just have stared at the ceiling - check.\n",
      "* * * * * * * * * \n",
      "16025\n",
      "I kinda liked the film despite it's frenzied pace. BUT, I did not appreciate the comment that Canada was referred to as Montana North. It is definitely NOT Montana North and never will be. Americans wonder why they are perceived as arrogant in the rest of the world, and that is one reason why. Stop teaching the kids of the United States of America to think they own the planet. Such a centrist world view is not becoming of one of the world's great nations. Even in jest. I would never refer to the USA as 'Alberta South'. Walt would never put us down, so why start now. Other than that the film was pretty goofy, better luck next time.\n",
      "* * * * * * * * * \n",
      "16469\n",
      "I do agree with everything Calamine has said! And I don't always agree with people, but what Calamine has said is very true, it is time for the girls to move on to better roles. I would like to see them succeed very much as they were a very inspirational pair growing up and I would like to see them grow as people, actresses and in their career as well as their personal life. So producers, please give the girls a chance to develop something that goes off the tangent a bit, move them into a new direction that recognises them individually and their talents in many facets. This movie that is being commented is not too bad, but as I have seen further on in their movies, their movies stay the same of typical plot and typography. When In Rome is good for audiences of younger generation but the adults who were kids when the twins were babies want to follow the twins in their successes and so hence I think we adults would like to see them make movies of different kinds, maybe some that are like the sixth sense, the hour, chocolat, that sort of movie - not saying to have just serious movies for them, humour ones too yes, but rather see them in different roles to what they have been playing in their more recent movies like this one and New York Minute. (Note: I am from Australia so excuse my weird spelling like reognise with the s instead of z)\n",
      "* * * * * * * * * \n"
     ]
    },
    {
     "name": "stdout",
     "output_type": "stream",
     "text": [
      "17569\n",
      "The movie had so much potential, but due to 70's technology constraints and also a weak script killed the main plot of the film. The book version of the film was much better, and well conceived. If it had been done right in the beginning with sources from the book, it could have been a very cool classic.\n",
      "* * * * * * * * * \n",
      "17597\n",
      "From the mind of Harry Alan Towers comes another piece of cinematic sludge. Supposedly based on the work of H. Rider Haggard, the only similarity it bears to anything Haggard actually wrote is that it takes place in Africa (albeit an Africa that has dinosaurs - which our intrepid adventurers use to pull their canoes!), and has some characters with the same names.<br /><br />Our heroes (David McCallum, Patrick McNee and John Colico) set out to seek treasure, armed only with a medallion, and end up precisely where the treasure is, purely by chance. On the way, they meet a motley assortment of extremely lame monsters, pick up a French chef, and McCallum has an affair with the Queen of Phoenicia.<br /><br />It's so ridiculous, it's a hoot. That's the only reason I didn't give it a 1.\n",
      "* * * * * * * * * \n",
      "17694\n",
      "I found this film to be quite an oddity. From the very get go I found it extremely hard to like this movie, and now after a little thinking about it I can pretty much pinpoint the reason why. Jean-Marc Barr, although I love him to bits (I think Zentropa is one of the best movies ever made) is quite miscast here, and although I can't figure for the life of me who would be better, I am sure someone could have taken his place quite easily and make this film work. Everything else is fine, except for the stabs at weak comedy (A Meet The Parents Joke is not really needed, filmmakers!) and I really like Richard E. Grant as the British Major. It just suffers from one thing.. Jean-Marc.\n",
      "* * * * * * * * * \n",
      "18250\n",
      "What a muddled mess. I saw this with a friend a while ago and we both consider ourselves open-minded to the many wonders of cinema, but this sure isn't one of them.<br /><br />While there very well could be some good ideas/concepts and there are certainly some good performances (under the circumstances), it is all buried under random nonsense. Sir Anthony draws way too heavily from the same gene pool as Natural Born Killers, U Turn and similar films as far as the editing is concerned, or maybe he watched himself in Nixon for inspiration. Say what you want about David Lynch, but at least he more often than not has a method to the madness.<br /><br />His quote of stating that he made the film as a joke says it all. It's not worth your money, bandwidth or time.\n",
      "* * * * * * * * * \n",
      "19375\n",
      "John Boorman's 1998 The General was hailed as a major comeback, though it's hard to see why on the evidence of the film itself. One of three films made that year about famed Northern Irish criminal Martin Cahill (alongside Ordinary Decent Criminal and Vicious Circles), it has an abundance of incident and style (the film was shot in colour but released in b&w Scope in some territories) but makes absolutely no impact and just goes on forever. With a main character who threatens witnesses, car bombs doctors, causes a hundred people to lose their jobs, tries to buy off the sexually abused daughter of one of his gang to keep out of jail and nails one of his own to a snooker table yet still remains a popular local legend an attractive enough personality for his wife to not only approve but actually suggest a ménage a trios with her sister, it needs a charismatic central performance to sell the character and the film. It doesn't get it. Instead, it's lumbered with what may well be Brendan Gleeson's worst and most disinterested performance: he delivers his lines and stands in the right place but there's nothing to suggest either a local hero or the inner workings of a complex character. On the plus side, this helps not to overglamorize a character who is nothing more than an egotistical thug, but it's at odds with a script that seems to be expecting us to love him and his antics.<br /><br />There's a minor section that picks up interest when the IRA whips up a local hate campaign against the 'General' and his men, painting them as 'anti-social' drug dealers purely because Cahill won't share his loot from a robbery with them, but its temporary resolution is so vaguely shot - something to do with Cahill donning a balaclava and joining the protesters which we're expected to find lovably cheeky - that it's just thrown away. Things are more successful in the last third as the pressure mounts and his army falls apart, but by then it's too late to really care. Adrian Dunbar, Maria Doyle Kennedy and the gorgeous Angeline Ball do good work in adoring supporting roles, but Jon Voight's hammy Garda beat cop seems to be there more for American sales than moral balance, overcompensating for Gleeson's comatose non-involvement in what feels like a total misfire. Come back Zardoz, all is forgiven.\n",
      "* * * * * * * * * \n",
      "19420\n",
      "In addition to his \\Tarzan\\\" series, the prolific Edgar Rice Burroughs did write many other books, although, aside from the popular \\\"At the Earth's Core\\\", few of these have been filmed. One exception is the novel entitled \\\"The Lad and the Lion\\\", brought to the screen as \\\"The Lion Man\\\" (1936), an over-talkative, static, old-hat, slow-moving and rather dull movie, despite being filmed on real desert locations. Actually \\\"movie\\\" is the wrong word. The narrative doesn't move but proceeds at a snail's pace in an abrupt series of jerks. For instance, at least five characters are given elaborate opening scenes and then just disappear. Even more frustrating for the keen movie fan, are the characters who make an impression of sorts (like the lass who plies Hall with drugged wine) but are enacted by players who are not credited! The credited thespians generally come off worse than the unknowns. One exception is Australian actress Finis Barton who gives a good account of the kidnapped harem girl who rescues young Master Fairy. Admittedly, most of the cast are saddled with atrocious King James dialogue which has to be heard to be believed! But the way to play this rubbish is tongue-in-cheek, a stratagem which does not seem to have occurred to a single one of the film's roster of no-talent players. Maybe director J.P. McCarthy scotched that idea. Anyway, it's sad to see the lovely Kathleen Burke forced to trade lines with the likes of Richard Carlyle (her dad) and Jon Hall (her suitor). Admittedly, Mr Hall delivers his lines with marginally more conviction than Mr Carlyle, but that is no recommendation.\"\n",
      "* * * * * * * * * \n",
      "19614\n",
      "Here is one of those educational short films made to learn the unknown people out there about facts of life. This time the target audience is preteen girls, the fact of life is menstruation. This animated film, created by Walt Disney Pictures, apparently with some sponsoring from Kotex.<br /><br />It starts with explaining how hormones make you grow and develop. With the help of animation and a female narrator it shows us how the body, especially the ovaries, uterus and vagina, work and why this all leads to menstruation. It is almost amazing, becoming the comic note here, how the subject of sex is avoided. Even the word is never mentioned although \\furtilized\\\" will pass once. I don't really know why I saw this, but since it is one of those rare short films that could give an impression of an innocent time, you might want to give it a try.\"\n",
      "* * * * * * * * * \n",
      "19672\n",
      "Hard to believe that director Barbet Schroeder once did the majestic and very funny Maitresse (1976), and now only seems to do \\by the numbers\\\" Hollywood thrillers.<br /><br />This is very lightweight John Grisham material, crossed with the plot of a TV movie. Bullock is Cass Mayweather, a feisty and independent crime investigator specialising in serial killers. Ben Chaplin is her reserved police partner Sam Kennedy, and together they make an uncomfortable duo. Not good, when two unbalanced college maladriots (Gosling and Pitt) decide to send them on a wild goose chase - by planting very clever and misleading forensic evidence at a crime scene.<br /><br />Fair enough, but while Bullock and Chaplin fail to create any sparks, we also have to endure a several dull overly-melodramatic flashbacks illustrating an important event in Cass's history. Then of course there are the frequent shots of a cliff-side log cabin where there's absolutely no doubt the OTT ending will be set. Oooh... the atmosphere.<br /><br />Watch any episode of CSI instead. It's to the point and far more exciting.\"\n",
      "* * * * * * * * * \n"
     ]
    }
   ],
   "source": [
    "# false positives\n",
    "\n",
    "print(\"Examples of false positives:\")\n",
    "\n",
    "import random, time\n",
    "\n",
    "for i in range(0, len(nbs_predictions)):\n",
    "    if (nbs_predictions[i] == 1):\n",
    "        if (X_raw_train.iloc[i]['sentiment'] == 0):\n",
    "            if (random.uniform(0, 1) < 0.05): # to print only 5% of the false positives\n",
    "                print(i)\n",
    "                print(X_raw_train.iloc[i]['review'])\n",
    "                print('* * * * * * * * * ')\n"
   ]
  },
  {
   "cell_type": "markdown",
   "metadata": {},
   "source": [
    "---\n",
    "\n",
    "# <span style=\"color:red\">WARNING: Don't look at test set performance too much!</span>\n",
    "\n",
    "---\n",
    "\n",
    "The following cells show performance on your test set. Do not look at this too often! "
   ]
  },
  {
   "cell_type": "markdown",
   "metadata": {},
   "source": [
    "# Look at performance on the test set"
   ]
  },
  {
   "cell_type": "markdown",
   "metadata": {},
   "source": [
    "### MODEL: ordinary least squares"
   ]
  },
  {
   "cell_type": "code",
   "execution_count": 17,
   "metadata": {},
   "outputs": [
    {
     "name": "stdout",
     "output_type": "stream",
     "text": [
      "{'Pos': 2498, 'Neg': 2502, 'TP': 1250, 'TN': 1310, 'FP': 1192, 'FN': 1248, 'Accuracy': 0.512, 'Precision': 0.5118755118755118, 'Recall': 0.500400320256205, 'desc': 'ols_test'}\n"
     ]
    }
   ],
   "source": [
    "# ols_performance_test = BinaryClassificationPerformance(ols.predict(X_test), y_test, 'ols_test')\n",
    "# ols_performance_test.compute_measures()\n",
    "# print(ols_performance_test.performance_measures)"
   ]
  },
  {
   "cell_type": "markdown",
   "metadata": {},
   "source": [
    "### MODEL: SVM, linear"
   ]
  },
  {
   "cell_type": "code",
   "execution_count": 18,
   "metadata": {},
   "outputs": [
    {
     "name": "stdout",
     "output_type": "stream",
     "text": [
      "{'Pos': 2498, 'Neg': 2502, 'TP': 2062, 'TN': 2077, 'FP': 425, 'FN': 436, 'Accuracy': 0.8278, 'Precision': 0.8291113791716928, 'Recall': 0.8254603682946358, 'desc': 'svm_test'}\n"
     ]
    }
   ],
   "source": [
    "# svm_performance_test = BinaryClassificationPerformance(svm.predict(X_test), y_test, 'svm_test')\n",
    "# svm_performance_test.compute_measures()\n",
    "# print(svm_performance_test.performance_measures)"
   ]
  },
  {
   "cell_type": "markdown",
   "metadata": {},
   "source": [
    "### MODEL: logistic regression"
   ]
  },
  {
   "cell_type": "code",
   "execution_count": 19,
   "metadata": {},
   "outputs": [
    {
     "name": "stdout",
     "output_type": "stream",
     "text": [
      "{'Pos': 2498, 'Neg': 2502, 'TP': 2106, 'TN': 2069, 'FP': 433, 'FN': 392, 'Accuracy': 0.835, 'Precision': 0.8294604174871997, 'Recall': 0.8430744595676541, 'desc': 'lgs_test'}\n"
     ]
    }
   ],
   "source": [
    "# lgs_performance_test = BinaryClassificationPerformance(lgs.predict(X_test), y_test, 'lgs_test')\n",
    "# lgs_performance_test.compute_measures()\n",
    "# print(lgs_performance_test.performance_measures)"
   ]
  },
  {
   "cell_type": "markdown",
   "metadata": {},
   "source": [
    "### MODEL: Naive Bayes"
   ]
  },
  {
   "cell_type": "code",
   "execution_count": 96,
   "metadata": {},
   "outputs": [
    {
     "name": "stdout",
     "output_type": "stream",
     "text": [
      "{'Pos': 2498, 'Neg': 2502, 'TP': 1725, 'TN': 1762, 'FP': 740, 'FN': 773, 'Accuracy': 0.6974, 'Precision': 0.6997971602434077, 'Recall': 0.6905524419535628, 'desc': 'nbs_test'}\n"
     ]
    }
   ],
   "source": [
    "nbs_performance_test = BinaryClassificationPerformance(nbs.predict(X_test), y_test, 'nbs_test')\n",
    "nbs_performance_test.compute_measures()\n",
    "print(nbs_performance_test.performance_measures)"
   ]
  },
  {
   "cell_type": "markdown",
   "metadata": {},
   "source": [
    "### MODEL: Perceptron"
   ]
  },
  {
   "cell_type": "code",
   "execution_count": 21,
   "metadata": {},
   "outputs": [
    {
     "name": "stdout",
     "output_type": "stream",
     "text": [
      "{'Pos': 2498, 'Neg': 2502, 'TP': 2085, 'TN': 2087, 'FP': 415, 'FN': 413, 'Accuracy': 0.8344, 'Precision': 0.834, 'Recall': 0.8346677341873499, 'desc': 'prc_test'}\n"
     ]
    }
   ],
   "source": [
    "# prc_performance_test = BinaryClassificationPerformance(prc.predict(X_test), y_test, 'prc_test')\n",
    "# prc_performance_test.compute_measures()\n",
    "# print(prc_performance_test.performance_measures)"
   ]
  },
  {
   "cell_type": "markdown",
   "metadata": {},
   "source": [
    "### MODEL: Ridge Regression Classifier"
   ]
  },
  {
   "cell_type": "code",
   "execution_count": 22,
   "metadata": {},
   "outputs": [
    {
     "name": "stdout",
     "output_type": "stream",
     "text": [
      "{'Pos': 2498, 'Neg': 2502, 'TP': 2070, 'TN': 1990, 'FP': 512, 'FN': 428, 'Accuracy': 0.812, 'Precision': 0.801704105344694, 'Recall': 0.8286629303442754, 'desc': 'rdg_test'}\n"
     ]
    }
   ],
   "source": [
    "# rdg_performance_test = BinaryClassificationPerformance(rdg.predict(X_test), y_test, 'rdg_test')\n",
    "# rdg_performance_test.compute_measures()\n",
    "# print(rdg_performance_test.performance_measures)"
   ]
  },
  {
   "cell_type": "markdown",
   "metadata": {},
   "source": [
    "### MODEL: Random Forest Classifier"
   ]
  },
  {
   "cell_type": "code",
   "execution_count": 23,
   "metadata": {},
   "outputs": [
    {
     "name": "stdout",
     "output_type": "stream",
     "text": [
      "{'Pos': 2498, 'Neg': 2502, 'TP': 2043, 'TN': 1784, 'FP': 718, 'FN': 455, 'Accuracy': 0.7654, 'Precision': 0.7399492937341543, 'Recall': 0.8178542834267414, 'desc': 'rdf_test'}\n"
     ]
    }
   ],
   "source": [
    "# rdf_performance_test = BinaryClassificationPerformance(rdf.predict(X_test), y_test, 'rdf_test')\n",
    "# rdf_performance_test.compute_measures()\n",
    "# print(rdf_performance_test.performance_measures)"
   ]
  },
  {
   "cell_type": "markdown",
   "metadata": {},
   "source": [
    "### ROC plot to compare performance of various models and fits"
   ]
  },
  {
   "cell_type": "code",
   "execution_count": 97,
   "metadata": {},
   "outputs": [
    {
     "data": {
      "image/png": "[encoded data removed]",
      "text/plain": [
       "<Figure size 432x288 with 1 Axes>"
      ]
     },
     "metadata": {
      "needs_background": "light"
     },
     "output_type": "display_data"
    }
   ],
   "source": [
    "fits = [nbs_performance_test]\n",
    "\n",
    "for fit in fits:\n",
    "    plt.plot(fit.performance_measures['FP'] / fit.performance_measures['Neg'], \n",
    "             fit.performance_measures['TP'] / fit.performance_measures['Pos'], 'bo')\n",
    "    plt.text(fit.performance_measures['FP'] / fit.performance_measures['Neg'], \n",
    "             fit.performance_measures['TP'] / fit.performance_measures['Pos'], fit.desc)\n",
    "plt.axis([0, 0.8, 0.4, 1])\n",
    "plt.title('ROC plot: test set')\n",
    "plt.xlabel('False positive rate')\n",
    "plt.ylabel('True positive rate')\n",
    "plt.show()"
   ]
  },
  {
   "cell_type": "markdown",
   "metadata": {},
   "source": [
    "---\n",
    "\n",
    "# <span style=\"color:red\">SUBMISSION</span>\n",
    "\n",
    "---"
   ]
  },
  {
   "cell_type": "code",
   "execution_count": 98,
   "metadata": {},
   "outputs": [
    {
     "name": "stdout",
     "output_type": "stream",
     "text": [
      "movie_data is: <class 'pandas.core.frame.DataFrame'>\n",
      "movie_data has 25000 rows and 2 columns \n",
      "\n",
      "the data types for each of the columns in movie_data:\n",
      "id        object\n",
      "review    object\n",
      "dtype: object \n",
      "\n",
      "the first 10 rows in movie_data:\n",
      "         id                                             review\n",
      "0  12311_10  Naturally in a film who's main themes are of m...\n",
      "1    8348_2  This movie is a disaster within a disaster fil...\n",
      "2    5828_4  All in all, this is a movie for kids. We saw i...\n",
      "3    7186_2  Afraid of the Dark left me with the impression...\n",
      "4   12128_7  A very accurate depiction of small time mob li...\n",
      "Shape of HashingVectorizer X:\n",
      "(25000, 38406)\n",
      "Look at a few rows of the new quantitative features: \n",
      "   word_count  punc_count  repeated_words\n",
      "0         131           5               0\n",
      "1         169          15               1\n",
      "2         176          18               2\n",
      "3         112           5               3\n",
      "4         133           8               4\n",
      "5         331          20               5\n",
      "6         121          18               6\n",
      "7         230          22               7\n",
      "8          59           3               8\n",
      "9         224          14               9\n",
      "Size of combined bag of words and new quantitative variables matrix:\n",
      "(25000, 38409)\n",
      "(25000, 38409)\n",
      "Shape of X_test for submission:\n",
      "(25000, 38409)\n",
      "SUCCESS!\n",
      "Number of rows in the submission test set (should be 25,000): \n"
     ]
    }
   ],
   "source": [
    "# read in test data for submission\n",
    "# CHANGE FILE PATH and my_random_seed number (any integer other than 74 will do): \n",
    "raw_data, X_test_submission = process_raw_data(fn='/Users/maybaho/Documents/Parsons/Machine Learning/assignments/data/moviereviews_test.tsv', my_random_seed=13, test=True)\n",
    "print(\"Number of rows in the submission test set (should be 25,000): \")"
   ]
  },
  {
   "cell_type": "markdown",
   "metadata": {},
   "source": [
    "---\n",
    "\n",
    "Choose a <span style=\"color:red\">*single*</span> model for your submission. In this code, I am choosing the Ordinary Least Squares model fit, which is in the `ols` object. But you should choose the model that is performing the best for you! "
   ]
  },
  {
   "cell_type": "code",
   "execution_count": 99,
   "metadata": {},
   "outputs": [
    {
     "name": "stdout",
     "output_type": "stream",
     "text": [
      "0.47012\n"
     ]
    }
   ],
   "source": [
    "# store the id from the raw data\n",
    "my_submission = pd.DataFrame(raw_data[\"id\"])\n",
    "# concatenate predictions to the id\n",
    "my_submission[\"prediction\"] = nbs.predict(X_test_submission)\n",
    "# look at the proportion of positive predictions\n",
    "print(my_submission['prediction'].mean())"
   ]
  },
  {
   "cell_type": "code",
   "execution_count": 25,
   "metadata": {},
   "outputs": [
    {
     "data": {
      "text/html": [
       "<div>\n",
       "<style scoped>\n",
       "    .dataframe tbody tr th:only-of-type {\n",
       "        vertical-align: middle;\n",
       "    }\n",
       "\n",
       "    .dataframe tbody tr th {\n",
       "        vertical-align: top;\n",
       "    }\n",
       "\n",
       "    .dataframe thead th {\n",
       "        text-align: right;\n",
       "    }\n",
       "</style>\n",
       "<table border=\"1\" class=\"dataframe\">\n",
       "  <thead>\n",
       "    <tr style=\"text-align: right;\">\n",
       "      <th></th>\n",
       "      <th>id</th>\n",
       "      <th>review</th>\n",
       "      <th>word_count</th>\n",
       "      <th>punc_count</th>\n",
       "    </tr>\n",
       "  </thead>\n",
       "  <tbody>\n",
       "    <tr>\n",
       "      <td>0</td>\n",
       "      <td>12311_10</td>\n",
       "      <td>Naturally in a film who's main themes are of m...</td>\n",
       "      <td>131</td>\n",
       "      <td>5</td>\n",
       "    </tr>\n",
       "    <tr>\n",
       "      <td>1</td>\n",
       "      <td>8348_2</td>\n",
       "      <td>This movie is a disaster within a disaster fil...</td>\n",
       "      <td>169</td>\n",
       "      <td>15</td>\n",
       "    </tr>\n",
       "    <tr>\n",
       "      <td>2</td>\n",
       "      <td>5828_4</td>\n",
       "      <td>All in all, this is a movie for kids. We saw i...</td>\n",
       "      <td>176</td>\n",
       "      <td>18</td>\n",
       "    </tr>\n",
       "    <tr>\n",
       "      <td>3</td>\n",
       "      <td>7186_2</td>\n",
       "      <td>Afraid of the Dark left me with the impression...</td>\n",
       "      <td>112</td>\n",
       "      <td>5</td>\n",
       "    </tr>\n",
       "    <tr>\n",
       "      <td>4</td>\n",
       "      <td>12128_7</td>\n",
       "      <td>A very accurate depiction of small time mob li...</td>\n",
       "      <td>133</td>\n",
       "      <td>8</td>\n",
       "    </tr>\n",
       "  </tbody>\n",
       "</table>\n",
       "</div>"
      ],
      "text/plain": [
       "         id                                             review  word_count  \\\n",
       "0  12311_10  Naturally in a film who's main themes are of m...         131   \n",
       "1    8348_2  This movie is a disaster within a disaster fil...         169   \n",
       "2    5828_4  All in all, this is a movie for kids. We saw i...         176   \n",
       "3    7186_2  Afraid of the Dark left me with the impression...         112   \n",
       "4   12128_7  A very accurate depiction of small time mob li...         133   \n",
       "\n",
       "   punc_count  \n",
       "0           5  \n",
       "1          15  \n",
       "2          18  \n",
       "3           5  \n",
       "4           8  "
      ]
     },
     "execution_count": 25,
     "metadata": {},
     "output_type": "execute_result"
    }
   ],
   "source": [
    "raw_data.head()"
   ]
  },
  {
   "cell_type": "code",
   "execution_count": 26,
   "metadata": {},
   "outputs": [
    {
     "data": {
      "text/html": [
       "<div>\n",
       "<style scoped>\n",
       "    .dataframe tbody tr th:only-of-type {\n",
       "        vertical-align: middle;\n",
       "    }\n",
       "\n",
       "    .dataframe tbody tr th {\n",
       "        vertical-align: top;\n",
       "    }\n",
       "\n",
       "    .dataframe thead th {\n",
       "        text-align: right;\n",
       "    }\n",
       "</style>\n",
       "<table border=\"1\" class=\"dataframe\">\n",
       "  <thead>\n",
       "    <tr style=\"text-align: right;\">\n",
       "      <th></th>\n",
       "      <th>id</th>\n",
       "      <th>prediction</th>\n",
       "    </tr>\n",
       "  </thead>\n",
       "  <tbody>\n",
       "    <tr>\n",
       "      <td>0</td>\n",
       "      <td>12311_10</td>\n",
       "      <td>1</td>\n",
       "    </tr>\n",
       "    <tr>\n",
       "      <td>1</td>\n",
       "      <td>8348_2</td>\n",
       "      <td>1</td>\n",
       "    </tr>\n",
       "    <tr>\n",
       "      <td>2</td>\n",
       "      <td>5828_4</td>\n",
       "      <td>1</td>\n",
       "    </tr>\n",
       "    <tr>\n",
       "      <td>3</td>\n",
       "      <td>7186_2</td>\n",
       "      <td>1</td>\n",
       "    </tr>\n",
       "    <tr>\n",
       "      <td>4</td>\n",
       "      <td>12128_7</td>\n",
       "      <td>0</td>\n",
       "    </tr>\n",
       "  </tbody>\n",
       "</table>\n",
       "</div>"
      ],
      "text/plain": [
       "         id  prediction\n",
       "0  12311_10           1\n",
       "1    8348_2           1\n",
       "2    5828_4           1\n",
       "3    7186_2           1\n",
       "4   12128_7           0"
      ]
     },
     "execution_count": 26,
     "metadata": {},
     "output_type": "execute_result"
    }
   ],
   "source": [
    "my_submission.head()"
   ]
  },
  {
   "cell_type": "code",
   "execution_count": 27,
   "metadata": {},
   "outputs": [
    {
     "data": {
      "text/plain": [
       "(25000, 2)"
      ]
     },
     "execution_count": 27,
     "metadata": {},
     "output_type": "execute_result"
    }
   ],
   "source": [
    "my_submission.shape"
   ]
  },
  {
   "cell_type": "code",
   "execution_count": 28,
   "metadata": {},
   "outputs": [],
   "source": [
    "# export submission file as pdf\n",
    "# CHANGE FILE PATH: \n",
    "my_submission.to_csv('/Users/maybaho/Documents/Parsons/Machine Learning/assignments/data/moviereviews_submission.csv', index=False)"
   ]
  },
  {
   "cell_type": "markdown",
   "metadata": {},
   "source": [
    "# Submit to Canvas: 1) the CSV file that was written in the previous cell and 2) the url to the repository (GitHub or other) that contains your code and documentation"
   ]
  }
 ],
 "metadata": {
  "kernelspec": {
   "display_name": "Python 3",
   "language": "python",
   "name": "python3"
  },
  "language_info": {
   "codemirror_mode": {
    "name": "ipython",
    "version": 3
   },
   "file_extension": ".py",
   "mimetype": "text/x-python",
   "name": "python",
   "nbconvert_exporter": "python",
   "pygments_lexer": "ipython3",
   "version": "3.8.8"
  }
 },
 "nbformat": 4,
 "nbformat_minor": 2
}
