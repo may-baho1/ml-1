{
 "cells": [
  {
   "cell_type": "markdown",
   "metadata": {},
   "source": [
    "# Movie reviews\n",
    "\n",
    "This notebook takes you though a complete iteration of Machine Learning Assignment 1 - Movie reviews. The assignment details (including links to download the data) can be found [here](https://docs.google.com/document/d/1WGYw99e5q6j5V0Zrf2HveagU6URt_kVvdR8B9HYQ99E/edit?usp=sharing). "
   ]
  },
  {
   "cell_type": "code",
   "execution_count": 4,
   "metadata": {},
   "outputs": [],
   "source": [
    "# all imports and magic commands\n",
    "import numpy as np\n",
    "import pandas as pd\n",
    "import matplotlib.pyplot as plt\n",
    "from my_measures import BinaryClassificationPerformance\n",
    "from sklearn.feature_extraction.text import HashingVectorizer, CountVectorizer\n",
    "from sklearn.feature_extraction.text import TfidfTransformer\n",
    "from scipy.sparse import csr_matrix, hstack\n",
    "from sklearn.preprocessing import StandardScaler\n",
    "from sklearn.model_selection import train_test_split \n",
    "from collections import Counter\n",
    "from scipy.stats import chi2_contingency\n",
    "%matplotlib inline"
   ]
  },
  {
   "cell_type": "code",
   "execution_count": 5,
   "metadata": {},
   "outputs": [
    {
     "name": "stdout",
     "output_type": "stream",
     "text": [
      "Help on class BinaryClassificationPerformance in module my_measures:\n",
      "\n",
      "class BinaryClassificationPerformance(builtins.object)\n",
      " |  BinaryClassificationPerformance(predictions, labels, desc, probabilities=None)\n",
      " |  \n",
      " |  Performance measures to evaluate the fit of a binary classification model, v1.02\n",
      " |  \n",
      " |  Methods defined here:\n",
      " |  \n",
      " |  __init__(self, predictions, labels, desc, probabilities=None)\n",
      " |      Initialize attributes: predictions-vector of predicted values for Y, labels-vector of labels for Y\n",
      " |  \n",
      " |  compute_measures(self)\n",
      " |      Compute performance measures defined by Flach p. 57\n",
      " |  \n",
      " |  img_indices(self)\n",
      " |      Get the indices of true and false positives to be able to locate the corresponding images in a list of image names\n",
      " |  \n",
      " |  ----------------------------------------------------------------------\n",
      " |  Data descriptors defined here:\n",
      " |  \n",
      " |  __dict__\n",
      " |      dictionary for instance variables (if defined)\n",
      " |  \n",
      " |  __weakref__\n",
      " |      list of weak references to the object (if defined)\n",
      "\n"
     ]
    }
   ],
   "source": [
    "help(BinaryClassificationPerformance)"
   ]
  },
  {
   "cell_type": "markdown",
   "metadata": {},
   "source": [
    "# Function for feature building and extraction on natural language data"
   ]
  },
  {
   "cell_type": "code",
   "execution_count": 48,
   "metadata": {},
   "outputs": [],
   "source": [
    "# function that takes raw data and completes all preprocessing required before model fits\n",
    "def process_raw_data(fn, my_random_seed, test=False):\n",
    "    # read and summarize data\n",
    "    movie_data = pd.read_csv(fn, sep='\\t')\n",
    "    print(\"movie_data is:\", type(movie_data))\n",
    "    print(\"movie_data has\", movie_data.shape[0], \"rows and\", movie_data.shape[1], \"columns\", \"\\n\")\n",
    "    print(\"the data types for each of the columns in movie_data:\")\n",
    "    print(movie_data.dtypes, \"\\n\")\n",
    "    print(\"the first 10 rows in movie_data:\")\n",
    "    print(movie_data.head(5))\n",
    "    if (not test):\n",
    "        print(\"The rate of 'good' movie reviews in the dataset: \")\n",
    "        print(movie_data['sentiment'].mean())\n",
    "\n",
    "    # vectorize Bag of Words from review text; as sparse matrix using Count Vectorizer\n",
    "    if (not test): # fit_transform()\n",
    "        cv = CountVectorizer(lowercase=True, ngram_range=(1, 3), analyzer=\"char_wb\")\n",
    "        X_cv = cv.fit_transform(movie_data.review)\n",
    "        fitted_transformations.append(cv)\n",
    "        print(\"Shape of CountVectorizer X:\")\n",
    "        print(X_cv.shape)\n",
    "    else: # transform() \n",
    "        X_cv = fitted_transformations[0].transform(movie_data.review)\n",
    "        print(\"Shape of CountVectorizer X:\")\n",
    "        print(X_cv.shape)\n",
    "    \n",
    "    # http://scikit-learn.org/stable/modules/generated/sklearn.feature_extraction.text.TfidfTransformer.html\n",
    "    if (not test):\n",
    "        transformer = TfidfTransformer()\n",
    "        X_tfidf = transformer.fit_transform(X_cv)\n",
    "        fitted_transformations.append(transformer)\n",
    "    else:\n",
    "        X_tfidf = fitted_transformations[1].transform(X_cv)\n",
    "    \n",
    "    # create additional quantitative features\n",
    "    movie_data['word_count'] = movie_data['review'].str.split(' ').str.len()\n",
    "    movie_data['punc_count'] = movie_data['review'].str.count(\"\\.\")\n",
    "    movie_data['repeated_word_count'] = [word for word, count in movie_data['word_count'].items() if count > 1]\n",
    "    movie_data['unique_word_count'] = movie_data['review'].apply(lambda x: len(set(x.split())))\n",
    "    movie_data['avg_word_length'] = movie_data['review'].apply(lambda x: sum(len(word) for word in x.split()) / len(x.split()))\n",
    "\n",
    "    \n",
    "#     # Chi-squared test to select top categorical features\n",
    "#     if (not test):\n",
    "#         top_features = []\n",
    "#         for col in ['word_count', 'punc_count', 'repeated_words']:\n",
    "#             crosstab = pd.crosstab(movie_data[col], movie_data['sentiment'])\n",
    "#             chi2, p, dof, expected = chi2_contingency(crosstab)\n",
    "#             if p < 0.05:\n",
    "#                 top_features.append(col)\n",
    "#         print(\"Top categorical features selected using chi-squared test: \")\n",
    "#         print(top_features)\n",
    "#         movie_data = movie_data[top_features]\n",
    "        \n",
    "        \n",
    "    X_quant_features = movie_data[[\"word_count\", \"punc_count\", \"repeated_word_count\", \"unique_word_count\", \"avg_word_length\"]]\n",
    "#     X_quant_features = movie_data[top_features]\n",
    "    print(\"Look at a few rows of the new quantitative features: \")\n",
    "    print(X_quant_features.head(10))\n",
    "    \n",
    "    # Combine all quantitative features into a single sparse matrix\n",
    "    X_quant_features_csr = csr_matrix(X_quant_features)\n",
    "    X_combined = hstack([X_tfidf, X_quant_features_csr])\n",
    "    X_matrix = csr_matrix(X_combined) # convert to sparse matrix\n",
    "    print(\"Size of combined bag of words and new quantitative variables matrix:\")\n",
    "    print(X_matrix.shape)\n",
    "    \n",
    "    # Create `X`, scaled matrix of features\n",
    "    # feature scaling\n",
    "    if (not test):\n",
    "        sc = StandardScaler(with_mean=False)\n",
    "        X = sc.fit_transform(X_matrix)\n",
    "        fitted_transformations.append(sc)\n",
    "        print(X.shape)\n",
    "        y = movie_data['sentiment']\n",
    "    else:\n",
    "        X = fitted_transformations[2].transform(X_matrix)\n",
    "        print(X.shape)\n",
    "    \n",
    "    # Create Training and Test Sets\n",
    "    # enter an integer for the random_state parameter; any integer will work\n",
    "    if (test):\n",
    "        X_submission_test = X\n",
    "        print(\"Shape of X_test for submission:\")\n",
    "        print(X_submission_test.shape)\n",
    "        print('SUCCESS!')\n",
    "        return(movie_data, X_submission_test)\n",
    "    else: \n",
    "        X_train, X_test, y_train, y_test, X_raw_train, X_raw_test = train_test_split(X, y, movie_data, test_size=0.2, random_state=my_random_seed)\n",
    "        print(\"Shape of X_train and X_test:\")\n",
    "        print(X_train.shape)\n",
    "        print(X_test.shape)\n",
    "        print(\"Shape of y_train and y_test:\")\n",
    "        print(y_train.shape)\n",
    "        print(y_test.shape)\n",
    "        print(\"Shape of X_raw_train and X_raw_test:\")\n",
    "        print(X_raw_train.shape)\n",
    "        print(X_raw_test.shape)\n",
    "        print('SUCCESS!')\n",
    "        return(X_train, X_test, y_train, y_test, X_raw_train, X_raw_test)"
   ]
  },
  {
   "cell_type": "markdown",
   "metadata": {},
   "source": [
    "# Create training and test sets from function"
   ]
  },
  {
   "cell_type": "code",
   "execution_count": 49,
   "metadata": {
    "scrolled": true
   },
   "outputs": [
    {
     "name": "stdout",
     "output_type": "stream",
     "text": [
      "movie_data is: <class 'pandas.core.frame.DataFrame'>\n",
      "movie_data has 25000 rows and 3 columns \n",
      "\n",
      "the data types for each of the columns in movie_data:\n",
      "id           object\n",
      "sentiment     int64\n",
      "review       object\n",
      "dtype: object \n",
      "\n",
      "the first 10 rows in movie_data:\n",
      "       id  sentiment                                             review\n",
      "0  5814_8          1  With all this stuff going down at the moment w...\n",
      "1  2381_9          1  \\The Classic War of the Worlds\\\" by Timothy Hi...\n",
      "2  7759_3          0  The film starts with a manager (Nicholas Bell)...\n",
      "3  3630_4          0  It must be assumed that those who praised this...\n",
      "4  9495_8          1  Superbly trashy and wondrously unpretentious 8...\n",
      "The rate of 'good' movie reviews in the dataset: \n",
      "0.5\n",
      "Shape of CountVectorizer X:\n",
      "(25000, 38406)\n",
      "Look at a few rows of the new quantitative features: \n",
      "   word_count  punc_count  repeated_word_count  unique_word_count  \\\n",
      "0         433          20                    0                246   \n",
      "1         158          16                    1                116   \n",
      "2         378          20                    2                265   \n",
      "3         379           8                    3                237   \n",
      "4         367           9                    4                265   \n",
      "5          89           5                    5                 66   \n",
      "6         112           9                    6                 85   \n",
      "7         132           9                    7                 96   \n",
      "8         163           7                    8                121   \n",
      "9          43           5                    9                 40   \n",
      "\n",
      "   avg_word_length  \n",
      "0         4.318707  \n",
      "1         4.993671  \n",
      "2         5.481481  \n",
      "3         4.926121  \n",
      "4         5.081744  \n",
      "5         3.966292  \n",
      "6         4.410714  \n",
      "7         4.522727  \n",
      "8         4.914110  \n",
      "9         4.651163  \n",
      "Size of combined bag of words and new quantitative variables matrix:\n",
      "(25000, 38411)\n",
      "(25000, 38411)\n",
      "Shape of X_train and X_test:\n",
      "(20000, 38411)\n",
      "(5000, 38411)\n",
      "Shape of y_train and y_test:\n",
      "(20000,)\n",
      "(5000,)\n",
      "Shape of X_raw_train and X_raw_test:\n",
      "(20000, 8)\n",
      "(5000, 8)\n",
      "SUCCESS!\n",
      "Number of fits stored in `fitted_transformations` list: \n",
      "3\n"
     ]
    }
   ],
   "source": [
    "# create an empty list to store any use of fit_transform() to transform() later\n",
    "# it is a global list to store model and feature extraction fits\n",
    "fitted_transformations = []\n",
    "\n",
    "# CHANGE FILE PATH and my_random_seed number (any integer other than 74 will do): \n",
    "X_train, X_test, y_train, y_test, X_raw_train, X_raw_test = process_raw_data(fn='/Users/maybaho/Documents/Parsons/Machine Learning/assignments/data/moviereviews_train.tsv', my_random_seed=13)\n",
    "\n",
    "print(\"Number of fits stored in `fitted_transformations` list: \")\n",
    "print(len(fitted_transformations))"
   ]
  },
  {
   "cell_type": "markdown",
   "metadata": {},
   "source": [
    "# Fit (and tune) Various Models"
   ]
  },
  {
   "cell_type": "markdown",
   "metadata": {},
   "source": [
    "### MODEL: ordinary least squares"
   ]
  },
  {
   "cell_type": "code",
   "execution_count": 50,
   "metadata": {},
   "outputs": [],
   "source": [
    "# from sklearn import linear_model\n",
    "# ols = linear_model.SGDClassifier(loss=\"squared_loss\", penalty=\"elasticnet\", alpha=0.0001)\n",
    "# ols.fit(X_train, y_train)\n",
    "\n",
    "# ols_performance_train = BinaryClassificationPerformance(ols.predict(X_train), y_train, 'ols_train')\n",
    "# ols_performance_train.compute_measures()\n",
    "# print(ols_performance_train.performance_measures)"
   ]
  },
  {
   "cell_type": "markdown",
   "metadata": {},
   "source": [
    "### MODEL: SVM, linear"
   ]
  },
  {
   "cell_type": "code",
   "execution_count": 51,
   "metadata": {},
   "outputs": [],
   "source": [
    "# from sklearn import linear_model\n",
    "\n",
    "# #regularization alpha=300 obtained from canvas assignment 3\n",
    "# svm = linear_model.SGDClassifier(alpha=250)\n",
    "# svm.fit(X_train, y_train)\n",
    "\n",
    "# svm_performance_train = BinaryClassificationPerformance(svm.predict(X_train), y_train, 'svm_train')\n",
    "# svm_performance_train.compute_measures()\n",
    "# print(svm_performance_train.performance_measures)"
   ]
  },
  {
   "cell_type": "markdown",
   "metadata": {},
   "source": [
    "### MODEL: logistic regression"
   ]
  },
  {
   "cell_type": "code",
   "execution_count": 52,
   "metadata": {},
   "outputs": [],
   "source": [
    "# from sklearn import linear_model\n",
    "# lgs = linear_model.SGDClassifier(loss='log')\n",
    "# lgs.fit(X_train, y_train)\n",
    "\n",
    "# lgs_performance_train = BinaryClassificationPerformance(lgs.predict(X_train), y_train, 'lgs_train')\n",
    "# lgs_performance_train.compute_measures()\n",
    "# print(lgs_performance_train.performance_measures)"
   ]
  },
  {
   "cell_type": "markdown",
   "metadata": {},
   "source": [
    "### MODEL: Naive Bayes"
   ]
  },
  {
   "cell_type": "code",
   "execution_count": 53,
   "metadata": {},
   "outputs": [
    {
     "name": "stdout",
     "output_type": "stream",
     "text": [
      "{'Pos': 10002, 'Neg': 9998, 'TP': 9003, 'TN': 9130, 'FP': 868, 'FN': 999, 'Accuracy': 0.90665, 'Precision': 0.9120656468442914, 'Recall': 0.9001199760047991, 'desc': 'nbs_train'}\n"
     ]
    }
   ],
   "source": [
    "from sklearn.naive_bayes import MultinomialNB\n",
    "\n",
    "#add regularization to reduce overfitting\n",
    "nbs = MultinomialNB(fit_prior=True, alpha=0.001)\n",
    "nbs.fit(X_train, y_train)\n",
    "\n",
    "nbs_performance_train = BinaryClassificationPerformance(nbs.predict(X_train), y_train, 'nbs_train')\n",
    "nbs_performance_train.compute_measures()\n",
    "print(nbs_performance_train.performance_measures)"
   ]
  },
  {
   "cell_type": "markdown",
   "metadata": {},
   "source": [
    "### MODEL: Perceptron"
   ]
  },
  {
   "cell_type": "code",
   "execution_count": 35,
   "metadata": {},
   "outputs": [
    {
     "name": "stdout",
     "output_type": "stream",
     "text": [
      "{'Pos': 10002, 'Neg': 9998, 'TP': 10002, 'TN': 9998, 'FP': 0, 'FN': 0, 'Accuracy': 1.0, 'Precision': 1.0, 'Recall': 1.0, 'desc': 'prc_train'}\n"
     ]
    }
   ],
   "source": [
    "# from sklearn import linear_model\n",
    "# prc = linear_model.SGDClassifier(loss='perceptron', alpha=0.00001, penalty=\"elasticnet\")\n",
    "# prc.fit(X_train, y_train)\n",
    "\n",
    "# prc_performance_train = BinaryClassificationPerformance(prc.predict(X_train), y_train, 'prc_train')\n",
    "# prc_performance_train.compute_measures()\n",
    "# print(prc_performance_train.performance_measures)"
   ]
  },
  {
   "cell_type": "markdown",
   "metadata": {},
   "source": [
    "### MODEL: Ridge Regression Classifier"
   ]
  },
  {
   "cell_type": "code",
   "execution_count": 36,
   "metadata": {},
   "outputs": [],
   "source": [
    "# from sklearn import linear_model\n",
    "# rdg = linear_model.RidgeClassifier()\n",
    "# rdg.fit(X_train, y_train)\n",
    "\n",
    "# rdg_performance_train = BinaryClassificationPerformance(rdg.predict(X_train), y_train, 'rdg_train')\n",
    "# rdg_performance_train.compute_measures()\n",
    "# print(rdg_performance_train.performance_measures)"
   ]
  },
  {
   "cell_type": "markdown",
   "metadata": {},
   "source": [
    "### MODEL: Random Forest Classifier"
   ]
  },
  {
   "cell_type": "code",
   "execution_count": 33,
   "metadata": {},
   "outputs": [],
   "source": [
    "# from sklearn.ensemble import RandomForestClassifier\n",
    "# rdf = RandomForestClassifier(max_depth=2, random_state=0)\n",
    "# rdf.fit(X_train, y_train)\n",
    "\n",
    "# rdf_performance_train = BinaryClassificationPerformance(rdf.predict(X_train), y_train, 'rdf_train')\n",
    "# rdf_performance_train.compute_measures()\n",
    "# print(rdf_performance_train.performance_measures)"
   ]
  },
  {
   "cell_type": "markdown",
   "metadata": {},
   "source": [
    "### ROC plot to compare performance of various models and fits"
   ]
  },
  {
   "cell_type": "code",
   "execution_count": 55,
   "metadata": {
    "scrolled": false
   },
   "outputs": [
    {
     "data": {
      "image/png": "[encoded data removed]",
      "text/plain": [
       "<Figure size 432x288 with 1 Axes>"
      ]
     },
     "metadata": {
      "needs_background": "light"
     },
     "output_type": "display_data"
    }
   ],
   "source": [
    "fits = [nbs_performance_train]\n",
    "\n",
    "for fit in fits:\n",
    "    plt.plot(fit.performance_measures['FP'] / fit.performance_measures['Neg'], \n",
    "             fit.performance_measures['TP'] / fit.performance_measures['Pos'], 'bo')\n",
    "    plt.text(fit.performance_measures['FP'] / fit.performance_measures['Neg'], \n",
    "             fit.performance_measures['TP'] / fit.performance_measures['Pos'], fit.desc)\n",
    "plt.axis([0, 1, 0, 1])\n",
    "plt.title('ROC plot: training set')\n",
    "plt.xlabel('False positive rate')\n",
    "plt.ylabel('True positive rate')\n",
    "plt.show()"
   ]
  },
  {
   "cell_type": "markdown",
   "metadata": {},
   "source": [
    "### looking at reviews based on their classification\n",
    "\n",
    "Let's say we decide that Ordinary Least Squares (OLS) Regression is the best model for generalization. Let's take a look at some of the reviews and try to make a (subjective) determination of whether it's generalizing well. "
   ]
  },
  {
   "cell_type": "code",
   "execution_count": 56,
   "metadata": {},
   "outputs": [],
   "source": [
    "nbs_predictions = nbs.predict(X_train)"
   ]
  },
  {
   "cell_type": "markdown",
   "metadata": {},
   "source": [
    "### let's look at some false positives:"
   ]
  },
  {
   "cell_type": "code",
   "execution_count": 57,
   "metadata": {},
   "outputs": [
    {
     "name": "stdout",
     "output_type": "stream",
     "text": [
      "Examples of false positives:\n",
      "152\n",
      "Within the first few minutes of this Dutch thriller, we learn that Krabbe is a gay alcoholic writer who sleeps sans underwear, fantasizes about murdering his roommate, tries to steal a magazine from a news stand, and lusts after a studly young man he meets at the train station. And he's the hero of this nonsensical movie that is all dressed up (except for Krabbe in at least one scene too many) but has nowhere to go. The basic plot is very simple but is dragged out to nearly two hours before reaching a pointless conclusion. Verhoeven has a nice visual flair but resorts to scenes of wild hallucinations, overt symbolism, and gratuitous gore when he runs out of ideas.\n",
      "* * * * * * * * * \n",
      "723\n",
      "This Drummond entry is lacking in continuity. Most of them have their elements of silliness, the postponed wedding, and so on. However, this has an endless series of events occurring in near darkness as the characters run from one place to another. The house seems more like a city. There's also Leo G. Carrol who is such an obvious suspect who no-one seems to even look at. He is a stranger and acts rather suspicious, but Drummond and the folks don't seem to pick up on anything. Still, it as reasonably good action and a pretty good ending.<br /><br />I know that Algie is supposed to be a comic figure, but like Nigel Bruce in the Rathbone Sherlock Holmes flicks, he is so buffoonish that it's hard to imagine anyone with taste or intelligence being around him. Is there a history behind him that will explain how he and Drummond became associates?\n",
      "* * * * * * * * * \n",
      "998\n",
      "This film features Ben Chaplin as a bored bank employee in England who orders a mail order bride from Russia, recieves Nicole Kidman in the mail and gets more than he bargained for when, surprise, she isn't what she appears to be. The story is fairly predictible and Chaplin underacts too much to the point where he becomes somewhat anoying. Kidman is actualy rather good in this role, making her character about the only thing in this film that is interesting. GRADE: C\n",
      "* * * * * * * * * \n",
      "1072\n",
      "Turkish Cinema has a big problem. Directors aren't interested in global cinema. They are local and folkloric, but want to be international. This brings kitsch results such this movie.<br /><br />Film has jokes translated to Spanish from Turkish and they don't have any meaning for non-Turkish audiences. Even for Turkish audiences after 10 years.<br /><br />Players, even Ferhan SENSOY have a worse acting than average. They act like puppets.<br /><br />Movie was shot in Cuba, but nothing includes about Cuba. So Cuba is thought like a banana republic.<br /><br />Waste of money, waste of time.\n",
      "* * * * * * * * * \n",
      "1257\n",
      "If this documentary had not been made by the famous French director, Louis Malle, I probably would have turned it off after the first 15 minutes, as it was an incredibly dull look at a very ordinary Midwestern American town in 1979. This is not exactly my idea of a fun topic and the film footage closely resembled a collection of home movies. Considering I didn't know any of these people, it was even less interesting.<br /><br />Because it was a rather dull slice of life style documentary, I wondered while watching what was the message they were trying to convey? Perhaps it was that values aren't as conservative as you might think--this was an underlying message through many of the vignettes (such as the Republicans whose son was a draft resister as well as the man and lady who thought sex outside of marriage was just fine). Or, perhaps the meaning was that there was a lot of bigotry underlying the nice home town--as several ugly ideas such as blaming Jews for financial conspiracies, anti-Black bigotry and homophobia all were briefly explored.<br /><br />The small town of 1979 was explored in great depth and an idyllic sort of world was portrayed, but when the film makers returned six years later, the mood was depressed thanks to President Reagan. This seemed very disingenuous for several reasons. First, the 1979 portion was almost 90% of the film and the final 10% only consisted of a few interviews of people that blamed the president for just about everything but acne. What about the rest of the folks of this town? Did they all see Reagan as evil or that their lives had become more negative? With only a few updates, it seemed suspicious. Second, while it is true that the national debt doubled in the intervening years, so did the gross national product. And, while Malle shows 1979 as a very optimistic period, it was far from that, as the period from 1974-1980 featured many shortages (gas, sugar, etc.), strikes, high inflation and general malaise. While I am not a huge fan of Reagan because government growth did NOT slow during his administration, the country, in general, was far more optimistic than it had been in the Ford and Carter years. While many in the media demonized Reagan (a popular sport in the 80s), the economy improved significantly and the documentary seems very one-sided and agenda driven. Had the documentary given a more thorough coverage of 1985 and hadn't seemed too negative to be believed (after all, everyone didn't have their lives get worse--this defies common sense), then I might have thought otherwise.<br /><br />Overall, not the wonderful documentary some have proclaimed it to be--ranging from a dull film in 1979 to an extremely slanted look at 1985.<br /><br />By the way, is it just me, or does the film DROP DEAD GORGEOUS seem to have been inspired, at least in part, by this film? Both are set in similar communities, but the latter film was a hilarious mockumentary without all the serious undertones.\n",
      "* * * * * * * * * \n",
      "1889\n",
      "It seems that the people behind Envy realised that recent comedies - especially ones involving Ben Stiller and to a lesser degree Jack Black - have been situation spoofs, which have steadily declined in originality and generally laughs. I found the sheer absurdity of Zoolander utterly hilarious when it was released, Starsky and Hutch was also enjoyable, and then Dodgeball kept the laughs going for a lot of people, although personally i was a bit tired of the over-the-top characters - especially when the scenario wasn't quite so funny (perhaps the comedy of a Dodgeball tournament doesn't quite translate to Australia, where it's rarely played). So in an attempt to do something a little more original, Envy moves away from an absurd scenario and instead revolves around the absurd creation of Jack Black's character (i won't spoil what it is for those who intend to see the movie). The problem is that the movie seems to drag, i'm not a big enough movie buff to be able to think of examples, but it seems like this set up has been done a thousand times before - and very rarely successfully. So instead of a nice, crisp, enjoyable and fresh comedy, you get a film that seems to just go through the motions. Sure the motions can be quite amusing, and they're centred on an idea that is quirky enough to provide a few laughs - especially with Jack Black playing the excited and amusing, though a bit 2D, creator. Ben Stiller on the other hand seems a bit lost, he's asked to play a fuller role than the ridiculous characters of his Zoolander breed of movies, but he struggles as a family man, whether his fault or the scripts, there isn't enough depth to the character and the result is a movie of Ben Stiller doing those typical mannerisms and generally becoming tedious. The performance doesn't leave an imprint on the viewer (he's just Ben Stiller, Jack Black manages to actually portray a character - though not a challenging one). The last annoying element of the movie is Christopher Walken's role as 'The J Man', which is about as typical and two dimensional as characters come, and naturally he becomes monotonous and frustrating very quickly.<br /><br />It's really not as unbearable as some people would have you think, it's watchable, especially if you're in the right mood (feeling silly would be a good prerequisite for seeing this film). Hire it on a movie night with friends and watch it after you've watched a scary film and feel like something light - hopefully you'll also be somewhat tipsy by then too. In that scenario i can imagine it would be quite enjoyable, but generally it provides too few laughs to carry itself and most of the time just drags along.\n",
      "* * * * * * * * * \n",
      "2280\n",
      "Twenty years ago, the five years old boy Michael Hawthorne witnessed his father killing his mother with an axe in an empty road and committing suicide later. On the present days, Michael (Gordon Currie) invites his girlfriend Peg (Stacy Grant) and his best friends Chris (Myc Agnew), Jennifer (Emmanuelle Vaugier), Lisa Ann (Kelly Benson), Ned (Brendon Beiser), Mitch Maldive (Phillip Rhys) and Trish (Rachel Hayward) to spend the Halloween in the country with his grandparents in their farm. He asks his friends to wear costumes that would represent their greatest innermost fear, and together with his Indian friend Crow (Byron Chief Moon), they would perform an ancient Indian celebration using the carved wooden dummy Morty (Jon Fedele) that would eliminate their fears forever. The greatest fear of Michael is to become a serial killer like his father, but something goes wrong and Morty turns into his father, killing his friends.<br /><br />\\The Fear: Resurrection\\\" is a disappointing and pointless slash movie that uses the interesting concept of eliminating the greatest innermost fear of each friend before it grows, but in a messy screenplay full of clichés. There are some exaggerated performances, like for example Ms. Betsy Palmer; others very weak, but in general the acting is good. Unfortunately there is no explanation why the dummy is brought to live; further, in spite of being surrounded by close friends, the group does not feel pain or sorrow when each one of them dies. The low-pace along more than fifty minutes could have been used to built a better dramatic situation. In the very end, Michael shows a charm that his father was interested that I have not noticed along the story. I do not know whether the previous reference was edited in the DVD released in Brazil with 87 minutes running time. The special effects are very reasonable for a B-movie. My vote is four.<br /><br />Title (Brazil): \\\"Fear 2: Uma Noite de Halloween\\\" (\\\"Fear 2: One Night of Halloween\\\")\"\n",
      "* * * * * * * * * \n",
      "3448\n",
      "A couple of farmers struggle in life in a small village in China. Wang Lung (Paul Muni) buys O-Lan, his future wife, who becomes his slave (Luis Rainer). American stars appear in the leading roles, talking with fake accents and emphasizing old stereotypes and patriarchal ideology. A good wife, many children and land are the best things for men to have. They are seen as property and investment. Because it is a big budget movie, in which many extras cooperate, big sets are built and special effects take place, the movie makers could not take the risk of hiring less popular actors. Luise Rainer won an Academy Award for this performance, which is definitely the worst in the movie. Her immutable face builds a barrier between her and the audience. O-Lan is supposed to be the heart of the family and the best character to sympathize with. On the other hand Paul Muni gives a better performance, showing his talent ones again. Another problem with the movie is the ending. It seems like Franklin did not know when to end the picture. This film could be dangerous if it is taken as a truly example of Chinese culture and traditions.\n",
      "* * * * * * * * * \n"
     ]
    },
    {
     "name": "stdout",
     "output_type": "stream",
     "text": [
      "4261\n",
      "I felt this movie started out well. The acting was spot on and I felt for all the characters situation, even though the true family unit was not completely revealed. We never got enough info on the father to truly feel his pain for his whole involvement or the build up for his animosity with Tobe. I mean in one scene you see him admiring her for tensity and in another scene he just about takes her head off. Another problem with the movie was it just unraveled and lost all focus by the end, and I was begging for it to just be over with. Any movie with such a long drawn out , and painful ending should never get an automatic rating of 7 or above just for the acting. We are looking at the over all quality of the movie experience. In the case of this movie the end is so bad I seriously contemplated just walking out of the theater. This movie pulled me in then just spit me out.\n",
      "* * * * * * * * * \n",
      "4357\n",
      "I am a great fan of David Lynch and have everything that he's made on DVD except for Hotel Room & the 2 hour Twin Peaks movie. So, when I found out about this, I immediately grabbed it and...and...what IS this? It's a bunch of crudely drawn black and white cartoons that are loud and foul mouthed and unfunny. Maybe I don't know what's good, but maybe this is just a bunch of crap that was foisted on the public under the name of David Lynch to make a few bucks, too. Let me make it clear that I didn't care about the foul language part but had to keep adjusting the sound because my neighbors might have. All in all this is a highly disappointing release and may well have just been left in the deluxe box set as a curiosity. I highly recommend you don't spend your money on this. 2 out of 10.\n",
      "* * * * * * * * * \n",
      "5452\n",
      "I think that Elisabeth Rohm, though she may try hard, is not very good at all. I guess it was because of budget that she may have been the only one they could get for that price. I mainly watched it for the performance of Myron Natwick, whose work I know very well.<br /><br />He was the most believable and without doubt the most compelling to watch. When he wasn't on the screen, the thing went dead. This was filmed in Vancouver. He gave me the creeps, but be assured that in real life he is a kind, funny compassionate man. He even said playing that role gave him the creeps.<br /><br />I'll watch anything with him in it, but Elisabeth Rohm - never again. She was as exciting as lint on Law and Order. Maybe a very nice person, but no actress.\n",
      "* * * * * * * * * \n",
      "5894\n",
      "You can tell a Lew Grade production a mile off  distinctly British in style; epic in conception; peopled by international all-star casts; usually set in exotic climes. It's a formula that Grade and his company ITC employed throughout the 70s into the early 80s, resulting in titles like The Eagle Has Landed, Firepower, and Raise The Titanic! In 1977 Grade produced March Or Die, a remarkably old-fashioned Foreign Legion adventure that models all the characteristics mentioned above. Directed by the usually dependable Dick Richards  who helmed the acclaimed Farewell My Lovely just a couple years earlier - March Or Die is an unfortunate disappointment.<br /><br />A company of Foreign Legionnaires led by the harsh disciplinarian General Foster (Gene Hackman) is sent to Morocco shortly after World War 1. Their mission is to protect an archaeological party fronted by the dedicated Francois Marneau (Max Von Sydow). The archaeologists are carrying out an excavation at the ancient city of Erfoud, but fear an attack from Arab tribesmen following the decimation of an earlier archaeological group. Foster is not happy with the assignment  he does not consider historical artifacts worthy of his men risking their lives. This creates ongoing tension between himself and Marneau, who believes that the legionnaires should sacrifice their lives to make the excavation possible. The problems heighten when a beautiful woman named Simone Picard (Catherine Deneuve) tags along with the legionnaires. She is hoping to find out what happened to her father, a historian abducted by the Arabs when they wiped out the first archaeological team. Her presence arouses desires amongst the legionnaires, none more so than gypsy thief Marco Segrain (Terence Hill), a charming and courageous rogue who initially shows indifference towards his legionnaire colleagues but gradually grows in stature. Things climax with a huge battle at Erfoud, with swarms of united Arab tribes charging against the handful of legionnaires as they desperately try to defend their lives.<br /><br />On paper the star duo of Gene Hackman and Terence Hill seem a mismatch  Hackman is the heavyweight Oscar-winning character actor, Hill the handsome but limited Italian heart-throb from numerous low budget spaghetti westerns. One expects Hackman to act his counterpart off the screen. Yet, bizarrely, it is Hackman who gives the weak and uninvolving performance, while Hill raises his game to surprisingly high levels. The film is attractively shot on desert locations, but the pacing is awfully slow and few of the characters are worth caring for. Maurice Jarre's music is uncommonly flat too  very disappointing from the guy who gave us the Lawrence Of Arabia score. It is remarkable that anyone had the nerve to try an old-fashioned adventure of this type in the 70s (it was a genre that peaked in the 30s, and had been all but forgotten during the intervening decades). Sadly, the gamble doesn't really pay off  this homage to the legionnaire flicks of old becomes more of a plod than a march.\n",
      "* * * * * * * * * \n",
      "6234\n",
      "May (Anne Reid) and Toots (Peter Vaughan) are paying an apparently infrequent visit to their son Bobby (Steven Mackintosh) and his family in London. Even as the visit begins, Toots suffers a fatal heart attack, leaving May adrift, unsure, and questioning her life and future. Finding herself attracted to her daughter's boyfriend Darren (Daniel Craig), her actions lead to inevitable consequences.<br /><br />Beautifully filmed, but for all its heralded realism and acclaim, The Mother offers a collection of mostly unpleasant, even repellent characters, and asks the viewer to engage with them. Reid shines as May, and it is her skill and commitment as a wonderfully understated actor that salvages the film from a completely depressing mire, but Michell and Kureishi have allowed Craig, Mackintosh and Cathryn Bradshaw to create such utterly obnoxious characters, that it becomes increasingly difficult to care what happens to May. As written, the characters played by Mackintosh and Bradshaw are in fact so utterly selfish and cold-hearted that one begins to wonder what exactly was Kureishi trying to say. As directed, they are either unwilling or unable to lift Bobby and Paula above the two dimensional in their ghastly selfishness. <br /><br />Worth seeing for Reid's performance, but little else. A crying shame...\n",
      "* * * * * * * * * \n",
      "6473\n",
      "this one of the best celebrity's reality shows a ever saw. we can see the concerts we can see the life of Britney, i love the five episodes. i was always being surprised by Britney and the subjects of the show i think that some people don't watch the show at all we can how a great person she his. she his really funny really gentle and she loves her fans and we can see how she loves her work. i just don't give a 10 because of k-fed he his a real jerk he doesn't seem to like Britney at all. I they make a second season of this great show because it shows at some people how Britney really is. Go Britney your the best and you will never leave our hearts.\n",
      "* * * * * * * * * \n",
      "6526\n",
      "I had the distinct displeasure of seeing this movie at the 2006 Vancouver International Film Festival. I have been attending this festival for over 5 years, and I have certainly seen some poor movies on occasion. However, 'First Bite' has reached a brand new low in film. In spite of being shot in beautiful locations, with the occasional, exquisite close up of fabulous food, the movie contorts an excessive number of plot twists and stilted characters until I was practically begging for it to end.<br /><br />The lead actor, David La Haye, completely failed to show any character development throughout the movie, portraying a pompous chef from beginning to end. Additional sub-plots, such as eating disorders, were developed so poorly and completely did not fit within any context that the movie had shown up to that point.<br /><br />A theme of mysticism was used as a poor attempt to conceal a movie that achieves nothing, goes nowhere, and completely disappoints.\n",
      "* * * * * * * * * \n"
     ]
    },
    {
     "name": "stdout",
     "output_type": "stream",
     "text": [
      "7958\n",
      "By 1941 Columbia was a full-fledged major studio and could produce a movie with the same technical polish as MGM, Paramount or Warners. That's the best thing that could be said about \\Adam Had Four Sons,\\\" a leaden soap opera with almost terminally bland performances by Ingrid Bergman (top-billed for the first time in an American film) and Warner Baxter. Bergman plays a Frenchwoman (this was the era in which Hollywood thought one foreign accent was as good as another) hired as governess to Baxter's four sons and staying on (with one interruption caused by the stock-market crash of 1907) until the boys are grown men serving in World War I. Just about everyone in the movie is so goody-good it's a relief when Susan Hayward as the villainess enters midway through  she's about the only watchable person in the movie even though she's clearly channeling Bette Davis and Vivien Leigh; it's also the first in her long succession of alcoholic roles  but the script remains saccharine and the ending is utterly preposterous. No wonder Bergman turned down the similarly plotted \\\"The Valley of Decision\\\" four years later.\"\n",
      "* * * * * * * * * \n",
      "7959\n",
      "The thing that stands out in my mind in this film (sadly) is the introduction, where John Berlin (Andy Garcia) is driving into town. You see his Mercedes pass on a winding road through a forest that looks like its loaded with Redwood trees. It's quite beautiful. <br /><br />As to Andy Garcia playing a character with the last name of Berlin, well...Andy is just too hispanic/Latin for it to be passable. Maybe a caucasian father married his Spanish mother for this story? Who knows. But I can tell you that when you put him in a town of farm folks and hicks, he stands out like a sore thumb, especially with his accent that flares up when he gets angry. Yeah, I know, big deal right? He's still a good actor.<br /><br />The title concerns a serial killer who nicknames his victims Jennifer. All of the victims are blind and he dismembers them. The killer has taken a hiatus but suddenly resurfaces when a blind witness (don't ask) appears, Helena Robertson (Uma Thurman). Thurman does a good job of playing a blind person, to my surprise. When I saw Lance Henriksen playing Sgt. Freddy Ross I got worried. Henriksen's played in some pretty strange films, especially of late. I still can't forget him in the bloodbath movie, Pumpkinhead. <br /><br />Berlin movies into a small town from L.A. as a detective. He begins investigating the Jennifer murders after finding body parts in the local landfill. His brilliance in discovering one of the victims was blind seemed far-fetched. So did the irony of *SPOILER* Freddy's murder, with the recording and name similarities. I got very confused as to the logic of how there came to be eight \\Jennifers\\\". And the motive of the killer as simply deranged didn't pack much of a punch. In retrospect, this film is probably more true to life in showing an unsuspecting individual as capable of murder simply because they became a little wacko over time or maybe were born looney toons.<br /><br />John Malkovich does a stupendous job in his interrogation of Garcia! Albeit no cop would legally be allowed to press someone that hard and egg them on without rightfully get knocked out. As to the ending, it is a bit of a surprise, but is highly arguable, much like Sgt. Ross' murder. The killer chooses to walk after his running victim, opting instead to frolick I guess.<br /><br />And there are so many opportunities he has in killing her that it's ridiculous. I won't ruin the very end because despite it's shakiness, it's a good surprise. Afterward though, you'll probably say, as I did, \\\"boy was she lucky!\\\" 4/10\"\n",
      "* * * * * * * * * \n",
      "9029\n",
      "There's nothing quite like watching giant robots doing battle over a desert wasteland, and Robot Wars does deliver. Sure, the acting is lousy, the dialogue is sub-par, and the characters are one-dimensional, but it has giant robots! The special effects themselves are actually quite good for the period. They are certainly not as polished as today's standards, but it contains a minimum of computer graphics and instead uses miniatures, so it has aged fairly well. Its shortcomings are easily overlooked given the films short runtime, and it does have a certain tongue-in-cheek humour in parts that make it quite enjoyable. I would recommend this to any fan of giant robots or cheesy sci-fi who is looking for a lighthearted hour of distraction.\n",
      "* * * * * * * * * \n",
      "9308\n",
      "The movie was disappointing. The book was powerful. The views and the learning of Little Tree were powerfully portrayed in the book. The movie just coasted along and finally dribbled away. Still a nice tale for kids.\n",
      "* * * * * * * * * \n",
      "9823\n",
      "This movie is all flash and no soul. The actors put a lot of passion into the numbers, but these numbers often didn't connect with the film and felt like stand-alone music videos. And no effort was made to make the numbers sound as if they were happening right there in front of you, every single one sounds like its coming from a studio, essentially sucking all the life from the songs. Off the stage the performances were all dull and unrealized, especially Hudson, who essentially plays the same angry, \\strong\\\" (she's stubborn and selfish) black woman we've seen before. There was absolutely no depth to her character, nor any of the other female leads. Though I think the movie wants us to believe that Hudson's character faces hardship because of her weight, it is really her own refusal to do what's best for the team that lands her in trouble, making the end of the film totally meaningless. Hudson's Academy Award is a joke, there was no justification. When she sang, she put forth emotion (though it was often misplaced, but this was the writer/director's fault), but when she was just acting, she did nothing to flesh out an already underwritten character. Eddie Murphy's character is the only one with an arc, and he did a fine job, but still not Oscar worthy. The only actor who really brought something to the roll was Danny Glover, who took a small, relatively unimportant character and made something real out of it. There is nothing here to sink your teeth into, no drama or heart, or even laughs. The placement of the musical numbers was so bad that at times the movie almost seemed to be making fun of musicals instead of being one; the number when Hudson is arguing with the other girls is so long-winded if it had been any longer it could pass for a Family Guy skit. The movie has no idea what it's about, and I felt insulted by the last few minutes. It's a big, boring waste of time, and really is the worst film I saw in '06, and nothing last year was really stellar to begin with.\"\n",
      "* * * * * * * * * \n",
      "9923\n",
      "We purchased this series on DVD because of all of the glowing reviews we had seen here. I gave it three stars because there can be little doubt that sometimes the acting, directing and writing are brilliant. In fact they are so brilliant we did not see the propaganda that was being transmitted so smoothly on the series. If one watches it with discernment, one will see the entire litany of the radical right wing beliefs being promulgated by the Fox (Faux) News Network. To avoid giving away any spoilers I will refrain from pointing out all of the dozens of specific instances. A brief look at the plots found here on IMDb will disclose that everything from torture to gun control to the right of a network to provide \\Infomercials\\\" and call them news is justified with cute plot twists and impassioned speeches given by some of the best actors in the world. We watched many shows and finally gave up in disgust when they justified torture using Attorney General Gonzales as a shining example of why all kinds of torture should be used in the name of protecting all of us. The series also manages to demean male and female gays in subtle ways by using them as plot devices depicting evil people. All in all the complete litany of the radical religious right wing.<br /><br />No doubt the popularity of this program will be used by future historians as proof that America lost its way in the early part of the this century. As a student of history myself I would characterize this program as being in a league with the propaganda produced by Goebbels for Hitler and some of the propaganda produced by Hollywood for the American audience during WWII.<br /><br />So if you want to use this as a teaching tool to help your students understand how subtle propaganda can be then by all means do so. Just be sure to purchase an inexpensive used copy so you can avoid enriching the ultra right wingers at Faux Network who produced this travesty.\"\n",
      "* * * * * * * * * \n",
      "11149\n",
      "Not as bad, as it's credited to being (Hooper's done far worse)",
      " more so disappointing for me. Such an imaginative concept, which is never really tapped in to by Hooper with his economical direction and even less so in the smoky (excuse the pun) writing. It goes so sinister and over-the-top in a dead serious tone, becoming ridiculous and unfocused letting the whole pessimistic mystery / conspiracy-laced narrative being easily telegraphed to end on something completely abrupt. Because of that, the pacing goes on to be rather sluggish and Brad Dourif (cool to see him in a leading role) seems to struggle with an off-balanced performance, despite etching out a bemusedly quirky intensity to his off-colour character. Even though it's cheaply done, there's a competent technical attitude to it. However it doesn't seem to go anywhere out of the ordinary with its idea and wants to plaster in nasty jolts (which some do work) and strikingly steaming special effects (flames, flames everywhere) instead. Hooper does display some stylishly frenetic imagery (more so towards the latter end), and the camera-work is swiftly manoeuvred and the beaming score is titillating. The performances are bit all over the shop with the appearances of William Prince, Cynthia Bain, Dey Young, Jon Cypher and Melinda Dillon. Also Geroge Buck Flower and John Landis have small, but amusing cameos",
      " especially Landis. Nothing surprises, but it's passably engaging.\n",
      "* * * * * * * * * \n"
     ]
    },
    {
     "name": "stdout",
     "output_type": "stream",
     "text": [
      "12657\n",
      "The original book of this was set in the 1950s but that won't do for the TV series because most people watch for the 1930s style. Ironically the tube train near the end was a 1950s train painted to look like a 1930s train so the Underground can play at that game too. Hanging the storyline on a plot about the Jarrow March was feeble but the 50s version had students who were beginning to think about the world around them so I suppose making them think about the poverty of the marchers is much the same thing. All the stuff about Japp having to cater for himself was weak too but they had to put something in to fill the time. This would have made a decent half hour show or they could have filmed the book and made it a better long show. It is obvious this episode is a victim of style over content.\n",
      "* * * * * * * * * \n",
      "13103\n",
      "The plot of this film is not strong at all, lots of holes. If you approach it as a car movie its not bad, lots of great cars in this one. The reason I like it is because I am from the area where this was filmed. I get the most enjoyment looking at the recognizable places in St. Cloud MN and seeing how the town has changed since 89. Its an interesting historical piece for us locals. Seems like whenever a film is made here everyone wants some relationship to it. It is impossible to find a copy in any of the local video stores as they were all stolen once it came out on VHS. Had to get a copy from Japan on Ebay I find it interesting how the path of the drag race is all over town. I didn't know the director was from St.Cloud.\n",
      "* * * * * * * * * \n",
      "13148\n",
      "This centers on unironic notions of coming to grips with guilt. <br /><br />Merrill berates the distraught boy to stop his 'whining' about Rennie's death. Old-style real men in action, here.<br /><br />The crashing model plane and car crash must have been impressive on the big screen.<br /><br />The storytelling itself, despite the flashback sequences, plays it straight -- all the narrators are trusted by us (regardless of the 'truth' or 'untruth' of the dialogue), so there's no game with the viewer about narrative structure. This would become a rough template for future retellings, such as \\Fearless\\\".<br /><br />So all we're left with is individual performance, and at that level, it's best for Wynn's bantering, a virtual one-man show.\"\n",
      "* * * * * * * * * \n",
      "13159\n",
      "'Maladolescenza' has the air of a dark fairy tale, with its child protagonists, forest setting, and the discovery of a castle's ruins. Yet at its core, the film is essentially an unusual psychosexual study of adolescents. Opening with a dream sequence employing the not-so-subtle metaphor of Fabrizio wrestling with his menacing hound, the film details his psychological persecution of Laura, the girl who has pledged her love to him, and his eventual romance with the equally malicious Sylvia. The film's psychological complexities do give the film merit, yet there's no doubting how unnecessarily exploitive the film is in its depiction of nudity and sex. The film's look relies more on its gorgeous locations rather than particular cinematographic skill, and there's no doubting the film's greatest asset is the creepy, children's choir-augmented soundtrack. With its odd dreamlike quality, the film is at best interesting, yet pales beside Louis Malle's surreal and brilliant 'Black Moon' from the same era. Certainly deserving of the art versus pornography debate, for unlike many banned films, Pasolini's 'Salo' or Larry Clark's 'Ken Park' for instance, the film is rather unremarkable from an artistic perspective. Cinema seems to be gradually losing its ability to shock, so perhaps 'Maladolescenza' should be admired for retaining that power thirty years after its release. However shock value is the one reason alone the film is memorable. <br /><br />The film does have its defenders. Yet so does Nazism.\n",
      "* * * * * * * * * \n",
      "13466\n",
      "A thematic staple of cinema since its inception is that genre involving seductive women whose wiles and means entice susceptible men not only into their arms but also into dire circumstances that typically will only result in jeopardy for the male victims, along with incertitude as to whether or not temptresses will be forced to take their medicine, and here Susan Lucci performs as a siren, although her acting chops from a primarily soap opera pedigree are inadequate to make her performance a credible one. Isabelle (Lucci), inconstant wife of venture capitalist Stewart Collins (John O'Hurley), begins a love affair merely for fun with yacht salesman Richard Davis (Philip Casnoff), simply a bagatelle for her but an earnest matter of the heart for Richard, apparently mesmerized by his lover while she takes advantage of his ardour by engaging him in a risky plot that will graduate into a scheme of murderous intent. When Davis becomes convinced that guileful Isabelle is a victim of physical abuse administered by her husband, he desperately attempts to free her from what he feels is a marital trap in order that he may wed her himself, coming to believe that the only clear solution to his plight will be found in a rudimentary essay at hiring a professional assassin who will dispose of the allegedly violent Stewart. In the wake of the hit-man's assault upon Collins, a pair of police detectives, performed by Joe Grifasi and Dean McDermott, become increasingly curious concerning Isabelle's possible involvement in the crime, while at the same time reality dawns upon enraptured Richard who might have to pay a dear price in return for his inamorata's maneuvering. Lucci and Kasnoff are properly cast as a viable pair of conspirators, each giving a reading that makes for a boring rather than charming set of lovebirds, but O'Hurley and McDermott offer strong turns in a film that suffers from a hackneyed scenario as well as uninventive direction and design elements. Released upon a Fremantle DVD, this largely lustreless affair depicting a man 'neath the spell of a seductress does benefit from top-flight visual and sound quality, and although no extra features are provided, the above-average production quality enhances able efforts from cinematographer Robert Primes and composer Stephen Edwards.\n",
      "* * * * * * * * * \n",
      "14328\n",
      "I really wanted to like this movie and watched all the way through thinking it had to get better. Don't get me wrong, it's not the worst flick ever but it never lives up to it's potential. The premise is good, the cast is great (I was especially pumped to witness the return of David Naughton) and, God love 'em, you can tell everyone tried their best. It just falls short over and over again. \\Brutal Massacre\\\" should serve as a constant reminder to filmmakers that only Christopher Guest can do Christopher Guest movies and, despite the fact he makes it look easy, you should probably just forget trying to do the same. Naughton and Brian O'Halloran are fantastic in this and they should be seen more often...they are the reason this gets 4 stars from me. If you're going to have the \\\"Spinal Tap\\\" of horror I suspect you might want the guy who made \\\"Spinal Tap\\\" to helm it...just thinking out loud there.\"\n",
      "* * * * * * * * * \n",
      "14930\n",
      "Thanks to some infamous home video distributor who brought in the so called German Independent Series, Four For Venice is not only awful, but really awful. So awful, that i have it dumped at the second hand goods store for extra cash.<br /><br />Nick and Charlotte is a married couple who reached an agreement of having sex only on Tuesday due to their hectic schedule of their profession. Eva and Luis is a pair of couple living from hand to mouth, where Eva works as a waitress and Luis, an artist. Nick indirectly causes Eva to lose her job as an waitress. Luis and Charlotte had an affair at the back of Eva and Nick. Luis cheated on Eva by lying to her that he would be flying off to London to do something related to his artwork, but the fact is, he is flying off to Venice with Charlotte for an adultery holiday. Eva kidnapped Nick and dragged her 2 kids along to Venice for confrontation. The trip to Venice ends up both Nick and Eva falling for one another.<br /><br />The presentation of the journey from Germany to Venice between Nick and Eva marks the failure of the comedy. It not only look senseless, but also draggy. In the film, Nick try to seek help for several ways, but it ends to no avail. It is either the strangers around him who acts like morons, or they are just simply dumb.<br /><br />The comedy also had the tendency to add in unnecessary scenes to lengthen the story. While some of the problems that can be solved with common sense, no one in the film are using common sense to solve the problem. They prefer to go through one big round to solve the problem.<br /><br />It fails so bad, that even the beautiful sceneries in Venice fails to pull up the reputation of the film.\n",
      "* * * * * * * * * \n",
      "15774\n",
      "I've almost forever been against the inclusion of songs in a movie. My belief was that the quality of the film would automatically be improved if only those extremely annoying songs would be axed. However, things have quickly changed after watching that horrible Black (no songs) & this movie, Page 3 (plenty of songs). While Black was weak to an extreme, Page 3 delivers a gripping story with some strong acting & good direction. The songs were almost incidental & blended in almost seamlessly with the film. There certainly weren't any women getting sprayed with water for no apparent reason from mysterious water sources while gyrating wildly on the streets at night.<br /><br />I was pleasantly surprised with the bold and unabashed approach used by the director. There was no glossing over of anything and almost every scene was completely believable.<br /><br />I'd recommend this films for Hindi-speaking people with at least a slight understanding of Mumbai life. The former because the English subtitling was below par and contained many errors which, at times, completely reversed the meaning of the actual statement. The latter because you'll definitely appreciate the accuracy of the depiction once you've lived it yourself.<br /><br />I'd definitely rank this as a work worthy of international recognition. The scenes with the gossiping drivers was a nice touch and it served simultaneously as a source of genuine humour as well as another perspective on the whole mishmash. The movie does fall short in a few places though, where the characters sometimes say the most inexplicable things which detract from the overall direction of the film.<br /><br />I also thought that a couple of the sadder scenes were not done very well. It was a touch amusing to watch, rather than arouse any feelings of sadness & the whole scene tended to come across as a bit foolish. These are minor issues though, because the film, on the whole, is truly a rare treat to watch.<br /><br />Overall, it's a cynical, pessimistic outlook and a refreshing one at that! Actors, not 'heroes' - that's the key. A chance to glimpse believable human beings in an extraordinary setting - everyday life. A behind-the-scenes look at the extent of the depravity and a rare ray of hope for Indian cinema.<br /><br />8/10.\n",
      "* * * * * * * * * \n",
      "16328\n",
      "A good cast (with one major exception) pushes its way through Epstein's smart light satire. Mansfield was never better, or funnier, than she is here paired with Walston, who's a veteran who's determined to become a congressman to get out of the war. He and his buddies -- including suave con-artist Grant -- head to San Francisco on leave and start the city's swinginest party while conniving to escape the service altogether through industrial speaking tours. The only thing about this movie that's not delightful is Suzy Parker's one-note performance as Grant's love interest, which takes up too much of the film's time and slows down the pace in the second half. Walston and Mansfield have good chemistry; the gimmick is that she's set on making love to every serviceman (to do her duty for the war effort, of course) but he's a married man who, nonetheless, loves his wife. They steal the movie with little trouble from Grant (who's amusing here in the first part of the film, when not paired with his non-actor co-star.\n",
      "* * * * * * * * * \n",
      "16693\n",
      "I had a lot of hopes for this movie and so watched it with a lot of expectations; basically because of Kamal Hassan. He is an amazing actor who has marked his foot steps in the sands of time forever. But this movie proved to be one of the worst movies i have ever seen. After watching this the movie the brutality and violence in tenebra and clockwork orange looks far better. <br /><br />The Protagonist, Raghavan, is a very daring police officer. Who is assigned to a investigate brutal serial murders. Raghavan efficiently finds the connecting thread in this case and is close to solve the murders and put the psycho killers, two psychologically disturbed but brilliant medical students, behind bars but they escape and again get into a killing spree. Finally Raghavan kills them both after sparing many innocent lives.<br /><br />THese two psycho-killers are the ones who are going to keep the audiences from going to the theaters. The murders and sexual harassments and rapes are shown very explicitly, which the movie could have survived without. <br /><br />To even imagine that teenagers and kids are going to be watching this movie in the theater and kind of picture it is bound to paint in their minds are certainly not pretty. The director, Gautham, should realize that he also has some obligation to the society and his audience.Certainly i am never going to the movies looking like Gautham's name on the production list.\n",
      "* * * * * * * * * \n",
      "16727\n",
      "I watched this movie also, and altho it is very well done, I found it a heartbreaker and would not recommend this to women who have small children.. The terror on this mother's face when she sees her child about to be run over by a train is truly heartbreaking. And the sad thing is--internally she dies. Eventually she goes back to the Applacian mountains. All the money in the world which she makes from making dolls does not conceal the grief she has. I remember her desperate face as she pulls money out of her clothes to try to have her child healed. I'm surprised this movie takes place in Detroit, because when I watched it I thought for sure the people had come to Cincinnati, Ohio. This also was a route for the poor from the mountains.\n",
      "* * * * * * * * * \n",
      "16974\n",
      "Human pot roast Joe Don Baker (MITCHELL) stars in this dull, unremarkable `action' movie as Deputy Geronimo, a fat, gassy slob who sits around in a stupid looking cowboy suit, listening to country music and eating too many donuts. Meanwhile, a vaguely criminal guy named Palermo (played by the guy who owned the drill in Fulci's GATES OF HELL) stumbles into Joe Don's territory and shoots the sheriff in a poorly edited scene. Joe Don- slowly- gives chase and offs Palermo's brother after uttering his now legendary catch phrase `It's your move. Think you can take me? Well, go ahead on'. For some reason Joe Don, a Texas lawman, must transport Palermo to Italy (`Mr. Palermo's been a major source of embarrassment to the Italian government,' says Mr. Wilson, another vague character played by Bill McKinney, who was in MASTER NINJA 1, SHE FREAK, and a lot of good Clint Eastwood movies). <br /><br />Anyhoo, Joe Don's plane must land on the island of Malta, where Palermo escapes with the help of a briefcase and a guy who looks like Jon Lovitz. And that's where the movie grinds to a halt. For the rest of the movie, Joe Don looks for Palermo, looses Palermo, ends up in a jail cell, is yelled at by the Malta chief of police, and then is let go with a warning not to look for Palermo any more. Then Joe Don keeps looking for Palermo, looses Palermo, ends up in a jail cell, is yelled at by the Malta chief of police, and then is let go with a warning not to look for Palermo any more. Then Joe Don looks for Palermo, looses Palermo, ends up in a jail cell, is yelled at by the Malta chief of police, and then is let go with a warning not to look for Palermo any more. This is one aggravating movie.<br /><br />At one point Joe Don is thought to be dead at sea. All the other characters wonder if he's dead or not, finally concluding that he is. But then he shows up (he was rescued by a poor family) and no one mentions the fact that he was missing at sea for several days. Even his cute, Julia Louise-Dreyfuss-esque sidekick doesn't welcome him back. She does, however, offer to help him find Palermo, so Joe Don looks for Palermo, looses Palermo, ends up in a jail cell, is yelled at by the Malta chief of police, and then let go with a warning not to look for Palermo any more.<br /><br />Highpoints include, a bizarre carnival with strange colorful floats, some sexy strippers, a shoot out involving a kid dressed like Napoleon AND a cart of tomatoes, a chase scene involving a guy dressed like a monk, and any scene without Joe Don. Lowpoints include Joe Don threatening a stripper with a coat hanger.<br /><br />It should be noted that this is from Greydon Clark, director of ANGEL'S REVENGE, who appears as the sheriff. Ick!<br /><br />\n",
      "* * * * * * * * * \n"
     ]
    },
    {
     "name": "stdout",
     "output_type": "stream",
     "text": [
      "17896\n",
      "What? You were not aware that Scooby-Doo battled zombies? Well, you might also not be aware of this little film that was directed by Victor Halperin, who had also directed White Zombie four years earlier. That would probably make it the second zombie film made.<br /><br />No, don't go looking for Dorothy Stone to expose her breasts as you would expect in most zombie films, and don't even look for any brains being eaten. This is 1936, you know.<br /><br />So, what you will see is typical of the period - lots of talking.<br /><br />You do get to see Dean Jagger (Twelve O'Clock High ) and Bela Lugosi's eyes, but that is about it. Zombies in Cambodia, indeed!\n",
      "* * * * * * * * * \n",
      "18100\n",
      "Bah. Another tired, desultory reworking of an out of copyright work never designed to be filmed.<br /><br />On the plus side, Toni Collette is superb as always (being an actual actress, you see), and there are some nicely handled handover cuts between scenes. There are even a few genuinely funny lines, and the filmwork, score and editing is competent, apart from a bizarre lapse into voiceover and speaking to the camera towards the conclusion.<br /><br />But, ah, but. Much of the cast seems to be on autopilot, and they are almost all very clearly too old (and in one case too young) for their declared ages. Worse, they are all speaking \\Austinese\\\", that peculiar falsetto self satisfied sing song that couldn't be further from the way people actually spoke in Austen's day (think Yosemite Sam, I kid you not). This is particularly sad, considering that we seem to finally be seeing the demise of the equally farcial \\\"Fakespearan\\\" that Olivier and his cronies were so fond of bellowing at the top of their lungs.<br /><br />And worst of all is Gwyneth Paltrow. She's only ever played one character in her films, and she stays true to form here, running through her entire range (smirking to sulking) in the first ten minutes, then just repeating herself for the rest of the overlong film. There is absolutely no chemistry between herself and any of her admirers, nor any apparent reason why they would be interested in her apart.<br /><br />In short, there is very little reason to watch Emma. It's an amiable enough adaptation, but if you're going to pack a film full of anacronisms (i.e. an appalingly thin lead who can't shoot a bow or handle a period accent) then you might as well do it properly, as with the vastly superior \\\"Clueless\\\".\"\n",
      "* * * * * * * * * \n",
      "18548\n",
      "While the original First Blood had its far-fetched moments, it was at least exciting in parts. In Rambo: First Blood, Part II the emphasis is shifted very much onto comic-book action. Plausibility is totally rejected; logic nose-dives; Stallone becomes so impregnable that there can be no doubt he will succeed in his mission. Just like any other wish-fulfilment actioner of that time (e.g. Invasion USA, Commando, Red Scorpion), Rambo: First Blood, Part II cancels out its own opportunities for real excitement by presenting a hero too invulnerable to fear for. If you can tell from the word go that Rambo is going to wipe out hundreds of enemy soldiers, what is left to get excited about?<br /><br />Imprisoned after the events of the first movie, John J Rambo (Sylvester Stallone) is offered a pardon if he will join a covert operation in the Far East. The year is 1985, and a mission is being arranged to find out if there are any American PoWs still trapped in the jungles of Vietnam. Rambo is encouraged to take the job by his old mentor Colonel Trautman (Richard Crenna), but the assignment is actually the brainchild of a government outfit fronted by Marshall Murdock (Charles Napier). Rambo's job is merely to head for a prison camp in the jungle and check out if it contains any American PoWs  if it doesn't, he is to rendezvous with a chopper; if it does, he is to get photographic evidence of their existence so that they can be rescued at a later date. Aiding him in his quest is a lady soldier with local knowledge, the beautiful and resourceful Co Bao (Julia Nickson). Sure enough, Rambo discovers that there are PoWs in the camp, but he exceeds his orders by rescuing one of them",
      " when he reaches the rendezvous point, the rescue chopper abandons him on the orders of Murdock who, it seems, doesn't really want to find any PoWs because of the political and military implications. Rambo is captured by the enemy and tortured, but following an explosive escape he sets out to free the PoWs and get his revenge on the treacherous Murdock.<br /><br />The few good points of the film come from Jack Cardiff's polished photography, Jerry Goldsmith's exhilarating score, and the sheer professionalism of the stunt team in performing various action antics. Beyond these scant pickings, the film is a failure. The actors are reduced to macho posturing, the plot rings false, the action sequences are soulless and suspenseless, the dialogue is absurd",
      " even the violence becomes numbingly predictable. At the time of its release America was under the presidency of Ronald Reagan, a man with simplistic and near-hysterical anti-communist sentiments. For this reason, contemporary audiences lapped up this Commie-bashing shooting-fest as if it was the greatest movie of all-time, transforming it into an undeserved box office success. Thankfully times have changed  nowadays we can look upon it as a simple-minded action flick with a ludicrously high body count, ludicrously dumb politics, and a ludicrous hero.\n",
      "* * * * * * * * * \n"
     ]
    }
   ],
   "source": [
    "# false positives\n",
    "\n",
    "print(\"Examples of false positives:\")\n",
    "\n",
    "import random, time\n",
    "\n",
    "for i in range(0, len(nbs_predictions)):\n",
    "    if (nbs_predictions[i] == 1):\n",
    "        if (X_raw_train.iloc[i]['sentiment'] == 0):\n",
    "            if (random.uniform(0, 1) < 0.05): # to print only 5% of the false positives\n",
    "                print(i)\n",
    "                print(X_raw_train.iloc[i]['review'])\n",
    "                print('* * * * * * * * * ')\n"
   ]
  },
  {
   "cell_type": "markdown",
   "metadata": {},
   "source": [
    "---\n",
    "\n",
    "# <span style=\"color:red\">WARNING: Don't look at test set performance too much!</span>\n",
    "\n",
    "---\n",
    "\n",
    "The following cells show performance on your test set. Do not look at this too often! "
   ]
  },
  {
   "cell_type": "markdown",
   "metadata": {},
   "source": [
    "# Look at performance on the test set"
   ]
  },
  {
   "cell_type": "markdown",
   "metadata": {},
   "source": [
    "### MODEL: ordinary least squares"
   ]
  },
  {
   "cell_type": "code",
   "execution_count": 58,
   "metadata": {},
   "outputs": [],
   "source": [
    "# ols_performance_test = BinaryClassificationPerformance(ols.predict(X_test), y_test, 'ols_test')\n",
    "# ols_performance_test.compute_measures()\n",
    "# print(ols_performance_test.performance_measures)"
   ]
  },
  {
   "cell_type": "markdown",
   "metadata": {},
   "source": [
    "### MODEL: SVM, linear"
   ]
  },
  {
   "cell_type": "code",
   "execution_count": 59,
   "metadata": {},
   "outputs": [],
   "source": [
    "# svm_performance_test = BinaryClassificationPerformance(svm.predict(X_test), y_test, 'svm_test')\n",
    "# svm_performance_test.compute_measures()\n",
    "# print(svm_performance_test.performance_measures)"
   ]
  },
  {
   "cell_type": "markdown",
   "metadata": {},
   "source": [
    "### MODEL: logistic regression"
   ]
  },
  {
   "cell_type": "code",
   "execution_count": 60,
   "metadata": {},
   "outputs": [],
   "source": [
    "# lgs_performance_test = BinaryClassificationPerformance(lgs.predict(X_test), y_test, 'lgs_test')\n",
    "# lgs_performance_test.compute_measures()\n",
    "# print(lgs_performance_test.performance_measures)"
   ]
  },
  {
   "cell_type": "markdown",
   "metadata": {},
   "source": [
    "### MODEL: Naive Bayes"
   ]
  },
  {
   "cell_type": "code",
   "execution_count": 61,
   "metadata": {},
   "outputs": [
    {
     "name": "stdout",
     "output_type": "stream",
     "text": [
      "{'Pos': 2498, 'Neg': 2502, 'TP': 1725, 'TN': 1762, 'FP': 740, 'FN': 773, 'Accuracy': 0.6974, 'Precision': 0.6997971602434077, 'Recall': 0.6905524419535628, 'desc': 'nbs_test'}\n"
     ]
    }
   ],
   "source": [
    "nbs_performance_test = BinaryClassificationPerformance(nbs.predict(X_test), y_test, 'nbs_test')\n",
    "nbs_performance_test.compute_measures()\n",
    "print(nbs_performance_test.performance_measures)"
   ]
  },
  {
   "cell_type": "markdown",
   "metadata": {},
   "source": [
    "### MODEL: Perceptron"
   ]
  },
  {
   "cell_type": "code",
   "execution_count": null,
   "metadata": {},
   "outputs": [],
   "source": [
    "# prc_performance_test = BinaryClassificationPerformance(prc.predict(X_test), y_test, 'prc_test')\n",
    "# prc_performance_test.compute_measures()\n",
    "# print(prc_performance_test.performance_measures)"
   ]
  },
  {
   "cell_type": "markdown",
   "metadata": {},
   "source": [
    "### MODEL: Ridge Regression Classifier"
   ]
  },
  {
   "cell_type": "code",
   "execution_count": null,
   "metadata": {},
   "outputs": [],
   "source": [
    "# rdg_performance_test = BinaryClassificationPerformance(rdg.predict(X_test), y_test, 'rdg_test')\n",
    "# rdg_performance_test.compute_measures()\n",
    "# print(rdg_performance_test.performance_measures)"
   ]
  },
  {
   "cell_type": "markdown",
   "metadata": {},
   "source": [
    "### MODEL: Random Forest Classifier"
   ]
  },
  {
   "cell_type": "code",
   "execution_count": null,
   "metadata": {},
   "outputs": [],
   "source": [
    "# rdf_performance_test = BinaryClassificationPerformance(rdf.predict(X_test), y_test, 'rdf_test')\n",
    "# rdf_performance_test.compute_measures()\n",
    "# print(rdf_performance_test.performance_measures)"
   ]
  },
  {
   "cell_type": "markdown",
   "metadata": {},
   "source": [
    "### ROC plot to compare performance of various models and fits"
   ]
  },
  {
   "cell_type": "code",
   "execution_count": 62,
   "metadata": {},
   "outputs": [
    {
     "data": {
      "image/png": "[encoded data removed]",
      "text/plain": [
       "<Figure size 432x288 with 1 Axes>"
      ]
     },
     "metadata": {
      "needs_background": "light"
     },
     "output_type": "display_data"
    }
   ],
   "source": [
    "fits = [nbs_performance_test]\n",
    "\n",
    "for fit in fits:\n",
    "    plt.plot(fit.performance_measures['FP'] / fit.performance_measures['Neg'], \n",
    "             fit.performance_measures['TP'] / fit.performance_measures['Pos'], 'bo')\n",
    "    plt.text(fit.performance_measures['FP'] / fit.performance_measures['Neg'], \n",
    "             fit.performance_measures['TP'] / fit.performance_measures['Pos'], fit.desc)\n",
    "plt.axis([0, 1, 0, 1])\n",
    "plt.title('ROC plot: test set')\n",
    "plt.xlabel('False positive rate')\n",
    "plt.ylabel('True positive rate')\n",
    "plt.show()"
   ]
  },
  {
   "cell_type": "markdown",
   "metadata": {},
   "source": [
    "---\n",
    "\n",
    "# <span style=\"color:red\">SUBMISSION</span>\n",
    "\n",
    "---"
   ]
  },
  {
   "cell_type": "code",
   "execution_count": 63,
   "metadata": {},
   "outputs": [
    {
     "name": "stdout",
     "output_type": "stream",
     "text": [
      "movie_data is: <class 'pandas.core.frame.DataFrame'>\n",
      "movie_data has 25000 rows and 2 columns \n",
      "\n",
      "the data types for each of the columns in movie_data:\n",
      "id        object\n",
      "review    object\n",
      "dtype: object \n",
      "\n",
      "the first 10 rows in movie_data:\n",
      "         id                                             review\n",
      "0  12311_10  Naturally in a film who's main themes are of m...\n",
      "1    8348_2  This movie is a disaster within a disaster fil...\n",
      "2    5828_4  All in all, this is a movie for kids. We saw i...\n",
      "3    7186_2  Afraid of the Dark left me with the impression...\n",
      "4   12128_7  A very accurate depiction of small time mob li...\n",
      "Shape of CountVectorizer X:\n",
      "(25000, 38406)\n",
      "Look at a few rows of the new quantitative features: \n",
      "   word_count  punc_count  repeated_word_count  unique_word_count  \\\n",
      "0         131           5                    0                 92   \n",
      "1         169          15                    1                117   \n",
      "2         176          18                    2                129   \n",
      "3         112           5                    3                 87   \n",
      "4         133           8                    4                111   \n",
      "5         331          20                    5                220   \n",
      "6         121          18                    6                 85   \n",
      "7         230          22                    7                174   \n",
      "8          59           3                    8                 47   \n",
      "9         224          14                    9                170   \n",
      "\n",
      "   avg_word_length  \n",
      "0         4.877863  \n",
      "1         4.307692  \n",
      "2         4.619318  \n",
      "3         4.875000  \n",
      "4         4.736842  \n",
      "5         4.800604  \n",
      "6         4.545455  \n",
      "7         4.456522  \n",
      "8         4.389831  \n",
      "9         5.785714  \n",
      "Size of combined bag of words and new quantitative variables matrix:\n",
      "(25000, 38411)\n",
      "(25000, 38411)\n",
      "Shape of X_test for submission:\n",
      "(25000, 38411)\n",
      "SUCCESS!\n",
      "Number of rows in the submission test set (should be 25,000): \n"
     ]
    }
   ],
   "source": [
    "# read in test data for submission\n",
    "# CHANGE FILE PATH and my_random_seed number (any integer other than 74 will do): \n",
    "raw_data, X_test_submission = process_raw_data(fn='/Users/maybaho/Documents/Parsons/Machine Learning/assignments/data/moviereviews_test.tsv', my_random_seed=13, test=True)\n",
    "print(\"Number of rows in the submission test set (should be 25,000): \")"
   ]
  },
  {
   "cell_type": "markdown",
   "metadata": {},
   "source": [
    "---\n",
    "\n",
    "Choose a <span style=\"color:red\">*single*</span> model for your submission. In this code, I am choosing the Ordinary Least Squares model fit, which is in the `ols` object. But you should choose the model that is performing the best for you! "
   ]
  },
  {
   "cell_type": "code",
   "execution_count": 64,
   "metadata": {},
   "outputs": [
    {
     "name": "stdout",
     "output_type": "stream",
     "text": [
      "0.47012\n"
     ]
    }
   ],
   "source": [
    "# store the id from the raw data\n",
    "my_submission = pd.DataFrame(raw_data[\"id\"])\n",
    "# concatenate predictions to the id\n",
    "my_submission[\"prediction\"] = nbs.predict(X_test_submission)\n",
    "# look at the proportion of positive predictions\n",
    "print(my_submission['prediction'].mean())"
   ]
  },
  {
   "cell_type": "code",
   "execution_count": 65,
   "metadata": {},
   "outputs": [
    {
     "data": {
      "text/html": [
       "<div>\n",
       "<style scoped>\n",
       "    .dataframe tbody tr th:only-of-type {\n",
       "        vertical-align: middle;\n",
       "    }\n",
       "\n",
       "    .dataframe tbody tr th {\n",
       "        vertical-align: top;\n",
       "    }\n",
       "\n",
       "    .dataframe thead th {\n",
       "        text-align: right;\n",
       "    }\n",
       "</style>\n",
       "<table border=\"1\" class=\"dataframe\">\n",
       "  <thead>\n",
       "    <tr style=\"text-align: right;\">\n",
       "      <th></th>\n",
       "      <th>id</th>\n",
       "      <th>review</th>\n",
       "      <th>word_count</th>\n",
       "      <th>punc_count</th>\n",
       "      <th>repeated_word_count</th>\n",
       "      <th>unique_word_count</th>\n",
       "      <th>avg_word_length</th>\n",
       "    </tr>\n",
       "  </thead>\n",
       "  <tbody>\n",
       "    <tr>\n",
       "      <th>0</th>\n",
       "      <td>12311_10</td>\n",
       "      <td>Naturally in a film who's main themes are of m...</td>\n",
       "      <td>131</td>\n",
       "      <td>5</td>\n",
       "      <td>0</td>\n",
       "      <td>92</td>\n",
       "      <td>4.877863</td>\n",
       "    </tr>\n",
       "    <tr>\n",
       "      <th>1</th>\n",
       "      <td>8348_2</td>\n",
       "      <td>This movie is a disaster within a disaster fil...</td>\n",
       "      <td>169</td>\n",
       "      <td>15</td>\n",
       "      <td>1</td>\n",
       "      <td>117</td>\n",
       "      <td>4.307692</td>\n",
       "    </tr>\n",
       "    <tr>\n",
       "      <th>2</th>\n",
       "      <td>5828_4</td>\n",
       "      <td>All in all, this is a movie for kids. We saw i...</td>\n",
       "      <td>176</td>\n",
       "      <td>18</td>\n",
       "      <td>2</td>\n",
       "      <td>129</td>\n",
       "      <td>4.619318</td>\n",
       "    </tr>\n",
       "    <tr>\n",
       "      <th>3</th>\n",
       "      <td>7186_2</td>\n",
       "      <td>Afraid of the Dark left me with the impression...</td>\n",
       "      <td>112</td>\n",
       "      <td>5</td>\n",
       "      <td>3</td>\n",
       "      <td>87</td>\n",
       "      <td>4.875000</td>\n",
       "    </tr>\n",
       "    <tr>\n",
       "      <th>4</th>\n",
       "      <td>12128_7</td>\n",
       "      <td>A very accurate depiction of small time mob li...</td>\n",
       "      <td>133</td>\n",
       "      <td>8</td>\n",
       "      <td>4</td>\n",
       "      <td>111</td>\n",
       "      <td>4.736842</td>\n",
       "    </tr>\n",
       "  </tbody>\n",
       "</table>\n",
       "</div>"
      ],
      "text/plain": [
       "         id                                             review  word_count  \\\n",
       "0  12311_10  Naturally in a film who's main themes are of m...         131   \n",
       "1    8348_2  This movie is a disaster within a disaster fil...         169   \n",
       "2    5828_4  All in all, this is a movie for kids. We saw i...         176   \n",
       "3    7186_2  Afraid of the Dark left me with the impression...         112   \n",
       "4   12128_7  A very accurate depiction of small time mob li...         133   \n",
       "\n",
       "   punc_count  repeated_word_count  unique_word_count  avg_word_length  \n",
       "0           5                    0                 92         4.877863  \n",
       "1          15                    1                117         4.307692  \n",
       "2          18                    2                129         4.619318  \n",
       "3           5                    3                 87         4.875000  \n",
       "4           8                    4                111         4.736842  "
      ]
     },
     "execution_count": 65,
     "metadata": {},
     "output_type": "execute_result"
    }
   ],
   "source": [
    "raw_data.head()"
   ]
  },
  {
   "cell_type": "code",
   "execution_count": 66,
   "metadata": {},
   "outputs": [
    {
     "data": {
      "text/html": [
       "<div>\n",
       "<style scoped>\n",
       "    .dataframe tbody tr th:only-of-type {\n",
       "        vertical-align: middle;\n",
       "    }\n",
       "\n",
       "    .dataframe tbody tr th {\n",
       "        vertical-align: top;\n",
       "    }\n",
       "\n",
       "    .dataframe thead th {\n",
       "        text-align: right;\n",
       "    }\n",
       "</style>\n",
       "<table border=\"1\" class=\"dataframe\">\n",
       "  <thead>\n",
       "    <tr style=\"text-align: right;\">\n",
       "      <th></th>\n",
       "      <th>id</th>\n",
       "      <th>prediction</th>\n",
       "    </tr>\n",
       "  </thead>\n",
       "  <tbody>\n",
       "    <tr>\n",
       "      <th>0</th>\n",
       "      <td>12311_10</td>\n",
       "      <td>1</td>\n",
       "    </tr>\n",
       "    <tr>\n",
       "      <th>1</th>\n",
       "      <td>8348_2</td>\n",
       "      <td>0</td>\n",
       "    </tr>\n",
       "    <tr>\n",
       "      <th>2</th>\n",
       "      <td>5828_4</td>\n",
       "      <td>1</td>\n",
       "    </tr>\n",
       "    <tr>\n",
       "      <th>3</th>\n",
       "      <td>7186_2</td>\n",
       "      <td>0</td>\n",
       "    </tr>\n",
       "    <tr>\n",
       "      <th>4</th>\n",
       "      <td>12128_7</td>\n",
       "      <td>1</td>\n",
       "    </tr>\n",
       "  </tbody>\n",
       "</table>\n",
       "</div>"
      ],
      "text/plain": [
       "         id  prediction\n",
       "0  12311_10           1\n",
       "1    8348_2           0\n",
       "2    5828_4           1\n",
       "3    7186_2           0\n",
       "4   12128_7           1"
      ]
     },
     "execution_count": 66,
     "metadata": {},
     "output_type": "execute_result"
    }
   ],
   "source": [
    "my_submission.head()"
   ]
  },
  {
   "cell_type": "code",
   "execution_count": 75,
   "metadata": {},
   "outputs": [
    {
     "data": {
      "text/plain": [
       "(25000, 2)"
      ]
     },
     "execution_count": 75,
     "metadata": {},
     "output_type": "execute_result"
    }
   ],
   "source": [
    "my_submission.shape"
   ]
  },
  {
   "cell_type": "code",
   "execution_count": 67,
   "metadata": {},
   "outputs": [],
   "source": [
    "# export submission file as pdf\n",
    "# CHANGE FILE PATH: \n",
    "my_submission.to_csv('/Users/maybaho/Documents/Parsons/Machine Learning/assignments/final_assignment_1/iterations/iteration 2/moviereviews_submission.csv', index=False)"
   ]
  },
  {
   "cell_type": "markdown",
   "metadata": {},
   "source": [
    "# Submit to Canvas: 1) the CSV file that was written in the previous cell and 2) the url to the repository (GitHub or other) that contains your code and documentation"
   ]
  },
  {
   "cell_type": "code",
   "execution_count": null,
   "metadata": {},
   "outputs": [],
   "source": []
  }
 ],
 "metadata": {
  "kernelspec": {
   "display_name": "Python 3",
   "language": "python",
   "name": "python3"
  },
  "language_info": {
   "codemirror_mode": {
    "name": "ipython",
    "version": 3
   },
   "file_extension": ".py",
   "mimetype": "text/x-python",
   "name": "python",
   "nbconvert_exporter": "python",
   "pygments_lexer": "ipython3",
   "version": "3.8.8"
  }
 },
 "nbformat": 4,
 "nbformat_minor": 2
}
